{
 "cells": [
  {
   "cell_type": "code",
   "execution_count": null,
   "id": "d1da410b",
   "metadata": {
    "execution": {
     "iopub.execute_input": "2024-11-03T19:09:45.387309Z",
     "iopub.status.busy": "2024-11-03T19:09:45.386892Z",
     "iopub.status.idle": "2024-11-03T19:09:45.396011Z",
     "shell.execute_reply": "2024-11-03T19:09:45.395028Z"
    },
    "papermill": {
     "duration": 0.031003,
     "end_time": "2024-11-03T19:09:45.398249",
     "exception": false,
     "start_time": "2024-11-03T19:09:45.367246",
     "status": "completed"
    },
    "tags": []
   },
   "outputs": [],
   "source": [
    "notebook_type = \"kaggle\""
   ]
  },
  {
   "cell_type": "markdown",
   "id": "ddc204c1",
   "metadata": {
    "papermill": {
     "duration": 0.017083,
     "end_time": "2024-11-03T19:09:45.433985",
     "exception": false,
     "start_time": "2024-11-03T19:09:45.416902",
     "status": "completed"
    },
    "tags": []
   },
   "source": [
    "# Импорты и константы"
   ]
  },
  {
   "cell_type": "code",
   "execution_count": 2,
   "id": "0000b39e",
   "metadata": {
    "execution": {
     "iopub.execute_input": "2024-11-03T19:09:45.469793Z",
     "iopub.status.busy": "2024-11-03T19:09:45.469076Z",
     "iopub.status.idle": "2024-11-03T19:09:45.474112Z",
     "shell.execute_reply": "2024-11-03T19:09:45.472925Z"
    },
    "papermill": {
     "duration": 0.025268,
     "end_time": "2024-11-03T19:09:45.476164",
     "exception": false,
     "start_time": "2024-11-03T19:09:45.450896",
     "status": "completed"
    },
    "tags": []
   },
   "outputs": [],
   "source": [
    "if notebook_type == \"kaggle\":\n",
    "    main_path = \"/kaggle/\"\n",
    "    kaggle = True\n",
    "else:\n",
    "    main_path = \"\"\n",
    "    kaggle = False"
   ]
  },
  {
   "cell_type": "code",
   "execution_count": 3,
   "id": "9f7d93b7",
   "metadata": {
    "execution": {
     "iopub.execute_input": "2024-11-03T19:09:45.512666Z",
     "iopub.status.busy": "2024-11-03T19:09:45.511794Z",
     "iopub.status.idle": "2024-11-03T19:09:45.516491Z",
     "shell.execute_reply": "2024-11-03T19:09:45.515497Z"
    },
    "papermill": {
     "duration": 0.025168,
     "end_time": "2024-11-03T19:09:45.518622",
     "exception": false,
     "start_time": "2024-11-03T19:09:45.493454",
     "status": "completed"
    },
    "tags": []
   },
   "outputs": [],
   "source": [
    "destination_path = f\"{main_path}working/\"\n",
    "destination_input = f\"{main_path}input/\"\n",
    "check_data = \"\""
   ]
  },
  {
   "cell_type": "code",
   "execution_count": 4,
   "id": "f884c528",
   "metadata": {
    "execution": {
     "iopub.execute_input": "2024-11-03T19:09:45.553825Z",
     "iopub.status.busy": "2024-11-03T19:09:45.553436Z",
     "iopub.status.idle": "2024-11-03T19:10:12.619934Z",
     "shell.execute_reply": "2024-11-03T19:10:12.618776Z"
    },
    "papermill": {
     "duration": 27.087059,
     "end_time": "2024-11-03T19:10:12.622579",
     "exception": false,
     "start_time": "2024-11-03T19:09:45.535520",
     "status": "completed"
    },
    "tags": []
   },
   "outputs": [
    {
     "name": "stdout",
     "output_type": "stream",
     "text": [
      "\u001b[31mERROR: pip's dependency resolver does not currently take into account all the packages that are installed. This behaviour is the source of the following dependency conflicts.\r\n",
      "apache-beam 2.46.0 requires cloudpickle~=2.2.1, but you have cloudpickle 3.0.0 which is incompatible.\r\n",
      "apache-beam 2.46.0 requires dill<0.3.2,>=0.3.1.1, but you have dill 0.3.8 which is incompatible.\r\n",
      "apache-beam 2.46.0 requires numpy<1.25.0,>=1.14.3, but you have numpy 1.26.4 which is incompatible.\r\n",
      "apache-beam 2.46.0 requires protobuf<4,>3.12.2, but you have protobuf 4.25.5 which is incompatible.\r\n",
      "apache-beam 2.46.0 requires pyarrow<10.0.0,>=3.0.0, but you have pyarrow 17.0.0 which is incompatible.\r\n",
      "google-cloud-aiplatform 0.6.0a1 requires google-api-core[grpc]<2.0.0dev,>=1.22.2, but you have google-api-core 2.11.1 which is incompatible.\r\n",
      "google-cloud-automl 1.0.1 requires google-api-core[grpc]<2.0.0dev,>=1.14.0, but you have google-api-core 2.11.1 which is incompatible.\r\n",
      "google-cloud-bigquery 2.34.4 requires protobuf<4.0.0dev,>=3.12.0, but you have protobuf 4.25.5 which is incompatible.\r\n",
      "google-cloud-bigtable 1.7.3 requires protobuf<4.0.0dev, but you have protobuf 4.25.5 which is incompatible.\r\n",
      "google-cloud-datastore 1.15.5 requires protobuf<4.0.0dev, but you have protobuf 4.25.5 which is incompatible.\r\n",
      "google-cloud-vision 2.8.0 requires protobuf<4.0.0dev,>=3.19.0, but you have protobuf 4.25.5 which is incompatible.\r\n",
      "kfp 2.5.0 requires google-cloud-storage<3,>=2.2.1, but you have google-cloud-storage 1.44.0 which is incompatible.\r\n",
      "kfp 2.5.0 requires protobuf<4,>=3.13.0, but you have protobuf 4.25.5 which is incompatible.\r\n",
      "kfp-pipeline-spec 0.2.2 requires protobuf<4,>=3.13.0, but you have protobuf 4.25.5 which is incompatible.\r\n",
      "tensorflow-metadata 0.14.0 requires protobuf<4,>=3.7, but you have protobuf 4.25.5 which is incompatible.\r\n",
      "tensorflow-transform 0.14.0 requires protobuf<4,>=3.7, but you have protobuf 4.25.5 which is incompatible.\u001b[0m\u001b[31m\r\n",
      "\u001b[0m"
     ]
    }
   ],
   "source": [
    "if kaggle:\n",
    "    !pip install -q mediapipe"
   ]
  },
  {
   "cell_type": "code",
   "execution_count": 5,
   "id": "9606be7c",
   "metadata": {
    "execution": {
     "iopub.execute_input": "2024-11-03T19:10:12.659734Z",
     "iopub.status.busy": "2024-11-03T19:10:12.658833Z",
     "iopub.status.idle": "2024-11-03T19:10:20.371578Z",
     "shell.execute_reply": "2024-11-03T19:10:20.370096Z"
    },
    "papermill": {
     "duration": 7.734199,
     "end_time": "2024-11-03T19:10:20.374178",
     "exception": false,
     "start_time": "2024-11-03T19:10:12.639979",
     "status": "completed"
    },
    "tags": []
   },
   "outputs": [],
   "source": [
    "if kaggle:\n",
    "    !wget -O pose_landmarker_heavy.task -q https://storage.googleapis.com/mediapipe-models/pose_landmarker/pose_landmarker_heavy/float16/latest/pose_landmarker_heavy.task\n",
    "    !wget -O pose_landmarker_lite.task -q https://storage.googleapis.com/mediapipe-models/pose_landmarker/pose_landmarker_lite/float16/latest/pose_landmarker_lite.task\n",
    "    !wget -O pose_landmarker_full.task -q https://storage.googleapis.com/mediapipe-models/pose_landmarker/pose_landmarker_full/float16/latest/pose_landmarker_full.task"
   ]
  },
  {
   "cell_type": "code",
   "execution_count": null,
   "id": "a0ec283c",
   "metadata": {
    "execution": {
     "iopub.execute_input": "2024-11-03T19:10:20.410509Z",
     "iopub.status.busy": "2024-11-03T19:10:20.410075Z",
     "iopub.status.idle": "2024-11-03T19:10:25.716161Z",
     "shell.execute_reply": "2024-11-03T19:10:25.715125Z"
    },
    "papermill": {
     "duration": 5.327001,
     "end_time": "2024-11-03T19:10:25.718713",
     "exception": false,
     "start_time": "2024-11-03T19:10:20.391712",
     "status": "completed"
    },
    "tags": []
   },
   "outputs": [],
   "source": [
    "import gc\n",
    "import hashlib\n",
    "import time\n",
    "import io\n",
    "import random\n",
    "\n",
    "import cv2\n",
    "import matplotlib.pyplot as plt\n",
    "import numpy as np\n",
    "import torch\n",
    "import traceback\n",
    "from torch.utils.data import DataLoader, Dataset\n",
    "from torchvision import transforms as T\n",
    "from torchvision.models.optical_flow import Raft_Small_Weights, raft_small\n",
    "from torchvision.utils import flow_to_image\n",
    "from tqdm import tqdm\n",
    "from PIL import Image\n",
    "import mediapipe as mp"
   ]
  },
  {
   "cell_type": "code",
   "execution_count": 12,
   "id": "a78869d4",
   "metadata": {
    "execution": {
     "iopub.execute_input": "2024-11-03T19:10:38.464918Z",
     "iopub.status.busy": "2024-11-03T19:10:38.464512Z",
     "iopub.status.idle": "2024-11-03T19:10:38.470115Z",
     "shell.execute_reply": "2024-11-03T19:10:38.469093Z"
    },
    "papermill": {
     "duration": 0.026348,
     "end_time": "2024-11-03T19:10:38.472211",
     "exception": false,
     "start_time": "2024-11-03T19:10:38.445863",
     "status": "completed"
    },
    "tags": []
   },
   "outputs": [],
   "source": [
    "def set_seed(seed):\n",
    "    torch.manual_seed(seed)\n",
    "    random.seed(seed)\n",
    "    np.random.seed(seed)\n",
    "    if torch.cuda.is_available():\n",
    "        torch.cuda.manual_seed(seed)\n",
    "        torch.cuda.manual_seed_all(seed)"
   ]
  },
  {
   "cell_type": "code",
   "execution_count": 13,
   "id": "32ec8dd7",
   "metadata": {
    "execution": {
     "iopub.execute_input": "2024-11-03T19:10:38.508197Z",
     "iopub.status.busy": "2024-11-03T19:10:38.507813Z",
     "iopub.status.idle": "2024-11-03T19:10:38.515855Z",
     "shell.execute_reply": "2024-11-03T19:10:38.514773Z"
    },
    "papermill": {
     "duration": 0.028462,
     "end_time": "2024-11-03T19:10:38.517926",
     "exception": false,
     "start_time": "2024-11-03T19:10:38.489464",
     "status": "completed"
    },
    "tags": []
   },
   "outputs": [
    {
     "data": {
      "text/plain": [
       "False"
      ]
     },
     "execution_count": 13,
     "metadata": {},
     "output_type": "execute_result"
    }
   ],
   "source": [
    "torch.cuda.is_available()"
   ]
  },
  {
   "cell_type": "code",
   "execution_count": 14,
   "id": "a8e02537",
   "metadata": {
    "execution": {
     "iopub.execute_input": "2024-11-03T19:10:38.555443Z",
     "iopub.status.busy": "2024-11-03T19:10:38.554546Z",
     "iopub.status.idle": "2024-11-03T19:10:38.562484Z",
     "shell.execute_reply": "2024-11-03T19:10:38.561317Z"
    },
    "papermill": {
     "duration": 0.02913,
     "end_time": "2024-11-03T19:10:38.564521",
     "exception": false,
     "start_time": "2024-11-03T19:10:38.535391",
     "status": "completed"
    },
    "tags": []
   },
   "outputs": [
    {
     "data": {
      "text/plain": [
       "device(type='cpu')"
      ]
     },
     "execution_count": 14,
     "metadata": {},
     "output_type": "execute_result"
    }
   ],
   "source": [
    "# Настройка устройства (GPU)\n",
    "device = torch.device(\"cuda\" if torch.cuda.is_available() else \"cpu\")\n",
    "device"
   ]
  },
  {
   "cell_type": "markdown",
   "id": "603102fc",
   "metadata": {
    "papermill": {
     "duration": 0.01732,
     "end_time": "2024-11-03T19:10:38.599399",
     "exception": false,
     "start_time": "2024-11-03T19:10:38.582079",
     "status": "completed"
    },
    "tags": []
   },
   "source": [
    "# Функции расчета данных"
   ]
  },
  {
   "cell_type": "code",
   "execution_count": 15,
   "id": "e186b119",
   "metadata": {
    "execution": {
     "iopub.execute_input": "2024-11-03T19:10:38.636546Z",
     "iopub.status.busy": "2024-11-03T19:10:38.635648Z",
     "iopub.status.idle": "2024-11-03T19:10:38.641973Z",
     "shell.execute_reply": "2024-11-03T19:10:38.640953Z"
    },
    "papermill": {
     "duration": 0.02732,
     "end_time": "2024-11-03T19:10:38.644154",
     "exception": false,
     "start_time": "2024-11-03T19:10:38.616834",
     "status": "completed"
    },
    "tags": []
   },
   "outputs": [],
   "source": [
    "def get_hash_key(params):\n",
    "    \"\"\"\n",
    "    Генерация хэша на основе кортежа параметров\n",
    "    :params: tuple — параметры, которые используются для генерации эмбеддингов\n",
    "    \"\"\"\n",
    "    # Превращаем параметры в строку и генерируем хэш с использованием hashlib\n",
    "    params_string = str(params).encode(\"utf-8\")\n",
    "    return hashlib.md5(params_string).hexdigest()"
   ]
  },
  {
   "cell_type": "markdown",
   "id": "d26c0cfb",
   "metadata": {
    "papermill": {
     "duration": 0.01721,
     "end_time": "2024-11-03T19:10:38.679071",
     "exception": false,
     "start_time": "2024-11-03T19:10:38.661861",
     "status": "completed"
    },
    "tags": []
   },
   "source": [
    "### Класс расчета скелетных данных на основе MediaPipe"
   ]
  },
  {
   "cell_type": "code",
   "execution_count": 16,
   "id": "a79a6ab4",
   "metadata": {
    "execution": {
     "iopub.execute_input": "2024-11-03T19:10:38.716260Z",
     "iopub.status.busy": "2024-11-03T19:10:38.715397Z",
     "iopub.status.idle": "2024-11-03T19:10:38.720565Z",
     "shell.execute_reply": "2024-11-03T19:10:38.719465Z"
    },
    "papermill": {
     "duration": 0.025992,
     "end_time": "2024-11-03T19:10:38.722664",
     "exception": false,
     "start_time": "2024-11-03T19:10:38.696672",
     "status": "completed"
    },
    "tags": []
   },
   "outputs": [],
   "source": [
    "# # Выбор модели для определения скелетных данных (lite или large модель)\n",
    "# if kaggle:\n",
    "#     model_path = \"/kaggle/working/pose_landmarker_lite.task\"\n",
    "# else:\n",
    "#     model_path = \"../../../resources/pose_landmarker_lite.task\""
   ]
  },
  {
   "cell_type": "code",
   "execution_count": 17,
   "id": "2e04b0e0",
   "metadata": {
    "execution": {
     "iopub.execute_input": "2024-11-03T19:10:38.759812Z",
     "iopub.status.busy": "2024-11-03T19:10:38.758787Z",
     "iopub.status.idle": "2024-11-03T19:10:38.763959Z",
     "shell.execute_reply": "2024-11-03T19:10:38.762917Z"
    },
    "papermill": {
     "duration": 0.025895,
     "end_time": "2024-11-03T19:10:38.766015",
     "exception": false,
     "start_time": "2024-11-03T19:10:38.740120",
     "status": "completed"
    },
    "tags": []
   },
   "outputs": [],
   "source": [
    "# # Выбор модели для определения скелетных данных (lite или large модель)\n",
    "# if kaggle:\n",
    "#     model_path = \"/kaggle/working/pose_landmarker_heavy.task\"\n",
    "# else:\n",
    "#     model_path = \"../../../resources/pose_landmarker_heavy.task\""
   ]
  },
  {
   "cell_type": "code",
   "execution_count": 18,
   "id": "943bb755",
   "metadata": {
    "execution": {
     "iopub.execute_input": "2024-11-03T19:10:38.803532Z",
     "iopub.status.busy": "2024-11-03T19:10:38.802487Z",
     "iopub.status.idle": "2024-11-03T19:10:38.808136Z",
     "shell.execute_reply": "2024-11-03T19:10:38.807109Z"
    },
    "papermill": {
     "duration": 0.026604,
     "end_time": "2024-11-03T19:10:38.810206",
     "exception": false,
     "start_time": "2024-11-03T19:10:38.783602",
     "status": "completed"
    },
    "tags": []
   },
   "outputs": [],
   "source": [
    "# Выбор модели для определения скелетных данных (lite или large модель)\n",
    "if kaggle:\n",
    "    model_path = \"/kaggle/working/pose_landmarker_full.task\"\n",
    "else:\n",
    "    model_path = \"../../../resources/pose_landmarker_full.task\""
   ]
  },
  {
   "cell_type": "code",
   "execution_count": 19,
   "id": "0df7e56f",
   "metadata": {
    "execution": {
     "iopub.execute_input": "2024-11-03T19:10:38.847464Z",
     "iopub.status.busy": "2024-11-03T19:10:38.846918Z",
     "iopub.status.idle": "2024-11-03T19:10:38.875913Z",
     "shell.execute_reply": "2024-11-03T19:10:38.874815Z"
    },
    "papermill": {
     "duration": 0.050533,
     "end_time": "2024-11-03T19:10:38.878176",
     "exception": false,
     "start_time": "2024-11-03T19:10:38.827643",
     "status": "completed"
    },
    "tags": []
   },
   "outputs": [],
   "source": [
    "BaseOptions = mp.tasks.BaseOptions\n",
    "PoseLandmarker = mp.tasks.vision.PoseLandmarker\n",
    "PoseLandmarkerOptions = mp.tasks.vision.PoseLandmarkerOptions\n",
    "VisionRunningMode = mp.tasks.vision.RunningMode\n",
    "\n",
    "class SFeatureProcessor:\n",
    "    def __init__(\n",
    "        self,\n",
    "        model_path,\n",
    "        video_idx,\n",
    "        new_width=640,\n",
    "        new_height=360,\n",
    "        display=False,\n",
    "        calculate_masks=True,\n",
    "        do_resize=False,\n",
    "    ):\n",
    "        self.model_path = model_path\n",
    "        self.new_width = new_width\n",
    "        self.new_height = new_height\n",
    "        self.width = None\n",
    "        self.height = None\n",
    "        self.display = display\n",
    "        self.calculate_masks = calculate_masks\n",
    "        self.do_resize = do_resize\n",
    "        self.buffer = []  # Буфер для сохранения данных\n",
    "        self._initialize_detector()  # Инициализация детектора\n",
    "        self.video_idx = video_idx\n",
    "\n",
    "    def _initialize_detector(self):\n",
    "        \"\"\"Инициализация или повторная инициализация детектора.\"\"\"\n",
    "        self.options = PoseLandmarkerOptions(\n",
    "            base_options=BaseOptions(model_asset_path=self.model_path),\n",
    "            running_mode=VisionRunningMode.VIDEO,\n",
    "            output_segmentation_masks=self.calculate_masks,  # Включаем или отключаем расчет масок сегментации\n",
    "        )\n",
    "        self.detector = PoseLandmarker.create_from_options(self.options)\n",
    "\n",
    "    def process_frame(self, frame, timestamp_ms):\n",
    "        # Обработка кадра (при необходимости изменяем его размер)\n",
    "        if self.do_resize:\n",
    "            frame_resized = cv2.resize(frame, (self.new_width, self.new_height))\n",
    "        else:\n",
    "            frame_resized = frame\n",
    "\n",
    "        self.width = frame_resized.shape[0]\n",
    "        self.height = frame_resized.shape[1]\n",
    "        frame_rgb = cv2.cvtColor(frame_resized, cv2.COLOR_BGR2RGB)\n",
    "        mp_image = mp.Image(image_format=mp.ImageFormat.SRGB, data=frame_rgb)\n",
    "\n",
    "        # Обработка кадра и получение результата синхронно\n",
    "        detection_result = self.detector.detect_for_video(mp_image, timestamp_ms)\n",
    "\n",
    "        self.result_callback(detection_result, timestamp_ms)\n",
    "\n",
    "        return frame_resized  # Возвращаем измененный кадр для отображения (если было применено resize)\n",
    "\n",
    "    def result_callback(self, detection_result, timestamp_ms):\n",
    "        \"\"\"Обработка результатов детекции для каждого кадра.\"\"\"\n",
    "        pose_landmarks_list = detection_result.pose_landmarks\n",
    "        pose_world_landmarks_list = detection_result.pose_world_landmarks\n",
    "        segmentation_masks = detection_result.segmentation_masks if self.calculate_masks else None\n",
    "\n",
    "        if pose_landmarks_list and pose_world_landmarks_list:\n",
    "            for pose_landmarks, pose_world_landmarks in zip(pose_landmarks_list, pose_world_landmarks_list):\n",
    "                landmarks_array = np.array([[landmark.x, landmark.y, landmark.z] for landmark in pose_landmarks], dtype=np.float32)\n",
    "                world_landmarks_array = np.array([[landmark.x, landmark.y, landmark.z] for landmark in pose_world_landmarks], dtype=np.float32)\n",
    "\n",
    "                mask_array = segmentation_masks[0].numpy_view().astype(np.float32) if self.calculate_masks else None\n",
    "\n",
    "                # Сохраняем данные в буфер\n",
    "                self.buffer.append((timestamp_ms, landmarks_array, world_landmarks_array, mask_array))\n",
    "        else:\n",
    "            landmarks_array = np.zeros((33, 3), dtype=np.float32)\n",
    "            world_landmarks_array = np.zeros((33, 3), dtype=np.float32)\n",
    "            mask_array = (np.zeros((self.width, self.height), dtype=np.float32) if self.calculate_masks else None)\n",
    "\n",
    "            # Сохраняем пустые данные в буфер\n",
    "            self.buffer.append((timestamp_ms, landmarks_array, world_landmarks_array, mask_array))\n",
    "\n",
    "    def return_data(self):\n",
    "        \"\"\"Возвращает собранные данные из буфера.\"\"\"\n",
    "        if self.buffer:\n",
    "            landmarks_data = np.array([item[1] for item in self.buffer])\n",
    "            world_landmarks_data = np.array([item[2] for item in self.buffer])\n",
    "            masks_data = np.array([item[3] for item in self.buffer if item[3] is not None]) if self.calculate_masks else None\n",
    "            self.buffer.clear()\n",
    "\n",
    "            return (landmarks_data, world_landmarks_data, masks_data)\n",
    "\n",
    "    def process_video(self, frames, fps):\n",
    "        \"\"\"Обработка видео и извлечение данных по каждому кадру.\"\"\"\n",
    "        frame_idx = 0\n",
    "\n",
    "        for frame in frames:\n",
    "            # Рассчитываем временную метку для каждого кадра\n",
    "            timestamp_ms = int((frame_idx / fps) * 1000)  \n",
    "            self.process_frame(frame, timestamp_ms)\n",
    "            frame_idx += 1\n",
    "\n",
    "        # Сохранение всех данных после завершения обработки\n",
    "        landmarks_data, world_landmarks_data, masks_data = self.return_data()\n",
    "\n",
    "        # Освобождаем ресурсы\n",
    "        self.cleanup()\n",
    "\n",
    "        return (landmarks_data, world_landmarks_data, masks_data)\n",
    "\n",
    "    def cleanup(self):\n",
    "        \"\"\"Метод для очистки и освобождения ресурсов.\"\"\"\n",
    "        self.buffer.clear()  # Очищаем буфер данных\n",
    "        del self.detector  # Удаляем детектор\n",
    "        gc.collect()  # Принудительный запуск сборщика мусора для освобождения памяти\n"
   ]
  },
  {
   "cell_type": "markdown",
   "id": "01b3739b",
   "metadata": {
    "papermill": {
     "duration": 0.017243,
     "end_time": "2024-11-03T19:10:38.913118",
     "exception": false,
     "start_time": "2024-11-03T19:10:38.895875",
     "status": "completed"
    },
    "tags": []
   },
   "source": [
    "### Функции корректировка скелетных координат"
   ]
  },
  {
   "cell_type": "code",
   "execution_count": 20,
   "id": "3296edfe",
   "metadata": {
    "execution": {
     "iopub.execute_input": "2024-11-03T19:10:38.952039Z",
     "iopub.status.busy": "2024-11-03T19:10:38.951565Z",
     "iopub.status.idle": "2024-11-03T19:10:38.963855Z",
     "shell.execute_reply": "2024-11-03T19:10:38.962852Z"
    },
    "papermill": {
     "duration": 0.034023,
     "end_time": "2024-11-03T19:10:38.966084",
     "exception": false,
     "start_time": "2024-11-03T19:10:38.932061",
     "status": "completed"
    },
    "tags": []
   },
   "outputs": [],
   "source": [
    "def check_landmarks(landmarks_data, world_landmarks_data, figure_masks_data):\n",
    "    \"\"\"\n",
    "    Проверяет каждый кадр в массиве landmarks_data. Если в кадре найдены значения,\n",
    "    которые не входят в диапазон (0, 1), этот кадр и соответствующий кадр в \n",
    "    world_landmarks_data обнуляются.\n",
    "\n",
    "    Если более 50% кадров последовательности или более 10 кадров подряд обнулены, \n",
    "    то такие данные помечаются, как не валидные.\n",
    "    \n",
    "    Функция также возвращает маску валидности последовательности.\n",
    "    \"\"\"\n",
    "    num_frames = landmarks_data.shape[0]\n",
    "    validation_mask = np.ones((num_frames,), dtype=np.int32)  # Инициализируем маску валидности последовательности\n",
    "\n",
    "    invalid_count = 0  # Счетчик невалидных кадров\n",
    "    max_consecutive_invalid = 0  # Максимальное количество подряд идущих невалидных кадров\n",
    "    current_consecutive_invalid = 0  # Текущая последовательность невалидных кадров\n",
    "\n",
    "    for i in range(num_frames):\n",
    "        # Проверяем, есть ли в кадре значения x или y за пределами (0, 1)\n",
    "        if not np.all((landmarks_data[i, :, 0:2] > 0) & (landmarks_data[i, :, 0:2] < 1)):\n",
    "            # Обнуляем кадр в обоих массивах\n",
    "            landmarks_data[i] = np.zeros_like(landmarks_data[i])\n",
    "            world_landmarks_data[i] = np.zeros_like(world_landmarks_data[i])\n",
    "            figure_masks_data[i] = np.zeros_like(figure_masks_data[i])  # Оставляем, как есть - маска для других целей\n",
    "\n",
    "            validation_mask[i] = 0  # Отмечаем кадр как невалидный\n",
    "            invalid_count += 1\n",
    "            current_consecutive_invalid += 1\n",
    "            max_consecutive_invalid = max(max_consecutive_invalid, current_consecutive_invalid)\n",
    "        else:\n",
    "            current_consecutive_invalid = 0\n",
    "\n",
    "    # Проверяем, валидна ли последовательность по количеству невалидных кадров\n",
    "    is_valid_sequence = not (invalid_count > num_frames * 0.1 or max_consecutive_invalid >= 10)\n",
    "    is_valid_sequence = not (invalid_count > num_frames * 0.25)\n",
    "    is_valid_sequence = True\n",
    "    is_valid_sequence = not (invalid_count == num_frames)\n",
    "    \n",
    "    return landmarks_data, world_landmarks_data, figure_masks_data, is_valid_sequence, validation_mask\n"
   ]
  },
  {
   "cell_type": "code",
   "execution_count": 21,
   "id": "1aae36d7",
   "metadata": {
    "execution": {
     "iopub.execute_input": "2024-11-03T19:10:39.003245Z",
     "iopub.status.busy": "2024-11-03T19:10:39.002354Z",
     "iopub.status.idle": "2024-11-03T19:10:39.010611Z",
     "shell.execute_reply": "2024-11-03T19:10:39.009583Z"
    },
    "papermill": {
     "duration": 0.029721,
     "end_time": "2024-11-03T19:10:39.013186",
     "exception": false,
     "start_time": "2024-11-03T19:10:38.983465",
     "status": "completed"
    },
    "tags": []
   },
   "outputs": [],
   "source": [
    "def padding_landmarks(landmarks, crop_area, image_shape):\n",
    "    min_x, min_y, max_x, max_y = crop_area\n",
    "    width, height = image_shape\n",
    "    # Корректируем координаты скелета относительно нового кропа и масштабируем\n",
    "    adjusted_landmarks = []\n",
    "    for landmark in landmarks:\n",
    "        x, y, z = landmark\n",
    "        x_adjusted = (x * width - min_x) / (max_x - min_x)  # Корректировка x\n",
    "        y_adjusted = (y * height - min_y) / (max_y - min_y)  # Корректировка y\n",
    "        adjusted_landmarks.append([x_adjusted, y_adjusted, z])\n",
    "    return np.array(adjusted_landmarks)"
   ]
  },
  {
   "cell_type": "markdown",
   "id": "d5cdf9f1",
   "metadata": {
    "papermill": {
     "duration": 0.016722,
     "end_time": "2024-11-03T19:10:39.170634",
     "exception": false,
     "start_time": "2024-11-03T19:10:39.153912",
     "status": "completed"
    },
    "tags": []
   },
   "source": [
    "### Обрезка изображения"
   ]
  },
  {
   "cell_type": "code",
   "execution_count": 23,
   "id": "40d692f5",
   "metadata": {
    "execution": {
     "iopub.execute_input": "2024-11-03T19:10:39.209037Z",
     "iopub.status.busy": "2024-11-03T19:10:39.208238Z",
     "iopub.status.idle": "2024-11-03T19:10:39.219545Z",
     "shell.execute_reply": "2024-11-03T19:10:39.218622Z"
    },
    "papermill": {
     "duration": 0.033664,
     "end_time": "2024-11-03T19:10:39.221746",
     "exception": false,
     "start_time": "2024-11-03T19:10:39.188082",
     "status": "completed"
    },
    "tags": []
   },
   "outputs": [],
   "source": [
    "def make_divisible_by_8(value):\n",
    "    \"\"\"Корректируем значение, чтобы оно стало кратным 8.\"\"\"\n",
    "    return (value + 7) // 8 * 8\n",
    "\n",
    "\n",
    "def get_global_crop_area(landmarks_data, image_shape, padding=100):\n",
    "    width, height = image_shape\n",
    "\n",
    "    # Преобразуем координаты из диапазона [0, 1] в реальные координаты на изображении\n",
    "    scaled_landmarks = landmarks_data.copy()\n",
    "    scaled_landmarks[:, :, 0] *= width  # Масштабируем x координаты\n",
    "    scaled_landmarks[:, :, 1] *= height  # Масштабируем y координаты\n",
    "\n",
    "    # Фильтруем только ненулевые координаты\n",
    "    valid_x = scaled_landmarks[:, :, 0][scaled_landmarks[:, :, 0] != 0]\n",
    "    valid_y = scaled_landmarks[:, :, 1][scaled_landmarks[:, :, 1] != 0]\n",
    "\n",
    "    # Проверяем, есть ли хоть одна ненулевая координата\n",
    "    if len(valid_x) == 0 or len(valid_y) == 0:\n",
    "        raise ValueError(\"No valid landmarks found within the range.\")\n",
    "\n",
    "    # Находим минимальные и максимальные координаты x и y для всех точек скелета на всех кадрах\n",
    "    min_x = np.min(valid_x)\n",
    "    max_x = np.max(valid_x)\n",
    "    min_y = np.min(valid_y)\n",
    "    max_y = np.max(valid_y)\n",
    "\n",
    "    # Добавляем отступы (padding) вокруг найденной области\n",
    "    min_x = int(min_x - padding)\n",
    "    max_x = int(max_x + padding)\n",
    "    min_y = int(min_y - padding)\n",
    "    max_y = int(max_y + padding)\n",
    "\n",
    "    # Ограничиваем значения в пределах размеров изображения\n",
    "    min_x = max(0, min_x)\n",
    "    max_x = min(width, max_x)\n",
    "    min_y = max(0, min_y)\n",
    "    max_y = min(height, max_y)\n",
    "\n",
    "    # Вычисляем ширину и высоту области\n",
    "    crop_width = max_x - min_x\n",
    "    crop_height = max_y - min_y\n",
    "\n",
    "    # Корректируем ширину и высоту, чтобы они были кратны 8\n",
    "    crop_width = make_divisible_by_8(crop_width)\n",
    "    crop_height = make_divisible_by_8(crop_height)\n",
    "\n",
    "    # Определяем сторону квадрата как максимальную из высоты и ширины области\n",
    "    square_size = max(crop_width, crop_height)\n",
    "\n",
    "    # Центрируем квадрат относительно найденной области\n",
    "    center_x = (min_x + max_x) // 2\n",
    "    center_y = (min_y + max_y) // 2\n",
    "\n",
    "    # Вычисляем координаты квадратного кропа\n",
    "    # square_min_x = max(0, center_x - square_size // 2)\n",
    "    # square_max_x = min(width, center_x + square_size // 2)\n",
    "    # square_min_y = max(0, center_y - square_size // 2)\n",
    "    # square_max_y = min(height, center_y + square_size // 2)\n",
    "    \n",
    "    square_min_x = center_x - square_size // 2\n",
    "    square_max_x = center_x + square_size // 2\n",
    "    square_min_y = center_y - square_size // 2\n",
    "    square_max_y = center_y + square_size // 2\n",
    "\n",
    "    return (square_min_x, square_min_y, square_max_x, square_max_y), (crop_width, crop_height)"
   ]
  },
  {
   "cell_type": "markdown",
   "id": "4953ae98",
   "metadata": {
    "papermill": {
     "duration": 0.016811,
     "end_time": "2024-11-03T19:10:39.256042",
     "exception": false,
     "start_time": "2024-11-03T19:10:39.239231",
     "status": "completed"
    },
    "tags": []
   },
   "source": [
    "### Функция добавления паддинга "
   ]
  },
  {
   "cell_type": "code",
   "execution_count": 24,
   "id": "d6dd648c",
   "metadata": {
    "execution": {
     "iopub.execute_input": "2024-11-03T19:10:39.292152Z",
     "iopub.status.busy": "2024-11-03T19:10:39.291760Z",
     "iopub.status.idle": "2024-11-03T19:10:39.303095Z",
     "shell.execute_reply": "2024-11-03T19:10:39.302054Z"
    },
    "papermill": {
     "duration": 0.032298,
     "end_time": "2024-11-03T19:10:39.305406",
     "exception": false,
     "start_time": "2024-11-03T19:10:39.273108",
     "status": "completed"
    },
    "tags": []
   },
   "outputs": [],
   "source": [
    "def crop_with_padding(images, crop_area):\n",
    "    \"\"\"\n",
    "    Выполняет кроп изображений с учетом паддинга и возвращает бинарную маску, \n",
    "    где паддинг помечен 0, а изображение - 1.\n",
    "    \"\"\"\n",
    "    min_x, min_y, max_x, max_y = crop_area\n",
    "    height, width = images[0].shape[:2]  # Получаем размер первого изображения/маски\n",
    "\n",
    "    # Проверяем, выходит ли квадрат за пределы изображения\n",
    "    pad_left = max(0, -min_x)\n",
    "    pad_right = max(0, max_x - width)\n",
    "    pad_top = max(0, -min_y)\n",
    "    pad_bottom = max(0, max_y - height)\n",
    "\n",
    "    # Обновляем границы кропа, чтобы они не выходили за пределы изображения\n",
    "    min_x = max(0, min_x)\n",
    "    max_x = min(width, max_x)\n",
    "    min_y = max(0, min_y)\n",
    "    max_y = min(height, max_y)\n",
    "\n",
    "    # Создаем массив для хранения обрезанных изображений с паддингом\n",
    "    padded_images = []\n",
    "    crop_masks = []\n",
    "\n",
    "    # Обрабатываем каждое изображение в массиве\n",
    "    for image in images:\n",
    "        # Обрезаем изображение в соответствии с заданными границами\n",
    "        cropped_image = image[min_y:max_y, min_x:max_x]\n",
    "\n",
    "        # Создаем черный холст для изображения и бинарную маску\n",
    "        if len(image.shape) == 3 and image.shape[2] == 3:\n",
    "            # Цветное изображение (RGB)\n",
    "            padded_image = np.zeros(\n",
    "                (crop_area[3] - crop_area[1], crop_area[2] - crop_area[0], 3),\n",
    "                dtype=np.uint8,\n",
    "            )\n",
    "        else:\n",
    "            # Одноканальная маска (грейскейл)\n",
    "            padded_image = np.zeros(\n",
    "                (crop_area[3] - crop_area[1], crop_area[2] - crop_area[0]),\n",
    "                dtype=np.uint8,\n",
    "            )\n",
    "\n",
    "        # Создаем маску той же формы, что и холст, и заполняем ее 0\n",
    "        mask = np.zeros(\n",
    "            (crop_area[3] - crop_area[1], crop_area[2] - crop_area[0]),\n",
    "            dtype=np.uint8,\n",
    "        )\n",
    "\n",
    "        # Определяем, куда вставить обрезанное изображение на холст\n",
    "        insert_x = pad_left\n",
    "        insert_y = pad_top\n",
    "\n",
    "        # Вставляем обрезанное изображение на холст с учетом паддинга\n",
    "        padded_image[\n",
    "            insert_y:insert_y + cropped_image.shape[0],\n",
    "            insert_x:insert_x + cropped_image.shape[1]\n",
    "        ] = cropped_image\n",
    "\n",
    "        # Вставляем единицы в маску в тех же координатах\n",
    "        mask[\n",
    "            insert_y:insert_y + cropped_image.shape[0],\n",
    "            insert_x:insert_x + cropped_image.shape[1]\n",
    "        ] = 1\n",
    "\n",
    "        # Добавляем изображение/маску с паддингом и маску в результирующий массив\n",
    "        padded_images.append(padded_image)\n",
    "        crop_masks.append(mask)\n",
    "\n",
    "    # Преобразуем списки обратно в массивы\n",
    "    return np.array(padded_images), np.array(crop_masks)\n"
   ]
  },
  {
   "cell_type": "markdown",
   "id": "97ff4b06",
   "metadata": {
    "papermill": {
     "duration": 0.017648,
     "end_time": "2024-11-03T19:10:39.340426",
     "exception": false,
     "start_time": "2024-11-03T19:10:39.322778",
     "status": "completed"
    },
    "tags": []
   },
   "source": [
    "### Фунции расчета оптического потока"
   ]
  },
  {
   "cell_type": "code",
   "execution_count": 25,
   "id": "c9cbdfaa",
   "metadata": {
    "execution": {
     "iopub.execute_input": "2024-11-03T19:10:39.376701Z",
     "iopub.status.busy": "2024-11-03T19:10:39.376262Z",
     "iopub.status.idle": "2024-11-03T19:10:40.593743Z",
     "shell.execute_reply": "2024-11-03T19:10:40.592753Z"
    },
    "papermill": {
     "duration": 1.238243,
     "end_time": "2024-11-03T19:10:40.595984",
     "exception": false,
     "start_time": "2024-11-03T19:10:39.357741",
     "status": "completed"
    },
    "tags": []
   },
   "outputs": [
    {
     "name": "stderr",
     "output_type": "stream",
     "text": [
      "/opt/conda/lib/python3.10/site-packages/torchvision/models/_utils.py:223: UserWarning: Arguments other than a weight enum or `None` for 'weights' are deprecated since 0.13 and may be removed in the future. The current behavior is equivalent to passing `weights=Raft_Small_Weights.C_T_V2`. You can also use `weights=Raft_Small_Weights.DEFAULT` to get the most up-to-date weights.\n",
      "  warnings.warn(msg)\n",
      "Downloading: \"https://download.pytorch.org/models/raft_small_C_T_V2-01064c6d.pth\" to /root/.cache/torch/hub/checkpoints/raft_small_C_T_V2-01064c6d.pth\n",
      "100%|██████████| 3.82M/3.82M [00:00<00:00, 33.6MB/s]\n"
     ]
    }
   ],
   "source": [
    "# Загрузка модели RAFT\n",
    "model_raft = raft_small(weights=Raft_Small_Weights.C_T_V1.transforms).to(device)\n",
    "model_raft.eval();"
   ]
  },
  {
   "cell_type": "code",
   "execution_count": 26,
   "id": "f7919bd0",
   "metadata": {
    "execution": {
     "iopub.execute_input": "2024-11-03T19:10:40.633107Z",
     "iopub.status.busy": "2024-11-03T19:10:40.632433Z",
     "iopub.status.idle": "2024-11-03T19:10:40.638048Z",
     "shell.execute_reply": "2024-11-03T19:10:40.637161Z"
    },
    "papermill": {
     "duration": 0.026431,
     "end_time": "2024-11-03T19:10:40.640075",
     "exception": false,
     "start_time": "2024-11-03T19:10:40.613644",
     "status": "completed"
    },
    "tags": []
   },
   "outputs": [],
   "source": [
    "# Функция для масштабирования изображения и расчета коэффициентов масштаба\n",
    "def resize_frame_with_scale(frame, target_size):\n",
    "    \"\"\"Масштабирование кадра и вычисление коэффициентов масштаба.\"\"\"\n",
    "    original_height, original_width = frame.shape[:2]\n",
    "    resized_frame = cv2.resize(frame, target_size)\n",
    "\n",
    "    # Коэффициенты масштабирования по осям X и Y\n",
    "    scale_x = original_width / target_size[0]\n",
    "    scale_y = original_height / target_size[1]\n",
    "\n",
    "    return resized_frame, scale_x, scale_y\n"
   ]
  },
  {
   "cell_type": "code",
   "execution_count": 27,
   "id": "1823d6bd",
   "metadata": {
    "execution": {
     "iopub.execute_input": "2024-11-03T19:10:40.677086Z",
     "iopub.status.busy": "2024-11-03T19:10:40.676127Z",
     "iopub.status.idle": "2024-11-03T19:10:40.683542Z",
     "shell.execute_reply": "2024-11-03T19:10:40.682592Z"
    },
    "papermill": {
     "duration": 0.028042,
     "end_time": "2024-11-03T19:10:40.685669",
     "exception": false,
     "start_time": "2024-11-03T19:10:40.657627",
     "status": "completed"
    },
    "tags": []
   },
   "outputs": [],
   "source": [
    "# Функция для расчета оптического потока\n",
    "def calculate_optical_flow(frame1, frame2, model_raft, device):\n",
    "    \"\"\"Рассчитываем оптический поток между двумя кадрами с использованием RAFT\"\"\"\n",
    "    transform = T.Compose(\n",
    "        [\n",
    "            T.ConvertImageDtype(torch.float32),\n",
    "            T.Normalize(mean=[0.485, 0.456, 0.406], std=[0.229, 0.224, 0.225]),\n",
    "        ]\n",
    "    )\n",
    "\n",
    "    # Преобразуем кадры в тензоры и нормализуем\n",
    "    frame1_tensor = (\n",
    "        transform(torch.tensor(frame1).permute(2, 0, 1) / 255.0).unsqueeze(0).to(device)\n",
    "    )\n",
    "    frame2_tensor = (\n",
    "        transform(torch.tensor(frame2).permute(2, 0, 1) / 255.0).unsqueeze(0).to(device)\n",
    "    )\n",
    "\n",
    "    # Вычисляем оптический поток с использованием RAFT\n",
    "    with torch.no_grad():\n",
    "        flow = model_raft(frame1_tensor, frame2_tensor)[-1]  # Получаем оптический поток\n",
    "\n",
    "    return flow"
   ]
  },
  {
   "cell_type": "code",
   "execution_count": 28,
   "id": "a59cb77e",
   "metadata": {
    "execution": {
     "iopub.execute_input": "2024-11-03T19:10:40.722540Z",
     "iopub.status.busy": "2024-11-03T19:10:40.722122Z",
     "iopub.status.idle": "2024-11-03T19:10:40.728879Z",
     "shell.execute_reply": "2024-11-03T19:10:40.727966Z"
    },
    "papermill": {
     "duration": 0.027555,
     "end_time": "2024-11-03T19:10:40.730902",
     "exception": false,
     "start_time": "2024-11-03T19:10:40.703347",
     "status": "completed"
    },
    "tags": []
   },
   "outputs": [],
   "source": [
    "# Функция для коррекции оптического потока обратно в оригинальное разрешение\n",
    "def adjust_flow_to_original_resolution(flow, original_shape, scale_x, scale_y):\n",
    "    \"\"\"Корректировка оптического потока в соответствии с исходным разрешением изображения\"\"\"\n",
    "    # flow имеет форму (2, H, W), поэтому нужно правильно изменить его размер\n",
    "    flow = torch.tensor(flow).unsqueeze(\n",
    "        0\n",
    "    )  # Добавляем батч, чтобы была форма (N, 2, H, W)\n",
    "\n",
    "    # Масштабируем тензор обратно в исходное разрешение\n",
    "    flow_resized = torch.nn.functional.interpolate(\n",
    "        flow,\n",
    "        size=(original_shape[0], original_shape[1]),\n",
    "        mode=\"bilinear\",\n",
    "        align_corners=False,\n",
    "    )\n",
    "\n",
    "    # Убираем размер батча\n",
    "    flow_resized = flow_resized.squeeze(0)\n",
    "\n",
    "    # Корректируем векторы потока по осям X и Y\n",
    "    flow_resized[0] *= scale_x  # Корректируем по оси X\n",
    "    flow_resized[1] *= scale_y  # Корректируем по оси Y\n",
    "\n",
    "    return flow_resized.cpu().numpy()\n"
   ]
  },
  {
   "cell_type": "code",
   "execution_count": 29,
   "id": "69950fa7",
   "metadata": {
    "execution": {
     "iopub.execute_input": "2024-11-03T19:10:40.767888Z",
     "iopub.status.busy": "2024-11-03T19:10:40.767481Z",
     "iopub.status.idle": "2024-11-03T19:10:40.777363Z",
     "shell.execute_reply": "2024-11-03T19:10:40.776337Z"
    },
    "papermill": {
     "duration": 0.030877,
     "end_time": "2024-11-03T19:10:40.779405",
     "exception": false,
     "start_time": "2024-11-03T19:10:40.748528",
     "status": "completed"
    },
    "tags": []
   },
   "outputs": [],
   "source": [
    "def process_frames_for_optical_flow(\n",
    "    frames, model_raft, target_size=None, device=\"cuda\"\n",
    "):\n",
    "    num_frames = len(frames) - 1\n",
    "    original_shape = frames[0].shape[:2]  # Размер первого кадра\n",
    "\n",
    "    # Определяем размерность массива для хранения всех оптических потоков\n",
    "    optical_flows_shape = (\n",
    "        num_frames + 1,\n",
    "        2,\n",
    "        original_shape[0],\n",
    "        original_shape[1],\n",
    "    )  # (количество кадров, высота, ширина, 2 канала (x и y))\n",
    "    optical_flows = np.zeros(optical_flows_shape, dtype=np.float32)\n",
    "\n",
    "    #     for i in tqdm(range(num_frames), desc=\"Calculating optical flow\"):\n",
    "    for i in range(num_frames):\n",
    "        # Если указан target_size, масштабируем кадры\n",
    "        if target_size:\n",
    "            # Масштабируем оба кадра до target_size и вычисляем коэффициенты масштабирования\n",
    "            frame1_resized, scale_x1, scale_y1 = resize_frame_with_scale(\n",
    "                frames[i], target_size\n",
    "            )\n",
    "            frame2_resized, scale_x2, scale_y2 = resize_frame_with_scale(\n",
    "                frames[i + 1], target_size\n",
    "            )\n",
    "\n",
    "            # Проверяем, что коэффициенты масштабирования для обоих кадров одинаковые\n",
    "            assert (\n",
    "                scale_x1 == scale_x2 and scale_y1 == scale_y2\n",
    "            ), \"Коэффициенты масштабирования должны совпадать!\"\n",
    "        else:\n",
    "            # Если target_size не указан, оставляем кадры без изменений\n",
    "            frame1_resized = frames[i]\n",
    "            frame2_resized = frames[i + 1]\n",
    "            scale_x1, scale_y1 = (\n",
    "                1,\n",
    "                1,\n",
    "            )  # Масштабирование не производится, коэффициенты равны 1\n",
    "\n",
    "        # Рассчитываем оптический поток между кадрами\n",
    "        flow = calculate_optical_flow(\n",
    "            frame1_resized, frame2_resized, model_raft, device\n",
    "        )\n",
    "\n",
    "        # Корректируем оптический поток обратно в оригинальное разрешение, если было масштабирование\n",
    "        if target_size:\n",
    "            flow_corrected = adjust_flow_to_original_resolution(\n",
    "                flow.squeeze().cpu().numpy(), original_shape, scale_x1, scale_y1\n",
    "            )\n",
    "        else:\n",
    "            flow_corrected = (\n",
    "                flow.squeeze().cpu().numpy()\n",
    "            )  # Если не было масштабирования, корректировка не нужна\n",
    "\n",
    "        # Сохраняем оптический поток в заранее выделенный массив\n",
    "        optical_flows[i] = flow_corrected\n",
    "\n",
    "        # Освобождаем память\n",
    "        del flow\n",
    "        torch.cuda.empty_cache()\n",
    "\n",
    "    return optical_flows\n",
    "\n",
    "    "
   ]
  },
  {
   "cell_type": "markdown",
   "id": "e21eab2c",
   "metadata": {
    "papermill": {
     "duration": 0.017046,
     "end_time": "2024-11-03T19:10:40.813907",
     "exception": false,
     "start_time": "2024-11-03T19:10:40.796861",
     "status": "completed"
    },
    "tags": []
   },
   "source": [
    "### Функция получения оптического потока по координатам скелета"
   ]
  },
  {
   "cell_type": "code",
   "execution_count": 30,
   "id": "94f57485",
   "metadata": {
    "execution": {
     "iopub.execute_input": "2024-11-03T19:10:40.851055Z",
     "iopub.status.busy": "2024-11-03T19:10:40.850670Z",
     "iopub.status.idle": "2024-11-03T19:10:40.858525Z",
     "shell.execute_reply": "2024-11-03T19:10:40.857472Z"
    },
    "papermill": {
     "duration": 0.02945,
     "end_time": "2024-11-03T19:10:40.860713",
     "exception": false,
     "start_time": "2024-11-03T19:10:40.831263",
     "status": "completed"
    },
    "tags": []
   },
   "outputs": [],
   "source": [
    "def extract_optical_flow_at_landmarks(landmarks_data, optical_flows):\n",
    "    \"\"\"\n",
    "    Извлекает значения скорректированного оптического потока для каждого сустава в каждом кадре.\n",
    "    \n",
    "    Args:\n",
    "        landmarks_data: numpy массив нормализованных координат суставов (shape: [num_frames, num_joints, 3])\n",
    "        optical_flows: numpy массив скорректированного оптического потока (shape: [num_frames, 2, H, W])\n",
    "        \n",
    "    Returns:\n",
    "        flow_at_landmarks: numpy массив скорректированного оптического потока для каждого сустава\n",
    "                           (shape: [num_frames, num_joints, 2])\n",
    "    \"\"\"\n",
    "    num_frames, num_joints, _ = landmarks_data.shape\n",
    "    image_height, image_width = optical_flows.shape[2], optical_flows.shape[3]\n",
    "    \n",
    "    flow_at_landmarks = np.zeros((num_frames, num_joints, 2), dtype=np.float32)\n",
    "    \n",
    "    for i in range(num_frames):\n",
    "        for j in range(num_joints):\n",
    "            # Преобразуем нормализованные координаты x и y в пиксели\n",
    "            x = int(landmarks_data[i, j, 0] * image_width)\n",
    "            y = int(landmarks_data[i, j, 1] * image_height)\n",
    "            \n",
    "            # Проверяем, находятся ли координаты в пределах изображения\n",
    "            if 0 <= x < image_width and 0 <= y < image_height:\n",
    "                # Извлекаем значения оптического потока по x и y в данной точке\n",
    "                flow_x = optical_flows[i, 0, y, x]\n",
    "                flow_y = optical_flows[i, 1, y, x]\n",
    "                flow_at_landmarks[i, j] = [flow_x, flow_y]\n",
    "            else:\n",
    "                # Если координаты выходят за границы, оставляем значения (0, 0)\n",
    "                flow_at_landmarks[i, j] = [0, 0]\n",
    "\n",
    "    return flow_at_landmarks"
   ]
  },
  {
   "cell_type": "markdown",
   "id": "e5bc991e",
   "metadata": {
    "papermill": {
     "duration": 0.017103,
     "end_time": "2024-11-03T19:10:40.895406",
     "exception": false,
     "start_time": "2024-11-03T19:10:40.878303",
     "status": "completed"
    },
    "tags": []
   },
   "source": [
    "### Класс сглаживания вектора потока"
   ]
  },
  {
   "cell_type": "code",
   "execution_count": 31,
   "id": "bb6ce294",
   "metadata": {
    "execution": {
     "iopub.execute_input": "2024-11-03T19:10:40.933081Z",
     "iopub.status.busy": "2024-11-03T19:10:40.932679Z",
     "iopub.status.idle": "2024-11-03T19:10:40.940810Z",
     "shell.execute_reply": "2024-11-03T19:10:40.939797Z"
    },
    "papermill": {
     "duration": 0.029934,
     "end_time": "2024-11-03T19:10:40.942811",
     "exception": false,
     "start_time": "2024-11-03T19:10:40.912877",
     "status": "completed"
    },
    "tags": []
   },
   "outputs": [],
   "source": [
    "class OneEuroFilter:\n",
    "    def __init__(self, min_cutoff=1.0, beta=0.0, d_cutoff=1.0, freq=60.0):\n",
    "        self.min_cutoff = min_cutoff\n",
    "        self.beta = beta\n",
    "        self.d_cutoff = d_cutoff\n",
    "        self.freq = freq\n",
    "        self.last_value = None\n",
    "        self.last_derivative = 0.0\n",
    "\n",
    "    def alpha(self, cutoff):\n",
    "        tau = 1.0 / (2.0 * np.pi * cutoff)\n",
    "        return 1.0 / (1.0 + tau * self.freq)\n",
    "\n",
    "    def filter(self, value):\n",
    "        if self.last_value is None:\n",
    "            self.last_value = value\n",
    "            return value\n",
    "\n",
    "        # Вычисляем производную\n",
    "        derivative = (value - self.last_value) * self.freq\n",
    "        alpha_d = self.alpha(self.d_cutoff)\n",
    "        self.last_derivative += alpha_d * (derivative - self.last_derivative)\n",
    "\n",
    "        # Вычисляем сглаживающее значение\n",
    "        cutoff = self.min_cutoff + self.beta * np.abs(self.last_derivative)\n",
    "        alpha = self.alpha(cutoff)\n",
    "        smoothed_value = self.last_value + alpha * (value - self.last_value)\n",
    "\n",
    "        # Обновляем предыдущее значение\n",
    "        self.last_value = smoothed_value\n",
    "\n",
    "        return smoothed_value\n"
   ]
  },
  {
   "cell_type": "markdown",
   "id": "904830b4",
   "metadata": {
    "papermill": {
     "duration": 0.017339,
     "end_time": "2024-11-03T19:10:40.977816",
     "exception": false,
     "start_time": "2024-11-03T19:10:40.960477",
     "status": "completed"
    },
    "tags": []
   },
   "source": [
    "#### Функция сглаживания оптического потока всех суставов"
   ]
  },
  {
   "cell_type": "code",
   "execution_count": 32,
   "id": "31e3e9e7",
   "metadata": {
    "execution": {
     "iopub.execute_input": "2024-11-03T19:10:41.014947Z",
     "iopub.status.busy": "2024-11-03T19:10:41.013888Z",
     "iopub.status.idle": "2024-11-03T19:10:41.022389Z",
     "shell.execute_reply": "2024-11-03T19:10:41.021546Z"
    },
    "papermill": {
     "duration": 0.029298,
     "end_time": "2024-11-03T19:10:41.024493",
     "exception": false,
     "start_time": "2024-11-03T19:10:40.995195",
     "status": "completed"
    },
    "tags": []
   },
   "outputs": [],
   "source": [
    "def smooth_landmark_flows(flow_at_landmarks):\n",
    "    \"\"\"\n",
    "    Применяет OneEuroFilter к каждому суставу для каждого кадра в массиве flow_at_landmarks.\n",
    "\n",
    "    Args:\n",
    "        flow_at_landmarks: numpy массив формы (num_frames, num_landmarks, 2), содержащий скорректированный оптический поток для каждого сустава в каждом кадре.\n",
    "        \n",
    "    Returns:\n",
    "        smoothed_flows: numpy массив сглаженных значений той же формы, что и flow_at_landmarks.\n",
    "    \"\"\"\n",
    "    # Создаем экземпляры фильтров для X и Y координат\n",
    "    filters_x = [OneEuroFilter(min_cutoff=1.0, beta=0.005) for _ in range(flow_at_landmarks.shape[1])]\n",
    "    filters_y = [OneEuroFilter(min_cutoff=1.0, beta=0.005) for _ in range(flow_at_landmarks.shape[1])]\n",
    "\n",
    "    # Функция для сглаживания потока одного сустава в одном кадре\n",
    "    def smooth_single_landmark(flow, idx):\n",
    "        smoothed_x = filters_x[idx].filter(flow[0])\n",
    "        smoothed_y = filters_y[idx].filter(flow[1])\n",
    "        return np.array([smoothed_x, smoothed_y])\n",
    "\n",
    "    # Применяем сглаживание ко всем кадрам и суставам\n",
    "    num_frames, num_landmarks, _ = flow_at_landmarks.shape\n",
    "    smoothed_flows = np.zeros_like(flow_at_landmarks)\n",
    "\n",
    "    for frame_idx in range(num_frames):\n",
    "        for landmark_idx in range(num_landmarks):\n",
    "            smoothed_flows[frame_idx, landmark_idx] = smooth_single_landmark(\n",
    "                flow_at_landmarks[frame_idx, landmark_idx], landmark_idx\n",
    "            )\n",
    "\n",
    "    return smoothed_flows"
   ]
  },
  {
   "cell_type": "markdown",
   "id": "f87cc9b5",
   "metadata": {
    "papermill": {
     "duration": 0.017636,
     "end_time": "2024-11-03T19:10:41.059609",
     "exception": false,
     "start_time": "2024-11-03T19:10:41.041973",
     "status": "completed"
    },
    "tags": []
   },
   "source": [
    "### Функции корректировка с учетом оптического потока"
   ]
  },
  {
   "cell_type": "code",
   "execution_count": 33,
   "id": "4a13864b",
   "metadata": {
    "execution": {
     "iopub.execute_input": "2024-11-03T19:10:41.096511Z",
     "iopub.status.busy": "2024-11-03T19:10:41.095736Z",
     "iopub.status.idle": "2024-11-03T19:10:41.106330Z",
     "shell.execute_reply": "2024-11-03T19:10:41.105356Z"
    },
    "papermill": {
     "duration": 0.031563,
     "end_time": "2024-11-03T19:10:41.108463",
     "exception": false,
     "start_time": "2024-11-03T19:10:41.076900",
     "status": "completed"
    },
    "tags": []
   },
   "outputs": [],
   "source": [
    "def correct_joint_coordinates(joint_coords, mean_optical_flow):\n",
    "    \"\"\"\n",
    "    Корректирует координаты суставов на основе среднего оптического потока.\n",
    "\n",
    "    :param joint_coords: Массив размером (33, 3), содержащий мировые координаты 33 суставов.\n",
    "    :param mean_optical_flow: Массив размером (2,), содержащий средний оптический поток по осям X и Y.\n",
    "    :return: Скорректированные мировые координаты суставов.\n",
    "    \"\"\"\n",
    "    # Проверяем наличие данных о суставах (все координаты не равны нулю)\n",
    "    if np.allclose(joint_coords, 0):\n",
    "        # Если координаты сустава не обнаружены, возвращаем нулевой массив\n",
    "        return np.zeros_like(joint_coords)\n",
    "\n",
    "    # Проверяем, что массив имеет правильный размер\n",
    "    assert joint_coords.shape == (33, 3), \"joint_coords должен иметь размер (33, 3)\"\n",
    "    assert mean_optical_flow.shape == (2,), \"mean_optical_flow должен иметь размер (2,)\"\n",
    "\n",
    "    # Извлекаем координаты 23-го (индекс 22) и 24-го (индекс 23) суставов\n",
    "    joint_23 = joint_coords[22]\n",
    "    joint_24 = joint_coords[23]\n",
    "\n",
    "    # Находим расстояние между 23 и 24 суставами в мировых координатах (метры)\n",
    "    distance_world_x = np.abs(joint_24[0] - joint_23[0])  # по оси X\n",
    "    distance_world_y = np.abs(joint_24[1] - joint_23[1])  # по оси Y\n",
    "\n",
    "    # Предположим, что мы имеем пиксельные расстояния для тех же суставов\n",
    "    # Допустим, расстояние в пикселях между 23 и 24 суставами (пример)\n",
    "    distance_image_x = 200  # Пиксельное расстояние по X (пример)\n",
    "    distance_image_y = 150  # Пиксельное расстояние по Y (пример)\n",
    "\n",
    "    # Коэффициенты преобразования (метры на пиксель)\n",
    "    conversion_factor_x = distance_world_x / distance_image_x\n",
    "    conversion_factor_y = distance_world_y / distance_image_y\n",
    "\n",
    "    # Преобразуем мировые координаты в единицы изображения (пиксели)\n",
    "    joint_coords_converted = np.zeros_like(joint_coords)\n",
    "\n",
    "    # Если коэффициенты равны нулю, не делим на них, оставляем нули\n",
    "    joint_coords_converted[:, 0] = np.where(\n",
    "        conversion_factor_x != 0, joint_coords[:, 0] / conversion_factor_x, 0\n",
    "    )\n",
    "    joint_coords_converted[:, 1] = np.where(\n",
    "        conversion_factor_y != 0, joint_coords[:, 1] / conversion_factor_y, 0\n",
    "    )\n",
    "    joint_coords_converted[:, 2] = joint_coords[\n",
    "        :, 2\n",
    "    ]  # Z не меняем, так как Z не учитывает оптический поток\n",
    "\n",
    "    # Вычитаем средний оптический поток из координат в пикселях (по X и Y)\n",
    "    joint_coords_converted[:, 0] -= mean_optical_flow[0]  # Корректируем X\n",
    "    joint_coords_converted[:, 1] -= mean_optical_flow[1]  # Корректируем Y\n",
    "\n",
    "    # Возвращаем скорректированные координаты в мировые единицы\n",
    "    corrected_joint_coords = np.zeros_like(joint_coords)\n",
    "    corrected_joint_coords[:, 0] = (\n",
    "        joint_coords_converted[:, 0] * conversion_factor_x\n",
    "    )  # Возвращаем X\n",
    "    corrected_joint_coords[:, 1] = (\n",
    "        joint_coords_converted[:, 1] * conversion_factor_y\n",
    "    )  # Возвращаем Y\n",
    "    corrected_joint_coords[:, 2] = joint_coords_converted[:, 2]  # Z остается неизменным\n",
    "\n",
    "    return corrected_joint_coords"
   ]
  },
  {
   "cell_type": "code",
   "execution_count": 34,
   "id": "cde3e241",
   "metadata": {
    "execution": {
     "iopub.execute_input": "2024-11-03T19:10:41.145544Z",
     "iopub.status.busy": "2024-11-03T19:10:41.145025Z",
     "iopub.status.idle": "2024-11-03T19:10:41.151225Z",
     "shell.execute_reply": "2024-11-03T19:10:41.150261Z"
    },
    "papermill": {
     "duration": 0.026818,
     "end_time": "2024-11-03T19:10:41.153159",
     "exception": false,
     "start_time": "2024-11-03T19:10:41.126341",
     "status": "completed"
    },
    "tags": []
   },
   "outputs": [],
   "source": [
    "def correct_world_coordinates(world_landmarks_data, mean_optical_flows):\n",
    "    \"\"\"\n",
    "    Применяет корректировку координат суставов для каждого кадра на основе среднего оптического потока.\n",
    "\n",
    "    :param world_landmarks_data: Массив размером (num_frames, 33, 3), содержащий мировые координаты суставов для каждого кадра.\n",
    "    :param mean_optical_flows: Список массивов (num_frames,) с оптическими потоками по осям X и Y для каждого кадра.\n",
    "    :return: Скорректированные координаты суставов для всех кадров.\n",
    "    \"\"\"\n",
    "    corrected_joint_coords_all_frames = []\n",
    "\n",
    "    for i in range(len(world_landmarks_data)):\n",
    "        joint_coords = world_landmarks_data[i]\n",
    "        mean_optical_flow = mean_optical_flows[i]\n",
    "\n",
    "        # Корректируем координаты суставов для каждого кадра\n",
    "        corrected_coords = correct_joint_coordinates(joint_coords, mean_optical_flow)\n",
    "        corrected_joint_coords_all_frames.append(corrected_coords)\n",
    "\n",
    "    return np.array(corrected_joint_coords_all_frames)"
   ]
  },
  {
   "cell_type": "markdown",
   "id": "9f1f361b",
   "metadata": {
    "papermill": {
     "duration": 0.017419,
     "end_time": "2024-11-03T19:10:41.188107",
     "exception": false,
     "start_time": "2024-11-03T19:10:41.170688",
     "status": "completed"
    },
    "tags": []
   },
   "source": [
    "### Функции визуализации"
   ]
  },
  {
   "cell_type": "code",
   "execution_count": 35,
   "id": "bc16a8c6",
   "metadata": {
    "execution": {
     "iopub.execute_input": "2024-11-03T19:10:41.225702Z",
     "iopub.status.busy": "2024-11-03T19:10:41.224778Z",
     "iopub.status.idle": "2024-11-03T19:10:41.231572Z",
     "shell.execute_reply": "2024-11-03T19:10:41.230564Z"
    },
    "papermill": {
     "duration": 0.027765,
     "end_time": "2024-11-03T19:10:41.233642",
     "exception": false,
     "start_time": "2024-11-03T19:10:41.205877",
     "status": "completed"
    },
    "tags": []
   },
   "outputs": [],
   "source": [
    "def get_sportsmen_center(landmarks_data, image_shape):\n",
    "    width, height = image_shape\n",
    "\n",
    "    # Преобразуем координаты из диапазона [0, 1] в реальные координаты на изображении\n",
    "    scaled_landmarks = landmarks_data.copy()\n",
    "    scaled_landmarks[:, :, 0] *= width  # Масштабируем x координаты\n",
    "    scaled_landmarks[:, :, 1] *= height  # Масштабируем y координаты\n",
    "\n",
    "    # Координаты бедер (строки 23 и 24)\n",
    "    left_hip = scaled_landmarks[:, 23]  # Левая бедренная кость\n",
    "    right_hip = scaled_landmarks[:, 24]  # Правая бедренная кость\n",
    "\n",
    "    # Находим координаты середины между бедрами\n",
    "    center_x = (left_hip[:, 0] + right_hip[:, 0]) / 2  # Среднее по оси x\n",
    "    center_y = (left_hip[:, 1] + right_hip[:, 1]) / 2  # Среднее по оси y\n",
    "\n",
    "    # Возвращаем координаты центра\n",
    "    return center_x, center_y\n"
   ]
  },
  {
   "cell_type": "code",
   "execution_count": 36,
   "id": "587236bf",
   "metadata": {
    "execution": {
     "iopub.execute_input": "2024-11-03T19:10:41.270763Z",
     "iopub.status.busy": "2024-11-03T19:10:41.270048Z",
     "iopub.status.idle": "2024-11-03T19:10:41.275954Z",
     "shell.execute_reply": "2024-11-03T19:10:41.275014Z"
    },
    "papermill": {
     "duration": 0.026656,
     "end_time": "2024-11-03T19:10:41.278019",
     "exception": false,
     "start_time": "2024-11-03T19:10:41.251363",
     "status": "completed"
    },
    "tags": []
   },
   "outputs": [],
   "source": [
    "def draw_landmarks(image, landmarks):\n",
    "    image_with_landmarks = image.copy()\n",
    "    height, width = image_with_landmarks.shape[:2]\n",
    "\n",
    "    for x, y, _ in landmarks:\n",
    "        # Преобразуем координаты x, y из диапазона [0, 1] в пиксельные координаты\n",
    "        x_pixel = int(x * width)\n",
    "        y_pixel = int(y * height)\n",
    "        # Рисуем круг для каждого ключевого кадра\n",
    "        cv2.circle(image_with_landmarks, (x_pixel, y_pixel), 5, (0, 255, 0), -1)\n",
    "\n",
    "    return image_with_landmarks"
   ]
  },
  {
   "cell_type": "code",
   "execution_count": 37,
   "id": "10087c26",
   "metadata": {
    "execution": {
     "iopub.execute_input": "2024-11-03T19:10:41.315244Z",
     "iopub.status.busy": "2024-11-03T19:10:41.314337Z",
     "iopub.status.idle": "2024-11-03T19:10:41.320863Z",
     "shell.execute_reply": "2024-11-03T19:10:41.319878Z"
    },
    "papermill": {
     "duration": 0.027002,
     "end_time": "2024-11-03T19:10:41.322749",
     "exception": false,
     "start_time": "2024-11-03T19:10:41.295747",
     "status": "completed"
    },
    "tags": []
   },
   "outputs": [],
   "source": [
    "def draw_center(image, center_x, center_y, size=25, color=(255, 255, 255)):\n",
    "    \"\"\"Рисует центр между бедрами на изображении.\"\"\"\n",
    "    # Копируем изображение, чтобы не изменять оригинал\n",
    "    image_with_cross = image.copy()\n",
    "    \n",
    "    # Преобразуем координаты в целочисленные значения для рисования\n",
    "    center_x = int(center_x)\n",
    "    center_y = int(center_y)\n",
    "    \n",
    "    # Рисуем синий крест\n",
    "    cv2.line(image_with_cross, (center_x - size, center_y), (center_x + size, center_y), color, 7)  # Горизонтальная линия\n",
    "    cv2.line(image_with_cross, (center_x, center_y - size), (center_x, center_y + size), color, 7)  # Вертикальная линия\n",
    "    \n",
    "    return image_with_cross"
   ]
  },
  {
   "cell_type": "code",
   "execution_count": 38,
   "id": "c9a84d46",
   "metadata": {
    "execution": {
     "iopub.execute_input": "2024-11-03T19:10:41.360089Z",
     "iopub.status.busy": "2024-11-03T19:10:41.359555Z",
     "iopub.status.idle": "2024-11-03T19:10:41.368901Z",
     "shell.execute_reply": "2024-11-03T19:10:41.367919Z"
    },
    "papermill": {
     "duration": 0.030322,
     "end_time": "2024-11-03T19:10:41.370992",
     "exception": false,
     "start_time": "2024-11-03T19:10:41.340670",
     "status": "completed"
    },
    "tags": []
   },
   "outputs": [],
   "source": [
    "# Функция для визуализации оптического потока\n",
    "def visualize_flow_2(flow):\n",
    "    \"\"\"Визуализация оптического потока\"\"\"\n",
    "    # Добавляем измерение для батча (N=1)\n",
    "    flow = torch.tensor(flow, dtype=torch.float32).unsqueeze(0)  # Теперь форма будет (1, 2, H, W)\n",
    "\n",
    "    # Преобразуем оптический поток в изображение\n",
    "    flow_image = flow_to_image(flow)\n",
    "\n",
    "    # Преобразуем тензор в формат numpy для визуализации\n",
    "    flow_image_np = flow_image.squeeze(0).permute(1, 2, 0).cpu().numpy()\n",
    "\n",
    "    return flow_image_np  # Возвращаем изображение для дальнейшей обработки\n",
    "\n",
    "def visualize_flow(flow, step=4, scale=1):\n",
    "    \"\"\"Визуализация оптического потока с усилением векторов и возвращение изображения.\"\"\"\n",
    "    h, w = flow.shape[:2]\n",
    "    y, x = (\n",
    "        np.mgrid[step // 2 : h : step, step // 2 : w : step].reshape(2, -1).astype(int)\n",
    "    )\n",
    "    fx, fy = flow[y, x].T\n",
    "\n",
    "    # Создаем пустое изображение с фоном и стрелками\n",
    "    fig, ax = plt.subplots(figsize=(5, 5))\n",
    "    ax.imshow(np.zeros((h, w)), cmap=\"gray\")  # Фон изображения\n",
    "\n",
    "    # Увеличиваем масштаб стрелок для наглядности\n",
    "    ax.quiver(x, y, fx, fy, color=\"r\", angles=\"xy\", scale_units=\"xy\", scale=scale)\n",
    "    ax.axis(\"off\")\n",
    "    \n",
    "    # Сохраняем изображение в буфер\n",
    "    buf = io.BytesIO()\n",
    "    plt.savefig(buf, format='png')\n",
    "    plt.close(fig)\n",
    "    buf.seek(0)\n",
    "\n",
    "    # Преобразуем буфер в изображение формата PIL, а затем в NumPy\n",
    "    img = Image.open(buf)\n",
    "    img_np = np.array(img)\n",
    "\n",
    "    return img_np  # Возвращаем изображение в формате NumPy"
   ]
  },
  {
   "cell_type": "code",
   "execution_count": 39,
   "id": "ee077210",
   "metadata": {
    "execution": {
     "iopub.execute_input": "2024-11-03T19:10:41.408166Z",
     "iopub.status.busy": "2024-11-03T19:10:41.407474Z",
     "iopub.status.idle": "2024-11-03T19:10:41.413139Z",
     "shell.execute_reply": "2024-11-03T19:10:41.411946Z"
    },
    "papermill": {
     "duration": 0.026581,
     "end_time": "2024-11-03T19:10:41.415308",
     "exception": false,
     "start_time": "2024-11-03T19:10:41.388727",
     "status": "completed"
    },
    "tags": []
   },
   "outputs": [],
   "source": [
    "def draw_crop_area(image, crop_area):\n",
    "    min_x, min_y, max_x, max_y = crop_area\n",
    "    # Копируем изображение, чтобы не изменять исходное\n",
    "    image_with_box = image.copy()\n",
    "    # Рисуем прямоугольник по координатам crop_area\n",
    "    cv2.rectangle(image_with_box, (min_x, min_y), (max_x, max_y), (255, 255, 255), 5) \n",
    "    return image_with_box"
   ]
  },
  {
   "cell_type": "markdown",
   "id": "47616c36",
   "metadata": {
    "papermill": {
     "duration": 0.018189,
     "end_time": "2024-11-03T19:10:41.451150",
     "exception": false,
     "start_time": "2024-11-03T19:10:41.432961",
     "status": "completed"
    },
    "tags": []
   },
   "source": [
    "#### Векторы оптического потока суставов"
   ]
  },
  {
   "cell_type": "code",
   "execution_count": 40,
   "id": "43df4702",
   "metadata": {
    "execution": {
     "iopub.execute_input": "2024-11-03T19:10:41.489472Z",
     "iopub.status.busy": "2024-11-03T19:10:41.488443Z",
     "iopub.status.idle": "2024-11-03T19:10:41.497713Z",
     "shell.execute_reply": "2024-11-03T19:10:41.496623Z"
    },
    "papermill": {
     "duration": 0.030655,
     "end_time": "2024-11-03T19:10:41.499845",
     "exception": false,
     "start_time": "2024-11-03T19:10:41.469190",
     "status": "completed"
    },
    "tags": []
   },
   "outputs": [],
   "source": [
    "def draw_skeleton_optical_flow_arrows(image, landmarks, optical_flow, color=(255, 0, 0), scale=1, tip_length=0.15):\n",
    "    \"\"\"\n",
    "    Рисует стрелки, представляющие векторы оптического потока для всех суставов на изображении.\n",
    "    \n",
    "    Args:\n",
    "        image: изображение, на котором рисуются стрелки.\n",
    "        landmarks: массив координат суставов (shape: [33, 2]), представляющий (x_pixel, y_pixel) координаты.\n",
    "        optical_flow: оптический поток (shape: [2, H, W]), содержащий компоненты потока по x_pixel и y_pixel.\n",
    "        color: цвет стрелок.\n",
    "        scale: коэффициент масштабирования для увеличения длины стрелок.\n",
    "    \"\"\"\n",
    "    image_with_arrows = image.copy()\n",
    "    \n",
    "    for joint in range(landmarks.shape[0]):\n",
    "        x, y, _ = landmarks[joint]\n",
    "        # Преобразуем координаты x_pixel, y_pixel из диапазона [0, 1] в пиксельные координаты\n",
    "        x_pixel = int(x * image.shape[1])\n",
    "        y_pixel = int(y * image.shape[0])\n",
    "        # Проверяем, что координаты не выходят за пределы изображения и не равны нулю (паддинг)\n",
    "        if 0 <= x_pixel < image.shape[1] and 0 <= y_pixel < image.shape[0] and x_pixel > 0 and y_pixel > 0:\n",
    "            flow_x = optical_flow[0, int(y_pixel), int(x_pixel)]\n",
    "            flow_y = optical_flow[1, int(y_pixel), int(x_pixel)]\n",
    "            \n",
    "            # Конечные координаты вектора с учетом масштаба\n",
    "            end_x = int(x_pixel + flow_x * scale)\n",
    "            end_y = int(y_pixel + flow_y * scale)\n",
    "            \n",
    "            # Рисуем стрелку от сустава до конечной точки\n",
    "            cv2.arrowedLine(image_with_arrows, (int(x_pixel), int(y_pixel)), (end_x, end_y), color, 2, tipLength=tip_length)\n",
    "    \n",
    "    return image_with_arrows"
   ]
  },
  {
   "cell_type": "markdown",
   "id": "6d725c33",
   "metadata": {
    "papermill": {
     "duration": 0.017642,
     "end_time": "2024-11-03T19:10:41.535297",
     "exception": false,
     "start_time": "2024-11-03T19:10:41.517655",
     "status": "completed"
    },
    "tags": []
   },
   "source": [
    "#### Вектор среднего оптического потока"
   ]
  },
  {
   "cell_type": "code",
   "execution_count": 41,
   "id": "55c2eaa3",
   "metadata": {
    "execution": {
     "iopub.execute_input": "2024-11-03T19:10:41.573110Z",
     "iopub.status.busy": "2024-11-03T19:10:41.572672Z",
     "iopub.status.idle": "2024-11-03T19:10:41.579794Z",
     "shell.execute_reply": "2024-11-03T19:10:41.578725Z"
    },
    "papermill": {
     "duration": 0.028398,
     "end_time": "2024-11-03T19:10:41.581935",
     "exception": false,
     "start_time": "2024-11-03T19:10:41.553537",
     "status": "completed"
    },
    "tags": []
   },
   "outputs": [],
   "source": [
    "def draw_mean_optical_flow_arrows(image, center_x, center_y, flow_x, flow_y, color=(0, 255, 0), scale=1, tip_length=0.15):\n",
    "    \"\"\"\n",
    "    Рисует стрелку, представляющую вектор оптического потока, в точке (center_x, center_y).\n",
    "    \n",
    "    Args:\n",
    "        image: изображение, на котором рисуется стрелка.\n",
    "        center_x, center_y: координаты точки, в которой рисуется вектор потока.\n",
    "        flow_x, flow_y: компоненты вектора оптического потока.\n",
    "        color: цвет стрелки.\n",
    "        scale: коэффициент масштабирования для увеличения длины стрелки.\n",
    "    \"\"\"\n",
    "    image_with_arrow = image.copy()\n",
    "    \n",
    "    # print(f\"{center_x=}\")\n",
    "    # print(f\"{center_y=}\")\n",
    "    # print(f\"{np.any(np.isnan(flow_x))=}\")\n",
    "    # print(f\"{np.any(np.isnan(flow_y))=}\")\n",
    "    \n",
    "    # Конечные координаты вектора с учетом масштаба\n",
    "    end_x = int(center_x + flow_x * scale)\n",
    "    end_y = int(center_y + flow_y * scale)\n",
    "    \n",
    "    # Рисуем стрелку от центра до конечной точки\n",
    "    cv2.arrowedLine(image_with_arrow, (int(center_x), int(center_y)), (end_x, end_y), color, 2, tipLength=tip_length)\n",
    "    \n",
    "    return image_with_arrow"
   ]
  },
  {
   "cell_type": "markdown",
   "id": "744f974a",
   "metadata": {
    "papermill": {
     "duration": 0.017799,
     "end_time": "2024-11-03T19:10:41.617383",
     "exception": false,
     "start_time": "2024-11-03T19:10:41.599584",
     "status": "completed"
    },
    "tags": []
   },
   "source": [
    "#### Анимация общего оптического потока"
   ]
  },
  {
   "cell_type": "code",
   "execution_count": 42,
   "id": "394b8119",
   "metadata": {
    "execution": {
     "iopub.execute_input": "2024-11-03T19:10:41.654640Z",
     "iopub.status.busy": "2024-11-03T19:10:41.653670Z",
     "iopub.status.idle": "2024-11-03T19:10:41.665865Z",
     "shell.execute_reply": "2024-11-03T19:10:41.665105Z"
    },
    "papermill": {
     "duration": 0.033091,
     "end_time": "2024-11-03T19:10:41.667993",
     "exception": false,
     "start_time": "2024-11-03T19:10:41.634902",
     "status": "completed"
    },
    "tags": []
   },
   "outputs": [],
   "source": [
    "import matplotlib.animation as animation\n",
    "from matplotlib import pyplot as plt\n",
    "\n",
    "def create_animation(frames, corrected_flows, center_x, center_y, save_path, name):\n",
    "    fig, ax = plt.subplots(figsize=(6, 6))\n",
    "\n",
    "    def update(frame_idx):\n",
    "        ax.clear()\n",
    "        frame = frames[frame_idx]\n",
    "        flow_x = corrected_flows[frame_idx][0]\n",
    "        flow_y = corrected_flows[frame_idx][1]\n",
    "\n",
    "        image_with_corrected_arrow = draw_mean_optical_flow_arrows(\n",
    "            frame,\n",
    "            center_x[frame_idx],\n",
    "            center_y[frame_idx],\n",
    "            flow_x,\n",
    "            flow_y,\n",
    "            color=(0, 255, 0),  # Зеленая стрелка для скорректированного потока\n",
    "            scale=5\n",
    "        )\n",
    "\n",
    "        ax.imshow(cv2.cvtColor(image_with_corrected_arrow, cv2.COLOR_BGR2RGB))\n",
    "        ax.set_title(f\"{name} (Frame {frame_idx})\")\n",
    "        ax.axis(\"off\")\n",
    "\n",
    "    ani = animation.FuncAnimation(fig, update, frames=len(frames), interval=1000)\n",
    "\n",
    "    # Сохраняем анимацию как GIF\n",
    "    ani.save(save_path, writer='pillow', fps=5)\n",
    "    plt.close()\n"
   ]
  },
  {
   "cell_type": "markdown",
   "id": "e1487a1e",
   "metadata": {
    "papermill": {
     "duration": 0.017102,
     "end_time": "2024-11-03T19:10:41.702985",
     "exception": false,
     "start_time": "2024-11-03T19:10:41.685883",
     "status": "completed"
    },
    "tags": []
   },
   "source": [
    "#### Анимация оптического потока скелета"
   ]
  },
  {
   "cell_type": "code",
   "execution_count": 43,
   "id": "7164f74f",
   "metadata": {
    "execution": {
     "iopub.execute_input": "2024-11-03T19:10:41.739922Z",
     "iopub.status.busy": "2024-11-03T19:10:41.739198Z",
     "iopub.status.idle": "2024-11-03T19:10:41.747044Z",
     "shell.execute_reply": "2024-11-03T19:10:41.746034Z"
    },
    "papermill": {
     "duration": 0.028697,
     "end_time": "2024-11-03T19:10:41.749041",
     "exception": false,
     "start_time": "2024-11-03T19:10:41.720344",
     "status": "completed"
    },
    "tags": []
   },
   "outputs": [],
   "source": [
    "def create_skeleton_flow_animation(frames, corrected_flows, landmarks_data, save_path, name):\n",
    "    \"\"\"\n",
    "    Создает анимацию, отображающую векторы оптического потока для всех суставов скелета в каждом кадре.\n",
    "\n",
    "    Args:\n",
    "        frames: Массив изображений для отображения.\n",
    "        corrected_flows: Массив скорректированных оптических потоков формы (num_frames, 2, H, W).\n",
    "        landmarks_data: Массив координат суставов формы (num_frames, num_landmarks, 3).\n",
    "        save_path: Путь для сохранения анимации.\n",
    "        name: Название анимации.\n",
    "    \"\"\"\n",
    "    fig, ax = plt.subplots(figsize=(6, 6))\n",
    "\n",
    "    def update(frame_idx):\n",
    "        ax.clear()\n",
    "        frame = frames[frame_idx]\n",
    "        # flow_x = corrected_flows[frame_idx][0]\n",
    "        # flow_y = corrected_flows[frame_idx][1]\n",
    "        # landmarks = landmarks_data[frame_idx]\n",
    "\n",
    "        # Копируем изображение для рисования стрелок\n",
    "        image_with_arrows = draw_skeleton_optical_flow_arrows(frame.copy(), landmarks_data[frame_idx], corrected_flows[frame_idx])\n",
    "        ax.imshow(cv2.cvtColor(image_with_arrows, cv2.COLOR_BGR2RGB))\n",
    "        ax.set_title(f\"{name} (Frame {frame_idx})\")\n",
    "        ax.axis(\"off\")\n",
    "\n",
    "    ani = animation.FuncAnimation(fig, update, frames=len(frames), interval=1000)\n",
    "\n",
    "    # Сохраняем анимацию как GIF\n",
    "    ani.save(save_path, writer='pillow', fps=5)\n",
    "    plt.close()"
   ]
  },
  {
   "cell_type": "code",
   "execution_count": 44,
   "id": "766e4085",
   "metadata": {
    "execution": {
     "iopub.execute_input": "2024-11-03T19:10:41.786186Z",
     "iopub.status.busy": "2024-11-03T19:10:41.785289Z",
     "iopub.status.idle": "2024-11-03T19:10:41.795085Z",
     "shell.execute_reply": "2024-11-03T19:10:41.794125Z"
    },
    "papermill": {
     "duration": 0.030358,
     "end_time": "2024-11-03T19:10:41.796996",
     "exception": false,
     "start_time": "2024-11-03T19:10:41.766638",
     "status": "completed"
    },
    "tags": []
   },
   "outputs": [],
   "source": [
    "def create_skeleton_flow_animation2(frames, corrected_flows, landmarks_data, save_path, name):\n",
    "    \"\"\"\n",
    "    Создает анимацию, отображающую векторы оптического потока для всех суставов скелета в каждом кадре.\n",
    "\n",
    "    Args:\n",
    "        frames: Массив изображений для отображения.\n",
    "        corrected_flows: Массив скорректированных оптических потоков формы (num_frames, 2, H, W).\n",
    "        landmarks_data: Массив координат суставов формы (num_frames, num_landmarks, 3).\n",
    "        save_path: Путь для сохранения анимации.\n",
    "        name: Название анимации.\n",
    "    \"\"\"\n",
    "    fig, ax = plt.subplots(figsize=(6, 6))\n",
    "\n",
    "    def update(frame_idx):\n",
    "        ax.clear()\n",
    "        frame = frames[frame_idx]\n",
    "        flow_x = corrected_flows[frame_idx]\n",
    "        flow_y = corrected_flows[frame_idx]\n",
    "        landmarks = landmarks_data[frame_idx]\n",
    "\n",
    "        image_with_arrows = frame.copy()\n",
    "\n",
    "        # Проходим по каждому суставу и рисуем векторы оптического потока\n",
    "        for i, landmark in enumerate(landmarks):\n",
    "            x, y = int(landmark[0] * frame.shape[1]), int(landmark[1] * frame.shape[0])  # Преобразуем координаты в пиксели\n",
    "            if 0 <= x < frame.shape[1] and 0 <= y < frame.shape[0]:\n",
    "                flow_at_joint_x = flow_x[i][0]\n",
    "                flow_at_joint_y = flow_y[i][1]\n",
    "                image_with_arrows = draw_mean_optical_flow_arrows(image_with_arrows, x, y, flow_at_joint_x, flow_at_joint_y, color=(0, 255, 0), scale=5)\n",
    "\n",
    "        ax.imshow(cv2.cvtColor(image_with_arrows, cv2.COLOR_BGR2RGB))\n",
    "        ax.set_title(f\"{name} (Frame {frame_idx})\")\n",
    "        ax.axis(\"off\")\n",
    "\n",
    "    ani = animation.FuncAnimation(fig, update, frames=len(frames), interval=1000)\n",
    "\n",
    "    # Сохраняем анимацию как GIF\n",
    "    ani.save(save_path, writer='pillow', fps=5)\n",
    "    plt.close()"
   ]
  },
  {
   "cell_type": "markdown",
   "id": "1c8f0319",
   "metadata": {
    "papermill": {
     "duration": 0.017283,
     "end_time": "2024-11-03T19:10:41.831792",
     "exception": false,
     "start_time": "2024-11-03T19:10:41.814509",
     "status": "completed"
    },
    "tags": []
   },
   "source": [
    "#### Скелет"
   ]
  },
  {
   "cell_type": "code",
   "execution_count": 45,
   "id": "0140d6dd",
   "metadata": {
    "execution": {
     "iopub.execute_input": "2024-11-03T19:10:41.868669Z",
     "iopub.status.busy": "2024-11-03T19:10:41.867776Z",
     "iopub.status.idle": "2024-11-03T19:10:41.874990Z",
     "shell.execute_reply": "2024-11-03T19:10:41.874051Z"
    },
    "papermill": {
     "duration": 0.027738,
     "end_time": "2024-11-03T19:10:41.877087",
     "exception": false,
     "start_time": "2024-11-03T19:10:41.849349",
     "status": "completed"
    },
    "tags": []
   },
   "outputs": [],
   "source": [
    "# Определение связей между суставами (индексы)\n",
    "skeleton_connections = [\n",
    "    (0, 2),\n",
    "    (0, 5),\n",
    "    (2, 7),\n",
    "    (5, 8),\n",
    "    (5, 4),\n",
    "    (5, 6),\n",
    "    (2, 1),\n",
    "    (2, 3),\n",
    "    (10, 9),\n",
    "    (11, 12),\n",
    "    (12, 14),\n",
    "    (14, 16),\n",
    "    (16, 22),\n",
    "    (16, 20),\n",
    "    (20, 18),\n",
    "    (18, 16),\n",
    "    (11, 13),\n",
    "    (13, 15),\n",
    "    (15, 21),\n",
    "    (15, 19),\n",
    "    (19, 17),\n",
    "    (17, 15),\n",
    "    (12, 24),\n",
    "    (11, 23),\n",
    "    (23, 24),\n",
    "    (24, 26),\n",
    "    (26, 28),\n",
    "    (28, 30),\n",
    "    (30, 32),\n",
    "    (32, 28),\n",
    "    (23, 25),\n",
    "    (25, 27),\n",
    "    (27, 29),\n",
    "    (29, 31),\n",
    "    (31, 27),\n",
    "]"
   ]
  },
  {
   "cell_type": "code",
   "execution_count": 46,
   "id": "71621beb",
   "metadata": {
    "execution": {
     "iopub.execute_input": "2024-11-03T19:10:41.913724Z",
     "iopub.status.busy": "2024-11-03T19:10:41.913314Z",
     "iopub.status.idle": "2024-11-03T19:10:41.921348Z",
     "shell.execute_reply": "2024-11-03T19:10:41.920439Z"
    },
    "papermill": {
     "duration": 0.028641,
     "end_time": "2024-11-03T19:10:41.923263",
     "exception": false,
     "start_time": "2024-11-03T19:10:41.894622",
     "status": "completed"
    },
    "tags": []
   },
   "outputs": [],
   "source": [
    "def visualize_world_landmarks_2d(world_landmarks, frame_idx, ax=None):\n",
    "    \"\"\"Визуализация мировых координат в 2D (только x и y) для кадра с соединениями суставов.\"\"\"\n",
    "    if ax is None:\n",
    "        fig, ax = plt.subplots(figsize=(8, 8))\n",
    "    \n",
    "    # Получаем координаты x и y для всех точек скелета\n",
    "    x_coords = world_landmarks[frame_idx, :, 0]\n",
    "    # Инвертируем координаты по оси y\n",
    "    y_coords = -world_landmarks[frame_idx, :, 1]\n",
    "\n",
    "    # Отображаем точки\n",
    "    ax.scatter(x_coords, y_coords, c='r', marker='o')\n",
    "\n",
    "    # Отображаем соединения суставов\n",
    "    for start, end in skeleton_connections:\n",
    "        x_line = [x_coords[start], x_coords[end]]\n",
    "        y_line = [y_coords[start], y_coords[end]]\n",
    "        ax.plot(x_line, y_line, c='b')\n",
    "\n",
    "    # Подписываем оси\n",
    "    ax.set_xlabel('X Coordinate')\n",
    "    ax.set_ylabel('Y Coordinate')\n",
    "    ax.set_title(f'2D World Landmarks (Frame {frame_idx})')\n",
    "\n",
    "    # Устанавливаем лимиты осей для лучшей визуализации\n",
    "    ax.set_xlim([-1,1])\n",
    "    ax.set_ylim([-1,1])\n",
    "    ax.set_aspect('equal', adjustable='box')  # Сохраняем пропорции\n",
    "\n",
    "    return ax\n"
   ]
  },
  {
   "cell_type": "markdown",
   "id": "8ccf91c6",
   "metadata": {
    "papermill": {
     "duration": 0.0172,
     "end_time": "2024-11-03T19:10:41.959347",
     "exception": false,
     "start_time": "2024-11-03T19:10:41.942147",
     "status": "completed"
    },
    "tags": []
   },
   "source": [
    "### Функция формирования полного видео"
   ]
  },
  {
   "cell_type": "code",
   "execution_count": null,
   "id": "d4e62627",
   "metadata": {
    "execution": {
     "iopub.execute_input": "2024-11-03T19:10:41.995971Z",
     "iopub.status.busy": "2024-11-03T19:10:41.995563Z",
     "iopub.status.idle": "2024-11-03T19:10:42.004162Z",
     "shell.execute_reply": "2024-11-03T19:10:42.003165Z"
    },
    "papermill": {
     "duration": 0.029375,
     "end_time": "2024-11-03T19:10:42.006146",
     "exception": false,
     "start_time": "2024-11-03T19:10:41.976771",
     "status": "completed"
    },
    "tags": []
   },
   "outputs": [],
   "source": [
    "def get_combined_data(combined_data, check_result):\n",
    "    # Проходим по элементам исходного словаря\n",
    "    for key, value in check_result.items():\n",
    "        index_video = int(value['index_video'].item())\n",
    "\n",
    "        if index_video not in combined_data:\n",
    "            combined_data[index_video] = {\n",
    "                'num_frames': 0,\n",
    "                'num_sequences': 1,\n",
    "                'skip_frames': value['skip_frames'],\n",
    "                'validation_mask': value['validation_mask'],\n",
    "                'mean_figure_flows': value['mean_figure_flows'],\n",
    "                'flow_at_landmarks': value['flow_at_landmarks'],\n",
    "                'smoothed_mean_figure_flows': value['smoothed_mean_figure_flows'],\n",
    "                'smoothed_flow_at_landmarks': value['smoothed_flow_at_landmarks'],\n",
    "                'landmarks_data': value['landmarks_data'],\n",
    "                'world_landmarks_data': value['world_landmarks_data'],\n",
    "                'corrected_world_landmarks_data': value['corrected_world_landmarks_data'],\n",
    "            }\n",
    "        else:\n",
    "            combined_data[index_video]['num_sequences'] += 1\n",
    "            combined_data[index_video]['validation_mask'] = torch.cat((combined_data[index_video]['validation_mask'], value['validation_mask']))\n",
    "            combined_data[index_video]['mean_figure_flows'] = torch.cat((combined_data[index_video]['mean_figure_flows'], value['mean_figure_flows']))\n",
    "            combined_data[index_video]['flow_at_landmarks'] = torch.cat((combined_data[index_video]['flow_at_landmarks'], value['flow_at_landmarks']))\n",
    "            combined_data[index_video]['smoothed_mean_figure_flows'] = torch.cat((combined_data[index_video]['smoothed_mean_figure_flows'], value['smoothed_mean_figure_flows']))\n",
    "            combined_data[index_video]['smoothed_flow_at_landmarks'] = torch.cat((combined_data[index_video]['smoothed_flow_at_landmarks'], value['smoothed_flow_at_landmarks']))\n",
    "            combined_data[index_video]['landmarks_data'] = torch.cat((combined_data[index_video]['landmarks_data'], value['landmarks_data']))\n",
    "            combined_data[index_video]['world_landmarks_data'] = torch.cat((combined_data[index_video]['world_landmarks_data'], value['world_landmarks_data']))\n",
    "            combined_data[index_video]['corrected_world_landmarks_data'] = torch.cat((combined_data[index_video]['corrected_world_landmarks_data'], value['corrected_world_landmarks_data']))\n",
    "\n",
    "        combined_data[index_video]['num_frames'] = combined_data[index_video]['validation_mask'].shape[0]\n",
    "    \n",
    "    return combined_data"
   ]
  },
  {
   "cell_type": "markdown",
   "id": "0ffa6e9c",
   "metadata": {
    "papermill": {
     "duration": 0.01709,
     "end_time": "2024-11-03T19:10:42.040861",
     "exception": false,
     "start_time": "2024-11-03T19:10:42.023771",
     "status": "completed"
    },
    "tags": []
   },
   "source": [
    "# Формирование датасета для расчета"
   ]
  },
  {
   "cell_type": "markdown",
   "id": "b96db0b8",
   "metadata": {
    "papermill": {
     "duration": 0.017416,
     "end_time": "2024-11-03T19:10:42.075561",
     "exception": false,
     "start_time": "2024-11-03T19:10:42.058145",
     "status": "completed"
    },
    "tags": []
   },
   "source": [
    "Это просто набор видео."
   ]
  },
  {
   "cell_type": "code",
   "execution_count": null,
   "id": "1885425c",
   "metadata": {
    "execution": {
     "iopub.execute_input": "2024-11-03T19:10:42.112372Z",
     "iopub.status.busy": "2024-11-03T19:10:42.111986Z",
     "iopub.status.idle": "2024-11-03T19:10:42.125546Z",
     "shell.execute_reply": "2024-11-03T19:10:42.124530Z"
    },
    "papermill": {
     "duration": 0.03459,
     "end_time": "2024-11-03T19:10:42.127690",
     "exception": false,
     "start_time": "2024-11-03T19:10:42.093100",
     "status": "completed"
    },
    "tags": []
   },
   "outputs": [],
   "source": [
    "class VideoDataset(Dataset):\n",
    "    def __init__(self, video_ids, video_dir, max_length=50, frame_skip=3):\n",
    "        self.video_ids = video_ids\n",
    "        self.video_dir = video_dir\n",
    "        self.max_length = max_length\n",
    "        self.frame_skip = frame_skip\n",
    "        # Словарь для хранения длины каждого видео\n",
    "        self.video_lengths = {}\n",
    "        self.sequence_counts = self._calculate_sequence_counts()\n",
    "\n",
    "    def _calculate_sequence_counts(self):\n",
    "        sequence_counts = []\n",
    "        for video_id in self.video_ids:\n",
    "            video_path = f\"{self.video_dir}/{video_id}.mp4\"\n",
    "            cap = cv2.VideoCapture(video_path)\n",
    "            num_frames = int(cap.get(cv2.CAP_PROP_FRAME_COUNT))\n",
    "\n",
    "            # Рассчитываем количество последовательностей, которые можно извлечь из этого видео\n",
    "            num_sequences = max(0, (num_frames + self.max_length - 1) // self.max_length)\n",
    "            num_sequences = max(0, -(-num_frames // self.max_length))\n",
    "\n",
    "            # Проверим, если ли в последней последовательности хотя бы один подходящий кадр\n",
    "            if not any(frame % self.frame_skip == 0 for frame in list(range((num_sequences-1)*self.max_length, num_frames))):\n",
    "                num_sequences = num_sequences - 1\n",
    "                \n",
    "            # Сохраняем длину видео в словарь\n",
    "            self.video_lengths[video_id] = (\n",
    "                num_frames,\n",
    "                sum(sequence_counts),\n",
    "                num_sequences,\n",
    "            )\n",
    "            sequence_counts.append(num_sequences)\n",
    "        return sequence_counts\n",
    "\n",
    "    def __len__(self):\n",
    "        # Общее количество последовательностей во всех видео\n",
    "        return sum(self.sequence_counts)\n",
    "\n",
    "    def __getitem__(self, idx):\n",
    "        # Находим к какому видео относится индекс и какая последовательность\n",
    "        cumulative_count = 0\n",
    "        video_index = 0\n",
    "\n",
    "        while idx >= cumulative_count + self.sequence_counts[video_index]:\n",
    "            cumulative_count += self.sequence_counts[video_index]\n",
    "            video_index += 1\n",
    "\n",
    "        video_path = f\"{self.video_dir}/{self.video_ids[video_index]}.mp4\"\n",
    "        sequence_number = idx - cumulative_count\n",
    "\n",
    "        cap = cv2.VideoCapture(video_path)\n",
    "        num_frames = int(cap.get(cv2.CAP_PROP_FRAME_COUNT))\n",
    "        # Устанавливаем позицию в видео на начало последовательности\n",
    "        start_frame = sequence_number * self.max_length\n",
    "        end_frame = min((sequence_number + 1) * self.max_length, num_frames)\n",
    "        \n",
    "        cap.set(cv2.CAP_PROP_POS_FRAMES, start_frame)\n",
    "        # Считываем кадры последовательности\n",
    "        frames = []\n",
    "        # for i in range(self.max_length):\n",
    "        for i in range(start_frame, end_frame):\n",
    "            # Пропускаем кадры, чтобы извлекать не каждый\n",
    "            if i % self.frame_skip != 0:\n",
    "                cap.grab()\n",
    "                continue\n",
    "\n",
    "            ret, frame = cap.read()\n",
    "            if not ret:\n",
    "                break\n",
    "            frames.append(frame)\n",
    "\n",
    "        # Добавляем один дополнительный кадр (будет использован только для расчет оптического потока)\n",
    "        ret, frame = cap.read()\n",
    "        if ret:\n",
    "            frames.append(frame)\n",
    "\n",
    "        cap.release()\n",
    "\n",
    "        # Преобразуем список кадров в массив\n",
    "        frames_array = np.array(frames)\n",
    "\n",
    "        return (\n",
    "            self.video_ids[video_index],\n",
    "            sequence_number,\n",
    "            start_frame,\n",
    "            frames_array.shape[0],\n",
    "            self.frame_skip,\n",
    "            frames_array.shape[1],\n",
    "            frames_array.shape[2],\n",
    "            frames_array,\n",
    "        )"
   ]
  },
  {
   "cell_type": "markdown",
   "id": "a455c591",
   "metadata": {
    "papermill": {
     "duration": 0.017359,
     "end_time": "2024-11-03T19:10:42.162725",
     "exception": false,
     "start_time": "2024-11-03T19:10:42.145366",
     "status": "completed"
    },
    "tags": []
   },
   "source": [
    "# Перечни видео, используемые для работы"
   ]
  },
  {
   "cell_type": "code",
   "execution_count": 49,
   "id": "49268a03",
   "metadata": {
    "execution": {
     "iopub.execute_input": "2024-11-03T19:10:42.199316Z",
     "iopub.status.busy": "2024-11-03T19:10:42.198909Z",
     "iopub.status.idle": "2024-11-03T19:10:42.203487Z",
     "shell.execute_reply": "2024-11-03T19:10:42.202503Z"
    },
    "papermill": {
     "duration": 0.025347,
     "end_time": "2024-11-03T19:10:42.205497",
     "exception": false,
     "start_time": "2024-11-03T19:10:42.180150",
     "status": "completed"
    },
    "tags": []
   },
   "outputs": [],
   "source": [
    "train_video = list(range(0, 200))"
   ]
  },
  {
   "cell_type": "code",
   "execution_count": 50,
   "id": "942028e6",
   "metadata": {
    "execution": {
     "iopub.execute_input": "2024-11-03T19:10:42.242781Z",
     "iopub.status.busy": "2024-11-03T19:10:42.242383Z",
     "iopub.status.idle": "2024-11-03T19:10:42.711829Z",
     "shell.execute_reply": "2024-11-03T19:10:42.710645Z"
    },
    "papermill": {
     "duration": 0.491397,
     "end_time": "2024-11-03T19:10:42.714378",
     "exception": false,
     "start_time": "2024-11-03T19:10:42.222981",
     "status": "completed"
    },
    "tags": []
   },
   "outputs": [],
   "source": [
    "if kaggle:\n",
    "    # video_dir = \"/kaggle/input/figure-skating-video-analysis/video/video\"\n",
    "    video_dir = \"/kaggle/input/fsva-custom-data\"\n",
    "else:\n",
    "    video_dir = \"../../../data/video/\"\n",
    "max_length = 50\n",
    "frame_skip = 3\n",
    "\n",
    "train_dataset = VideoDataset(train_video, video_dir, max_length, frame_skip)"
   ]
  },
  {
   "cell_type": "markdown",
   "id": "ef27a751",
   "metadata": {
    "papermill": {
     "duration": 0.017383,
     "end_time": "2024-11-03T19:10:42.751562",
     "exception": false,
     "start_time": "2024-11-03T19:10:42.734179",
     "status": "completed"
    },
    "tags": []
   },
   "source": [
    "### Создание DataLoader"
   ]
  },
  {
   "cell_type": "code",
   "execution_count": 51,
   "id": "ec61f2d4",
   "metadata": {
    "execution": {
     "iopub.execute_input": "2024-11-03T19:10:42.788120Z",
     "iopub.status.busy": "2024-11-03T19:10:42.787702Z",
     "iopub.status.idle": "2024-11-03T19:10:42.792818Z",
     "shell.execute_reply": "2024-11-03T19:10:42.791848Z"
    },
    "papermill": {
     "duration": 0.025847,
     "end_time": "2024-11-03T19:10:42.794835",
     "exception": false,
     "start_time": "2024-11-03T19:10:42.768988",
     "status": "completed"
    },
    "tags": []
   },
   "outputs": [],
   "source": [
    "batch_size = 1\n",
    "random_seed = 50\n",
    "\n",
    "train_videoloader = DataLoader(train_dataset, batch_size=batch_size, shuffle=False)"
   ]
  },
  {
   "cell_type": "markdown",
   "id": "1e2c98f9",
   "metadata": {
    "papermill": {
     "duration": 0.021498,
     "end_time": "2024-11-03T19:10:42.833917",
     "exception": false,
     "start_time": "2024-11-03T19:10:42.812419",
     "status": "completed"
    },
    "tags": []
   },
   "source": [
    "# Функции обработки видео"
   ]
  },
  {
   "cell_type": "markdown",
   "id": "7d086b64",
   "metadata": {
    "papermill": {
     "duration": 0.021126,
     "end_time": "2024-11-03T19:10:42.878324",
     "exception": false,
     "start_time": "2024-11-03T19:10:42.857198",
     "status": "completed"
    },
    "tags": []
   },
   "source": [
    "## \"Новый\" вариант"
   ]
  },
  {
   "cell_type": "code",
   "execution_count": null,
   "id": "be20c496",
   "metadata": {
    "execution": {
     "iopub.execute_input": "2024-11-03T19:10:42.921407Z",
     "iopub.status.busy": "2024-11-03T19:10:42.920966Z",
     "iopub.status.idle": "2024-11-03T19:10:42.966367Z",
     "shell.execute_reply": "2024-11-03T19:10:42.965478Z"
    },
    "papermill": {
     "duration": 0.067794,
     "end_time": "2024-11-03T19:10:42.968618",
     "exception": false,
     "start_time": "2024-11-03T19:10:42.900824",
     "status": "completed"
    },
    "tags": []
   },
   "outputs": [],
   "source": [
    "def process_videos(\n",
    "    dataloader,\n",
    "    result_cache,\n",
    "    result,\n",
    "    device,\n",
    "    mode,\n",
    "    random_seed=50,\n",
    "    pass_until=0,\n",
    "    stop_time=10000,\n",
    "    show=True,\n",
    "    show_frames=None,\n",
    "    target_size=None,\n",
    "    scale_arrow=1,\n",
    "    scale_factor=1.0,\n",
    "    padding=100,\n",
    "):\n",
    "    # Устанавливаем фиксированный seed\n",
    "    set_seed(random_seed)\n",
    "    start_process_time = time.time()\n",
    "    for k, batch in enumerate(dataloader):\n",
    "        fragments = list(zip(*batch))\n",
    "        try:\n",
    "            if k < pass_until:\n",
    "                continue\n",
    "            start_calculating_time = time.time()\n",
    "            for fragment_idx, fragment in enumerate(fragments):\n",
    "                print(f\"Fragment: {k * len(fragments) + fragment_idx} from {len(dataloader)}, mode: '{mode}'\")\n",
    "\n",
    "                key = (\n",
    "                    # Номер видео\n",
    "                    int(fragment[0]),\n",
    "                    # Начальный кадр\n",
    "                    int(fragment[3]),\n",
    "                    # Количество кадров\n",
    "                    int(fragment[2]),\n",
    "                    # Количество пропусков кадров\n",
    "                    int(fragment[4]),\n",
    "                )\n",
    "                hash_key = get_hash_key(key)\n",
    "                if show:\n",
    "                    print(hash_key)\n",
    "\n",
    "                # Если для данного видео нет рассчитанных данных, то считаем\n",
    "                if hash_key not in result_cache:\n",
    "                    frames_array = fragment[7].numpy()\n",
    "                    num_frames = int(fragment[3])                    \n",
    "                    height = int(fragment[5])\n",
    "                    width = int(fragment[6])\n",
    "\n",
    "                    if show:\n",
    "                        if show_frames is not None:\n",
    "                            show_frames = [x for num in show_frames for x in (num, num + 1)]\n",
    "                        else:\n",
    "                            show_frames = [0, num_frames-2]\n",
    "\n",
    "                    if show:\n",
    "                        print(\"Calculating...\")\n",
    "\n",
    "                    start_landmarks_time = time.time()\n",
    "                    # 1. Расчет скелетных данных\n",
    "                    landmarks_data, world_landmarks_data, figure_masks_data = (SFeatureProcessor(model_path, key).process_video(frames_array, 25))\n",
    "                    figure_masks_data = figure_masks_data.astype(np.uint8)\n",
    "                    end_landmarks_time = time.time()\n",
    "                    \n",
    "                    # Вычисляем координаты центра между бедрами для каждого кадра\n",
    "                    center_x, center_y = get_sportsmen_center(landmarks_data, (width, height))\n",
    "\n",
    "                    # Если скелетные данные выходят за пределы изображения (координаты больше 1 или меньше 0),\n",
    "                    # то кадры с такими скелетными данными помечаются как \"пустые\"\n",
    "                    # Скелетные данные таких кадров приводятся к 0.\n",
    "                    # Если больше 50% кадров нулевые или их более 10 подряд, то\n",
    "                    # последовательность считается невалидной и будет пропущена при обучении\n",
    "                    # и предсказании в будущем. Решение о валидности принимается\n",
    "                    # до расчета оптического потока. При работе с моделью такие кадры\n",
    "                    # будут помечаться, как невалидные. Если таких кадров будет много,\n",
    "                    # пользователю будет возвращаться информация о невозможности обработки видео\n",
    "                    start_check_landmarks_time = time.time()\n",
    "                    landmarks_data, world_landmarks_data, figure_masks_data, is_valid_sequence, validation_mask = check_landmarks(landmarks_data, world_landmarks_data, figure_masks_data)\n",
    "                    end_check_landmarks_time = time.time()\n",
    "                    \n",
    "                    if show:\n",
    "                        print(f\"{landmarks_data.shape=}\")\n",
    "                        print(f\"{landmarks_data.shape=}\")\n",
    "                        print(f\"{world_landmarks_data.shape=}\")\n",
    "                        print(f\"{figure_masks_data.shape=}\")\n",
    "                        print(f\"{validation_mask.shape=}\")\n",
    "\n",
    "                    if is_valid_sequence:\n",
    "                        \n",
    "                        if show:\n",
    "                            print(f\"{validation_mask=}\")\n",
    "\n",
    "                        # Вычисляем область кропа на основе координат скелета\n",
    "                        crop_area, crop_shape = get_global_crop_area(landmarks_data, image_shape=(width, height), padding=padding)\n",
    "                        \n",
    "                        if show:\n",
    "                            print(f\"{crop_area=}\")\n",
    "                            print(f\"{crop_shape=}\")\n",
    "\n",
    "                        # Отображаем изображения кадров с границами кропа, а также маску фигуры спортсмена\n",
    "                        if show:\n",
    "                            fig, axs = plt.subplots(1, len(show_frames), figsize=(len(show_frames)*5, 5))  \n",
    "                            for i, frame in enumerate(show_frames):\n",
    "                                # Рисуем границы crop на изображении\n",
    "                                image_with_box = draw_crop_area(frames_array[frame], crop_area)\n",
    "                                # Рисуем landmarks на изображении\n",
    "                                image_with_landmarks = draw_landmarks(image_with_box, landmarks_data[frame])\n",
    "                                # Рисуем центр между бедрами на изображении\n",
    "                                image_with_center = draw_center(image_with_landmarks, center_x[frame], center_y[frame])\n",
    "                                axs[i].imshow(cv2.cvtColor(image_with_center, cv2.COLOR_BGR2RGB))\n",
    "                                axs[i].set_title(f\"Image {frame} with landmarks\")\n",
    "                                axs[i].axis(\"off\")\n",
    "                            plt.show()\n",
    "\n",
    "                            fig, axs = plt.subplots(1, len(show_frames), figsize=(len(show_frames)*5, 5))  \n",
    "                            for i, frame in enumerate(show_frames):\n",
    "                                mask_with_box = draw_crop_area(figure_masks_data[frame]*255, crop_area)\n",
    "                                axs[i].imshow(cv2.cvtColor(mask_with_box, cv2.COLOR_BGR2RGB))\n",
    "                                axs[i].set_title(f\"Mask {frame} with crop area\")\n",
    "                                axs[i].axis(\"off\")\n",
    "                            plt.show()\n",
    "\n",
    "                        # Применяем кроп ко всем изображениям\n",
    "                        padded_images, padding_masks = crop_with_padding(frames_array, crop_area)\n",
    "                        padded_figure_masks, _ = crop_with_padding(figure_masks_data, crop_area)\n",
    "\n",
    "                        # Корректируем координаты скелета\n",
    "                        padded_landmarks_data = np.array([padding_landmarks(landmarks_data[i], crop_area, (width, height)) for i in range(len(landmarks_data))])\n",
    "                        # Вычисляем координаты центра между бедрами для каждого кадра\n",
    "                        padded_center_x, padded_center_y = get_sportsmen_center(padded_landmarks_data, padded_images[0].shape[:2])\n",
    "\n",
    "                        # Отображаем изображения кадров с паддингом с границами кропа, а также маску фигуры спортсмена\n",
    "                        if show:\n",
    "                            fig, axs = plt.subplots(1, len(show_frames), figsize=(len(show_frames)*5, 5))  \n",
    "                            for i, frame in enumerate(show_frames):\n",
    "                                # Рисуем landmarks на изображении\n",
    "                                image_with_landmarks = draw_landmarks(padded_images[frame], padded_landmarks_data[frame])\n",
    "                                # Рисуем центр между бедрами на изображении\n",
    "                                image_with_center = draw_center(image_with_landmarks, padded_center_x[frame], padded_center_y[frame])\n",
    "                                axs[i].imshow(cv2.cvtColor(image_with_center, cv2.COLOR_BGR2RGB))\n",
    "                                axs[i].set_title(f\"Padded image {frame} with landmarks\")\n",
    "                                axs[i].axis(\"off\")\n",
    "                            plt.show()\n",
    "\n",
    "                            fig, axs = plt.subplots(1, len(show_frames), figsize=(len(show_frames)*5, 5))  \n",
    "                            for i, frame in enumerate(show_frames):\n",
    "                                # Рисуем landmarks на изображении\n",
    "                                image_with_landmarks = draw_landmarks(padding_masks[frame]*255, padded_landmarks_data[frame])\n",
    "                                # Рисуем центр между бедрами на изображении\n",
    "                                image_with_center = draw_center(image_with_landmarks, padded_center_x[frame], padded_center_y[frame])\n",
    "                                axs[i].imshow(cv2.cvtColor(image_with_center, cv2.COLOR_BGR2RGB))\n",
    "                                axs[i].set_title(f\"Crop mask {frame} with landmarks\")\n",
    "                                axs[i].axis(\"off\")\n",
    "                            plt.show()\n",
    "\n",
    "                            fig, axs = plt.subplots(1, len(show_frames), figsize=(len(show_frames)*5, 5))  \n",
    "                            for i, frame in enumerate(show_frames):\n",
    "                                axs[i].imshow(cv2.cvtColor(padded_figure_masks[frame]*255, cv2.COLOR_BGR2RGB))\n",
    "                                axs[i].set_title(f\"Padded mask {frame} with crop area\")\n",
    "                                axs[i].axis(\"off\")\n",
    "                            plt.show()\n",
    "\n",
    "                        # 2. Расчет оптического потока\n",
    "                        optical_flows = process_frames_for_optical_flow(\n",
    "                            padded_images,\n",
    "                            model_raft,\n",
    "                            target_size=target_size,\n",
    "                            device=device,\n",
    "                        )\n",
    "\n",
    "                        # В последовательности пока не учитывается первый кадр следующей последовательности\n",
    "                        # После добавления max_length+1 кадра - не используется\n",
    "                        # optical_flows[-1] = optical_flows[-2]\n",
    "\n",
    "\n",
    "                        # Исключаем последний кадр, который используется только для расчета оптического потока\n",
    "                        landmarks_data, world_landmarks_data, figure_masks_data, validation_mask = (\n",
    "                            landmarks_data[:-1], world_landmarks_data[:-1], figure_masks_data[:-1], validation_mask[:-1]\n",
    "                        )\n",
    "                        optical_flows = optical_flows[:-1]\n",
    "                        padded_images, padding_masks = padded_images[:-1], padding_masks[:-1]\n",
    "                        padded_figure_masks = padded_figure_masks[:-1]\n",
    "                        padded_landmarks_data = padded_landmarks_data[:-1]\n",
    "                        padded_center_x, padded_center_y = padded_center_x[:-1], padded_center_y[:-1]\n",
    "\n",
    "                        # Проверяем наличие nan значений\n",
    "                        if show:\n",
    "                            print(f\"{padded_images.shape=}\")\n",
    "                            print(f\"{padding_masks.shape=}\")\n",
    "                            print(f\"{padded_figure_masks.shape=}\")\n",
    "                            print(f\"{padded_landmarks_data.shape=}\")\n",
    "                            print(f\"{padded_center_x.shape=}\")\n",
    "                            print(f\"{padded_center_y.shape=}\")\n",
    "                            print(f\"{optical_flows.shape=}\")\n",
    "                            print(f\"{np.any(np.isnan(optical_flows))=}\")\n",
    "                            \n",
    "                        # Устраняем nan значения, если таковые появились\n",
    "                        optical_flows = np.nan_to_num(optical_flows, nan=0.0)\n",
    "\n",
    "                        if show:\n",
    "                            fig, axs = plt.subplots(1, len(show_frames), figsize=(len(show_frames)*5, 5))  \n",
    "                            for i, frame in enumerate(show_frames):\n",
    "                                # Отображаем визуализацию оптического потока\n",
    "                                flow_image_np = visualize_flow_2(optical_flows[frame])\n",
    "                                axs[i].imshow(flow_image_np)\n",
    "                                axs[i].set_title(f\"Optical Flow {frame}\")\n",
    "                                axs[i].axis(\"off\")\n",
    "                            plt.show()\n",
    "\n",
    "                            # Создаем 3 подграфика в одном ряду\n",
    "                            fig, axs = plt.subplots(1, len(show_frames), figsize=(len(show_frames)*5, 5))  \n",
    "                            for i, frame in enumerate(show_frames):\n",
    "                                # Отображаем визуализацию векторов оптического потока\n",
    "                                flow_arrows = torch.tensor(optical_flows[frame], dtype=torch.float32).unsqueeze(0)\n",
    "                                flow_arrows = flow_arrows[:, :, :, :].permute(2, 3, 1, 0).squeeze().cpu().numpy()\n",
    "                                flow_image_np = visualize_flow(flow_arrows, step=16, scale=1.0)\n",
    "                                axs[i].imshow(flow_image_np)\n",
    "                                axs[i].set_title(f\"Optical Flow {frame}\")\n",
    "                                axs[i].axis(\"off\")\n",
    "                            plt.show()\n",
    "\n",
    "                            fig, axs = plt.subplots(1, len(show_frames), figsize=(len(show_frames)*5, 5))  \n",
    "                            for i, frame in enumerate(show_frames):\n",
    "                                # Рисуем landmarks на изображении\n",
    "                                image_with_landmarks = draw_landmarks(padded_images[frame], padded_landmarks_data[frame])\n",
    "                                # Рисуем центр между бедрами на изображении\n",
    "                                image_with_center = draw_center(image_with_landmarks, padded_center_x[frame], padded_center_y[frame])\n",
    "                                # Рисуем векторы оптического потока для всех суставов на изображении\n",
    "                                image_with_arrows = draw_skeleton_optical_flow_arrows(image_with_center, padded_landmarks_data[frame], optical_flows[frame])\n",
    "                                axs[i].imshow(cv2.cvtColor(image_with_arrows, cv2.COLOR_BGR2RGB))\n",
    "                                axs[i].set_title(f\"Skeleton main OFlow {frame} frame\")\n",
    "                                axs[i].axis(\"off\")\n",
    "                            plt.show()\n",
    "\n",
    "                        # 3. Расчет среднего оптического потока фона (учитывается паддинг)\n",
    "                        # Инвертируем маску фигуры спортсмена (0 - для фигуриста, 1 - для фона)\n",
    "                        background_masks = (padded_figure_masks == 0).astype(np.uint8)\n",
    "                        \n",
    "                        # Применяем маску padding_masks, чтобы исключить паддинг из учета (0 - паддинг, 1 - изображение)\n",
    "                        # Объединяем обе маски: фон + изображение (без паддинга)\n",
    "                        combined_masks = background_masks * padding_masks\n",
    "\n",
    "                        if show:\n",
    "                            fig, axs = plt.subplots(1, len(show_frames), figsize=(len(show_frames)*5, 5))  \n",
    "                            for i, frame in enumerate(show_frames):\n",
    "                                axs[i].imshow(cv2.cvtColor(combined_masks[frame]*255, cv2.COLOR_BGR2RGB))\n",
    "                                axs[i].set_title(f\"OFlow background mask frame {frame}\")\n",
    "                                axs[i].axis(\"off\")\n",
    "                            plt.show()\n",
    "\n",
    "                        # Извлекаем компоненты оптического потока по осям X и Y\n",
    "                        flow_x = optical_flows[:, 0]  # Компонента по оси X, shape: (num_frames, H, W)\n",
    "                        flow_y = optical_flows[:, 1]  # Компонента по оси Y, shape: (num_frames, H, W)\n",
    "\n",
    "                        # Применяем объединенную маску к компонентам оптического потока и вычисляем средние значения\n",
    "                        mean_background_flow_x = np.sum(flow_x * combined_masks, axis=(1, 2)) / np.sum(combined_masks, axis=(1, 2))\n",
    "                        mean_background_flow_y = np.sum(flow_y * combined_masks, axis=(1, 2)) / np.sum(combined_masks, axis=(1, 2))\n",
    "\n",
    "                        # Объединяем компоненты X и Y в массив средних значений для всех кадров\n",
    "                        # shape: (num_frames, 2)\n",
    "                        mean_background_flows = np.stack([mean_background_flow_x, mean_background_flow_y], axis=1)  \n",
    "\n",
    "                        # Проверяем наличие nan значений\n",
    "                        if show:\n",
    "                            print(f\"{np.any(np.isnan(mean_background_flows))=}\")\n",
    "                        # Устраняем nan значения, если таковые появились\n",
    "                        mean_background_flows = np.nan_to_num(mean_background_flows, nan=0.0)\n",
    "                            \n",
    "                        # 4. Вычитание среднего оптического потока фона (устранение движения камеры)\n",
    "\n",
    "                        # Расширяем mean_background_flows по пространственным измерениям (H, W) до размера (17, 2, 1392, 1392)\n",
    "                        mean_background_flows_expanded = mean_background_flows[:, :, np.newaxis, np.newaxis]\n",
    "\n",
    "                        # Вычитаем средний поток фона из каждого кадра\n",
    "                        corrected_optical_flows = optical_flows - mean_background_flows_expanded\n",
    "                        \n",
    "                        # Проверяем наличие nan значений\n",
    "                        if show:\n",
    "                            print(f\"{np.any(np.isnan(corrected_optical_flows))=}\")\n",
    "                        # Устраняем nan значения, если таковые появились\n",
    "                        corrected_optical_flows = np.nan_to_num(corrected_optical_flows, nan=0.0)\n",
    "\n",
    "                        if show:\n",
    "                            print(f\"{mean_background_flows[0]=}\")\n",
    "                            print(f\"{optical_flows[0][0]=}\")\n",
    "                            print(f\"{corrected_optical_flows[0][0]=}\")\n",
    "\n",
    "                        \n",
    "                        if show:\n",
    "                            print(f\"{padded_landmarks_data.shape=}\")\n",
    "                            print(f\"{corrected_optical_flows.shape=}\")\n",
    "\n",
    "                        flow_at_landmarks = extract_optical_flow_at_landmarks(padded_landmarks_data, corrected_optical_flows)\n",
    "                        \n",
    "                        if show:\n",
    "                            print(f\"{flow_at_landmarks.shape=}\")\n",
    "\n",
    "                        # Проверяем наличие nan значений\n",
    "                        if show:\n",
    "                            print(f\"{np.any(np.isnan(flow_at_landmarks))=}\")\n",
    "\n",
    "                        if show:\n",
    "                            fig, axs = plt.subplots(1, len(show_frames), figsize=(len(show_frames)*5, 5))  \n",
    "                            for i, frame in enumerate(show_frames):\n",
    "                                # Отображаем визуализацию оптического потока\n",
    "                                flow_image_np = visualize_flow_2(corrected_optical_flows[frame])\n",
    "                                axs[i].imshow(flow_image_np)\n",
    "                                axs[i].set_title(f\"Corrected optical Flow {frame}\")\n",
    "                                axs[i].axis(\"off\")\n",
    "                            plt.show()\n",
    "\n",
    "                            # Создаем 3 подграфика в одном ряду\n",
    "                            fig, axs = plt.subplots(1, len(show_frames), figsize=(len(show_frames)*5, 5))  \n",
    "                            for i, frame in enumerate(show_frames):\n",
    "                                # Отображаем визуализацию векторов оптического потока\n",
    "                                flow_arrows = torch.tensor(corrected_optical_flows[frame], dtype=torch.float32).unsqueeze(0)\n",
    "                                flow_arrows = flow_arrows[:, :, :, :].permute(2, 3, 1, 0).squeeze().cpu().numpy()\n",
    "                                flow_image_np = visualize_flow(flow_arrows, step=16, scale=1.0)\n",
    "                                axs[i].imshow(flow_image_np)\n",
    "                                axs[i].set_title(f\"Corrected optical Flow {frame}\")\n",
    "                                axs[i].axis(\"off\")\n",
    "                            plt.show()\n",
    "\n",
    "                            fig, axs = plt.subplots(1, len(show_frames), figsize=(len(show_frames)*5, 5))  \n",
    "                            for i, frame in enumerate(show_frames):\n",
    "                                # Рисуем landmarks на изображении\n",
    "                                image_with_landmarks = draw_landmarks(padded_images[frame], padded_landmarks_data[frame])\n",
    "                                # Рисуем центр между бедрами на изображении\n",
    "                                image_with_center = draw_center(image_with_landmarks, padded_center_x[frame], padded_center_y[frame])\n",
    "                                # Рисуем векторы оптического потока для всех суставов на изображении\n",
    "                                image_with_arrows = draw_skeleton_optical_flow_arrows(image_with_center, padded_landmarks_data[frame], corrected_optical_flows[frame])\n",
    "                                axs[i].imshow(cv2.cvtColor(image_with_arrows, cv2.COLOR_BGR2RGB))\n",
    "                                axs[i].set_title(f\"Skeleton main corrected OFlow {frame}\")\n",
    "                                axs[i].axis(\"off\")\n",
    "                            plt.show()\n",
    "\n",
    "                        # 5. Расчет среднего оптического потока фигуры (учитывается паддинг)\n",
    "                        # Инвертируем маску фигуры спортсмена (0 - для фигуриста, 1 - для фона)\n",
    "                        firure_masks = (padded_figure_masks == 1).astype(np.uint8)\n",
    "                        \n",
    "                        # Применяем маску padding_masks, чтобы исключить паддинг из учета (0 - паддинг, 1 - изображение)\n",
    "                        # Объединяем обе маски: фон + изображение (без паддинга)\n",
    "                        combined_masks = firure_masks * padding_masks\n",
    "\n",
    "                        if show:\n",
    "                            fig, axs = plt.subplots(1, len(show_frames), figsize=(len(show_frames)*5, 5))  \n",
    "                            for i, frame in enumerate(show_frames):\n",
    "                                axs[i].imshow(cv2.cvtColor(combined_masks[frame]*255, cv2.COLOR_BGR2RGB))\n",
    "                                axs[i].set_title(f\"OFlow background mask frame {frame}\")\n",
    "                                axs[i].axis(\"off\")\n",
    "                            plt.show()\n",
    "\n",
    "                        # Извлекаем компоненты оптического потока по осям X и Y\n",
    "                        flow_x = corrected_optical_flows[:, 0]  # Компонента по оси X, shape: (num_frames, H, W)\n",
    "                        flow_y = corrected_optical_flows[:, 1]  # Компонента по оси Y, shape: (num_frames, H, W)\n",
    "\n",
    "                        mask_sum = np.sum(combined_masks, axis=(1, 2))\n",
    "                        # print(f\"{mask_sum=}\")\n",
    "\n",
    "                        # Инициализируем средние значения как массивы нулей\n",
    "                        mean_figure_flow_x = np.zeros_like(mask_sum, dtype=float)\n",
    "                        mean_figure_flow_y = np.zeros_like(mask_sum, dtype=float)\n",
    "\n",
    "                        # Обрабатываем только те кадры, где сумма маски больше 0\n",
    "                        valid_indices = mask_sum > 0\n",
    "\n",
    "                        # Вычисляем средние значения только для валидных индексов\n",
    "                        mean_figure_flow_x[valid_indices] = np.sum(flow_x[valid_indices] * combined_masks[valid_indices], axis=(1, 2)) / mask_sum[valid_indices]\n",
    "                        mean_figure_flow_y[valid_indices] = np.sum(flow_y[valid_indices] * combined_masks[valid_indices], axis=(1, 2)) / mask_sum[valid_indices]\n",
    "\n",
    "                        # Объединяем компоненты X и Y в массив средних значений для всех кадров\n",
    "                        # shape: (num_frames, 2)\n",
    "                        mean_figure_flows = np.stack([mean_figure_flow_x, mean_figure_flow_y], axis=1)  \n",
    "\n",
    "                        # Проверяем наличие nan значений\n",
    "                        if show:\n",
    "                            print(f\"{np.any(np.isnan(mean_figure_flows))=}\")\n",
    "                        # Устраняем nan значения, если таковые появились\n",
    "                        mean_figure_flows = np.nan_to_num(mean_figure_flows, nan=0.0)\n",
    "                        \n",
    "                        if show:\n",
    "                            print(f\"{mean_figure_flows.shape=}\")\n",
    "\n",
    "                        if show:\n",
    "                            fig, axs = plt.subplots(1, len(show_frames), figsize=(len(show_frames)*5, 5))  \n",
    "                            for i, frame in enumerate(show_frames):\n",
    "                                # Рисуем центр между бедрами на изображении\n",
    "                                image_with_center = draw_center(padded_images[frame], padded_center_x[frame], padded_center_y[frame])\n",
    "                                # Рисуем вектор среднего оптического потока\n",
    "                                image_with_mean_arrow = draw_mean_optical_flow_arrows(\n",
    "                                    image_with_center,\n",
    "                                    padded_center_x[frame],\n",
    "                                    padded_center_y[frame],\n",
    "                                    mean_figure_flows[frame][0],\n",
    "                                    mean_figure_flows[frame][1],\n",
    "                                    color=(255, 0, 0),\n",
    "                                    scale=scale_arrow\n",
    "                                )\n",
    "                                axs[i].imshow(cv2.cvtColor(image_with_mean_arrow, cv2.COLOR_BGR2RGB))\n",
    "                                axs[i].set_title(f\"Mean figure corrected OFlow {frame}\")\n",
    "                                axs[i].axis(\"off\")\n",
    "                            plt.show()\n",
    "\n",
    "                        # 6. Расчет сглаженного скорректированного среднего оптического потока фигуры\n",
    "                        # Функция для сглаживания потока одного кадра\n",
    "                        # Создаем фильтры для сглаживания оптического потока по осям X и Y\n",
    "                        filter_x = OneEuroFilter(min_cutoff=1.0, beta=0.005)\n",
    "                        filter_y = OneEuroFilter(min_cutoff=1.0, beta=0.005)\n",
    "\n",
    "                        def smooth_single_flow(flow):\n",
    "                            smoothed_x = filter_x.filter(flow[0])\n",
    "                            smoothed_y = filter_y.filter(flow[1])\n",
    "                            return np.array([smoothed_x, smoothed_y])\n",
    "\n",
    "                        # Применяем сглаживание ко всем кадрам сразу с помощью np.apply_along_axis\n",
    "                        smoothed_mean_figure_flows = np.apply_along_axis(smooth_single_flow, 1, mean_figure_flows)\n",
    "                        \n",
    "                        if show:\n",
    "                            print(f\"{smoothed_mean_figure_flows.shape=}\")\n",
    "                        # Проверяем наличие nan значений\n",
    "                        if show:\n",
    "                            print(f\"{np.any(np.isnan(smoothed_mean_figure_flows))=}\")\n",
    "\n",
    "                        # 7. Расчет сглаженного скорректированного оптического потока каждого сустава\n",
    "                        smoothed_flow_at_landmarks = smooth_landmark_flows(flow_at_landmarks)\n",
    "\n",
    "                        if show:\n",
    "                            print(f\"{smoothed_flow_at_landmarks.shape=}\")\n",
    "                        # Проверяем наличие nan значений\n",
    "                        if show:\n",
    "                            print(f\"{np.any(np.isnan(smoothed_flow_at_landmarks))=}\")\n",
    "\n",
    "                        if show:\n",
    "                            # Cоздание и сохранения анимации среднего оптического потока фигуры\n",
    "                            create_animation(padded_images, mean_figure_flows, padded_center_x, padded_center_y, save_path=\"mean_sportsmen_flows.gif\", name=\"Mean Figure Optical Flow\",)\n",
    "                            # Cоздание и сохранения анимации сглаженного среднего оптического потока фигуры\n",
    "                            create_animation(padded_images, smoothed_mean_figure_flows, padded_center_x, padded_center_y, save_path=\"smoothed_mean_sportsmen_flows.gif\", name=\"Smoothed Mean Figure Optical Flow\",)\n",
    "                            # Cоздание и сохранения анимации оптического потока скелета\n",
    "                            create_skeleton_flow_animation(padded_images, corrected_optical_flows, padded_landmarks_data, 'skeleton_flow_animation.gif', 'Skeleton Flow Animation')\n",
    "                            # Cоздание и сохранения анимации сглаженного оптического потока скелета\n",
    "                            create_skeleton_flow_animation2(padded_images, smoothed_flow_at_landmarks, padded_landmarks_data, 'smoothed_skeleton_flow_animation.gif', 'Smoothed Skeleton Flow Animation')\n",
    "\n",
    "\n",
    "                        # 7. Корректирока мировых координат\n",
    "                        corrected_world_landmarks_data = correct_world_coordinates(world_landmarks_data, mean_background_flows)\n",
    "\n",
    "                        # Визуализация не скорректированных мировых координат - 2D\n",
    "                        if show:\n",
    "                            fig, axs = plt.subplots(1, len(show_frames), figsize=(len(show_frames)*5, 5))  \n",
    "                            for i, frame in enumerate(show_frames):\n",
    "                                visualize_world_landmarks_2d(corrected_world_landmarks_data, frame, ax=axs[i])\n",
    "\n",
    "                            plt.show()\n",
    "                            \n",
    "                        # 9. Сохранение результатов расчета\n",
    "                        result[hash_key] = {\n",
    "                            # Номер видео\n",
    "                            'index_video': fragment[0],\n",
    "                            # Начальный кадр\n",
    "                            'start_frame': fragment[2],\n",
    "                            # Количество кадров\n",
    "                            'num_frames': fragment[3],\n",
    "                            # Количество пропусков кадров\n",
    "                            'skip_frames': fragment[4],\n",
    "                            # Флаг валидности последовательности\n",
    "                            'is_valid_sequence': is_valid_sequence,\n",
    "                            # Маска валидности\n",
    "                            'validation_mask': torch.tensor(validation_mask, dtype=torch.uint8).cpu(),\n",
    "                            # Скорректированный средний оптический поток фигуры\n",
    "                            'mean_figure_flows': torch.tensor(mean_figure_flows, dtype=torch.float16).cpu(),\n",
    "                            # Скорректированный оптический поток скелета\n",
    "                            'flow_at_landmarks': torch.tensor(flow_at_landmarks, dtype=torch.float16).cpu(),\n",
    "                            # Сглаженный скорректированный средний оптический поток фигуры\n",
    "                            'smoothed_mean_figure_flows': torch.tensor(smoothed_mean_figure_flows, dtype=torch.float16).cpu(),\n",
    "                            # Сглаженный скорректированный оптический поток скелета\n",
    "                            'smoothed_flow_at_landmarks': torch.tensor(smoothed_flow_at_landmarks, dtype=torch.float16).cpu(),\n",
    "                            # Оригинальные координаты скелета\n",
    "                            'landmarks_data': torch.tensor(landmarks_data, dtype=torch.float16).cpu(),\n",
    "                            # Оригинальные мировые координаты\n",
    "                            'world_landmarks_data': torch.tensor(world_landmarks_data, dtype=torch.float16).cpu(),\n",
    "                            # Скорректированные мировые координаты\n",
    "                            'corrected_world_landmarks_data': torch.tensor(corrected_world_landmarks_data, dtype=torch.float16).cpu(),\n",
    "                        }\n",
    "                        \n",
    "                        if show:\n",
    "                            print()\n",
    "                    else:\n",
    "                        print('Not valid sequence')\n",
    "                        # 9. Сохранение результатов расчета\n",
    "                        result[hash_key] = {\n",
    "                            # Номер видео\n",
    "                            'index_video': fragment[0],\n",
    "                            # Начальный кадр\n",
    "                            'start_frame': fragment[2],\n",
    "                            # Количество кадров\n",
    "                            'num_frames': fragment[3],\n",
    "                            # Количество пропусков кадров\n",
    "                            'skip_frames': fragment[4],\n",
    "                            # Флаг валидности последовательности\n",
    "                            'is_valid_sequence': is_valid_sequence,\n",
    "                            # Маска валидности\n",
    "                            'validation_mask': torch.tensor(np.zeros(fragment[3]), dtype=torch.uint8).cpu(),\n",
    "                            # Скорректированный средний оптический поток фигуры\n",
    "                            'mean_figure_flows': torch.tensor(np.zeros((fragment[3], 2)), dtype=torch.float16),\n",
    "                            # Скорректированный оптический поток скелета\n",
    "                            'flow_at_landmarks': torch.tensor(np.zeros((fragment[3], 33, 2)), dtype=torch.float16),\n",
    "                            # Сглаженный скорректированный средний оптический поток фигуры\n",
    "                            'smoothed_mean_figure_flows': torch.tensor(np.zeros((fragment[3], 2)), dtype=torch.float16),\n",
    "                            # Сглаженный скорректированный оптический поток скелета\n",
    "                            'smoothed_flow_at_landmarks': torch.tensor(np.zeros((fragment[3], 33, 2)), dtype=torch.float16),\n",
    "                            # Оригинальные координаты скелета\n",
    "                            'landmarks_data': torch.tensor(np.zeros((fragment[3], 33, 3)), dtype=torch.float16),\n",
    "                            # Оригинальные мировые координаты\n",
    "                            'world_landmarks_data': torch.tensor(np.zeros((fragment[3], 33, 3)), dtype=torch.float16),\n",
    "                            # Скорректированные мировые координаты\n",
    "                            'corrected_world_landmarks_data': torch.tensor(np.zeros((fragment[3], 33, 3)), dtype=torch.float16),\n",
    "                        }\n",
    "            \n",
    "            end_calculating_time = time.time()\n",
    "\n",
    "            print(f\"Calculating time: {end_calculating_time - start_calculating_time}\")\n",
    "            print(f\"Landmarks time: {end_landmarks_time - start_landmarks_time}\")\n",
    "            print(f\"Check_landmarks time: {end_check_landmarks_time - start_check_landmarks_time}\")\n",
    "            \n",
    "        except Exception as e:\n",
    "            print(f\"Get Exception: {e}. Continue\")\n",
    "            traceback.print_exc()\n",
    "            print('Error sequence')\n",
    "            # 9. Сохранение результатов расчета\n",
    "            result[hash_key] = {\n",
    "                # Номер видео\n",
    "                'index_video': fragment[0],\n",
    "                # Начальный кадр\n",
    "                'start_frame': fragment[2],\n",
    "                # Количество кадров\n",
    "                'num_frames': fragment[3],\n",
    "                # Количество пропусков кадров\n",
    "                'skip_frames': fragment[4],\n",
    "                # Флаг валидности последовательности\n",
    "                'is_valid_sequence': is_valid_sequence,\n",
    "                # Маска валидности\n",
    "                'validation_mask': torch.tensor(np.zeros(fragment[3]), dtype=torch.uint8).cpu(),\n",
    "                # Скорректированный средний оптический поток фигуры\n",
    "                'mean_figure_flows': torch.tensor(np.zeros((fragment[3], 2)), dtype=torch.float16),\n",
    "                # Скорректированный оптический поток скелета\n",
    "                'flow_at_landmarks': torch.tensor(np.zeros((fragment[3], 33, 2)), dtype=torch.float16),\n",
    "                # Сглаженный скорректированный средний оптический поток фигуры\n",
    "                'smoothed_mean_figure_flows': torch.tensor(np.zeros((fragment[3], 2)), dtype=torch.float16),\n",
    "                # Сглаженный скорректированный оптический поток скелета\n",
    "                'smoothed_flow_at_landmarks': torch.tensor(np.zeros((fragment[3], 33, 2)), dtype=torch.float16),\n",
    "                # Оригинальные координаты скелета\n",
    "                'landmarks_data': torch.tensor(np.zeros((fragment[3], 33, 3)), dtype=torch.float16),\n",
    "                # Оригинальные мировые координаты\n",
    "                'world_landmarks_data': torch.tensor(np.zeros((fragment[3], 33, 3)), dtype=torch.float16),\n",
    "                # Скорректированные мировые координаты\n",
    "                'corrected_world_landmarks_data': torch.tensor(np.zeros((fragment[3], 33, 3)), dtype=torch.float16),\n",
    "            }\n",
    "            \n",
    "            continue\n",
    "\n",
    "        # Время, затраченное на обучение\n",
    "        process_time = time.time() - start_process_time\n",
    "\n",
    "        # Ранняя остановка для kaggle с учетом ограничений по времени\n",
    "        if process_time > stop_time:\n",
    "            print(\"Early stoping by time\")\n",
    "            break\n",
    "\n",
    "    return \"Done\""
   ]
  },
  {
   "cell_type": "markdown",
   "id": "0b168e73",
   "metadata": {
    "papermill": {
     "duration": 0.017397,
     "end_time": "2024-11-03T19:10:43.003968",
     "exception": false,
     "start_time": "2024-11-03T19:10:42.986571",
     "status": "completed"
    },
    "tags": []
   },
   "source": [
    "# Обработка обучающих видео"
   ]
  },
  {
   "cell_type": "code",
   "execution_count": 53,
   "id": "4b0e4060",
   "metadata": {
    "execution": {
     "iopub.execute_input": "2024-11-03T19:10:43.043310Z",
     "iopub.status.busy": "2024-11-03T19:10:43.042487Z",
     "iopub.status.idle": "2024-11-03T19:29:24.778808Z",
     "shell.execute_reply": "2024-11-03T19:29:24.777442Z"
    },
    "papermill": {
     "duration": 1121.757426,
     "end_time": "2024-11-03T19:29:24.780930",
     "exception": false,
     "start_time": "2024-11-03T19:10:43.023504",
     "status": "completed"
    },
    "tags": []
   },
   "outputs": [
    {
     "name": "stdout",
     "output_type": "stream",
     "text": [
      "Fragment: 0 from 610, mode: 'train'\n"
     ]
    },
    {
     "name": "stderr",
     "output_type": "stream",
     "text": [
      "WARNING: All log messages before absl::InitializeLog() is called are written to STDERR\n",
      "I0000 00:00:1730661043.316594      17 task_runner.cc:85] GPU suport is not available: INTERNAL: ; RET_CHECK failure (mediapipe/gpu/gl_context_egl.cc:77) display != EGL_NO_DISPLAYeglGetDisplay() returned error 0x300c\n",
      "INFO: Created TensorFlow Lite XNNPACK delegate for CPU.\n",
      "W0000 00:00:1730661043.447028     104 inference_feedback_manager.cc:114] Feedback manager requires a model with a single signature inference. Disabling support for feedback tensors.\n",
      "W0000 00:00:1730661043.507043     103 inference_feedback_manager.cc:114] Feedback manager requires a model with a single signature inference. Disabling support for feedback tensors.\n",
      "W0000 00:00:1730661043.591388     102 landmark_projection_calculator.cc:186] Using NORM_RECT without IMAGE_DIMENSIONS is only supported for the square ROI. Provide IMAGE_DIMENSIONS or use PROJECTION_MATRIX.\n"
     ]
    },
    {
     "name": "stdout",
     "output_type": "stream",
     "text": [
      "Calculating time: 1.366452932357788\n",
      "Landmarks time: 1.3588383197784424\n",
      "Check_landmarks time: 0.0014133453369140625\n",
      "Fragment: 1 from 610, mode: 'train'\n"
     ]
    },
    {
     "name": "stderr",
     "output_type": "stream",
     "text": [
      "I0000 00:00:1730661044.960732      17 task_runner.cc:85] GPU suport is not available: INTERNAL: ; RET_CHECK failure (mediapipe/gpu/gl_context_egl.cc:77) display != EGL_NO_DISPLAYeglGetDisplay() returned error 0x300c\n",
      "W0000 00:00:1730661045.082940     117 inference_feedback_manager.cc:114] Feedback manager requires a model with a single signature inference. Disabling support for feedback tensors.\n",
      "W0000 00:00:1730661045.132883     117 inference_feedback_manager.cc:114] Feedback manager requires a model with a single signature inference. Disabling support for feedback tensors.\n"
     ]
    },
    {
     "name": "stdout",
     "output_type": "stream",
     "text": [
      "Calculating time: 1.2636570930480957\n",
      "Landmarks time: 1.2593588829040527\n",
      "Check_landmarks time: 0.001220703125\n",
      "Fragment: 2 from 610, mode: 'train'\n"
     ]
    },
    {
     "name": "stderr",
     "output_type": "stream",
     "text": [
      "I0000 00:00:1730661046.489721      17 task_runner.cc:85] GPU suport is not available: INTERNAL: ; RET_CHECK failure (mediapipe/gpu/gl_context_egl.cc:77) display != EGL_NO_DISPLAYeglGetDisplay() returned error 0x300c\n",
      "W0000 00:00:1730661046.600088     124 inference_feedback_manager.cc:114] Feedback manager requires a model with a single signature inference. Disabling support for feedback tensors.\n",
      "W0000 00:00:1730661046.651429     126 inference_feedback_manager.cc:114] Feedback manager requires a model with a single signature inference. Disabling support for feedback tensors.\n"
     ]
    },
    {
     "name": "stdout",
     "output_type": "stream",
     "text": [
      "Calculating time: 1.2065684795379639\n",
      "Landmarks time: 1.2057371139526367\n",
      "Check_landmarks time: 0.0002884864807128906\n",
      "Fragment: 3 from 610, mode: 'train'\n"
     ]
    },
    {
     "name": "stderr",
     "output_type": "stream",
     "text": [
      "I0000 00:00:1730661047.967326      17 task_runner.cc:85] GPU suport is not available: INTERNAL: ; RET_CHECK failure (mediapipe/gpu/gl_context_egl.cc:77) display != EGL_NO_DISPLAYeglGetDisplay() returned error 0x300c\n",
      "W0000 00:00:1730661048.067387     132 inference_feedback_manager.cc:114] Feedback manager requires a model with a single signature inference. Disabling support for feedback tensors.\n",
      "W0000 00:00:1730661048.106360     134 inference_feedback_manager.cc:114] Feedback manager requires a model with a single signature inference. Disabling support for feedback tensors.\n"
     ]
    },
    {
     "name": "stdout",
     "output_type": "stream",
     "text": [
      "Calculating time: 1.2650482654571533\n",
      "Landmarks time: 1.2597191333770752\n",
      "Check_landmarks time: 0.0014240741729736328\n",
      "Fragment: 4 from 610, mode: 'train'\n"
     ]
    },
    {
     "name": "stderr",
     "output_type": "stream",
     "text": [
      "I0000 00:00:1730661049.522177      17 task_runner.cc:85] GPU suport is not available: INTERNAL: ; RET_CHECK failure (mediapipe/gpu/gl_context_egl.cc:77) display != EGL_NO_DISPLAYeglGetDisplay() returned error 0x300c\n",
      "W0000 00:00:1730661049.622543     140 inference_feedback_manager.cc:114] Feedback manager requires a model with a single signature inference. Disabling support for feedback tensors.\n",
      "W0000 00:00:1730661049.676221     141 inference_feedback_manager.cc:114] Feedback manager requires a model with a single signature inference. Disabling support for feedback tensors.\n"
     ]
    },
    {
     "name": "stdout",
     "output_type": "stream",
     "text": [
      "Calculating time: 1.237076997756958\n",
      "Landmarks time: 1.2362771034240723\n",
      "Check_landmarks time: 0.000301361083984375\n",
      "Fragment: 5 from 610, mode: 'train'\n"
     ]
    },
    {
     "name": "stderr",
     "output_type": "stream",
     "text": [
      "I0000 00:00:1730661051.046189      17 task_runner.cc:85] GPU suport is not available: INTERNAL: ; RET_CHECK failure (mediapipe/gpu/gl_context_egl.cc:77) display != EGL_NO_DISPLAYeglGetDisplay() returned error 0x300c\n",
      "W0000 00:00:1730661051.144993     147 inference_feedback_manager.cc:114] Feedback manager requires a model with a single signature inference. Disabling support for feedback tensors.\n",
      "W0000 00:00:1730661051.171637     150 inference_feedback_manager.cc:114] Feedback manager requires a model with a single signature inference. Disabling support for feedback tensors.\n"
     ]
    },
    {
     "name": "stdout",
     "output_type": "stream",
     "text": [
      "Calculating time: 1.1898877620697021\n",
      "Landmarks time: 1.186612844467163\n",
      "Check_landmarks time: 0.0002799034118652344\n",
      "Fragment: 6 from 610, mode: 'train'\n"
     ]
    },
    {
     "name": "stderr",
     "output_type": "stream",
     "text": [
      "I0000 00:00:1730661052.495079      17 task_runner.cc:85] GPU suport is not available: INTERNAL: ; RET_CHECK failure (mediapipe/gpu/gl_context_egl.cc:77) display != EGL_NO_DISPLAYeglGetDisplay() returned error 0x300c\n",
      "W0000 00:00:1730661052.592615     155 inference_feedback_manager.cc:114] Feedback manager requires a model with a single signature inference. Disabling support for feedback tensors.\n",
      "W0000 00:00:1730661052.619660     157 inference_feedback_manager.cc:114] Feedback manager requires a model with a single signature inference. Disabling support for feedback tensors.\n"
     ]
    },
    {
     "name": "stdout",
     "output_type": "stream",
     "text": [
      "Calculating time: 1.2288062572479248\n",
      "Landmarks time: 1.2280070781707764\n",
      "Check_landmarks time: 0.0002899169921875\n",
      "Fragment: 7 from 610, mode: 'train'\n"
     ]
    },
    {
     "name": "stderr",
     "output_type": "stream",
     "text": [
      "I0000 00:00:1730661054.000420      17 task_runner.cc:85] GPU suport is not available: INTERNAL: ; RET_CHECK failure (mediapipe/gpu/gl_context_egl.cc:77) display != EGL_NO_DISPLAYeglGetDisplay() returned error 0x300c\n",
      "W0000 00:00:1730661054.108578     164 inference_feedback_manager.cc:114] Feedback manager requires a model with a single signature inference. Disabling support for feedback tensors.\n",
      "W0000 00:00:1730661054.133125     166 inference_feedback_manager.cc:114] Feedback manager requires a model with a single signature inference. Disabling support for feedback tensors.\n"
     ]
    },
    {
     "name": "stdout",
     "output_type": "stream",
     "text": [
      "Calculating time: 1.279529333114624\n",
      "Landmarks time: 1.2732975482940674\n",
      "Check_landmarks time: 0.0016632080078125\n",
      "Fragment: 8 from 610, mode: 'train'\n"
     ]
    },
    {
     "name": "stderr",
     "output_type": "stream",
     "text": [
      "I0000 00:00:1730661055.539375      17 task_runner.cc:85] GPU suport is not available: INTERNAL: ; RET_CHECK failure (mediapipe/gpu/gl_context_egl.cc:77) display != EGL_NO_DISPLAYeglGetDisplay() returned error 0x300c\n",
      "W0000 00:00:1730661055.645421     173 inference_feedback_manager.cc:114] Feedback manager requires a model with a single signature inference. Disabling support for feedback tensors.\n",
      "W0000 00:00:1730661055.670255     174 inference_feedback_manager.cc:114] Feedback manager requires a model with a single signature inference. Disabling support for feedback tensors.\n"
     ]
    },
    {
     "name": "stdout",
     "output_type": "stream",
     "text": [
      "Calculating time: 1.1917762756347656\n",
      "Landmarks time: 1.187723159790039\n",
      "Check_landmarks time: 0.0008344650268554688\n",
      "Fragment: 9 from 610, mode: 'train'\n"
     ]
    },
    {
     "name": "stderr",
     "output_type": "stream",
     "text": [
      "I0000 00:00:1730661056.988665      17 task_runner.cc:85] GPU suport is not available: INTERNAL: ; RET_CHECK failure (mediapipe/gpu/gl_context_egl.cc:77) display != EGL_NO_DISPLAYeglGetDisplay() returned error 0x300c\n",
      "W0000 00:00:1730661057.087144     180 inference_feedback_manager.cc:114] Feedback manager requires a model with a single signature inference. Disabling support for feedback tensors.\n",
      "W0000 00:00:1730661057.126999     180 inference_feedback_manager.cc:114] Feedback manager requires a model with a single signature inference. Disabling support for feedback tensors.\n"
     ]
    },
    {
     "name": "stdout",
     "output_type": "stream",
     "text": [
      "Calculating time: 1.2244672775268555\n",
      "Landmarks time: 1.2236380577087402\n",
      "Check_landmarks time: 0.0003135204315185547\n",
      "Fragment: 10 from 610, mode: 'train'\n"
     ]
    },
    {
     "name": "stderr",
     "output_type": "stream",
     "text": [
      "I0000 00:00:1730661058.464934      17 task_runner.cc:85] GPU suport is not available: INTERNAL: ; RET_CHECK failure (mediapipe/gpu/gl_context_egl.cc:77) display != EGL_NO_DISPLAYeglGetDisplay() returned error 0x300c\n",
      "W0000 00:00:1730661058.572575     188 inference_feedback_manager.cc:114] Feedback manager requires a model with a single signature inference. Disabling support for feedback tensors.\n",
      "W0000 00:00:1730661058.596661     187 inference_feedback_manager.cc:114] Feedback manager requires a model with a single signature inference. Disabling support for feedback tensors.\n"
     ]
    },
    {
     "name": "stdout",
     "output_type": "stream",
     "text": [
      "Calculating time: 1.1917431354522705\n",
      "Landmarks time: 1.1909546852111816\n",
      "Check_landmarks time: 0.0002968311309814453\n",
      "Fragment: 11 from 610, mode: 'train'\n"
     ]
    },
    {
     "name": "stderr",
     "output_type": "stream",
     "text": [
      "I0000 00:00:1730661059.911573      17 task_runner.cc:85] GPU suport is not available: INTERNAL: ; RET_CHECK failure (mediapipe/gpu/gl_context_egl.cc:77) display != EGL_NO_DISPLAYeglGetDisplay() returned error 0x300c\n",
      "W0000 00:00:1730661060.009583     196 inference_feedback_manager.cc:114] Feedback manager requires a model with a single signature inference. Disabling support for feedback tensors.\n",
      "W0000 00:00:1730661060.057349     196 inference_feedback_manager.cc:114] Feedback manager requires a model with a single signature inference. Disabling support for feedback tensors.\n"
     ]
    },
    {
     "name": "stdout",
     "output_type": "stream",
     "text": [
      "Calculating time: 1.2068376541137695\n",
      "Landmarks time: 1.201495885848999\n",
      "Check_landmarks time: 0.0002751350402832031\n",
      "Fragment: 12 from 610, mode: 'train'\n"
     ]
    },
    {
     "name": "stderr",
     "output_type": "stream",
     "text": [
      "I0000 00:00:1730661061.380329      17 task_runner.cc:85] GPU suport is not available: INTERNAL: ; RET_CHECK failure (mediapipe/gpu/gl_context_egl.cc:77) display != EGL_NO_DISPLAYeglGetDisplay() returned error 0x300c\n",
      "W0000 00:00:1730661061.479769     203 inference_feedback_manager.cc:114] Feedback manager requires a model with a single signature inference. Disabling support for feedback tensors.\n",
      "W0000 00:00:1730661061.504933     205 inference_feedback_manager.cc:114] Feedback manager requires a model with a single signature inference. Disabling support for feedback tensors.\n"
     ]
    },
    {
     "name": "stdout",
     "output_type": "stream",
     "text": [
      "Calculating time: 1.2099666595458984\n",
      "Landmarks time: 1.2088687419891357\n",
      "Check_landmarks time: 0.0003075599670410156\n",
      "Fragment: 13 from 610, mode: 'train'\n"
     ]
    },
    {
     "name": "stderr",
     "output_type": "stream",
     "text": [
      "I0000 00:00:1730661062.904136      17 task_runner.cc:85] GPU suport is not available: INTERNAL: ; RET_CHECK failure (mediapipe/gpu/gl_context_egl.cc:77) display != EGL_NO_DISPLAYeglGetDisplay() returned error 0x300c\n",
      "W0000 00:00:1730661063.017032     214 inference_feedback_manager.cc:114] Feedback manager requires a model with a single signature inference. Disabling support for feedback tensors.\n",
      "W0000 00:00:1730661063.042964     213 inference_feedback_manager.cc:114] Feedback manager requires a model with a single signature inference. Disabling support for feedback tensors.\n"
     ]
    },
    {
     "name": "stdout",
     "output_type": "stream",
     "text": [
      "Calculating time: 1.2607591152191162\n",
      "Landmarks time: 1.25191330909729\n",
      "Check_landmarks time: 0.0002987384796142578\n",
      "Fragment: 14 from 610, mode: 'train'\n"
     ]
    },
    {
     "name": "stderr",
     "output_type": "stream",
     "text": [
      "I0000 00:00:1730661064.429320      17 task_runner.cc:85] GPU suport is not available: INTERNAL: ; RET_CHECK failure (mediapipe/gpu/gl_context_egl.cc:77) display != EGL_NO_DISPLAYeglGetDisplay() returned error 0x300c\n",
      "W0000 00:00:1730661064.527302     219 inference_feedback_manager.cc:114] Feedback manager requires a model with a single signature inference. Disabling support for feedback tensors.\n",
      "W0000 00:00:1730661064.563953     222 inference_feedback_manager.cc:114] Feedback manager requires a model with a single signature inference. Disabling support for feedback tensors.\n"
     ]
    },
    {
     "name": "stdout",
     "output_type": "stream",
     "text": [
      "Calculating time: 1.1954543590545654\n",
      "Landmarks time: 1.1923942565917969\n",
      "Check_landmarks time: 0.0002765655517578125\n",
      "Fragment: 15 from 610, mode: 'train'\n"
     ]
    },
    {
     "name": "stderr",
     "output_type": "stream",
     "text": [
      "I0000 00:00:1730661065.884117      17 task_runner.cc:85] GPU suport is not available: INTERNAL: ; RET_CHECK failure (mediapipe/gpu/gl_context_egl.cc:77) display != EGL_NO_DISPLAYeglGetDisplay() returned error 0x300c\n",
      "W0000 00:00:1730661065.985581     229 inference_feedback_manager.cc:114] Feedback manager requires a model with a single signature inference. Disabling support for feedback tensors.\n",
      "W0000 00:00:1730661066.032749     229 inference_feedback_manager.cc:114] Feedback manager requires a model with a single signature inference. Disabling support for feedback tensors.\n"
     ]
    },
    {
     "name": "stdout",
     "output_type": "stream",
     "text": [
      "Calculating time: 1.2363920211791992\n",
      "Landmarks time: 1.2355895042419434\n",
      "Check_landmarks time: 0.00030040740966796875\n",
      "Fragment: 16 from 610, mode: 'train'\n"
     ]
    },
    {
     "name": "stderr",
     "output_type": "stream",
     "text": [
      "I0000 00:00:1730661067.396465      17 task_runner.cc:85] GPU suport is not available: INTERNAL: ; RET_CHECK failure (mediapipe/gpu/gl_context_egl.cc:77) display != EGL_NO_DISPLAYeglGetDisplay() returned error 0x300c\n",
      "W0000 00:00:1730661067.495880     237 inference_feedback_manager.cc:114] Feedback manager requires a model with a single signature inference. Disabling support for feedback tensors.\n",
      "W0000 00:00:1730661067.521378     237 inference_feedback_manager.cc:114] Feedback manager requires a model with a single signature inference. Disabling support for feedback tensors.\n"
     ]
    },
    {
     "name": "stdout",
     "output_type": "stream",
     "text": [
      "Calculating time: 1.2340388298034668\n",
      "Landmarks time: 1.226945161819458\n",
      "Check_landmarks time: 0.0003399848937988281\n",
      "Fragment: 17 from 610, mode: 'train'\n"
     ]
    },
    {
     "name": "stderr",
     "output_type": "stream",
     "text": [
      "I0000 00:00:1730661068.884517      17 task_runner.cc:85] GPU suport is not available: INTERNAL: ; RET_CHECK failure (mediapipe/gpu/gl_context_egl.cc:77) display != EGL_NO_DISPLAYeglGetDisplay() returned error 0x300c\n",
      "W0000 00:00:1730661068.981328     244 inference_feedback_manager.cc:114] Feedback manager requires a model with a single signature inference. Disabling support for feedback tensors.\n",
      "W0000 00:00:1730661069.005781     246 inference_feedback_manager.cc:114] Feedback manager requires a model with a single signature inference. Disabling support for feedback tensors.\n"
     ]
    },
    {
     "name": "stdout",
     "output_type": "stream",
     "text": [
      "Calculating time: 1.243602991104126\n",
      "Landmarks time: 1.2404134273529053\n",
      "Check_landmarks time: 0.00028014183044433594\n",
      "Fragment: 18 from 610, mode: 'train'\n"
     ]
    },
    {
     "name": "stderr",
     "output_type": "stream",
     "text": [
      "I0000 00:00:1730661070.459834      17 task_runner.cc:85] GPU suport is not available: INTERNAL: ; RET_CHECK failure (mediapipe/gpu/gl_context_egl.cc:77) display != EGL_NO_DISPLAYeglGetDisplay() returned error 0x300c\n",
      "W0000 00:00:1730661070.563478     252 inference_feedback_manager.cc:114] Feedback manager requires a model with a single signature inference. Disabling support for feedback tensors.\n",
      "W0000 00:00:1730661070.588096     253 inference_feedback_manager.cc:114] Feedback manager requires a model with a single signature inference. Disabling support for feedback tensors.\n"
     ]
    },
    {
     "name": "stdout",
     "output_type": "stream",
     "text": [
      "Calculating time: 1.2741291522979736\n",
      "Landmarks time: 1.2730696201324463\n",
      "Check_landmarks time: 0.00029659271240234375\n",
      "Fragment: 19 from 610, mode: 'train'\n"
     ]
    },
    {
     "name": "stderr",
     "output_type": "stream",
     "text": [
      "I0000 00:00:1730661072.010011      17 task_runner.cc:85] GPU suport is not available: INTERNAL: ; RET_CHECK failure (mediapipe/gpu/gl_context_egl.cc:77) display != EGL_NO_DISPLAYeglGetDisplay() returned error 0x300c\n",
      "W0000 00:00:1730661072.108228     260 inference_feedback_manager.cc:114] Feedback manager requires a model with a single signature inference. Disabling support for feedback tensors.\n",
      "W0000 00:00:1730661072.132865     261 inference_feedback_manager.cc:114] Feedback manager requires a model with a single signature inference. Disabling support for feedback tensors.\n"
     ]
    },
    {
     "name": "stdout",
     "output_type": "stream",
     "text": [
      "Calculating time: 1.2705986499786377\n",
      "Landmarks time: 1.2632532119750977\n",
      "Check_landmarks time: 0.00031828880310058594\n",
      "Fragment: 20 from 610, mode: 'train'\n"
     ]
    },
    {
     "name": "stderr",
     "output_type": "stream",
     "text": [
      "I0000 00:00:1730661073.541304      17 task_runner.cc:85] GPU suport is not available: INTERNAL: ; RET_CHECK failure (mediapipe/gpu/gl_context_egl.cc:77) display != EGL_NO_DISPLAYeglGetDisplay() returned error 0x300c\n",
      "W0000 00:00:1730661073.640209     268 inference_feedback_manager.cc:114] Feedback manager requires a model with a single signature inference. Disabling support for feedback tensors.\n",
      "W0000 00:00:1730661073.687799     268 inference_feedback_manager.cc:114] Feedback manager requires a model with a single signature inference. Disabling support for feedback tensors.\n"
     ]
    },
    {
     "name": "stdout",
     "output_type": "stream",
     "text": [
      "Calculating time: 1.21628737449646\n",
      "Landmarks time: 1.2132108211517334\n",
      "Check_landmarks time: 0.0003421306610107422\n",
      "Fragment: 21 from 610, mode: 'train'\n"
     ]
    },
    {
     "name": "stderr",
     "output_type": "stream",
     "text": [
      "I0000 00:00:1730661075.013705      17 task_runner.cc:85] GPU suport is not available: INTERNAL: ; RET_CHECK failure (mediapipe/gpu/gl_context_egl.cc:77) display != EGL_NO_DISPLAYeglGetDisplay() returned error 0x300c\n",
      "W0000 00:00:1730661075.112008     278 inference_feedback_manager.cc:114] Feedback manager requires a model with a single signature inference. Disabling support for feedback tensors.\n",
      "W0000 00:00:1730661075.136356     277 inference_feedback_manager.cc:114] Feedback manager requires a model with a single signature inference. Disabling support for feedback tensors.\n"
     ]
    },
    {
     "name": "stdout",
     "output_type": "stream",
     "text": [
      "Calculating time: 1.2164311408996582\n",
      "Landmarks time: 1.2153027057647705\n",
      "Check_landmarks time: 0.0002918243408203125\n",
      "Fragment: 22 from 610, mode: 'train'\n"
     ]
    },
    {
     "name": "stderr",
     "output_type": "stream",
     "text": [
      "I0000 00:00:1730661076.510646      17 task_runner.cc:85] GPU suport is not available: INTERNAL: ; RET_CHECK failure (mediapipe/gpu/gl_context_egl.cc:77) display != EGL_NO_DISPLAYeglGetDisplay() returned error 0x300c\n",
      "W0000 00:00:1730661076.609933     284 inference_feedback_manager.cc:114] Feedback manager requires a model with a single signature inference. Disabling support for feedback tensors.\n",
      "W0000 00:00:1730661076.657395     284 inference_feedback_manager.cc:114] Feedback manager requires a model with a single signature inference. Disabling support for feedback tensors.\n"
     ]
    },
    {
     "name": "stdout",
     "output_type": "stream",
     "text": [
      "Calculating time: 1.2581233978271484\n",
      "Landmarks time: 1.250309705734253\n",
      "Check_landmarks time: 0.0002923011779785156\n",
      "Fragment: 23 from 610, mode: 'train'\n"
     ]
    },
    {
     "name": "stderr",
     "output_type": "stream",
     "text": [
      "I0000 00:00:1730661078.027793      17 task_runner.cc:85] GPU suport is not available: INTERNAL: ; RET_CHECK failure (mediapipe/gpu/gl_context_egl.cc:77) display != EGL_NO_DISPLAYeglGetDisplay() returned error 0x300c\n",
      "W0000 00:00:1730661078.126832     292 inference_feedback_manager.cc:114] Feedback manager requires a model with a single signature inference. Disabling support for feedback tensors.\n",
      "W0000 00:00:1730661078.178005     292 inference_feedback_manager.cc:114] Feedback manager requires a model with a single signature inference. Disabling support for feedback tensors.\n"
     ]
    },
    {
     "name": "stdout",
     "output_type": "stream",
     "text": [
      "Calculating time: 1.2111690044403076\n",
      "Landmarks time: 1.2079145908355713\n",
      "Check_landmarks time: 0.0002849102020263672\n",
      "Fragment: 24 from 610, mode: 'train'\n"
     ]
    },
    {
     "name": "stderr",
     "output_type": "stream",
     "text": [
      "I0000 00:00:1730661079.496999      17 task_runner.cc:85] GPU suport is not available: INTERNAL: ; RET_CHECK failure (mediapipe/gpu/gl_context_egl.cc:77) display != EGL_NO_DISPLAYeglGetDisplay() returned error 0x300c\n",
      "W0000 00:00:1730661079.595008     300 inference_feedback_manager.cc:114] Feedback manager requires a model with a single signature inference. Disabling support for feedback tensors.\n",
      "W0000 00:00:1730661079.619508     299 inference_feedback_manager.cc:114] Feedback manager requires a model with a single signature inference. Disabling support for feedback tensors.\n"
     ]
    },
    {
     "name": "stdout",
     "output_type": "stream",
     "text": [
      "Calculating time: 1.2112765312194824\n",
      "Landmarks time: 1.2104878425598145\n",
      "Check_landmarks time: 0.0002949237823486328\n",
      "Fragment: 25 from 610, mode: 'train'\n"
     ]
    },
    {
     "name": "stderr",
     "output_type": "stream",
     "text": [
      "I0000 00:00:1730661080.975147      17 task_runner.cc:85] GPU suport is not available: INTERNAL: ; RET_CHECK failure (mediapipe/gpu/gl_context_egl.cc:77) display != EGL_NO_DISPLAYeglGetDisplay() returned error 0x300c\n",
      "W0000 00:00:1730661081.071895     309 inference_feedback_manager.cc:114] Feedback manager requires a model with a single signature inference. Disabling support for feedback tensors.\n",
      "W0000 00:00:1730661081.097783     308 inference_feedback_manager.cc:114] Feedback manager requires a model with a single signature inference. Disabling support for feedback tensors.\n"
     ]
    },
    {
     "name": "stdout",
     "output_type": "stream",
     "text": [
      "Calculating time: 1.265904188156128\n",
      "Landmarks time: 1.257317066192627\n",
      "Check_landmarks time: 0.0006322860717773438\n",
      "Fragment: 26 from 610, mode: 'train'\n"
     ]
    },
    {
     "name": "stderr",
     "output_type": "stream",
     "text": [
      "I0000 00:00:1730661082.489926      17 task_runner.cc:85] GPU suport is not available: INTERNAL: ; RET_CHECK failure (mediapipe/gpu/gl_context_egl.cc:77) display != EGL_NO_DISPLAYeglGetDisplay() returned error 0x300c\n",
      "W0000 00:00:1730661082.587076     315 inference_feedback_manager.cc:114] Feedback manager requires a model with a single signature inference. Disabling support for feedback tensors.\n",
      "W0000 00:00:1730661082.617489     316 inference_feedback_manager.cc:114] Feedback manager requires a model with a single signature inference. Disabling support for feedback tensors.\n"
     ]
    },
    {
     "name": "stdout",
     "output_type": "stream",
     "text": [
      "Calculating time: 1.2096104621887207\n",
      "Landmarks time: 1.2065701484680176\n",
      "Check_landmarks time: 0.00028824806213378906\n",
      "Fragment: 27 from 610, mode: 'train'\n"
     ]
    },
    {
     "name": "stderr",
     "output_type": "stream",
     "text": [
      "I0000 00:00:1730661083.959942      17 task_runner.cc:85] GPU suport is not available: INTERNAL: ; RET_CHECK failure (mediapipe/gpu/gl_context_egl.cc:77) display != EGL_NO_DISPLAYeglGetDisplay() returned error 0x300c\n",
      "W0000 00:00:1730661084.057419     325 inference_feedback_manager.cc:114] Feedback manager requires a model with a single signature inference. Disabling support for feedback tensors.\n",
      "W0000 00:00:1730661084.088309     325 inference_feedback_manager.cc:114] Feedback manager requires a model with a single signature inference. Disabling support for feedback tensors.\n"
     ]
    },
    {
     "name": "stdout",
     "output_type": "stream",
     "text": [
      "Calculating time: 1.2302577495574951\n",
      "Landmarks time: 1.2291185855865479\n",
      "Check_landmarks time: 0.0002968311309814453\n",
      "Fragment: 28 from 610, mode: 'train'\n"
     ]
    },
    {
     "name": "stderr",
     "output_type": "stream",
     "text": [
      "I0000 00:00:1730661085.463988      17 task_runner.cc:85] GPU suport is not available: INTERNAL: ; RET_CHECK failure (mediapipe/gpu/gl_context_egl.cc:77) display != EGL_NO_DISPLAYeglGetDisplay() returned error 0x300c\n",
      "W0000 00:00:1730661085.561947     334 inference_feedback_manager.cc:114] Feedback manager requires a model with a single signature inference. Disabling support for feedback tensors.\n",
      "W0000 00:00:1730661085.586159     334 inference_feedback_manager.cc:114] Feedback manager requires a model with a single signature inference. Disabling support for feedback tensors.\n"
     ]
    },
    {
     "name": "stdout",
     "output_type": "stream",
     "text": [
      "Calculating time: 1.240539789199829\n",
      "Landmarks time: 1.2337067127227783\n",
      "Check_landmarks time: 0.00029850006103515625\n",
      "Fragment: 29 from 610, mode: 'train'\n"
     ]
    },
    {
     "name": "stderr",
     "output_type": "stream",
     "text": [
      "I0000 00:00:1730661086.965472      17 task_runner.cc:85] GPU suport is not available: INTERNAL: ; RET_CHECK failure (mediapipe/gpu/gl_context_egl.cc:77) display != EGL_NO_DISPLAYeglGetDisplay() returned error 0x300c\n",
      "W0000 00:00:1730661087.073184     342 inference_feedback_manager.cc:114] Feedback manager requires a model with a single signature inference. Disabling support for feedback tensors.\n",
      "W0000 00:00:1730661087.097265     341 inference_feedback_manager.cc:114] Feedback manager requires a model with a single signature inference. Disabling support for feedback tensors.\n"
     ]
    },
    {
     "name": "stdout",
     "output_type": "stream",
     "text": [
      "Calculating time: 1.1812200546264648\n",
      "Landmarks time: 1.178086280822754\n",
      "Check_landmarks time: 0.0002777576446533203\n",
      "Fragment: 30 from 610, mode: 'train'\n"
     ]
    },
    {
     "name": "stderr",
     "output_type": "stream",
     "text": [
      "I0000 00:00:1730661088.410757      17 task_runner.cc:85] GPU suport is not available: INTERNAL: ; RET_CHECK failure (mediapipe/gpu/gl_context_egl.cc:77) display != EGL_NO_DISPLAYeglGetDisplay() returned error 0x300c\n",
      "W0000 00:00:1730661088.519164     350 inference_feedback_manager.cc:114] Feedback manager requires a model with a single signature inference. Disabling support for feedback tensors.\n",
      "W0000 00:00:1730661088.554593     350 inference_feedback_manager.cc:114] Feedback manager requires a model with a single signature inference. Disabling support for feedback tensors.\n"
     ]
    },
    {
     "name": "stdout",
     "output_type": "stream",
     "text": [
      "Calculating time: 1.2268431186676025\n",
      "Landmarks time: 1.2260422706604004\n",
      "Check_landmarks time: 0.00029277801513671875\n",
      "Fragment: 31 from 610, mode: 'train'\n"
     ]
    },
    {
     "name": "stderr",
     "output_type": "stream",
     "text": [
      "I0000 00:00:1730661089.912525      17 task_runner.cc:85] GPU suport is not available: INTERNAL: ; RET_CHECK failure (mediapipe/gpu/gl_context_egl.cc:77) display != EGL_NO_DISPLAYeglGetDisplay() returned error 0x300c\n",
      "W0000 00:00:1730661090.019939     357 inference_feedback_manager.cc:114] Feedback manager requires a model with a single signature inference. Disabling support for feedback tensors.\n",
      "W0000 00:00:1730661090.044430     356 inference_feedback_manager.cc:114] Feedback manager requires a model with a single signature inference. Disabling support for feedback tensors.\n"
     ]
    },
    {
     "name": "stdout",
     "output_type": "stream",
     "text": [
      "Calculating time: 1.2547943592071533\n",
      "Landmarks time: 1.2474157810211182\n",
      "Check_landmarks time: 0.000301361083984375\n",
      "Fragment: 32 from 610, mode: 'train'\n"
     ]
    },
    {
     "name": "stderr",
     "output_type": "stream",
     "text": [
      "I0000 00:00:1730661091.436576      17 task_runner.cc:85] GPU suport is not available: INTERNAL: ; RET_CHECK failure (mediapipe/gpu/gl_context_egl.cc:77) display != EGL_NO_DISPLAYeglGetDisplay() returned error 0x300c\n",
      "W0000 00:00:1730661091.542992     364 inference_feedback_manager.cc:114] Feedback manager requires a model with a single signature inference. Disabling support for feedback tensors.\n",
      "W0000 00:00:1730661091.567363     366 inference_feedback_manager.cc:114] Feedback manager requires a model with a single signature inference. Disabling support for feedback tensors.\n"
     ]
    },
    {
     "name": "stdout",
     "output_type": "stream",
     "text": [
      "Calculating time: 1.197500228881836\n",
      "Landmarks time: 1.1935267448425293\n",
      "Check_landmarks time: 0.00033664703369140625\n",
      "Fragment: 33 from 610, mode: 'train'\n"
     ]
    },
    {
     "name": "stderr",
     "output_type": "stream",
     "text": [
      "I0000 00:00:1730661092.936851      17 task_runner.cc:85] GPU suport is not available: INTERNAL: ; RET_CHECK failure (mediapipe/gpu/gl_context_egl.cc:77) display != EGL_NO_DISPLAYeglGetDisplay() returned error 0x300c\n",
      "W0000 00:00:1730661093.035171     373 inference_feedback_manager.cc:114] Feedback manager requires a model with a single signature inference. Disabling support for feedback tensors.\n",
      "W0000 00:00:1730661093.059820     373 inference_feedback_manager.cc:114] Feedback manager requires a model with a single signature inference. Disabling support for feedback tensors.\n"
     ]
    },
    {
     "name": "stdout",
     "output_type": "stream",
     "text": [
      "Calculating time: 1.2341370582580566\n",
      "Landmarks time: 1.2333476543426514\n",
      "Check_landmarks time: 0.00031256675720214844\n",
      "Fragment: 34 from 610, mode: 'train'\n"
     ]
    },
    {
     "name": "stderr",
     "output_type": "stream",
     "text": [
      "I0000 00:00:1730661094.464200      17 task_runner.cc:85] GPU suport is not available: INTERNAL: ; RET_CHECK failure (mediapipe/gpu/gl_context_egl.cc:77) display != EGL_NO_DISPLAYeglGetDisplay() returned error 0x300c\n",
      "W0000 00:00:1730661094.580356     382 inference_feedback_manager.cc:114] Feedback manager requires a model with a single signature inference. Disabling support for feedback tensors.\n",
      "W0000 00:00:1730661094.605238     381 inference_feedback_manager.cc:114] Feedback manager requires a model with a single signature inference. Disabling support for feedback tensors.\n"
     ]
    },
    {
     "name": "stdout",
     "output_type": "stream",
     "text": [
      "Calculating time: 1.2612524032592773\n",
      "Landmarks time: 1.2536613941192627\n",
      "Check_landmarks time: 0.00030422210693359375\n",
      "Fragment: 35 from 610, mode: 'train'\n"
     ]
    },
    {
     "name": "stderr",
     "output_type": "stream",
     "text": [
      "I0000 00:00:1730661095.986417      17 task_runner.cc:85] GPU suport is not available: INTERNAL: ; RET_CHECK failure (mediapipe/gpu/gl_context_egl.cc:77) display != EGL_NO_DISPLAYeglGetDisplay() returned error 0x300c\n",
      "W0000 00:00:1730661096.083582     388 inference_feedback_manager.cc:114] Feedback manager requires a model with a single signature inference. Disabling support for feedback tensors.\n",
      "W0000 00:00:1730661096.124708     387 inference_feedback_manager.cc:114] Feedback manager requires a model with a single signature inference. Disabling support for feedback tensors.\n"
     ]
    },
    {
     "name": "stdout",
     "output_type": "stream",
     "text": [
      "Calculating time: 1.2039403915405273\n",
      "Landmarks time: 1.2001373767852783\n",
      "Check_landmarks time: 0.0002930164337158203\n",
      "Fragment: 36 from 610, mode: 'train'\n"
     ]
    },
    {
     "name": "stderr",
     "output_type": "stream",
     "text": [
      "I0000 00:00:1730661097.446083      17 task_runner.cc:85] GPU suport is not available: INTERNAL: ; RET_CHECK failure (mediapipe/gpu/gl_context_egl.cc:77) display != EGL_NO_DISPLAYeglGetDisplay() returned error 0x300c\n",
      "W0000 00:00:1730661097.545079     395 inference_feedback_manager.cc:114] Feedback manager requires a model with a single signature inference. Disabling support for feedback tensors.\n",
      "W0000 00:00:1730661097.569503     395 inference_feedback_manager.cc:114] Feedback manager requires a model with a single signature inference. Disabling support for feedback tensors.\n"
     ]
    },
    {
     "name": "stdout",
     "output_type": "stream",
     "text": [
      "Calculating time: 1.236469030380249\n",
      "Landmarks time: 1.2348101139068604\n",
      "Check_landmarks time: 0.0008358955383300781\n",
      "Fragment: 37 from 610, mode: 'train'\n"
     ]
    },
    {
     "name": "stderr",
     "output_type": "stream",
     "text": [
      "I0000 00:00:1730661098.958328      17 task_runner.cc:85] GPU suport is not available: INTERNAL: ; RET_CHECK failure (mediapipe/gpu/gl_context_egl.cc:77) display != EGL_NO_DISPLAYeglGetDisplay() returned error 0x300c\n",
      "W0000 00:00:1730661099.055655     403 inference_feedback_manager.cc:114] Feedback manager requires a model with a single signature inference. Disabling support for feedback tensors.\n",
      "W0000 00:00:1730661099.104171     404 inference_feedback_manager.cc:114] Feedback manager requires a model with a single signature inference. Disabling support for feedback tensors.\n"
     ]
    },
    {
     "name": "stdout",
     "output_type": "stream",
     "text": [
      "Calculating time: 1.2819397449493408\n",
      "Landmarks time: 1.2749567031860352\n",
      "Check_landmarks time: 0.00031447410583496094\n",
      "Fragment: 38 from 610, mode: 'train'\n"
     ]
    },
    {
     "name": "stderr",
     "output_type": "stream",
     "text": [
      "I0000 00:00:1730661100.501179      17 task_runner.cc:85] GPU suport is not available: INTERNAL: ; RET_CHECK failure (mediapipe/gpu/gl_context_egl.cc:77) display != EGL_NO_DISPLAYeglGetDisplay() returned error 0x300c\n",
      "W0000 00:00:1730661100.598165     411 inference_feedback_manager.cc:114] Feedback manager requires a model with a single signature inference. Disabling support for feedback tensors.\n",
      "W0000 00:00:1730661100.622309     413 inference_feedback_manager.cc:114] Feedback manager requires a model with a single signature inference. Disabling support for feedback tensors.\n"
     ]
    },
    {
     "name": "stdout",
     "output_type": "stream",
     "text": [
      "Calculating time: 1.18937349319458\n",
      "Landmarks time: 1.1864752769470215\n",
      "Check_landmarks time: 0.00028204917907714844\n",
      "Fragment: 39 from 610, mode: 'train'\n"
     ]
    },
    {
     "name": "stderr",
     "output_type": "stream",
     "text": [
      "I0000 00:00:1730661102.034251      17 task_runner.cc:85] GPU suport is not available: INTERNAL: ; RET_CHECK failure (mediapipe/gpu/gl_context_egl.cc:77) display != EGL_NO_DISPLAYeglGetDisplay() returned error 0x300c\n",
      "W0000 00:00:1730661102.138148     421 inference_feedback_manager.cc:114] Feedback manager requires a model with a single signature inference. Disabling support for feedback tensors.\n",
      "W0000 00:00:1730661102.162881     422 inference_feedback_manager.cc:114] Feedback manager requires a model with a single signature inference. Disabling support for feedback tensors.\n"
     ]
    },
    {
     "name": "stdout",
     "output_type": "stream",
     "text": [
      "Calculating time: 1.325301170349121\n",
      "Landmarks time: 1.3245048522949219\n",
      "Check_landmarks time: 0.0002987384796142578\n",
      "Fragment: 40 from 610, mode: 'train'\n"
     ]
    },
    {
     "name": "stderr",
     "output_type": "stream",
     "text": [
      "I0000 00:00:1730661103.646717      17 task_runner.cc:85] GPU suport is not available: INTERNAL: ; RET_CHECK failure (mediapipe/gpu/gl_context_egl.cc:77) display != EGL_NO_DISPLAYeglGetDisplay() returned error 0x300c\n",
      "W0000 00:00:1730661103.755550     427 inference_feedback_manager.cc:114] Feedback manager requires a model with a single signature inference. Disabling support for feedback tensors.\n",
      "W0000 00:00:1730661103.787610     430 inference_feedback_manager.cc:114] Feedback manager requires a model with a single signature inference. Disabling support for feedback tensors.\n"
     ]
    },
    {
     "name": "stdout",
     "output_type": "stream",
     "text": [
      "Calculating time: 1.2515039443969727\n",
      "Landmarks time: 1.2437338829040527\n",
      "Check_landmarks time: 0.0003025531768798828\n",
      "Fragment: 41 from 610, mode: 'train'\n"
     ]
    },
    {
     "name": "stderr",
     "output_type": "stream",
     "text": [
      "I0000 00:00:1730661105.149235      17 task_runner.cc:85] GPU suport is not available: INTERNAL: ; RET_CHECK failure (mediapipe/gpu/gl_context_egl.cc:77) display != EGL_NO_DISPLAYeglGetDisplay() returned error 0x300c\n",
      "W0000 00:00:1730661105.258804     436 inference_feedback_manager.cc:114] Feedback manager requires a model with a single signature inference. Disabling support for feedback tensors.\n",
      "W0000 00:00:1730661105.289585     435 inference_feedback_manager.cc:114] Feedback manager requires a model with a single signature inference. Disabling support for feedback tensors.\n"
     ]
    },
    {
     "name": "stdout",
     "output_type": "stream",
     "text": [
      "Calculating time: 1.1952941417694092\n",
      "Landmarks time: 1.1922078132629395\n",
      "Check_landmarks time: 0.000286102294921875\n",
      "Fragment: 42 from 610, mode: 'train'\n"
     ]
    },
    {
     "name": "stderr",
     "output_type": "stream",
     "text": [
      "I0000 00:00:1730661106.603435      17 task_runner.cc:85] GPU suport is not available: INTERNAL: ; RET_CHECK failure (mediapipe/gpu/gl_context_egl.cc:77) display != EGL_NO_DISPLAYeglGetDisplay() returned error 0x300c\n",
      "W0000 00:00:1730661106.703451     446 inference_feedback_manager.cc:114] Feedback manager requires a model with a single signature inference. Disabling support for feedback tensors.\n",
      "W0000 00:00:1730661106.747917     446 inference_feedback_manager.cc:114] Feedback manager requires a model with a single signature inference. Disabling support for feedback tensors.\n"
     ]
    },
    {
     "name": "stdout",
     "output_type": "stream",
     "text": [
      "Calculating time: 1.2250428199768066\n",
      "Landmarks time: 1.224203109741211\n",
      "Check_landmarks time: 0.00028896331787109375\n",
      "Fragment: 43 from 610, mode: 'train'\n"
     ]
    },
    {
     "name": "stderr",
     "output_type": "stream",
     "text": [
      "I0000 00:00:1730661108.104204      17 task_runner.cc:85] GPU suport is not available: INTERNAL: ; RET_CHECK failure (mediapipe/gpu/gl_context_egl.cc:77) display != EGL_NO_DISPLAYeglGetDisplay() returned error 0x300c\n",
      "W0000 00:00:1730661108.213133     452 inference_feedback_manager.cc:114] Feedback manager requires a model with a single signature inference. Disabling support for feedback tensors.\n",
      "W0000 00:00:1730661108.245632     451 inference_feedback_manager.cc:114] Feedback manager requires a model with a single signature inference. Disabling support for feedback tensors.\n"
     ]
    },
    {
     "name": "stdout",
     "output_type": "stream",
     "text": [
      "Calculating time: 1.2560219764709473\n",
      "Landmarks time: 1.24859619140625\n",
      "Check_landmarks time: 0.00029349327087402344\n",
      "Fragment: 44 from 610, mode: 'train'\n"
     ]
    },
    {
     "name": "stderr",
     "output_type": "stream",
     "text": [
      "I0000 00:00:1730661109.613309      17 task_runner.cc:85] GPU suport is not available: INTERNAL: ; RET_CHECK failure (mediapipe/gpu/gl_context_egl.cc:77) display != EGL_NO_DISPLAYeglGetDisplay() returned error 0x300c\n",
      "W0000 00:00:1730661109.710622     460 inference_feedback_manager.cc:114] Feedback manager requires a model with a single signature inference. Disabling support for feedback tensors.\n",
      "W0000 00:00:1730661109.740871     462 inference_feedback_manager.cc:114] Feedback manager requires a model with a single signature inference. Disabling support for feedback tensors.\n"
     ]
    },
    {
     "name": "stdout",
     "output_type": "stream",
     "text": [
      "Calculating time: 1.2071239948272705\n",
      "Landmarks time: 1.2037575244903564\n",
      "Check_landmarks time: 0.0006263256072998047\n",
      "Fragment: 45 from 610, mode: 'train'\n"
     ]
    },
    {
     "name": "stderr",
     "output_type": "stream",
     "text": [
      "I0000 00:00:1730661111.083461      17 task_runner.cc:85] GPU suport is not available: INTERNAL: ; RET_CHECK failure (mediapipe/gpu/gl_context_egl.cc:77) display != EGL_NO_DISPLAYeglGetDisplay() returned error 0x300c\n",
      "W0000 00:00:1730661111.181128     468 inference_feedback_manager.cc:114] Feedback manager requires a model with a single signature inference. Disabling support for feedback tensors.\n",
      "W0000 00:00:1730661111.205429     470 inference_feedback_manager.cc:114] Feedback manager requires a model with a single signature inference. Disabling support for feedback tensors.\n"
     ]
    },
    {
     "name": "stdout",
     "output_type": "stream",
     "text": [
      "Calculating time: 1.2050111293792725\n",
      "Landmarks time: 1.2036058902740479\n",
      "Check_landmarks time: 0.0006103515625\n",
      "Fragment: 46 from 610, mode: 'train'\n"
     ]
    },
    {
     "name": "stderr",
     "output_type": "stream",
     "text": [
      "I0000 00:00:1730661112.558574      17 task_runner.cc:85] GPU suport is not available: INTERNAL: ; RET_CHECK failure (mediapipe/gpu/gl_context_egl.cc:77) display != EGL_NO_DISPLAYeglGetDisplay() returned error 0x300c\n",
      "W0000 00:00:1730661112.667061     476 inference_feedback_manager.cc:114] Feedback manager requires a model with a single signature inference. Disabling support for feedback tensors.\n",
      "W0000 00:00:1730661112.691342     475 inference_feedback_manager.cc:114] Feedback manager requires a model with a single signature inference. Disabling support for feedback tensors.\n"
     ]
    },
    {
     "name": "stdout",
     "output_type": "stream",
     "text": [
      "Calculating time: 1.3094205856323242\n",
      "Landmarks time: 1.3024225234985352\n",
      "Check_landmarks time: 0.0008111000061035156\n",
      "Fragment: 47 from 610, mode: 'train'\n"
     ]
    },
    {
     "name": "stderr",
     "output_type": "stream",
     "text": [
      "I0000 00:00:1730661114.125597      17 task_runner.cc:85] GPU suport is not available: INTERNAL: ; RET_CHECK failure (mediapipe/gpu/gl_context_egl.cc:77) display != EGL_NO_DISPLAYeglGetDisplay() returned error 0x300c\n",
      "W0000 00:00:1730661114.224572     484 inference_feedback_manager.cc:114] Feedback manager requires a model with a single signature inference. Disabling support for feedback tensors.\n",
      "W0000 00:00:1730661114.248836     486 inference_feedback_manager.cc:114] Feedback manager requires a model with a single signature inference. Disabling support for feedback tensors.\n"
     ]
    },
    {
     "name": "stdout",
     "output_type": "stream",
     "text": [
      "Calculating time: 1.2350966930389404\n",
      "Landmarks time: 1.2313294410705566\n",
      "Check_landmarks time: 0.0008096694946289062\n",
      "Fragment: 48 from 610, mode: 'train'\n"
     ]
    },
    {
     "name": "stderr",
     "output_type": "stream",
     "text": [
      "I0000 00:00:1730661115.618600      17 task_runner.cc:85] GPU suport is not available: INTERNAL: ; RET_CHECK failure (mediapipe/gpu/gl_context_egl.cc:77) display != EGL_NO_DISPLAYeglGetDisplay() returned error 0x300c\n",
      "W0000 00:00:1730661115.716756     492 inference_feedback_manager.cc:114] Feedback manager requires a model with a single signature inference. Disabling support for feedback tensors.\n",
      "W0000 00:00:1730661115.747812     492 inference_feedback_manager.cc:114] Feedback manager requires a model with a single signature inference. Disabling support for feedback tensors.\n"
     ]
    },
    {
     "name": "stdout",
     "output_type": "stream",
     "text": [
      "Calculating time: 1.29624342918396\n",
      "Landmarks time: 1.294316053390503\n",
      "Check_landmarks time: 0.0010399818420410156\n",
      "Fragment: 49 from 610, mode: 'train'\n"
     ]
    },
    {
     "name": "stderr",
     "output_type": "stream",
     "text": [
      "I0000 00:00:1730661117.184658      17 task_runner.cc:85] GPU suport is not available: INTERNAL: ; RET_CHECK failure (mediapipe/gpu/gl_context_egl.cc:77) display != EGL_NO_DISPLAYeglGetDisplay() returned error 0x300c\n",
      "W0000 00:00:1730661117.293871     500 inference_feedback_manager.cc:114] Feedback manager requires a model with a single signature inference. Disabling support for feedback tensors.\n",
      "W0000 00:00:1730661117.331041     500 inference_feedback_manager.cc:114] Feedback manager requires a model with a single signature inference. Disabling support for feedback tensors.\n"
     ]
    },
    {
     "name": "stdout",
     "output_type": "stream",
     "text": [
      "Calculating time: 1.3859190940856934\n",
      "Landmarks time: 1.37758207321167\n",
      "Check_landmarks time: 0.001650094985961914\n",
      "Fragment: 50 from 610, mode: 'train'\n"
     ]
    },
    {
     "name": "stderr",
     "output_type": "stream",
     "text": [
      "I0000 00:00:1730661118.825963      17 task_runner.cc:85] GPU suport is not available: INTERNAL: ; RET_CHECK failure (mediapipe/gpu/gl_context_egl.cc:77) display != EGL_NO_DISPLAYeglGetDisplay() returned error 0x300c\n",
      "W0000 00:00:1730661118.923308     510 inference_feedback_manager.cc:114] Feedback manager requires a model with a single signature inference. Disabling support for feedback tensors.\n",
      "W0000 00:00:1730661118.953842     508 inference_feedback_manager.cc:114] Feedback manager requires a model with a single signature inference. Disabling support for feedback tensors.\n"
     ]
    },
    {
     "name": "stdout",
     "output_type": "stream",
     "text": [
      "Calculating time: 1.2145297527313232\n",
      "Landmarks time: 1.210660696029663\n",
      "Check_landmarks time: 0.0006618499755859375\n",
      "Fragment: 51 from 610, mode: 'train'\n"
     ]
    },
    {
     "name": "stderr",
     "output_type": "stream",
     "text": [
      "I0000 00:00:1730661120.303395      17 task_runner.cc:85] GPU suport is not available: INTERNAL: ; RET_CHECK failure (mediapipe/gpu/gl_context_egl.cc:77) display != EGL_NO_DISPLAYeglGetDisplay() returned error 0x300c\n",
      "W0000 00:00:1730661120.413583     518 inference_feedback_manager.cc:114] Feedback manager requires a model with a single signature inference. Disabling support for feedback tensors.\n",
      "W0000 00:00:1730661120.438191     515 inference_feedback_manager.cc:114] Feedback manager requires a model with a single signature inference. Disabling support for feedback tensors.\n"
     ]
    },
    {
     "name": "stdout",
     "output_type": "stream",
     "text": [
      "Calculating time: 1.2136023044586182\n",
      "Landmarks time: 1.2127869129180908\n",
      "Check_landmarks time: 0.0003197193145751953\n",
      "Fragment: 52 from 610, mode: 'train'\n"
     ]
    },
    {
     "name": "stderr",
     "output_type": "stream",
     "text": [
      "I0000 00:00:1730661121.787085      17 task_runner.cc:85] GPU suport is not available: INTERNAL: ; RET_CHECK failure (mediapipe/gpu/gl_context_egl.cc:77) display != EGL_NO_DISPLAYeglGetDisplay() returned error 0x300c\n",
      "W0000 00:00:1730661121.884359     524 inference_feedback_manager.cc:114] Feedback manager requires a model with a single signature inference. Disabling support for feedback tensors.\n",
      "W0000 00:00:1730661121.908731     526 inference_feedback_manager.cc:114] Feedback manager requires a model with a single signature inference. Disabling support for feedback tensors.\n"
     ]
    },
    {
     "name": "stdout",
     "output_type": "stream",
     "text": [
      "Calculating time: 1.246999979019165\n",
      "Landmarks time: 1.2406632900238037\n",
      "Check_landmarks time: 0.0003008842468261719\n",
      "Fragment: 53 from 610, mode: 'train'\n"
     ]
    },
    {
     "name": "stderr",
     "output_type": "stream",
     "text": [
      "I0000 00:00:1730661123.295477      17 task_runner.cc:85] GPU suport is not available: INTERNAL: ; RET_CHECK failure (mediapipe/gpu/gl_context_egl.cc:77) display != EGL_NO_DISPLAYeglGetDisplay() returned error 0x300c\n",
      "W0000 00:00:1730661123.393320     533 inference_feedback_manager.cc:114] Feedback manager requires a model with a single signature inference. Disabling support for feedback tensors.\n",
      "W0000 00:00:1730661123.417628     533 inference_feedback_manager.cc:114] Feedback manager requires a model with a single signature inference. Disabling support for feedback tensors.\n"
     ]
    },
    {
     "name": "stdout",
     "output_type": "stream",
     "text": [
      "Calculating time: 1.1870646476745605\n",
      "Landmarks time: 1.1831965446472168\n",
      "Check_landmarks time: 0.0002853870391845703\n",
      "Fragment: 54 from 610, mode: 'train'\n"
     ]
    },
    {
     "name": "stderr",
     "output_type": "stream",
     "text": [
      "I0000 00:00:1730661124.746559      17 task_runner.cc:85] GPU suport is not available: INTERNAL: ; RET_CHECK failure (mediapipe/gpu/gl_context_egl.cc:77) display != EGL_NO_DISPLAYeglGetDisplay() returned error 0x300c\n",
      "W0000 00:00:1730661124.845834     541 inference_feedback_manager.cc:114] Feedback manager requires a model with a single signature inference. Disabling support for feedback tensors.\n",
      "W0000 00:00:1730661124.878763     540 inference_feedback_manager.cc:114] Feedback manager requires a model with a single signature inference. Disabling support for feedback tensors.\n"
     ]
    },
    {
     "name": "stdout",
     "output_type": "stream",
     "text": [
      "Calculating time: 1.219404697418213\n",
      "Landmarks time: 1.2185800075531006\n",
      "Check_landmarks time: 0.00030803680419921875\n",
      "Fragment: 55 from 610, mode: 'train'\n"
     ]
    },
    {
     "name": "stderr",
     "output_type": "stream",
     "text": [
      "I0000 00:00:1730661126.232750      17 task_runner.cc:85] GPU suport is not available: INTERNAL: ; RET_CHECK failure (mediapipe/gpu/gl_context_egl.cc:77) display != EGL_NO_DISPLAYeglGetDisplay() returned error 0x300c\n",
      "W0000 00:00:1730661126.331764     548 inference_feedback_manager.cc:114] Feedback manager requires a model with a single signature inference. Disabling support for feedback tensors.\n",
      "W0000 00:00:1730661126.356285     547 inference_feedback_manager.cc:114] Feedback manager requires a model with a single signature inference. Disabling support for feedback tensors.\n"
     ]
    },
    {
     "name": "stdout",
     "output_type": "stream",
     "text": [
      "Calculating time: 1.2396347522735596\n",
      "Landmarks time: 1.2321105003356934\n",
      "Check_landmarks time: 0.00029659271240234375\n",
      "Fragment: 56 from 610, mode: 'train'\n"
     ]
    },
    {
     "name": "stderr",
     "output_type": "stream",
     "text": [
      "I0000 00:00:1730661127.733689      17 task_runner.cc:85] GPU suport is not available: INTERNAL: ; RET_CHECK failure (mediapipe/gpu/gl_context_egl.cc:77) display != EGL_NO_DISPLAYeglGetDisplay() returned error 0x300c\n",
      "W0000 00:00:1730661127.842327     555 inference_feedback_manager.cc:114] Feedback manager requires a model with a single signature inference. Disabling support for feedback tensors.\n",
      "W0000 00:00:1730661127.876982     555 inference_feedback_manager.cc:114] Feedback manager requires a model with a single signature inference. Disabling support for feedback tensors.\n"
     ]
    },
    {
     "name": "stdout",
     "output_type": "stream",
     "text": [
      "Calculating time: 1.2010085582733154\n",
      "Landmarks time: 1.198110580444336\n",
      "Check_landmarks time: 0.00028395652770996094\n",
      "Fragment: 57 from 610, mode: 'train'\n"
     ]
    },
    {
     "name": "stderr",
     "output_type": "stream",
     "text": [
      "I0000 00:00:1730661129.192207      17 task_runner.cc:85] GPU suport is not available: INTERNAL: ; RET_CHECK failure (mediapipe/gpu/gl_context_egl.cc:77) display != EGL_NO_DISPLAYeglGetDisplay() returned error 0x300c\n",
      "W0000 00:00:1730661129.291569     564 inference_feedback_manager.cc:114] Feedback manager requires a model with a single signature inference. Disabling support for feedback tensors.\n",
      "W0000 00:00:1730661129.316343     566 inference_feedback_manager.cc:114] Feedback manager requires a model with a single signature inference. Disabling support for feedback tensors.\n"
     ]
    },
    {
     "name": "stdout",
     "output_type": "stream",
     "text": [
      "Calculating time: 1.2185394763946533\n",
      "Landmarks time: 1.2177579402923584\n",
      "Check_landmarks time: 0.0002925395965576172\n",
      "Fragment: 58 from 610, mode: 'train'\n"
     ]
    },
    {
     "name": "stderr",
     "output_type": "stream",
     "text": [
      "I0000 00:00:1730661130.681231      17 task_runner.cc:85] GPU suport is not available: INTERNAL: ; RET_CHECK failure (mediapipe/gpu/gl_context_egl.cc:77) display != EGL_NO_DISPLAYeglGetDisplay() returned error 0x300c\n",
      "W0000 00:00:1730661130.789699     573 inference_feedback_manager.cc:114] Feedback manager requires a model with a single signature inference. Disabling support for feedback tensors.\n",
      "W0000 00:00:1730661130.814373     574 inference_feedback_manager.cc:114] Feedback manager requires a model with a single signature inference. Disabling support for feedback tensors.\n"
     ]
    },
    {
     "name": "stdout",
     "output_type": "stream",
     "text": [
      "Calculating time: 1.214179277420044\n",
      "Landmarks time: 1.2047085762023926\n",
      "Check_landmarks time: 0.001918792724609375\n",
      "Fragment: 59 from 610, mode: 'train'\n"
     ]
    },
    {
     "name": "stderr",
     "output_type": "stream",
     "text": [
      "I0000 00:00:1730661132.151429      17 task_runner.cc:85] GPU suport is not available: INTERNAL: ; RET_CHECK failure (mediapipe/gpu/gl_context_egl.cc:77) display != EGL_NO_DISPLAYeglGetDisplay() returned error 0x300c\n",
      "W0000 00:00:1730661132.259222     579 inference_feedback_manager.cc:114] Feedback manager requires a model with a single signature inference. Disabling support for feedback tensors.\n",
      "W0000 00:00:1730661132.290193     579 inference_feedback_manager.cc:114] Feedback manager requires a model with a single signature inference. Disabling support for feedback tensors.\n"
     ]
    },
    {
     "name": "stdout",
     "output_type": "stream",
     "text": [
      "Calculating time: 1.222524881362915\n",
      "Landmarks time: 1.2196056842803955\n",
      "Check_landmarks time: 0.0002760887145996094\n",
      "Fragment: 60 from 610, mode: 'train'\n"
     ]
    },
    {
     "name": "stderr",
     "output_type": "stream",
     "text": [
      "I0000 00:00:1730661133.638084      17 task_runner.cc:85] GPU suport is not available: INTERNAL: ; RET_CHECK failure (mediapipe/gpu/gl_context_egl.cc:77) display != EGL_NO_DISPLAYeglGetDisplay() returned error 0x300c\n",
      "W0000 00:00:1730661133.760635     587 inference_feedback_manager.cc:114] Feedback manager requires a model with a single signature inference. Disabling support for feedback tensors.\n",
      "W0000 00:00:1730661133.790443     590 inference_feedback_manager.cc:114] Feedback manager requires a model with a single signature inference. Disabling support for feedback tensors.\n"
     ]
    },
    {
     "name": "stdout",
     "output_type": "stream",
     "text": [
      "Calculating time: 1.3029272556304932\n",
      "Landmarks time: 1.3014309406280518\n",
      "Check_landmarks time: 0.0010247230529785156\n",
      "Fragment: 61 from 610, mode: 'train'\n"
     ]
    },
    {
     "name": "stderr",
     "output_type": "stream",
     "text": [
      "I0000 00:00:1730661135.289202      17 task_runner.cc:85] GPU suport is not available: INTERNAL: ; RET_CHECK failure (mediapipe/gpu/gl_context_egl.cc:77) display != EGL_NO_DISPLAYeglGetDisplay() returned error 0x300c\n",
      "W0000 00:00:1730661135.398887     596 inference_feedback_manager.cc:114] Feedback manager requires a model with a single signature inference. Disabling support for feedback tensors.\n",
      "W0000 00:00:1730661135.434416     596 inference_feedback_manager.cc:114] Feedback manager requires a model with a single signature inference. Disabling support for feedback tensors.\n"
     ]
    },
    {
     "name": "stdout",
     "output_type": "stream",
     "text": [
      "Calculating time: 1.251676321029663\n",
      "Landmarks time: 1.2435040473937988\n",
      "Check_landmarks time: 0.0003044605255126953\n",
      "Fragment: 62 from 610, mode: 'train'\n"
     ]
    },
    {
     "name": "stderr",
     "output_type": "stream",
     "text": [
      "I0000 00:00:1730661136.805484      17 task_runner.cc:85] GPU suport is not available: INTERNAL: ; RET_CHECK failure (mediapipe/gpu/gl_context_egl.cc:77) display != EGL_NO_DISPLAYeglGetDisplay() returned error 0x300c\n",
      "W0000 00:00:1730661136.902267     605 inference_feedback_manager.cc:114] Feedback manager requires a model with a single signature inference. Disabling support for feedback tensors.\n",
      "W0000 00:00:1730661136.934680     603 inference_feedback_manager.cc:114] Feedback manager requires a model with a single signature inference. Disabling support for feedback tensors.\n"
     ]
    },
    {
     "name": "stdout",
     "output_type": "stream",
     "text": [
      "Calculating time: 1.1520705223083496\n",
      "Landmarks time: 1.1488730907440186\n",
      "Check_landmarks time: 0.00031256675720214844\n",
      "Fragment: 63 from 610, mode: 'train'\n"
     ]
    },
    {
     "name": "stderr",
     "output_type": "stream",
     "text": [
      "I0000 00:00:1730661138.223405      17 task_runner.cc:85] GPU suport is not available: INTERNAL: ; RET_CHECK failure (mediapipe/gpu/gl_context_egl.cc:77) display != EGL_NO_DISPLAYeglGetDisplay() returned error 0x300c\n",
      "W0000 00:00:1730661138.321993     612 inference_feedback_manager.cc:114] Feedback manager requires a model with a single signature inference. Disabling support for feedback tensors.\n",
      "W0000 00:00:1730661138.346352     613 inference_feedback_manager.cc:114] Feedback manager requires a model with a single signature inference. Disabling support for feedback tensors.\n"
     ]
    },
    {
     "name": "stdout",
     "output_type": "stream",
     "text": [
      "Calculating time: 1.2020037174224854\n",
      "Landmarks time: 1.1989305019378662\n",
      "Check_landmarks time: 0.00030517578125\n",
      "Fragment: 64 from 610, mode: 'train'\n"
     ]
    },
    {
     "name": "stderr",
     "output_type": "stream",
     "text": [
      "I0000 00:00:1730661139.705944      17 task_runner.cc:85] GPU suport is not available: INTERNAL: ; RET_CHECK failure (mediapipe/gpu/gl_context_egl.cc:77) display != EGL_NO_DISPLAYeglGetDisplay() returned error 0x300c\n",
      "W0000 00:00:1730661139.805232     620 inference_feedback_manager.cc:114] Feedback manager requires a model with a single signature inference. Disabling support for feedback tensors.\n",
      "W0000 00:00:1730661139.831425     620 inference_feedback_manager.cc:114] Feedback manager requires a model with a single signature inference. Disabling support for feedback tensors.\n"
     ]
    },
    {
     "name": "stdout",
     "output_type": "stream",
     "text": [
      "Calculating time: 1.239938735961914\n",
      "Landmarks time: 1.236684799194336\n",
      "Check_landmarks time: 0.0002932548522949219\n",
      "Fragment: 65 from 610, mode: 'train'\n"
     ]
    },
    {
     "name": "stderr",
     "output_type": "stream",
     "text": [
      "I0000 00:00:1730661141.218239      17 task_runner.cc:85] GPU suport is not available: INTERNAL: ; RET_CHECK failure (mediapipe/gpu/gl_context_egl.cc:77) display != EGL_NO_DISPLAYeglGetDisplay() returned error 0x300c\n",
      "W0000 00:00:1730661141.315404     628 inference_feedback_manager.cc:114] Feedback manager requires a model with a single signature inference. Disabling support for feedback tensors.\n",
      "W0000 00:00:1730661141.340734     628 inference_feedback_manager.cc:114] Feedback manager requires a model with a single signature inference. Disabling support for feedback tensors.\n"
     ]
    },
    {
     "name": "stdout",
     "output_type": "stream",
     "text": [
      "Calculating time: 1.1740708351135254\n",
      "Landmarks time: 1.170792818069458\n",
      "Check_landmarks time: 0.0002923011779785156\n",
      "Fragment: 66 from 610, mode: 'train'\n"
     ]
    },
    {
     "name": "stderr",
     "output_type": "stream",
     "text": [
      "I0000 00:00:1730661142.660338      17 task_runner.cc:85] GPU suport is not available: INTERNAL: ; RET_CHECK failure (mediapipe/gpu/gl_context_egl.cc:77) display != EGL_NO_DISPLAYeglGetDisplay() returned error 0x300c\n",
      "W0000 00:00:1730661142.762235     638 inference_feedback_manager.cc:114] Feedback manager requires a model with a single signature inference. Disabling support for feedback tensors.\n",
      "W0000 00:00:1730661142.793390     637 inference_feedback_manager.cc:114] Feedback manager requires a model with a single signature inference. Disabling support for feedback tensors.\n"
     ]
    },
    {
     "name": "stdout",
     "output_type": "stream",
     "text": [
      "Calculating time: 1.2645208835601807\n",
      "Landmarks time: 1.2609872817993164\n",
      "Check_landmarks time: 0.0003731250762939453\n",
      "Fragment: 67 from 610, mode: 'train'\n"
     ]
    },
    {
     "name": "stderr",
     "output_type": "stream",
     "text": [
      "I0000 00:00:1730661144.198311      17 task_runner.cc:85] GPU suport is not available: INTERNAL: ; RET_CHECK failure (mediapipe/gpu/gl_context_egl.cc:77) display != EGL_NO_DISPLAYeglGetDisplay() returned error 0x300c\n",
      "W0000 00:00:1730661144.296370     643 inference_feedback_manager.cc:114] Feedback manager requires a model with a single signature inference. Disabling support for feedback tensors.\n",
      "W0000 00:00:1730661144.321219     646 inference_feedback_manager.cc:114] Feedback manager requires a model with a single signature inference. Disabling support for feedback tensors.\n"
     ]
    },
    {
     "name": "stdout",
     "output_type": "stream",
     "text": [
      "Calculating time: 1.2150750160217285\n",
      "Landmarks time: 1.2142531871795654\n",
      "Check_landmarks time: 0.00030040740966796875\n",
      "Fragment: 68 from 610, mode: 'train'\n"
     ]
    },
    {
     "name": "stderr",
     "output_type": "stream",
     "text": [
      "I0000 00:00:1730661145.698642      17 task_runner.cc:85] GPU suport is not available: INTERNAL: ; RET_CHECK failure (mediapipe/gpu/gl_context_egl.cc:77) display != EGL_NO_DISPLAYeglGetDisplay() returned error 0x300c\n",
      "W0000 00:00:1730661145.816530     654 inference_feedback_manager.cc:114] Feedback manager requires a model with a single signature inference. Disabling support for feedback tensors.\n",
      "W0000 00:00:1730661145.855765     654 inference_feedback_manager.cc:114] Feedback manager requires a model with a single signature inference. Disabling support for feedback tensors.\n"
     ]
    },
    {
     "name": "stdout",
     "output_type": "stream",
     "text": [
      "Calculating time: 1.1930768489837646\n",
      "Landmarks time: 1.1896476745605469\n",
      "Check_landmarks time: 0.0002856254577636719\n",
      "Fragment: 69 from 610, mode: 'train'\n"
     ]
    },
    {
     "name": "stderr",
     "output_type": "stream",
     "text": [
      "I0000 00:00:1730661147.158413      17 task_runner.cc:85] GPU suport is not available: INTERNAL: ; RET_CHECK failure (mediapipe/gpu/gl_context_egl.cc:77) display != EGL_NO_DISPLAYeglGetDisplay() returned error 0x300c\n",
      "W0000 00:00:1730661147.255611     661 inference_feedback_manager.cc:114] Feedback manager requires a model with a single signature inference. Disabling support for feedback tensors.\n",
      "W0000 00:00:1730661147.279815     661 inference_feedback_manager.cc:114] Feedback manager requires a model with a single signature inference. Disabling support for feedback tensors.\n"
     ]
    },
    {
     "name": "stdout",
     "output_type": "stream",
     "text": [
      "Calculating time: 1.238243579864502\n",
      "Landmarks time: 1.2342467308044434\n",
      "Check_landmarks time: 0.0003006458282470703\n",
      "Fragment: 70 from 610, mode: 'train'\n"
     ]
    },
    {
     "name": "stderr",
     "output_type": "stream",
     "text": [
      "I0000 00:00:1730661148.665610      17 task_runner.cc:85] GPU suport is not available: INTERNAL: ; RET_CHECK failure (mediapipe/gpu/gl_context_egl.cc:77) display != EGL_NO_DISPLAYeglGetDisplay() returned error 0x300c\n",
      "W0000 00:00:1730661148.763433     668 inference_feedback_manager.cc:114] Feedback manager requires a model with a single signature inference. Disabling support for feedback tensors.\n",
      "W0000 00:00:1730661148.787690     668 inference_feedback_manager.cc:114] Feedback manager requires a model with a single signature inference. Disabling support for feedback tensors.\n"
     ]
    },
    {
     "name": "stdout",
     "output_type": "stream",
     "text": [
      "Calculating time: 1.1990630626678467\n",
      "Landmarks time: 1.1982603073120117\n",
      "Check_landmarks time: 0.0002894401550292969\n",
      "Fragment: 71 from 610, mode: 'train'\n"
     ]
    },
    {
     "name": "stderr",
     "output_type": "stream",
     "text": [
      "I0000 00:00:1730661150.138392      17 task_runner.cc:85] GPU suport is not available: INTERNAL: ; RET_CHECK failure (mediapipe/gpu/gl_context_egl.cc:77) display != EGL_NO_DISPLAYeglGetDisplay() returned error 0x300c\n",
      "W0000 00:00:1730661150.235994     677 inference_feedback_manager.cc:114] Feedback manager requires a model with a single signature inference. Disabling support for feedback tensors.\n",
      "W0000 00:00:1730661150.260280     677 inference_feedback_manager.cc:114] Feedback manager requires a model with a single signature inference. Disabling support for feedback tensors.\n"
     ]
    },
    {
     "name": "stdout",
     "output_type": "stream",
     "text": [
      "Calculating time: 1.1765532493591309\n",
      "Landmarks time: 1.1727583408355713\n",
      "Check_landmarks time: 0.0008168220520019531\n",
      "Fragment: 72 from 610, mode: 'train'\n"
     ]
    },
    {
     "name": "stderr",
     "output_type": "stream",
     "text": [
      "I0000 00:00:1730661151.588776      17 task_runner.cc:85] GPU suport is not available: INTERNAL: ; RET_CHECK failure (mediapipe/gpu/gl_context_egl.cc:77) display != EGL_NO_DISPLAYeglGetDisplay() returned error 0x300c\n",
      "W0000 00:00:1730661151.690385     684 inference_feedback_manager.cc:114] Feedback manager requires a model with a single signature inference. Disabling support for feedback tensors.\n",
      "W0000 00:00:1730661151.714991     685 inference_feedback_manager.cc:114] Feedback manager requires a model with a single signature inference. Disabling support for feedback tensors.\n"
     ]
    },
    {
     "name": "stdout",
     "output_type": "stream",
     "text": [
      "Calculating time: 1.2368063926696777\n",
      "Landmarks time: 1.2328603267669678\n",
      "Check_landmarks time: 0.00044655799865722656\n",
      "Fragment: 73 from 610, mode: 'train'\n"
     ]
    },
    {
     "name": "stderr",
     "output_type": "stream",
     "text": [
      "I0000 00:00:1730661153.118809      17 task_runner.cc:85] GPU suport is not available: INTERNAL: ; RET_CHECK failure (mediapipe/gpu/gl_context_egl.cc:77) display != EGL_NO_DISPLAYeglGetDisplay() returned error 0x300c\n",
      "W0000 00:00:1730661153.216609     693 inference_feedback_manager.cc:114] Feedback manager requires a model with a single signature inference. Disabling support for feedback tensors.\n",
      "W0000 00:00:1730661153.245915     694 inference_feedback_manager.cc:114] Feedback manager requires a model with a single signature inference. Disabling support for feedback tensors.\n"
     ]
    },
    {
     "name": "stdout",
     "output_type": "stream",
     "text": [
      "Calculating time: 1.205155611038208\n",
      "Landmarks time: 1.204298734664917\n",
      "Check_landmarks time: 0.0003483295440673828\n",
      "Fragment: 74 from 610, mode: 'train'\n"
     ]
    },
    {
     "name": "stderr",
     "output_type": "stream",
     "text": [
      "I0000 00:00:1730661154.602798      17 task_runner.cc:85] GPU suport is not available: INTERNAL: ; RET_CHECK failure (mediapipe/gpu/gl_context_egl.cc:77) display != EGL_NO_DISPLAYeglGetDisplay() returned error 0x300c\n",
      "W0000 00:00:1730661154.700244     702 inference_feedback_manager.cc:114] Feedback manager requires a model with a single signature inference. Disabling support for feedback tensors.\n",
      "W0000 00:00:1730661154.726243     701 inference_feedback_manager.cc:114] Feedback manager requires a model with a single signature inference. Disabling support for feedback tensors.\n"
     ]
    },
    {
     "name": "stdout",
     "output_type": "stream",
     "text": [
      "Calculating time: 1.172471284866333\n",
      "Landmarks time: 1.1690583229064941\n",
      "Check_landmarks time: 0.0002791881561279297\n",
      "Fragment: 75 from 610, mode: 'train'\n"
     ]
    },
    {
     "name": "stderr",
     "output_type": "stream",
     "text": [
      "I0000 00:00:1730661156.051450      17 task_runner.cc:85] GPU suport is not available: INTERNAL: ; RET_CHECK failure (mediapipe/gpu/gl_context_egl.cc:77) display != EGL_NO_DISPLAYeglGetDisplay() returned error 0x300c\n",
      "W0000 00:00:1730661156.177170     709 inference_feedback_manager.cc:114] Feedback manager requires a model with a single signature inference. Disabling support for feedback tensors.\n",
      "W0000 00:00:1730661156.219809     709 inference_feedback_manager.cc:114] Feedback manager requires a model with a single signature inference. Disabling support for feedback tensors.\n"
     ]
    },
    {
     "name": "stdout",
     "output_type": "stream",
     "text": [
      "Calculating time: 1.2788596153259277\n",
      "Landmarks time: 1.2753126621246338\n",
      "Check_landmarks time: 0.0003008842468261719\n",
      "Fragment: 76 from 610, mode: 'train'\n"
     ]
    },
    {
     "name": "stderr",
     "output_type": "stream",
     "text": [
      "I0000 00:00:1730661157.605018      17 task_runner.cc:85] GPU suport is not available: INTERNAL: ; RET_CHECK failure (mediapipe/gpu/gl_context_egl.cc:77) display != EGL_NO_DISPLAYeglGetDisplay() returned error 0x300c\n",
      "W0000 00:00:1730661157.714131     716 inference_feedback_manager.cc:114] Feedback manager requires a model with a single signature inference. Disabling support for feedback tensors.\n",
      "W0000 00:00:1730661157.738976     718 inference_feedback_manager.cc:114] Feedback manager requires a model with a single signature inference. Disabling support for feedback tensors.\n"
     ]
    },
    {
     "name": "stdout",
     "output_type": "stream",
     "text": [
      "Calculating time: 1.2114617824554443\n",
      "Landmarks time: 1.210690975189209\n",
      "Check_landmarks time: 0.0002899169921875\n",
      "Fragment: 77 from 610, mode: 'train'\n"
     ]
    },
    {
     "name": "stderr",
     "output_type": "stream",
     "text": [
      "I0000 00:00:1730661159.092780      17 task_runner.cc:85] GPU suport is not available: INTERNAL: ; RET_CHECK failure (mediapipe/gpu/gl_context_egl.cc:77) display != EGL_NO_DISPLAYeglGetDisplay() returned error 0x300c\n",
      "W0000 00:00:1730661159.189850     724 inference_feedback_manager.cc:114] Feedback manager requires a model with a single signature inference. Disabling support for feedback tensors.\n",
      "W0000 00:00:1730661159.218977     724 inference_feedback_manager.cc:114] Feedback manager requires a model with a single signature inference. Disabling support for feedback tensors.\n"
     ]
    },
    {
     "name": "stdout",
     "output_type": "stream",
     "text": [
      "Calculating time: 1.174022912979126\n",
      "Landmarks time: 1.1706037521362305\n",
      "Check_landmarks time: 0.0002930164337158203\n",
      "Fragment: 78 from 610, mode: 'train'\n"
     ]
    },
    {
     "name": "stderr",
     "output_type": "stream",
     "text": [
      "I0000 00:00:1730661160.532624      17 task_runner.cc:85] GPU suport is not available: INTERNAL: ; RET_CHECK failure (mediapipe/gpu/gl_context_egl.cc:77) display != EGL_NO_DISPLAYeglGetDisplay() returned error 0x300c\n",
      "W0000 00:00:1730661160.629803     731 inference_feedback_manager.cc:114] Feedback manager requires a model with a single signature inference. Disabling support for feedback tensors.\n",
      "W0000 00:00:1730661160.654252     734 inference_feedback_manager.cc:114] Feedback manager requires a model with a single signature inference. Disabling support for feedback tensors.\n"
     ]
    },
    {
     "name": "stdout",
     "output_type": "stream",
     "text": [
      "Calculating time: 1.2529206275939941\n",
      "Landmarks time: 1.2493178844451904\n",
      "Check_landmarks time: 0.0007109642028808594\n",
      "Fragment: 79 from 610, mode: 'train'\n"
     ]
    },
    {
     "name": "stderr",
     "output_type": "stream",
     "text": [
      "I0000 00:00:1730661162.063717      17 task_runner.cc:85] GPU suport is not available: INTERNAL: ; RET_CHECK failure (mediapipe/gpu/gl_context_egl.cc:77) display != EGL_NO_DISPLAYeglGetDisplay() returned error 0x300c\n",
      "W0000 00:00:1730661162.161505     742 inference_feedback_manager.cc:114] Feedback manager requires a model with a single signature inference. Disabling support for feedback tensors.\n",
      "W0000 00:00:1730661162.185800     741 inference_feedback_manager.cc:114] Feedback manager requires a model with a single signature inference. Disabling support for feedback tensors.\n"
     ]
    },
    {
     "name": "stdout",
     "output_type": "stream",
     "text": [
      "Calculating time: 1.2957494258880615\n",
      "Landmarks time: 1.294219732284546\n",
      "Check_landmarks time: 0.000982046127319336\n",
      "Fragment: 80 from 610, mode: 'train'\n"
     ]
    },
    {
     "name": "stderr",
     "output_type": "stream",
     "text": [
      "I0000 00:00:1730661163.640098      17 task_runner.cc:85] GPU suport is not available: INTERNAL: ; RET_CHECK failure (mediapipe/gpu/gl_context_egl.cc:77) display != EGL_NO_DISPLAYeglGetDisplay() returned error 0x300c\n",
      "W0000 00:00:1730661163.737890     750 inference_feedback_manager.cc:114] Feedback manager requires a model with a single signature inference. Disabling support for feedback tensors.\n",
      "W0000 00:00:1730661163.762128     748 inference_feedback_manager.cc:114] Feedback manager requires a model with a single signature inference. Disabling support for feedback tensors.\n"
     ]
    },
    {
     "name": "stdout",
     "output_type": "stream",
     "text": [
      "Calculating time: 1.165264368057251\n",
      "Landmarks time: 1.161686897277832\n",
      "Check_landmarks time: 0.00033545494079589844\n",
      "Fragment: 81 from 610, mode: 'train'\n"
     ]
    },
    {
     "name": "stderr",
     "output_type": "stream",
     "text": [
      "I0000 00:00:1730661165.093497      17 task_runner.cc:85] GPU suport is not available: INTERNAL: ; RET_CHECK failure (mediapipe/gpu/gl_context_egl.cc:77) display != EGL_NO_DISPLAYeglGetDisplay() returned error 0x300c\n",
      "W0000 00:00:1730661165.209255     756 inference_feedback_manager.cc:114] Feedback manager requires a model with a single signature inference. Disabling support for feedback tensors.\n",
      "W0000 00:00:1730661165.233822     758 inference_feedback_manager.cc:114] Feedback manager requires a model with a single signature inference. Disabling support for feedback tensors.\n"
     ]
    },
    {
     "name": "stdout",
     "output_type": "stream",
     "text": [
      "Calculating time: 1.34906005859375\n",
      "Landmarks time: 1.3457813262939453\n",
      "Check_landmarks time: 0.0003032684326171875\n",
      "Fragment: 82 from 610, mode: 'train'\n"
     ]
    },
    {
     "name": "stderr",
     "output_type": "stream",
     "text": [
      "I0000 00:00:1730661166.786085      17 task_runner.cc:85] GPU suport is not available: INTERNAL: ; RET_CHECK failure (mediapipe/gpu/gl_context_egl.cc:77) display != EGL_NO_DISPLAYeglGetDisplay() returned error 0x300c\n",
      "W0000 00:00:1730661166.892589     764 inference_feedback_manager.cc:114] Feedback manager requires a model with a single signature inference. Disabling support for feedback tensors.\n",
      "W0000 00:00:1730661166.930305     765 inference_feedback_manager.cc:114] Feedback manager requires a model with a single signature inference. Disabling support for feedback tensors.\n"
     ]
    },
    {
     "name": "stdout",
     "output_type": "stream",
     "text": [
      "Calculating time: 1.2637131214141846\n",
      "Landmarks time: 1.2626726627349854\n",
      "Check_landmarks time: 0.0002903938293457031\n",
      "Fragment: 83 from 610, mode: 'train'\n"
     ]
    },
    {
     "name": "stderr",
     "output_type": "stream",
     "text": [
      "I0000 00:00:1730661168.333204      17 task_runner.cc:85] GPU suport is not available: INTERNAL: ; RET_CHECK failure (mediapipe/gpu/gl_context_egl.cc:77) display != EGL_NO_DISPLAYeglGetDisplay() returned error 0x300c\n",
      "W0000 00:00:1730661168.442388     772 inference_feedback_manager.cc:114] Feedback manager requires a model with a single signature inference. Disabling support for feedback tensors.\n",
      "W0000 00:00:1730661168.473539     772 inference_feedback_manager.cc:114] Feedback manager requires a model with a single signature inference. Disabling support for feedback tensors.\n"
     ]
    },
    {
     "name": "stdout",
     "output_type": "stream",
     "text": [
      "Calculating time: 1.1780993938446045\n",
      "Landmarks time: 1.17445707321167\n",
      "Check_landmarks time: 0.0002872943878173828\n",
      "Fragment: 84 from 610, mode: 'train'\n"
     ]
    },
    {
     "name": "stderr",
     "output_type": "stream",
     "text": [
      "I0000 00:00:1730661169.787927      17 task_runner.cc:85] GPU suport is not available: INTERNAL: ; RET_CHECK failure (mediapipe/gpu/gl_context_egl.cc:77) display != EGL_NO_DISPLAYeglGetDisplay() returned error 0x300c\n",
      "W0000 00:00:1730661169.893112     781 inference_feedback_manager.cc:114] Feedback manager requires a model with a single signature inference. Disabling support for feedback tensors.\n",
      "W0000 00:00:1730661169.925506     780 inference_feedback_manager.cc:114] Feedback manager requires a model with a single signature inference. Disabling support for feedback tensors.\n"
     ]
    },
    {
     "name": "stdout",
     "output_type": "stream",
     "text": [
      "Calculating time: 1.25311279296875\n",
      "Landmarks time: 1.2499284744262695\n",
      "Check_landmarks time: 0.0002970695495605469\n",
      "Fragment: 85 from 610, mode: 'train'\n"
     ]
    },
    {
     "name": "stderr",
     "output_type": "stream",
     "text": [
      "I0000 00:00:1730661171.315265      17 task_runner.cc:85] GPU suport is not available: INTERNAL: ; RET_CHECK failure (mediapipe/gpu/gl_context_egl.cc:77) display != EGL_NO_DISPLAYeglGetDisplay() returned error 0x300c\n",
      "W0000 00:00:1730661171.413561     787 inference_feedback_manager.cc:114] Feedback manager requires a model with a single signature inference. Disabling support for feedback tensors.\n",
      "W0000 00:00:1730661171.438289     787 inference_feedback_manager.cc:114] Feedback manager requires a model with a single signature inference. Disabling support for feedback tensors.\n"
     ]
    },
    {
     "name": "stdout",
     "output_type": "stream",
     "text": [
      "Calculating time: 1.2161390781402588\n",
      "Landmarks time: 1.2149782180786133\n",
      "Check_landmarks time: 0.00032806396484375\n",
      "Fragment: 86 from 610, mode: 'train'\n"
     ]
    },
    {
     "name": "stderr",
     "output_type": "stream",
     "text": [
      "I0000 00:00:1730661172.813797      17 task_runner.cc:85] GPU suport is not available: INTERNAL: ; RET_CHECK failure (mediapipe/gpu/gl_context_egl.cc:77) display != EGL_NO_DISPLAYeglGetDisplay() returned error 0x300c\n",
      "W0000 00:00:1730661172.929315     795 inference_feedback_manager.cc:114] Feedback manager requires a model with a single signature inference. Disabling support for feedback tensors.\n",
      "W0000 00:00:1730661172.953611     795 inference_feedback_manager.cc:114] Feedback manager requires a model with a single signature inference. Disabling support for feedback tensors.\n"
     ]
    },
    {
     "name": "stdout",
     "output_type": "stream",
     "text": [
      "Calculating time: 1.1871092319488525\n",
      "Landmarks time: 1.1836562156677246\n",
      "Check_landmarks time: 0.00028586387634277344\n",
      "Fragment: 87 from 610, mode: 'train'\n"
     ]
    },
    {
     "name": "stderr",
     "output_type": "stream",
     "text": [
      "I0000 00:00:1730661174.267365      17 task_runner.cc:85] GPU suport is not available: INTERNAL: ; RET_CHECK failure (mediapipe/gpu/gl_context_egl.cc:77) display != EGL_NO_DISPLAYeglGetDisplay() returned error 0x300c\n",
      "W0000 00:00:1730661174.365566     806 inference_feedback_manager.cc:114] Feedback manager requires a model with a single signature inference. Disabling support for feedback tensors.\n",
      "W0000 00:00:1730661174.398068     803 inference_feedback_manager.cc:114] Feedback manager requires a model with a single signature inference. Disabling support for feedback tensors.\n"
     ]
    },
    {
     "name": "stdout",
     "output_type": "stream",
     "text": [
      "Calculating time: 1.2424418926239014\n",
      "Landmarks time: 1.2384824752807617\n",
      "Check_landmarks time: 0.0002887248992919922\n",
      "Fragment: 88 from 610, mode: 'train'\n"
     ]
    },
    {
     "name": "stderr",
     "output_type": "stream",
     "text": [
      "I0000 00:00:1730661175.783913      17 task_runner.cc:85] GPU suport is not available: INTERNAL: ; RET_CHECK failure (mediapipe/gpu/gl_context_egl.cc:77) display != EGL_NO_DISPLAYeglGetDisplay() returned error 0x300c\n",
      "W0000 00:00:1730661175.882189     814 inference_feedback_manager.cc:114] Feedback manager requires a model with a single signature inference. Disabling support for feedback tensors.\n",
      "W0000 00:00:1730661175.906568     814 inference_feedback_manager.cc:114] Feedback manager requires a model with a single signature inference. Disabling support for feedback tensors.\n"
     ]
    },
    {
     "name": "stdout",
     "output_type": "stream",
     "text": [
      "Calculating time: 1.1941237449645996\n",
      "Landmarks time: 1.1933157444000244\n",
      "Check_landmarks time: 0.00030922889709472656\n",
      "Fragment: 89 from 610, mode: 'train'\n"
     ]
    },
    {
     "name": "stderr",
     "output_type": "stream",
     "text": [
      "I0000 00:00:1730661177.250558      17 task_runner.cc:85] GPU suport is not available: INTERNAL: ; RET_CHECK failure (mediapipe/gpu/gl_context_egl.cc:77) display != EGL_NO_DISPLAYeglGetDisplay() returned error 0x300c\n",
      "W0000 00:00:1730661177.358966     820 inference_feedback_manager.cc:114] Feedback manager requires a model with a single signature inference. Disabling support for feedback tensors.\n",
      "W0000 00:00:1730661177.390046     820 inference_feedback_manager.cc:114] Feedback manager requires a model with a single signature inference. Disabling support for feedback tensors.\n"
     ]
    },
    {
     "name": "stdout",
     "output_type": "stream",
     "text": [
      "Calculating time: 1.180629014968872\n",
      "Landmarks time: 1.1772379875183105\n",
      "Check_landmarks time: 0.0002722740173339844\n",
      "Fragment: 90 from 610, mode: 'train'\n"
     ]
    },
    {
     "name": "stderr",
     "output_type": "stream",
     "text": [
      "I0000 00:00:1730661178.706092      17 task_runner.cc:85] GPU suport is not available: INTERNAL: ; RET_CHECK failure (mediapipe/gpu/gl_context_egl.cc:77) display != EGL_NO_DISPLAYeglGetDisplay() returned error 0x300c\n",
      "W0000 00:00:1730661178.804549     829 inference_feedback_manager.cc:114] Feedback manager requires a model with a single signature inference. Disabling support for feedback tensors.\n",
      "W0000 00:00:1730661178.833693     830 inference_feedback_manager.cc:114] Feedback manager requires a model with a single signature inference. Disabling support for feedback tensors.\n"
     ]
    },
    {
     "name": "stdout",
     "output_type": "stream",
     "text": [
      "Calculating time: 1.233778953552246\n",
      "Landmarks time: 1.2301223278045654\n",
      "Check_landmarks time: 0.0003063678741455078\n",
      "Fragment: 91 from 610, mode: 'train'\n"
     ]
    },
    {
     "name": "stderr",
     "output_type": "stream",
     "text": [
      "I0000 00:00:1730661180.209037      17 task_runner.cc:85] GPU suport is not available: INTERNAL: ; RET_CHECK failure (mediapipe/gpu/gl_context_egl.cc:77) display != EGL_NO_DISPLAYeglGetDisplay() returned error 0x300c\n",
      "W0000 00:00:1730661180.307603     838 inference_feedback_manager.cc:114] Feedback manager requires a model with a single signature inference. Disabling support for feedback tensors.\n",
      "W0000 00:00:1730661180.332261     836 inference_feedback_manager.cc:114] Feedback manager requires a model with a single signature inference. Disabling support for feedback tensors.\n"
     ]
    },
    {
     "name": "stdout",
     "output_type": "stream",
     "text": [
      "Calculating time: 1.2032461166381836\n",
      "Landmarks time: 1.2024321556091309\n",
      "Check_landmarks time: 0.0002923011779785156\n",
      "Fragment: 92 from 610, mode: 'train'\n"
     ]
    },
    {
     "name": "stderr",
     "output_type": "stream",
     "text": [
      "I0000 00:00:1730661181.693158      17 task_runner.cc:85] GPU suport is not available: INTERNAL: ; RET_CHECK failure (mediapipe/gpu/gl_context_egl.cc:77) display != EGL_NO_DISPLAYeglGetDisplay() returned error 0x300c\n",
      "W0000 00:00:1730661181.791929     844 inference_feedback_manager.cc:114] Feedback manager requires a model with a single signature inference. Disabling support for feedback tensors.\n",
      "W0000 00:00:1730661181.819598     844 inference_feedback_manager.cc:114] Feedback manager requires a model with a single signature inference. Disabling support for feedback tensors.\n"
     ]
    },
    {
     "name": "stdout",
     "output_type": "stream",
     "text": [
      "Calculating time: 1.209909200668335\n",
      "Landmarks time: 1.206129550933838\n",
      "Check_landmarks time: 0.0005519390106201172\n",
      "Fragment: 93 from 610, mode: 'train'\n"
     ]
    },
    {
     "name": "stderr",
     "output_type": "stream",
     "text": [
      "I0000 00:00:1730661183.182733      17 task_runner.cc:85] GPU suport is not available: INTERNAL: ; RET_CHECK failure (mediapipe/gpu/gl_context_egl.cc:77) display != EGL_NO_DISPLAYeglGetDisplay() returned error 0x300c\n",
      "W0000 00:00:1730661183.280007     852 inference_feedback_manager.cc:114] Feedback manager requires a model with a single signature inference. Disabling support for feedback tensors.\n",
      "W0000 00:00:1730661183.304356     854 inference_feedback_manager.cc:114] Feedback manager requires a model with a single signature inference. Disabling support for feedback tensors.\n"
     ]
    },
    {
     "name": "stdout",
     "output_type": "stream",
     "text": [
      "Calculating time: 1.2273461818695068\n",
      "Landmarks time: 1.223592758178711\n",
      "Check_landmarks time: 0.0003032684326171875\n",
      "Fragment: 94 from 610, mode: 'train'\n"
     ]
    },
    {
     "name": "stderr",
     "output_type": "stream",
     "text": [
      "I0000 00:00:1730661184.690019      17 task_runner.cc:85] GPU suport is not available: INTERNAL: ; RET_CHECK failure (mediapipe/gpu/gl_context_egl.cc:77) display != EGL_NO_DISPLAYeglGetDisplay() returned error 0x300c\n",
      "W0000 00:00:1730661184.787563     860 inference_feedback_manager.cc:114] Feedback manager requires a model with a single signature inference. Disabling support for feedback tensors.\n",
      "W0000 00:00:1730661184.812518     861 inference_feedback_manager.cc:114] Feedback manager requires a model with a single signature inference. Disabling support for feedback tensors.\n"
     ]
    },
    {
     "name": "stdout",
     "output_type": "stream",
     "text": [
      "Calculating time: 1.1905858516693115\n",
      "Landmarks time: 1.18979811668396\n",
      "Check_landmarks time: 0.0002887248992919922\n",
      "Fragment: 95 from 610, mode: 'train'\n"
     ]
    },
    {
     "name": "stderr",
     "output_type": "stream",
     "text": [
      "I0000 00:00:1730661186.158126      17 task_runner.cc:85] GPU suport is not available: INTERNAL: ; RET_CHECK failure (mediapipe/gpu/gl_context_egl.cc:77) display != EGL_NO_DISPLAYeglGetDisplay() returned error 0x300c\n",
      "W0000 00:00:1730661186.265620     870 inference_feedback_manager.cc:114] Feedback manager requires a model with a single signature inference. Disabling support for feedback tensors.\n",
      "W0000 00:00:1730661186.290142     869 inference_feedback_manager.cc:114] Feedback manager requires a model with a single signature inference. Disabling support for feedback tensors.\n"
     ]
    },
    {
     "name": "stdout",
     "output_type": "stream",
     "text": [
      "Calculating time: 1.1698832511901855\n",
      "Landmarks time: 1.1661365032196045\n",
      "Check_landmarks time: 0.0003497600555419922\n",
      "Fragment: 96 from 610, mode: 'train'\n"
     ]
    },
    {
     "name": "stderr",
     "output_type": "stream",
     "text": [
      "I0000 00:00:1730661187.593691      17 task_runner.cc:85] GPU suport is not available: INTERNAL: ; RET_CHECK failure (mediapipe/gpu/gl_context_egl.cc:77) display != EGL_NO_DISPLAYeglGetDisplay() returned error 0x300c\n",
      "W0000 00:00:1730661187.691827     876 inference_feedback_manager.cc:114] Feedback manager requires a model with a single signature inference. Disabling support for feedback tensors.\n",
      "W0000 00:00:1730661187.716416     876 inference_feedback_manager.cc:114] Feedback manager requires a model with a single signature inference. Disabling support for feedback tensors.\n"
     ]
    },
    {
     "name": "stdout",
     "output_type": "stream",
     "text": [
      "Calculating time: 1.2446022033691406\n",
      "Landmarks time: 1.2412879467010498\n",
      "Check_landmarks time: 0.00029158592224121094\n",
      "Fragment: 97 from 610, mode: 'train'\n"
     ]
    },
    {
     "name": "stderr",
     "output_type": "stream",
     "text": [
      "I0000 00:00:1730661189.119964      17 task_runner.cc:85] GPU suport is not available: INTERNAL: ; RET_CHECK failure (mediapipe/gpu/gl_context_egl.cc:77) display != EGL_NO_DISPLAYeglGetDisplay() returned error 0x300c\n",
      "W0000 00:00:1730661189.217921     884 inference_feedback_manager.cc:114] Feedback manager requires a model with a single signature inference. Disabling support for feedback tensors.\n",
      "W0000 00:00:1730661189.250647     886 inference_feedback_manager.cc:114] Feedback manager requires a model with a single signature inference. Disabling support for feedback tensors.\n"
     ]
    },
    {
     "name": "stdout",
     "output_type": "stream",
     "text": [
      "Calculating time: 1.215022087097168\n",
      "Landmarks time: 1.2141978740692139\n",
      "Check_landmarks time: 0.0003154277801513672\n",
      "Fragment: 98 from 610, mode: 'train'\n"
     ]
    },
    {
     "name": "stderr",
     "output_type": "stream",
     "text": [
      "I0000 00:00:1730661190.621558      17 task_runner.cc:85] GPU suport is not available: INTERNAL: ; RET_CHECK failure (mediapipe/gpu/gl_context_egl.cc:77) display != EGL_NO_DISPLAYeglGetDisplay() returned error 0x300c\n",
      "W0000 00:00:1730661190.730147     893 inference_feedback_manager.cc:114] Feedback manager requires a model with a single signature inference. Disabling support for feedback tensors.\n",
      "W0000 00:00:1730661190.761533     893 inference_feedback_manager.cc:114] Feedback manager requires a model with a single signature inference. Disabling support for feedback tensors.\n"
     ]
    },
    {
     "name": "stdout",
     "output_type": "stream",
     "text": [
      "Calculating time: 1.1892056465148926\n",
      "Landmarks time: 1.1856582164764404\n",
      "Check_landmarks time: 0.0003440380096435547\n",
      "Fragment: 99 from 610, mode: 'train'\n"
     ]
    },
    {
     "name": "stderr",
     "output_type": "stream",
     "text": [
      "I0000 00:00:1730661192.089130      17 task_runner.cc:85] GPU suport is not available: INTERNAL: ; RET_CHECK failure (mediapipe/gpu/gl_context_egl.cc:77) display != EGL_NO_DISPLAYeglGetDisplay() returned error 0x300c\n",
      "W0000 00:00:1730661192.194306     900 inference_feedback_manager.cc:114] Feedback manager requires a model with a single signature inference. Disabling support for feedback tensors.\n",
      "W0000 00:00:1730661192.227057     902 inference_feedback_manager.cc:114] Feedback manager requires a model with a single signature inference. Disabling support for feedback tensors.\n"
     ]
    },
    {
     "name": "stdout",
     "output_type": "stream",
     "text": [
      "Calculating time: 1.2857351303100586\n",
      "Landmarks time: 1.2822542190551758\n",
      "Check_landmarks time: 0.0003066062927246094\n",
      "Fragment: 100 from 610, mode: 'train'\n"
     ]
    },
    {
     "name": "stderr",
     "output_type": "stream",
     "text": [
      "I0000 00:00:1730661193.651320      17 task_runner.cc:85] GPU suport is not available: INTERNAL: ; RET_CHECK failure (mediapipe/gpu/gl_context_egl.cc:77) display != EGL_NO_DISPLAYeglGetDisplay() returned error 0x300c\n",
      "W0000 00:00:1730661193.750121     908 inference_feedback_manager.cc:114] Feedback manager requires a model with a single signature inference. Disabling support for feedback tensors.\n",
      "W0000 00:00:1730661193.774823     910 inference_feedback_manager.cc:114] Feedback manager requires a model with a single signature inference. Disabling support for feedback tensors.\n"
     ]
    },
    {
     "name": "stdout",
     "output_type": "stream",
     "text": [
      "Calculating time: 1.2069740295410156\n",
      "Landmarks time: 1.2061352729797363\n",
      "Check_landmarks time: 0.0003046989440917969\n",
      "Fragment: 101 from 610, mode: 'train'\n"
     ]
    },
    {
     "name": "stderr",
     "output_type": "stream",
     "text": [
      "I0000 00:00:1730661195.143482      17 task_runner.cc:85] GPU suport is not available: INTERNAL: ; RET_CHECK failure (mediapipe/gpu/gl_context_egl.cc:77) display != EGL_NO_DISPLAYeglGetDisplay() returned error 0x300c\n",
      "W0000 00:00:1730661195.242325     918 inference_feedback_manager.cc:114] Feedback manager requires a model with a single signature inference. Disabling support for feedback tensors.\n",
      "W0000 00:00:1730661195.267467     916 inference_feedback_manager.cc:114] Feedback manager requires a model with a single signature inference. Disabling support for feedback tensors.\n"
     ]
    },
    {
     "name": "stdout",
     "output_type": "stream",
     "text": [
      "Calculating time: 1.2197794914245605\n",
      "Landmarks time: 1.2162117958068848\n",
      "Check_landmarks time: 0.00027823448181152344\n",
      "Fragment: 102 from 610, mode: 'train'\n"
     ]
    },
    {
     "name": "stderr",
     "output_type": "stream",
     "text": [
      "I0000 00:00:1730661196.637649      17 task_runner.cc:85] GPU suport is not available: INTERNAL: ; RET_CHECK failure (mediapipe/gpu/gl_context_egl.cc:77) display != EGL_NO_DISPLAYeglGetDisplay() returned error 0x300c\n",
      "W0000 00:00:1730661196.745889     926 inference_feedback_manager.cc:114] Feedback manager requires a model with a single signature inference. Disabling support for feedback tensors.\n",
      "W0000 00:00:1730661196.780865     926 inference_feedback_manager.cc:114] Feedback manager requires a model with a single signature inference. Disabling support for feedback tensors.\n"
     ]
    },
    {
     "name": "stdout",
     "output_type": "stream",
     "text": [
      "Calculating time: 1.2835049629211426\n",
      "Landmarks time: 1.2799220085144043\n",
      "Check_landmarks time: 0.0003001689910888672\n",
      "Fragment: 103 from 610, mode: 'train'\n"
     ]
    },
    {
     "name": "stderr",
     "output_type": "stream",
     "text": [
      "I0000 00:00:1730661198.259594      17 task_runner.cc:85] GPU suport is not available: INTERNAL: ; RET_CHECK failure (mediapipe/gpu/gl_context_egl.cc:77) display != EGL_NO_DISPLAYeglGetDisplay() returned error 0x300c\n",
      "W0000 00:00:1730661198.401369     932 inference_feedback_manager.cc:114] Feedback manager requires a model with a single signature inference. Disabling support for feedback tensors.\n",
      "W0000 00:00:1730661198.431197     931 inference_feedback_manager.cc:114] Feedback manager requires a model with a single signature inference. Disabling support for feedback tensors.\n"
     ]
    },
    {
     "name": "stdout",
     "output_type": "stream",
     "text": [
      "Calculating time: 1.357226848602295\n",
      "Landmarks time: 1.355452299118042\n",
      "Check_landmarks time: 0.00091552734375\n",
      "Fragment: 104 from 610, mode: 'train'\n"
     ]
    },
    {
     "name": "stderr",
     "output_type": "stream",
     "text": [
      "I0000 00:00:1730661199.889954      17 task_runner.cc:85] GPU suport is not available: INTERNAL: ; RET_CHECK failure (mediapipe/gpu/gl_context_egl.cc:77) display != EGL_NO_DISPLAYeglGetDisplay() returned error 0x300c\n",
      "W0000 00:00:1730661199.997251     939 inference_feedback_manager.cc:114] Feedback manager requires a model with a single signature inference. Disabling support for feedback tensors.\n",
      "W0000 00:00:1730661200.029140     939 inference_feedback_manager.cc:114] Feedback manager requires a model with a single signature inference. Disabling support for feedback tensors.\n"
     ]
    },
    {
     "name": "stdout",
     "output_type": "stream",
     "text": [
      "Calculating time: 1.221769094467163\n",
      "Landmarks time: 1.217249870300293\n",
      "Check_landmarks time: 0.0008134841918945312\n",
      "Fragment: 105 from 610, mode: 'train'\n"
     ]
    },
    {
     "name": "stderr",
     "output_type": "stream",
     "text": [
      "I0000 00:00:1730661201.377901      17 task_runner.cc:85] GPU suport is not available: INTERNAL: ; RET_CHECK failure (mediapipe/gpu/gl_context_egl.cc:77) display != EGL_NO_DISPLAYeglGetDisplay() returned error 0x300c\n",
      "W0000 00:00:1730661201.475830     948 inference_feedback_manager.cc:114] Feedback manager requires a model with a single signature inference. Disabling support for feedback tensors.\n",
      "W0000 00:00:1730661201.500802     948 inference_feedback_manager.cc:114] Feedback manager requires a model with a single signature inference. Disabling support for feedback tensors.\n"
     ]
    },
    {
     "name": "stdout",
     "output_type": "stream",
     "text": [
      "Calculating time: 1.342236042022705\n",
      "Landmarks time: 1.3373007774353027\n",
      "Check_landmarks time: 0.0014235973358154297\n",
      "Fragment: 106 from 610, mode: 'train'\n"
     ]
    },
    {
     "name": "stderr",
     "output_type": "stream",
     "text": [
      "I0000 00:00:1730661203.036981      17 task_runner.cc:85] GPU suport is not available: INTERNAL: ; RET_CHECK failure (mediapipe/gpu/gl_context_egl.cc:77) display != EGL_NO_DISPLAYeglGetDisplay() returned error 0x300c\n",
      "W0000 00:00:1730661203.133918     958 inference_feedback_manager.cc:114] Feedback manager requires a model with a single signature inference. Disabling support for feedback tensors.\n",
      "W0000 00:00:1730661203.158324     956 inference_feedback_manager.cc:114] Feedback manager requires a model with a single signature inference. Disabling support for feedback tensors.\n"
     ]
    },
    {
     "name": "stdout",
     "output_type": "stream",
     "text": [
      "Calculating time: 1.269773006439209\n",
      "Landmarks time: 1.2681057453155518\n",
      "Check_landmarks time: 0.0008337497711181641\n",
      "Fragment: 107 from 610, mode: 'train'\n"
     ]
    },
    {
     "name": "stderr",
     "output_type": "stream",
     "text": [
      "I0000 00:00:1730661204.578503      17 task_runner.cc:85] GPU suport is not available: INTERNAL: ; RET_CHECK failure (mediapipe/gpu/gl_context_egl.cc:77) display != EGL_NO_DISPLAYeglGetDisplay() returned error 0x300c\n",
      "W0000 00:00:1730661204.677723     966 inference_feedback_manager.cc:114] Feedback manager requires a model with a single signature inference. Disabling support for feedback tensors.\n",
      "W0000 00:00:1730661204.705135     966 inference_feedback_manager.cc:114] Feedback manager requires a model with a single signature inference. Disabling support for feedback tensors.\n"
     ]
    },
    {
     "name": "stdout",
     "output_type": "stream",
     "text": [
      "Calculating time: 1.2182154655456543\n",
      "Landmarks time: 1.2141740322113037\n",
      "Check_landmarks time: 0.0006248950958251953\n",
      "Fragment: 108 from 610, mode: 'train'\n"
     ]
    },
    {
     "name": "stderr",
     "output_type": "stream",
     "text": [
      "I0000 00:00:1730661206.066433      17 task_runner.cc:85] GPU suport is not available: INTERNAL: ; RET_CHECK failure (mediapipe/gpu/gl_context_egl.cc:77) display != EGL_NO_DISPLAYeglGetDisplay() returned error 0x300c\n",
      "W0000 00:00:1730661206.174576     972 inference_feedback_manager.cc:114] Feedback manager requires a model with a single signature inference. Disabling support for feedback tensors.\n",
      "W0000 00:00:1730661206.214952     972 inference_feedback_manager.cc:114] Feedback manager requires a model with a single signature inference. Disabling support for feedback tensors.\n"
     ]
    },
    {
     "name": "stdout",
     "output_type": "stream",
     "text": [
      "Calculating time: 1.3296558856964111\n",
      "Landmarks time: 1.3249669075012207\n",
      "Check_landmarks time: 0.0013968944549560547\n",
      "Fragment: 109 from 610, mode: 'train'\n"
     ]
    },
    {
     "name": "stderr",
     "output_type": "stream",
     "text": [
      "I0000 00:00:1730661207.674130      17 task_runner.cc:85] GPU suport is not available: INTERNAL: ; RET_CHECK failure (mediapipe/gpu/gl_context_egl.cc:77) display != EGL_NO_DISPLAYeglGetDisplay() returned error 0x300c\n",
      "W0000 00:00:1730661207.782200     980 inference_feedback_manager.cc:114] Feedback manager requires a model with a single signature inference. Disabling support for feedback tensors.\n",
      "W0000 00:00:1730661207.813241     980 inference_feedback_manager.cc:114] Feedback manager requires a model with a single signature inference. Disabling support for feedback tensors.\n"
     ]
    },
    {
     "name": "stdout",
     "output_type": "stream",
     "text": [
      "Calculating time: 1.2448251247406006\n",
      "Landmarks time: 1.2437291145324707\n",
      "Check_landmarks time: 0.0005891323089599609\n",
      "Fragment: 110 from 610, mode: 'train'\n"
     ]
    },
    {
     "name": "stderr",
     "output_type": "stream",
     "text": [
      "I0000 00:00:1730661209.194256      17 task_runner.cc:85] GPU suport is not available: INTERNAL: ; RET_CHECK failure (mediapipe/gpu/gl_context_egl.cc:77) display != EGL_NO_DISPLAYeglGetDisplay() returned error 0x300c\n",
      "W0000 00:00:1730661209.291742     987 inference_feedback_manager.cc:114] Feedback manager requires a model with a single signature inference. Disabling support for feedback tensors.\n",
      "W0000 00:00:1730661209.316280     989 inference_feedback_manager.cc:114] Feedback manager requires a model with a single signature inference. Disabling support for feedback tensors.\n"
     ]
    },
    {
     "name": "stdout",
     "output_type": "stream",
     "text": [
      "Calculating time: 1.2277560234069824\n",
      "Landmarks time: 1.2235169410705566\n",
      "Check_landmarks time: 0.0010039806365966797\n",
      "Fragment: 111 from 610, mode: 'train'\n"
     ]
    },
    {
     "name": "stderr",
     "output_type": "stream",
     "text": [
      "I0000 00:00:1730661210.691238      17 task_runner.cc:85] GPU suport is not available: INTERNAL: ; RET_CHECK failure (mediapipe/gpu/gl_context_egl.cc:77) display != EGL_NO_DISPLAYeglGetDisplay() returned error 0x300c\n",
      "W0000 00:00:1730661210.788614     995 inference_feedback_manager.cc:114] Feedback manager requires a model with a single signature inference. Disabling support for feedback tensors.\n",
      "W0000 00:00:1730661210.813364     998 inference_feedback_manager.cc:114] Feedback manager requires a model with a single signature inference. Disabling support for feedback tensors.\n"
     ]
    },
    {
     "name": "stdout",
     "output_type": "stream",
     "text": [
      "Calculating time: 1.230269432067871\n",
      "Landmarks time: 1.227184772491455\n",
      "Check_landmarks time: 0.00030112266540527344\n",
      "Fragment: 112 from 610, mode: 'train'\n"
     ]
    },
    {
     "name": "stderr",
     "output_type": "stream",
     "text": [
      "I0000 00:00:1730661212.194236      17 task_runner.cc:85] GPU suport is not available: INTERNAL: ; RET_CHECK failure (mediapipe/gpu/gl_context_egl.cc:77) display != EGL_NO_DISPLAYeglGetDisplay() returned error 0x300c\n",
      "W0000 00:00:1730661212.292034    1006 inference_feedback_manager.cc:114] Feedback manager requires a model with a single signature inference. Disabling support for feedback tensors.\n",
      "W0000 00:00:1730661212.317164    1005 inference_feedback_manager.cc:114] Feedback manager requires a model with a single signature inference. Disabling support for feedback tensors.\n"
     ]
    },
    {
     "name": "stdout",
     "output_type": "stream",
     "text": [
      "Calculating time: 1.2577228546142578\n",
      "Landmarks time: 1.2564620971679688\n",
      "Check_landmarks time: 0.0006885528564453125\n",
      "Fragment: 113 from 610, mode: 'train'\n"
     ]
    },
    {
     "name": "stderr",
     "output_type": "stream",
     "text": [
      "I0000 00:00:1730661213.733842      17 task_runner.cc:85] GPU suport is not available: INTERNAL: ; RET_CHECK failure (mediapipe/gpu/gl_context_egl.cc:77) display != EGL_NO_DISPLAYeglGetDisplay() returned error 0x300c\n",
      "W0000 00:00:1730661213.841730    1012 inference_feedback_manager.cc:114] Feedback manager requires a model with a single signature inference. Disabling support for feedback tensors.\n",
      "W0000 00:00:1730661213.873079    1012 inference_feedback_manager.cc:114] Feedback manager requires a model with a single signature inference. Disabling support for feedback tensors.\n"
     ]
    },
    {
     "name": "stdout",
     "output_type": "stream",
     "text": [
      "Calculating time: 1.1780791282653809\n",
      "Landmarks time: 1.1746690273284912\n",
      "Check_landmarks time: 0.0002772808074951172\n",
      "Fragment: 114 from 610, mode: 'train'\n"
     ]
    },
    {
     "name": "stderr",
     "output_type": "stream",
     "text": [
      "I0000 00:00:1730661215.192042      17 task_runner.cc:85] GPU suport is not available: INTERNAL: ; RET_CHECK failure (mediapipe/gpu/gl_context_egl.cc:77) display != EGL_NO_DISPLAYeglGetDisplay() returned error 0x300c\n",
      "W0000 00:00:1730661215.298130    1020 inference_feedback_manager.cc:114] Feedback manager requires a model with a single signature inference. Disabling support for feedback tensors.\n",
      "W0000 00:00:1730661215.333422    1020 inference_feedback_manager.cc:114] Feedback manager requires a model with a single signature inference. Disabling support for feedback tensors.\n"
     ]
    },
    {
     "name": "stdout",
     "output_type": "stream",
     "text": [
      "Calculating time: 1.2640306949615479\n",
      "Landmarks time: 1.2604255676269531\n",
      "Check_landmarks time: 0.00029850006103515625\n",
      "Fragment: 115 from 610, mode: 'train'\n"
     ]
    },
    {
     "name": "stderr",
     "output_type": "stream",
     "text": [
      "I0000 00:00:1730661216.733829      17 task_runner.cc:85] GPU suport is not available: INTERNAL: ; RET_CHECK failure (mediapipe/gpu/gl_context_egl.cc:77) display != EGL_NO_DISPLAYeglGetDisplay() returned error 0x300c\n",
      "W0000 00:00:1730661216.842600    1028 inference_feedback_manager.cc:114] Feedback manager requires a model with a single signature inference. Disabling support for feedback tensors.\n",
      "W0000 00:00:1730661216.874078    1028 inference_feedback_manager.cc:114] Feedback manager requires a model with a single signature inference. Disabling support for feedback tensors.\n"
     ]
    },
    {
     "name": "stdout",
     "output_type": "stream",
     "text": [
      "Calculating time: 1.225358009338379\n",
      "Landmarks time: 1.2240879535675049\n",
      "Check_landmarks time: 0.0007128715515136719\n",
      "Fragment: 116 from 610, mode: 'train'\n"
     ]
    },
    {
     "name": "stderr",
     "output_type": "stream",
     "text": [
      "I0000 00:00:1730661218.234055      17 task_runner.cc:85] GPU suport is not available: INTERNAL: ; RET_CHECK failure (mediapipe/gpu/gl_context_egl.cc:77) display != EGL_NO_DISPLAYeglGetDisplay() returned error 0x300c\n",
      "W0000 00:00:1730661218.343093    1036 inference_feedback_manager.cc:114] Feedback manager requires a model with a single signature inference. Disabling support for feedback tensors.\n",
      "W0000 00:00:1730661218.374597    1036 inference_feedback_manager.cc:114] Feedback manager requires a model with a single signature inference. Disabling support for feedback tensors.\n"
     ]
    },
    {
     "name": "stdout",
     "output_type": "stream",
     "text": [
      "Calculating time: 1.187502384185791\n",
      "Landmarks time: 1.1838393211364746\n",
      "Check_landmarks time: 0.0003032684326171875\n",
      "Fragment: 117 from 610, mode: 'train'\n"
     ]
    },
    {
     "name": "stderr",
     "output_type": "stream",
     "text": [
      "I0000 00:00:1730661219.690303      17 task_runner.cc:85] GPU suport is not available: INTERNAL: ; RET_CHECK failure (mediapipe/gpu/gl_context_egl.cc:77) display != EGL_NO_DISPLAYeglGetDisplay() returned error 0x300c\n",
      "W0000 00:00:1730661219.795968    1046 inference_feedback_manager.cc:114] Feedback manager requires a model with a single signature inference. Disabling support for feedback tensors.\n",
      "W0000 00:00:1730661219.827920    1043 inference_feedback_manager.cc:114] Feedback manager requires a model with a single signature inference. Disabling support for feedback tensors.\n"
     ]
    },
    {
     "name": "stdout",
     "output_type": "stream",
     "text": [
      "Calculating time: 1.2481780052185059\n",
      "Landmarks time: 1.2444167137145996\n",
      "Check_landmarks time: 0.0002970695495605469\n",
      "Fragment: 118 from 610, mode: 'train'\n"
     ]
    },
    {
     "name": "stderr",
     "output_type": "stream",
     "text": [
      "I0000 00:00:1730661221.205721      17 task_runner.cc:85] GPU suport is not available: INTERNAL: ; RET_CHECK failure (mediapipe/gpu/gl_context_egl.cc:77) display != EGL_NO_DISPLAYeglGetDisplay() returned error 0x300c\n",
      "W0000 00:00:1730661221.303102    1052 inference_feedback_manager.cc:114] Feedback manager requires a model with a single signature inference. Disabling support for feedback tensors.\n",
      "W0000 00:00:1730661221.327657    1053 inference_feedback_manager.cc:114] Feedback manager requires a model with a single signature inference. Disabling support for feedback tensors.\n"
     ]
    },
    {
     "name": "stdout",
     "output_type": "stream",
     "text": [
      "Calculating time: 1.2015597820281982\n",
      "Landmarks time: 1.2007510662078857\n",
      "Check_landmarks time: 0.000286102294921875\n",
      "Fragment: 119 from 610, mode: 'train'\n"
     ]
    },
    {
     "name": "stderr",
     "output_type": "stream",
     "text": [
      "I0000 00:00:1730661222.684436      17 task_runner.cc:85] GPU suport is not available: INTERNAL: ; RET_CHECK failure (mediapipe/gpu/gl_context_egl.cc:77) display != EGL_NO_DISPLAYeglGetDisplay() returned error 0x300c\n",
      "W0000 00:00:1730661222.794483    1059 inference_feedback_manager.cc:114] Feedback manager requires a model with a single signature inference. Disabling support for feedback tensors.\n",
      "W0000 00:00:1730661222.821384    1060 inference_feedback_manager.cc:114] Feedback manager requires a model with a single signature inference. Disabling support for feedback tensors.\n"
     ]
    },
    {
     "name": "stdout",
     "output_type": "stream",
     "text": [
      "Calculating time: 1.2027397155761719\n",
      "Landmarks time: 1.199357032775879\n",
      "Check_landmarks time: 0.0002770423889160156\n",
      "Fragment: 120 from 610, mode: 'train'\n"
     ]
    },
    {
     "name": "stderr",
     "output_type": "stream",
     "text": [
      "I0000 00:00:1730661224.150001      17 task_runner.cc:85] GPU suport is not available: INTERNAL: ; RET_CHECK failure (mediapipe/gpu/gl_context_egl.cc:77) display != EGL_NO_DISPLAYeglGetDisplay() returned error 0x300c\n",
      "W0000 00:00:1730661224.258302    1069 inference_feedback_manager.cc:114] Feedback manager requires a model with a single signature inference. Disabling support for feedback tensors.\n",
      "W0000 00:00:1730661224.288005    1067 inference_feedback_manager.cc:114] Feedback manager requires a model with a single signature inference. Disabling support for feedback tensors.\n"
     ]
    },
    {
     "name": "stdout",
     "output_type": "stream",
     "text": [
      "Calculating time: 1.2512214183807373\n",
      "Landmarks time: 1.247567892074585\n",
      "Check_landmarks time: 0.00028967857360839844\n",
      "Fragment: 121 from 610, mode: 'train'\n"
     ]
    },
    {
     "name": "stderr",
     "output_type": "stream",
     "text": [
      "I0000 00:00:1730661225.692740      17 task_runner.cc:85] GPU suport is not available: INTERNAL: ; RET_CHECK failure (mediapipe/gpu/gl_context_egl.cc:77) display != EGL_NO_DISPLAYeglGetDisplay() returned error 0x300c\n",
      "W0000 00:00:1730661225.802443    1076 inference_feedback_manager.cc:114] Feedback manager requires a model with a single signature inference. Disabling support for feedback tensors.\n",
      "W0000 00:00:1730661225.827041    1077 inference_feedback_manager.cc:114] Feedback manager requires a model with a single signature inference. Disabling support for feedback tensors.\n"
     ]
    },
    {
     "name": "stdout",
     "output_type": "stream",
     "text": [
      "Calculating time: 1.2141399383544922\n",
      "Landmarks time: 1.2133102416992188\n",
      "Check_landmarks time: 0.0002930164337158203\n",
      "Fragment: 122 from 610, mode: 'train'\n"
     ]
    },
    {
     "name": "stderr",
     "output_type": "stream",
     "text": [
      "I0000 00:00:1730661227.178663      17 task_runner.cc:85] GPU suport is not available: INTERNAL: ; RET_CHECK failure (mediapipe/gpu/gl_context_egl.cc:77) display != EGL_NO_DISPLAYeglGetDisplay() returned error 0x300c\n",
      "W0000 00:00:1730661227.276390    1084 inference_feedback_manager.cc:114] Feedback manager requires a model with a single signature inference. Disabling support for feedback tensors.\n",
      "W0000 00:00:1730661227.300740    1086 inference_feedback_manager.cc:114] Feedback manager requires a model with a single signature inference. Disabling support for feedback tensors.\n"
     ]
    },
    {
     "name": "stdout",
     "output_type": "stream",
     "text": [
      "Calculating time: 1.159468412399292\n",
      "Landmarks time: 1.1553480625152588\n",
      "Check_landmarks time: 0.00029778480529785156\n",
      "Fragment: 123 from 610, mode: 'train'\n"
     ]
    },
    {
     "name": "stderr",
     "output_type": "stream",
     "text": [
      "I0000 00:00:1730661228.605393      17 task_runner.cc:85] GPU suport is not available: INTERNAL: ; RET_CHECK failure (mediapipe/gpu/gl_context_egl.cc:77) display != EGL_NO_DISPLAYeglGetDisplay() returned error 0x300c\n",
      "W0000 00:00:1730661228.714618    1093 inference_feedback_manager.cc:114] Feedback manager requires a model with a single signature inference. Disabling support for feedback tensors.\n",
      "W0000 00:00:1730661228.744899    1092 inference_feedback_manager.cc:114] Feedback manager requires a model with a single signature inference. Disabling support for feedback tensors.\n"
     ]
    },
    {
     "name": "stdout",
     "output_type": "stream",
     "text": [
      "Calculating time: 1.257307767868042\n",
      "Landmarks time: 1.2534420490264893\n",
      "Check_landmarks time: 0.0006303787231445312\n",
      "Fragment: 124 from 610, mode: 'train'\n"
     ]
    },
    {
     "name": "stderr",
     "output_type": "stream",
     "text": [
      "I0000 00:00:1730661230.203224      17 task_runner.cc:85] GPU suport is not available: INTERNAL: ; RET_CHECK failure (mediapipe/gpu/gl_context_egl.cc:77) display != EGL_NO_DISPLAYeglGetDisplay() returned error 0x300c\n",
      "W0000 00:00:1730661230.305909    1101 inference_feedback_manager.cc:114] Feedback manager requires a model with a single signature inference. Disabling support for feedback tensors.\n",
      "W0000 00:00:1730661230.341977    1102 inference_feedback_manager.cc:114] Feedback manager requires a model with a single signature inference. Disabling support for feedback tensors.\n"
     ]
    },
    {
     "name": "stdout",
     "output_type": "stream",
     "text": [
      "Calculating time: 1.2689898014068604\n",
      "Landmarks time: 1.2676615715026855\n",
      "Check_landmarks time: 0.0008287429809570312\n",
      "Fragment: 125 from 610, mode: 'train'\n"
     ]
    },
    {
     "name": "stderr",
     "output_type": "stream",
     "text": [
      "I0000 00:00:1730661231.757056      17 task_runner.cc:85] GPU suport is not available: INTERNAL: ; RET_CHECK failure (mediapipe/gpu/gl_context_egl.cc:77) display != EGL_NO_DISPLAYeglGetDisplay() returned error 0x300c\n",
      "W0000 00:00:1730661231.865685    1109 inference_feedback_manager.cc:114] Feedback manager requires a model with a single signature inference. Disabling support for feedback tensors.\n",
      "W0000 00:00:1730661231.896981    1109 inference_feedback_manager.cc:114] Feedback manager requires a model with a single signature inference. Disabling support for feedback tensors.\n"
     ]
    },
    {
     "name": "stdout",
     "output_type": "stream",
     "text": [
      "Calculating time: 1.1952831745147705\n",
      "Landmarks time: 1.191300630569458\n",
      "Check_landmarks time: 0.000286102294921875\n",
      "Fragment: 126 from 610, mode: 'train'\n"
     ]
    },
    {
     "name": "stderr",
     "output_type": "stream",
     "text": [
      "I0000 00:00:1730661233.225029      17 task_runner.cc:85] GPU suport is not available: INTERNAL: ; RET_CHECK failure (mediapipe/gpu/gl_context_egl.cc:77) display != EGL_NO_DISPLAYeglGetDisplay() returned error 0x300c\n",
      "W0000 00:00:1730661233.325226    1117 inference_feedback_manager.cc:114] Feedback manager requires a model with a single signature inference. Disabling support for feedback tensors.\n",
      "W0000 00:00:1730661233.350139    1117 inference_feedback_manager.cc:114] Feedback manager requires a model with a single signature inference. Disabling support for feedback tensors.\n"
     ]
    },
    {
     "name": "stdout",
     "output_type": "stream",
     "text": [
      "Calculating time: 1.2335872650146484\n",
      "Landmarks time: 1.229494333267212\n",
      "Check_landmarks time: 0.00029921531677246094\n",
      "Fragment: 127 from 610, mode: 'train'\n"
     ]
    },
    {
     "name": "stderr",
     "output_type": "stream",
     "text": [
      "I0000 00:00:1730661234.741678      17 task_runner.cc:85] GPU suport is not available: INTERNAL: ; RET_CHECK failure (mediapipe/gpu/gl_context_egl.cc:77) display != EGL_NO_DISPLAYeglGetDisplay() returned error 0x300c\n",
      "W0000 00:00:1730661234.850181    1124 inference_feedback_manager.cc:114] Feedback manager requires a model with a single signature inference. Disabling support for feedback tensors.\n",
      "W0000 00:00:1730661234.881235    1124 inference_feedback_manager.cc:114] Feedback manager requires a model with a single signature inference. Disabling support for feedback tensors.\n"
     ]
    },
    {
     "name": "stdout",
     "output_type": "stream",
     "text": [
      "Calculating time: 1.2043702602386475\n",
      "Landmarks time: 1.203221082687378\n",
      "Check_landmarks time: 0.0006237030029296875\n",
      "Fragment: 128 from 610, mode: 'train'\n"
     ]
    },
    {
     "name": "stderr",
     "output_type": "stream",
     "text": [
      "I0000 00:00:1730661236.228475      17 task_runner.cc:85] GPU suport is not available: INTERNAL: ; RET_CHECK failure (mediapipe/gpu/gl_context_egl.cc:77) display != EGL_NO_DISPLAYeglGetDisplay() returned error 0x300c\n",
      "W0000 00:00:1730661236.325383    1134 inference_feedback_manager.cc:114] Feedback manager requires a model with a single signature inference. Disabling support for feedback tensors.\n",
      "W0000 00:00:1730661236.349926    1131 inference_feedback_manager.cc:114] Feedback manager requires a model with a single signature inference. Disabling support for feedback tensors.\n"
     ]
    },
    {
     "name": "stdout",
     "output_type": "stream",
     "text": [
      "Calculating time: 1.1662116050720215\n",
      "Landmarks time: 1.1626355648040771\n",
      "Check_landmarks time: 0.0005991458892822266\n",
      "Fragment: 129 from 610, mode: 'train'\n"
     ]
    },
    {
     "name": "stderr",
     "output_type": "stream",
     "text": [
      "I0000 00:00:1730661237.663500      17 task_runner.cc:85] GPU suport is not available: INTERNAL: ; RET_CHECK failure (mediapipe/gpu/gl_context_egl.cc:77) display != EGL_NO_DISPLAYeglGetDisplay() returned error 0x300c\n",
      "W0000 00:00:1730661237.761910    1140 inference_feedback_manager.cc:114] Feedback manager requires a model with a single signature inference. Disabling support for feedback tensors.\n",
      "W0000 00:00:1730661237.792966    1142 inference_feedback_manager.cc:114] Feedback manager requires a model with a single signature inference. Disabling support for feedback tensors.\n"
     ]
    },
    {
     "name": "stdout",
     "output_type": "stream",
     "text": [
      "Calculating time: 1.2476372718811035\n",
      "Landmarks time: 1.2416396141052246\n",
      "Check_landmarks time: 0.002959012985229492\n",
      "Fragment: 130 from 610, mode: 'train'\n"
     ]
    },
    {
     "name": "stderr",
     "output_type": "stream",
     "text": [
      "I0000 00:00:1730661239.193857      17 task_runner.cc:85] GPU suport is not available: INTERNAL: ; RET_CHECK failure (mediapipe/gpu/gl_context_egl.cc:77) display != EGL_NO_DISPLAYeglGetDisplay() returned error 0x300c\n",
      "W0000 00:00:1730661239.290869    1148 inference_feedback_manager.cc:114] Feedback manager requires a model with a single signature inference. Disabling support for feedback tensors.\n",
      "W0000 00:00:1730661239.322037    1150 inference_feedback_manager.cc:114] Feedback manager requires a model with a single signature inference. Disabling support for feedback tensors.\n"
     ]
    },
    {
     "name": "stdout",
     "output_type": "stream",
     "text": [
      "Calculating time: 1.20947265625\n",
      "Landmarks time: 1.205714225769043\n",
      "Check_landmarks time: 0.0029430389404296875\n",
      "Fragment: 131 from 610, mode: 'train'\n"
     ]
    },
    {
     "name": "stderr",
     "output_type": "stream",
     "text": [
      "I0000 00:00:1730661240.623722      17 task_runner.cc:85] GPU suport is not available: INTERNAL: ; RET_CHECK failure (mediapipe/gpu/gl_context_egl.cc:77) display != EGL_NO_DISPLAYeglGetDisplay() returned error 0x300c\n",
      "W0000 00:00:1730661240.722893    1155 inference_feedback_manager.cc:114] Feedback manager requires a model with a single signature inference. Disabling support for feedback tensors.\n",
      "W0000 00:00:1730661240.747184    1156 inference_feedback_manager.cc:114] Feedback manager requires a model with a single signature inference. Disabling support for feedback tensors.\n"
     ]
    },
    {
     "name": "stdout",
     "output_type": "stream",
     "text": [
      "Not valid sequence\n",
      "Calculating time: 0.9359376430511475\n",
      "Landmarks time: 0.9271440505981445\n",
      "Check_landmarks time: 0.0036089420318603516\n",
      "Fragment: 132 from 610, mode: 'train'\n"
     ]
    },
    {
     "name": "stderr",
     "output_type": "stream",
     "text": [
      "I0000 00:00:1730661241.849178      17 task_runner.cc:85] GPU suport is not available: INTERNAL: ; RET_CHECK failure (mediapipe/gpu/gl_context_egl.cc:77) display != EGL_NO_DISPLAYeglGetDisplay() returned error 0x300c\n",
      "W0000 00:00:1730661241.947162    1164 inference_feedback_manager.cc:114] Feedback manager requires a model with a single signature inference. Disabling support for feedback tensors.\n",
      "W0000 00:00:1730661241.971975    1165 inference_feedback_manager.cc:114] Feedback manager requires a model with a single signature inference. Disabling support for feedback tensors.\n"
     ]
    },
    {
     "name": "stdout",
     "output_type": "stream",
     "text": [
      "Calculating time: 1.2885878086090088\n",
      "Landmarks time: 1.2825193405151367\n",
      "Check_landmarks time: 0.0030541419982910156\n",
      "Fragment: 133 from 610, mode: 'train'\n"
     ]
    },
    {
     "name": "stderr",
     "output_type": "stream",
     "text": [
      "I0000 00:00:1730661243.442432      17 task_runner.cc:85] GPU suport is not available: INTERNAL: ; RET_CHECK failure (mediapipe/gpu/gl_context_egl.cc:77) display != EGL_NO_DISPLAYeglGetDisplay() returned error 0x300c\n",
      "W0000 00:00:1730661243.540115    1174 inference_feedback_manager.cc:114] Feedback manager requires a model with a single signature inference. Disabling support for feedback tensors.\n",
      "W0000 00:00:1730661243.564640    1174 inference_feedback_manager.cc:114] Feedback manager requires a model with a single signature inference. Disabling support for feedback tensors.\n"
     ]
    },
    {
     "name": "stdout",
     "output_type": "stream",
     "text": [
      "Calculating time: 1.1503381729125977\n",
      "Landmarks time: 1.1466577053070068\n",
      "Check_landmarks time: 0.00032711029052734375\n",
      "Fragment: 134 from 610, mode: 'train'\n"
     ]
    },
    {
     "name": "stderr",
     "output_type": "stream",
     "text": [
      "I0000 00:00:1730661244.883419      17 task_runner.cc:85] GPU suport is not available: INTERNAL: ; RET_CHECK failure (mediapipe/gpu/gl_context_egl.cc:77) display != EGL_NO_DISPLAYeglGetDisplay() returned error 0x300c\n",
      "W0000 00:00:1730661244.987973    1179 inference_feedback_manager.cc:114] Feedback manager requires a model with a single signature inference. Disabling support for feedback tensors.\n",
      "W0000 00:00:1730661245.012240    1181 inference_feedback_manager.cc:114] Feedback manager requires a model with a single signature inference. Disabling support for feedback tensors.\n"
     ]
    },
    {
     "name": "stdout",
     "output_type": "stream",
     "text": [
      "Calculating time: 1.0082440376281738\n",
      "Landmarks time: 1.0019323825836182\n",
      "Check_landmarks time: 0.003259420394897461\n",
      "Fragment: 135 from 610, mode: 'train'\n"
     ]
    },
    {
     "name": "stderr",
     "output_type": "stream",
     "text": [
      "I0000 00:00:1730661246.177712      17 task_runner.cc:85] GPU suport is not available: INTERNAL: ; RET_CHECK failure (mediapipe/gpu/gl_context_egl.cc:77) display != EGL_NO_DISPLAYeglGetDisplay() returned error 0x300c\n",
      "W0000 00:00:1730661246.275413    1189 inference_feedback_manager.cc:114] Feedback manager requires a model with a single signature inference. Disabling support for feedback tensors.\n",
      "W0000 00:00:1730661246.300406    1190 inference_feedback_manager.cc:114] Feedback manager requires a model with a single signature inference. Disabling support for feedback tensors.\n"
     ]
    },
    {
     "name": "stdout",
     "output_type": "stream",
     "text": [
      "Not valid sequence\n",
      "Calculating time: 0.9295895099639893\n",
      "Landmarks time: 0.925952672958374\n",
      "Check_landmarks time: 0.0026705265045166016\n",
      "Fragment: 136 from 610, mode: 'train'\n"
     ]
    },
    {
     "name": "stderr",
     "output_type": "stream",
     "text": [
      "I0000 00:00:1730661247.400890      17 task_runner.cc:85] GPU suport is not available: INTERNAL: ; RET_CHECK failure (mediapipe/gpu/gl_context_egl.cc:77) display != EGL_NO_DISPLAYeglGetDisplay() returned error 0x300c\n",
      "W0000 00:00:1730661247.498386    1196 inference_feedback_manager.cc:114] Feedback manager requires a model with a single signature inference. Disabling support for feedback tensors.\n",
      "W0000 00:00:1730661247.530362    1197 inference_feedback_manager.cc:114] Feedback manager requires a model with a single signature inference. Disabling support for feedback tensors.\n"
     ]
    },
    {
     "name": "stdout",
     "output_type": "stream",
     "text": [
      "Not valid sequence\n",
      "Calculating time: 0.9759964942932129\n",
      "Landmarks time: 0.9690244197845459\n",
      "Check_landmarks time: 0.003399372100830078\n",
      "Fragment: 137 from 610, mode: 'train'\n"
     ]
    },
    {
     "name": "stderr",
     "output_type": "stream",
     "text": [
      "I0000 00:00:1730661248.655199      17 task_runner.cc:85] GPU suport is not available: INTERNAL: ; RET_CHECK failure (mediapipe/gpu/gl_context_egl.cc:77) display != EGL_NO_DISPLAYeglGetDisplay() returned error 0x300c\n",
      "W0000 00:00:1730661248.753627    1203 inference_feedback_manager.cc:114] Feedback manager requires a model with a single signature inference. Disabling support for feedback tensors.\n",
      "W0000 00:00:1730661248.778095    1203 inference_feedback_manager.cc:114] Feedback manager requires a model with a single signature inference. Disabling support for feedback tensors.\n"
     ]
    },
    {
     "name": "stdout",
     "output_type": "stream",
     "text": [
      "Calculating time: 1.2669832706451416\n",
      "Landmarks time: 1.2624812126159668\n",
      "Check_landmarks time: 0.0010759830474853516\n",
      "Fragment: 138 from 610, mode: 'train'\n"
     ]
    },
    {
     "name": "stderr",
     "output_type": "stream",
     "text": [
      "I0000 00:00:1730661250.207050      17 task_runner.cc:85] GPU suport is not available: INTERNAL: ; RET_CHECK failure (mediapipe/gpu/gl_context_egl.cc:77) display != EGL_NO_DISPLAYeglGetDisplay() returned error 0x300c\n",
      "W0000 00:00:1730661250.305090    1213 inference_feedback_manager.cc:114] Feedback manager requires a model with a single signature inference. Disabling support for feedback tensors.\n",
      "W0000 00:00:1730661250.336715    1212 inference_feedback_manager.cc:114] Feedback manager requires a model with a single signature inference. Disabling support for feedback tensors.\n"
     ]
    },
    {
     "name": "stdout",
     "output_type": "stream",
     "text": [
      "Calculating time: 1.2137625217437744\n",
      "Landmarks time: 1.2120027542114258\n",
      "Check_landmarks time: 0.0012509822845458984\n",
      "Fragment: 139 from 610, mode: 'train'\n"
     ]
    },
    {
     "name": "stderr",
     "output_type": "stream",
     "text": [
      "I0000 00:00:1730661251.714943      17 task_runner.cc:85] GPU suport is not available: INTERNAL: ; RET_CHECK failure (mediapipe/gpu/gl_context_egl.cc:77) display != EGL_NO_DISPLAYeglGetDisplay() returned error 0x300c\n",
      "W0000 00:00:1730661251.814373    1221 inference_feedback_manager.cc:114] Feedback manager requires a model with a single signature inference. Disabling support for feedback tensors.\n",
      "W0000 00:00:1730661251.838420    1221 inference_feedback_manager.cc:114] Feedback manager requires a model with a single signature inference. Disabling support for feedback tensors.\n"
     ]
    },
    {
     "name": "stdout",
     "output_type": "stream",
     "text": [
      "Calculating time: 1.2785842418670654\n",
      "Landmarks time: 1.273411512374878\n",
      "Check_landmarks time: 0.0019788742065429688\n",
      "Fragment: 140 from 610, mode: 'train'\n"
     ]
    },
    {
     "name": "stderr",
     "output_type": "stream",
     "text": [
      "I0000 00:00:1730661253.270009      17 task_runner.cc:85] GPU suport is not available: INTERNAL: ; RET_CHECK failure (mediapipe/gpu/gl_context_egl.cc:77) display != EGL_NO_DISPLAYeglGetDisplay() returned error 0x300c\n",
      "W0000 00:00:1730661253.367461    1228 inference_feedback_manager.cc:114] Feedback manager requires a model with a single signature inference. Disabling support for feedback tensors.\n",
      "W0000 00:00:1730661253.397702    1229 inference_feedback_manager.cc:114] Feedback manager requires a model with a single signature inference. Disabling support for feedback tensors.\n"
     ]
    },
    {
     "name": "stdout",
     "output_type": "stream",
     "text": [
      "Calculating time: 1.2473766803741455\n",
      "Landmarks time: 1.242401361465454\n",
      "Check_landmarks time: 0.0019960403442382812\n",
      "Fragment: 141 from 610, mode: 'train'\n"
     ]
    },
    {
     "name": "stderr",
     "output_type": "stream",
     "text": [
      "I0000 00:00:1730661254.816981      17 task_runner.cc:85] GPU suport is not available: INTERNAL: ; RET_CHECK failure (mediapipe/gpu/gl_context_egl.cc:77) display != EGL_NO_DISPLAYeglGetDisplay() returned error 0x300c\n",
      "W0000 00:00:1730661254.915071    1237 inference_feedback_manager.cc:114] Feedback manager requires a model with a single signature inference. Disabling support for feedback tensors.\n",
      "W0000 00:00:1730661254.939782    1237 inference_feedback_manager.cc:114] Feedback manager requires a model with a single signature inference. Disabling support for feedback tensors.\n"
     ]
    },
    {
     "name": "stdout",
     "output_type": "stream",
     "text": [
      "Calculating time: 1.3350212574005127\n",
      "Landmarks time: 1.3319242000579834\n",
      "Check_landmarks time: 0.0025353431701660156\n",
      "Fragment: 142 from 610, mode: 'train'\n"
     ]
    },
    {
     "name": "stderr",
     "output_type": "stream",
     "text": [
      "I0000 00:00:1730661256.450101      17 task_runner.cc:85] GPU suport is not available: INTERNAL: ; RET_CHECK failure (mediapipe/gpu/gl_context_egl.cc:77) display != EGL_NO_DISPLAYeglGetDisplay() returned error 0x300c\n",
      "W0000 00:00:1730661256.566322    1245 inference_feedback_manager.cc:114] Feedback manager requires a model with a single signature inference. Disabling support for feedback tensors.\n",
      "W0000 00:00:1730661256.605391    1245 inference_feedback_manager.cc:114] Feedback manager requires a model with a single signature inference. Disabling support for feedback tensors.\n"
     ]
    },
    {
     "name": "stdout",
     "output_type": "stream",
     "text": [
      "Calculating time: 1.2184176445007324\n",
      "Landmarks time: 1.2115004062652588\n",
      "Check_landmarks time: 0.0032498836517333984\n",
      "Fragment: 143 from 610, mode: 'train'\n"
     ]
    },
    {
     "name": "stderr",
     "output_type": "stream",
     "text": [
      "I0000 00:00:1730661257.953906      17 task_runner.cc:85] GPU suport is not available: INTERNAL: ; RET_CHECK failure (mediapipe/gpu/gl_context_egl.cc:77) display != EGL_NO_DISPLAYeglGetDisplay() returned error 0x300c\n",
      "W0000 00:00:1730661258.061007    1252 inference_feedback_manager.cc:114] Feedback manager requires a model with a single signature inference. Disabling support for feedback tensors.\n",
      "W0000 00:00:1730661258.116969    1254 inference_feedback_manager.cc:114] Feedback manager requires a model with a single signature inference. Disabling support for feedback tensors.\n"
     ]
    },
    {
     "name": "stdout",
     "output_type": "stream",
     "text": [
      "Calculating time: 1.3522248268127441\n",
      "Landmarks time: 1.3472900390625\n",
      "Check_landmarks time: 0.0018048286437988281\n",
      "Fragment: 144 from 610, mode: 'train'\n"
     ]
    },
    {
     "name": "stderr",
     "output_type": "stream",
     "text": [
      "I0000 00:00:1730661259.592984      17 task_runner.cc:85] GPU suport is not available: INTERNAL: ; RET_CHECK failure (mediapipe/gpu/gl_context_egl.cc:77) display != EGL_NO_DISPLAYeglGetDisplay() returned error 0x300c\n",
      "W0000 00:00:1730661259.702918    1260 inference_feedback_manager.cc:114] Feedback manager requires a model with a single signature inference. Disabling support for feedback tensors.\n",
      "W0000 00:00:1730661259.737520    1260 inference_feedback_manager.cc:114] Feedback manager requires a model with a single signature inference. Disabling support for feedback tensors.\n"
     ]
    },
    {
     "name": "stdout",
     "output_type": "stream",
     "text": [
      "Not valid sequence\n",
      "Calculating time: 0.9531731605529785\n",
      "Landmarks time: 0.9487671852111816\n",
      "Check_landmarks time: 0.0033218860626220703\n",
      "Fragment: 145 from 610, mode: 'train'\n"
     ]
    },
    {
     "name": "stderr",
     "output_type": "stream",
     "text": [
      "I0000 00:00:1730661260.839790      17 task_runner.cc:85] GPU suport is not available: INTERNAL: ; RET_CHECK failure (mediapipe/gpu/gl_context_egl.cc:77) display != EGL_NO_DISPLAYeglGetDisplay() returned error 0x300c\n",
      "W0000 00:00:1730661260.937951    1269 inference_feedback_manager.cc:114] Feedback manager requires a model with a single signature inference. Disabling support for feedback tensors.\n",
      "W0000 00:00:1730661260.969843    1268 inference_feedback_manager.cc:114] Feedback manager requires a model with a single signature inference. Disabling support for feedback tensors.\n"
     ]
    },
    {
     "name": "stdout",
     "output_type": "stream",
     "text": [
      "Not valid sequence\n",
      "Calculating time: 0.9138269424438477\n",
      "Landmarks time: 0.9066345691680908\n",
      "Check_landmarks time: 0.0036673545837402344\n",
      "Fragment: 146 from 610, mode: 'train'\n"
     ]
    },
    {
     "name": "stderr",
     "output_type": "stream",
     "text": [
      "I0000 00:00:1730661262.093313      17 task_runner.cc:85] GPU suport is not available: INTERNAL: ; RET_CHECK failure (mediapipe/gpu/gl_context_egl.cc:77) display != EGL_NO_DISPLAYeglGetDisplay() returned error 0x300c\n",
      "W0000 00:00:1730661262.198248    1276 inference_feedback_manager.cc:114] Feedback manager requires a model with a single signature inference. Disabling support for feedback tensors.\n",
      "W0000 00:00:1730661262.223210    1275 inference_feedback_manager.cc:114] Feedback manager requires a model with a single signature inference. Disabling support for feedback tensors.\n"
     ]
    },
    {
     "name": "stdout",
     "output_type": "stream",
     "text": [
      "Not valid sequence\n",
      "Calculating time: 1.1046066284179688\n",
      "Landmarks time: 1.0973904132843018\n",
      "Check_landmarks time: 0.003665447235107422\n",
      "Fragment: 147 from 610, mode: 'train'\n"
     ]
    },
    {
     "name": "stderr",
     "output_type": "stream",
     "text": [
      "I0000 00:00:1730661263.530565      17 task_runner.cc:85] GPU suport is not available: INTERNAL: ; RET_CHECK failure (mediapipe/gpu/gl_context_egl.cc:77) display != EGL_NO_DISPLAYeglGetDisplay() returned error 0x300c\n",
      "W0000 00:00:1730661263.628540    1284 inference_feedback_manager.cc:114] Feedback manager requires a model with a single signature inference. Disabling support for feedback tensors.\n",
      "W0000 00:00:1730661263.655356    1285 inference_feedback_manager.cc:114] Feedback manager requires a model with a single signature inference. Disabling support for feedback tensors.\n"
     ]
    },
    {
     "name": "stdout",
     "output_type": "stream",
     "text": [
      "Not valid sequence\n",
      "Calculating time: 0.9306530952453613\n",
      "Landmarks time: 0.9265854358673096\n",
      "Check_landmarks time: 0.0030837059020996094\n",
      "Fragment: 148 from 610, mode: 'train'\n"
     ]
    },
    {
     "name": "stderr",
     "output_type": "stream",
     "text": [
      "I0000 00:00:1730661264.761416      17 task_runner.cc:85] GPU suport is not available: INTERNAL: ; RET_CHECK failure (mediapipe/gpu/gl_context_egl.cc:77) display != EGL_NO_DISPLAYeglGetDisplay() returned error 0x300c\n",
      "W0000 00:00:1730661264.860262    1292 inference_feedback_manager.cc:114] Feedback manager requires a model with a single signature inference. Disabling support for feedback tensors.\n",
      "W0000 00:00:1730661264.885013    1291 inference_feedback_manager.cc:114] Feedback manager requires a model with a single signature inference. Disabling support for feedback tensors.\n"
     ]
    },
    {
     "name": "stdout",
     "output_type": "stream",
     "text": [
      "Not valid sequence\n",
      "Calculating time: 0.9073207378387451\n",
      "Landmarks time: 0.900221586227417\n",
      "Check_landmarks time: 0.003485441207885742\n",
      "Fragment: 149 from 610, mode: 'train'\n"
     ]
    },
    {
     "name": "stderr",
     "output_type": "stream",
     "text": [
      "I0000 00:00:1730661265.958926      17 task_runner.cc:85] GPU suport is not available: INTERNAL: ; RET_CHECK failure (mediapipe/gpu/gl_context_egl.cc:77) display != EGL_NO_DISPLAYeglGetDisplay() returned error 0x300c\n",
      "W0000 00:00:1730661266.056513    1300 inference_feedback_manager.cc:114] Feedback manager requires a model with a single signature inference. Disabling support for feedback tensors.\n",
      "W0000 00:00:1730661266.081153    1302 inference_feedback_manager.cc:114] Feedback manager requires a model with a single signature inference. Disabling support for feedback tensors.\n"
     ]
    },
    {
     "name": "stdout",
     "output_type": "stream",
     "text": [
      "Not valid sequence\n",
      "Calculating time: 1.1603038311004639\n",
      "Landmarks time: 1.1527156829833984\n",
      "Check_landmarks time: 0.003561735153198242\n",
      "Fragment: 150 from 610, mode: 'train'\n"
     ]
    },
    {
     "name": "stderr",
     "output_type": "stream",
     "text": [
      "I0000 00:00:1730661267.406005      17 task_runner.cc:85] GPU suport is not available: INTERNAL: ; RET_CHECK failure (mediapipe/gpu/gl_context_egl.cc:77) display != EGL_NO_DISPLAYeglGetDisplay() returned error 0x300c\n",
      "W0000 00:00:1730661267.514325    1308 inference_feedback_manager.cc:114] Feedback manager requires a model with a single signature inference. Disabling support for feedback tensors.\n",
      "W0000 00:00:1730661267.545917    1308 inference_feedback_manager.cc:114] Feedback manager requires a model with a single signature inference. Disabling support for feedback tensors.\n"
     ]
    },
    {
     "name": "stdout",
     "output_type": "stream",
     "text": [
      "Calculating time: 1.0793025493621826\n",
      "Landmarks time: 1.0755188465118408\n",
      "Check_landmarks time: 0.002927541732788086\n",
      "Fragment: 151 from 610, mode: 'train'\n"
     ]
    },
    {
     "name": "stderr",
     "output_type": "stream",
     "text": [
      "I0000 00:00:1730661268.769341      17 task_runner.cc:85] GPU suport is not available: INTERNAL: ; RET_CHECK failure (mediapipe/gpu/gl_context_egl.cc:77) display != EGL_NO_DISPLAYeglGetDisplay() returned error 0x300c\n",
      "W0000 00:00:1730661268.878770    1317 inference_feedback_manager.cc:114] Feedback manager requires a model with a single signature inference. Disabling support for feedback tensors.\n",
      "W0000 00:00:1730661268.903614    1316 inference_feedback_manager.cc:114] Feedback manager requires a model with a single signature inference. Disabling support for feedback tensors.\n"
     ]
    },
    {
     "name": "stdout",
     "output_type": "stream",
     "text": [
      "Calculating time: 0.9673271179199219\n",
      "Landmarks time: 0.9604640007019043\n",
      "Check_landmarks time: 0.003339052200317383\n",
      "Fragment: 152 from 610, mode: 'train'\n"
     ]
    },
    {
     "name": "stderr",
     "output_type": "stream",
     "text": [
      "I0000 00:00:1730661270.016978      17 task_runner.cc:85] GPU suport is not available: INTERNAL: ; RET_CHECK failure (mediapipe/gpu/gl_context_egl.cc:77) display != EGL_NO_DISPLAYeglGetDisplay() returned error 0x300c\n",
      "W0000 00:00:1730661270.122926    1324 inference_feedback_manager.cc:114] Feedback manager requires a model with a single signature inference. Disabling support for feedback tensors.\n",
      "W0000 00:00:1730661270.154305    1326 inference_feedback_manager.cc:114] Feedback manager requires a model with a single signature inference. Disabling support for feedback tensors.\n"
     ]
    },
    {
     "name": "stdout",
     "output_type": "stream",
     "text": [
      "Calculating time: 1.2082281112670898\n",
      "Landmarks time: 1.2039318084716797\n",
      "Check_landmarks time: 0.0008475780487060547\n",
      "Fragment: 153 from 610, mode: 'train'\n"
     ]
    },
    {
     "name": "stderr",
     "output_type": "stream",
     "text": [
      "I0000 00:00:1730661271.514588      17 task_runner.cc:85] GPU suport is not available: INTERNAL: ; RET_CHECK failure (mediapipe/gpu/gl_context_egl.cc:77) display != EGL_NO_DISPLAYeglGetDisplay() returned error 0x300c\n",
      "W0000 00:00:1730661271.623659    1333 inference_feedback_manager.cc:114] Feedback manager requires a model with a single signature inference. Disabling support for feedback tensors.\n",
      "W0000 00:00:1730661271.654939    1333 inference_feedback_manager.cc:114] Feedback manager requires a model with a single signature inference. Disabling support for feedback tensors.\n"
     ]
    },
    {
     "name": "stdout",
     "output_type": "stream",
     "text": [
      "Calculating time: 1.2216155529022217\n",
      "Landmarks time: 1.2206971645355225\n",
      "Check_landmarks time: 0.00039124488830566406\n",
      "Fragment: 154 from 610, mode: 'train'\n"
     ]
    },
    {
     "name": "stderr",
     "output_type": "stream",
     "text": [
      "I0000 00:00:1730661273.052383      17 task_runner.cc:85] GPU suport is not available: INTERNAL: ; RET_CHECK failure (mediapipe/gpu/gl_context_egl.cc:77) display != EGL_NO_DISPLAYeglGetDisplay() returned error 0x300c\n",
      "W0000 00:00:1730661273.150001    1342 inference_feedback_manager.cc:114] Feedback manager requires a model with a single signature inference. Disabling support for feedback tensors.\n",
      "W0000 00:00:1730661273.181223    1340 inference_feedback_manager.cc:114] Feedback manager requires a model with a single signature inference. Disabling support for feedback tensors.\n"
     ]
    },
    {
     "name": "stdout",
     "output_type": "stream",
     "text": [
      "Calculating time: 1.178499460220337\n",
      "Landmarks time: 1.1749870777130127\n",
      "Check_landmarks time: 0.00029087066650390625\n",
      "Fragment: 155 from 610, mode: 'train'\n"
     ]
    },
    {
     "name": "stderr",
     "output_type": "stream",
     "text": [
      "I0000 00:00:1730661274.504261      17 task_runner.cc:85] GPU suport is not available: INTERNAL: ; RET_CHECK failure (mediapipe/gpu/gl_context_egl.cc:77) display != EGL_NO_DISPLAYeglGetDisplay() returned error 0x300c\n",
      "W0000 00:00:1730661274.612610    1348 inference_feedback_manager.cc:114] Feedback manager requires a model with a single signature inference. Disabling support for feedback tensors.\n",
      "W0000 00:00:1730661274.637444    1350 inference_feedback_manager.cc:114] Feedback manager requires a model with a single signature inference. Disabling support for feedback tensors.\n"
     ]
    },
    {
     "name": "stdout",
     "output_type": "stream",
     "text": [
      "Calculating time: 1.2393684387207031\n",
      "Landmarks time: 1.2353582382202148\n",
      "Check_landmarks time: 0.0002970695495605469\n",
      "Fragment: 156 from 610, mode: 'train'\n"
     ]
    },
    {
     "name": "stderr",
     "output_type": "stream",
     "text": [
      "I0000 00:00:1730661276.022665      17 task_runner.cc:85] GPU suport is not available: INTERNAL: ; RET_CHECK failure (mediapipe/gpu/gl_context_egl.cc:77) display != EGL_NO_DISPLAYeglGetDisplay() returned error 0x300c\n",
      "W0000 00:00:1730661276.119850    1356 inference_feedback_manager.cc:114] Feedback manager requires a model with a single signature inference. Disabling support for feedback tensors.\n",
      "W0000 00:00:1730661276.144360    1355 inference_feedback_manager.cc:114] Feedback manager requires a model with a single signature inference. Disabling support for feedback tensors.\n"
     ]
    },
    {
     "name": "stdout",
     "output_type": "stream",
     "text": [
      "Calculating time: 1.1968965530395508\n",
      "Landmarks time: 1.196075201034546\n",
      "Check_landmarks time: 0.00029754638671875\n",
      "Fragment: 157 from 610, mode: 'train'\n"
     ]
    },
    {
     "name": "stderr",
     "output_type": "stream",
     "text": [
      "I0000 00:00:1730661277.509051      17 task_runner.cc:85] GPU suport is not available: INTERNAL: ; RET_CHECK failure (mediapipe/gpu/gl_context_egl.cc:77) display != EGL_NO_DISPLAYeglGetDisplay() returned error 0x300c\n",
      "W0000 00:00:1730661277.606424    1364 inference_feedback_manager.cc:114] Feedback manager requires a model with a single signature inference. Disabling support for feedback tensors.\n",
      "W0000 00:00:1730661277.637916    1365 inference_feedback_manager.cc:114] Feedback manager requires a model with a single signature inference. Disabling support for feedback tensors.\n"
     ]
    },
    {
     "name": "stdout",
     "output_type": "stream",
     "text": [
      "Calculating time: 1.1641933917999268\n",
      "Landmarks time: 1.1606862545013428\n",
      "Check_landmarks time: 0.0002758502960205078\n",
      "Fragment: 158 from 610, mode: 'train'\n"
     ]
    },
    {
     "name": "stderr",
     "output_type": "stream",
     "text": [
      "I0000 00:00:1730661278.946179      17 task_runner.cc:85] GPU suport is not available: INTERNAL: ; RET_CHECK failure (mediapipe/gpu/gl_context_egl.cc:77) display != EGL_NO_DISPLAYeglGetDisplay() returned error 0x300c\n",
      "W0000 00:00:1730661279.044241    1373 inference_feedback_manager.cc:114] Feedback manager requires a model with a single signature inference. Disabling support for feedback tensors.\n",
      "W0000 00:00:1730661279.068573    1373 inference_feedback_manager.cc:114] Feedback manager requires a model with a single signature inference. Disabling support for feedback tensors.\n"
     ]
    },
    {
     "name": "stdout",
     "output_type": "stream",
     "text": [
      "Calculating time: 1.2296500205993652\n",
      "Landmarks time: 1.2258765697479248\n",
      "Check_landmarks time: 0.0002932548522949219\n",
      "Fragment: 159 from 610, mode: 'train'\n"
     ]
    },
    {
     "name": "stderr",
     "output_type": "stream",
     "text": [
      "I0000 00:00:1730661280.456423      17 task_runner.cc:85] GPU suport is not available: INTERNAL: ; RET_CHECK failure (mediapipe/gpu/gl_context_egl.cc:77) display != EGL_NO_DISPLAYeglGetDisplay() returned error 0x300c\n",
      "W0000 00:00:1730661280.565777    1382 inference_feedback_manager.cc:114] Feedback manager requires a model with a single signature inference. Disabling support for feedback tensors.\n",
      "W0000 00:00:1730661280.597620    1382 inference_feedback_manager.cc:114] Feedback manager requires a model with a single signature inference. Disabling support for feedback tensors.\n"
     ]
    },
    {
     "name": "stdout",
     "output_type": "stream",
     "text": [
      "Calculating time: 1.2173194885253906\n",
      "Landmarks time: 1.2161736488342285\n",
      "Check_landmarks time: 0.00029730796813964844\n",
      "Fragment: 160 from 610, mode: 'train'\n"
     ]
    },
    {
     "name": "stderr",
     "output_type": "stream",
     "text": [
      "I0000 00:00:1730661281.968519      17 task_runner.cc:85] GPU suport is not available: INTERNAL: ; RET_CHECK failure (mediapipe/gpu/gl_context_egl.cc:77) display != EGL_NO_DISPLAYeglGetDisplay() returned error 0x300c\n",
      "W0000 00:00:1730661282.065913    1388 inference_feedback_manager.cc:114] Feedback manager requires a model with a single signature inference. Disabling support for feedback tensors.\n",
      "W0000 00:00:1730661282.090543    1390 inference_feedback_manager.cc:114] Feedback manager requires a model with a single signature inference. Disabling support for feedback tensors.\n"
     ]
    },
    {
     "name": "stdout",
     "output_type": "stream",
     "text": [
      "Calculating time: 1.1908764839172363\n",
      "Landmarks time: 1.1876142024993896\n",
      "Check_landmarks time: 0.0002772808074951172\n",
      "Fragment: 161 from 610, mode: 'train'\n"
     ]
    },
    {
     "name": "stderr",
     "output_type": "stream",
     "text": [
      "I0000 00:00:1730661283.424883      17 task_runner.cc:85] GPU suport is not available: INTERNAL: ; RET_CHECK failure (mediapipe/gpu/gl_context_egl.cc:77) display != EGL_NO_DISPLAYeglGetDisplay() returned error 0x300c\n",
      "W0000 00:00:1730661283.529366    1395 inference_feedback_manager.cc:114] Feedback manager requires a model with a single signature inference. Disabling support for feedback tensors.\n",
      "W0000 00:00:1730661283.553801    1397 inference_feedback_manager.cc:114] Feedback manager requires a model with a single signature inference. Disabling support for feedback tensors.\n"
     ]
    },
    {
     "name": "stdout",
     "output_type": "stream",
     "text": [
      "Calculating time: 1.2388405799865723\n",
      "Landmarks time: 1.2354555130004883\n",
      "Check_landmarks time: 0.0003173351287841797\n",
      "Fragment: 162 from 610, mode: 'train'\n"
     ]
    },
    {
     "name": "stderr",
     "output_type": "stream",
     "text": [
      "I0000 00:00:1730661284.931763      17 task_runner.cc:85] GPU suport is not available: INTERNAL: ; RET_CHECK failure (mediapipe/gpu/gl_context_egl.cc:77) display != EGL_NO_DISPLAYeglGetDisplay() returned error 0x300c\n",
      "W0000 00:00:1730661285.029438    1406 inference_feedback_manager.cc:114] Feedback manager requires a model with a single signature inference. Disabling support for feedback tensors.\n",
      "W0000 00:00:1730661285.053542    1406 inference_feedback_manager.cc:114] Feedback manager requires a model with a single signature inference. Disabling support for feedback tensors.\n"
     ]
    },
    {
     "name": "stdout",
     "output_type": "stream",
     "text": [
      "Calculating time: 1.194483995437622\n",
      "Landmarks time: 1.1936755180358887\n",
      "Check_landmarks time: 0.00030040740966796875\n",
      "Fragment: 163 from 610, mode: 'train'\n"
     ]
    },
    {
     "name": "stderr",
     "output_type": "stream",
     "text": [
      "I0000 00:00:1730661286.409870      17 task_runner.cc:85] GPU suport is not available: INTERNAL: ; RET_CHECK failure (mediapipe/gpu/gl_context_egl.cc:77) display != EGL_NO_DISPLAYeglGetDisplay() returned error 0x300c\n",
      "W0000 00:00:1730661286.507849    1411 inference_feedback_manager.cc:114] Feedback manager requires a model with a single signature inference. Disabling support for feedback tensors.\n",
      "W0000 00:00:1730661286.539414    1414 inference_feedback_manager.cc:114] Feedback manager requires a model with a single signature inference. Disabling support for feedback tensors.\n"
     ]
    },
    {
     "name": "stdout",
     "output_type": "stream",
     "text": [
      "Calculating time: 1.2054662704467773\n",
      "Landmarks time: 1.2019233703613281\n",
      "Check_landmarks time: 0.0002779960632324219\n",
      "Fragment: 164 from 610, mode: 'train'\n"
     ]
    },
    {
     "name": "stderr",
     "output_type": "stream",
     "text": [
      "I0000 00:00:1730661287.885753      17 task_runner.cc:85] GPU suport is not available: INTERNAL: ; RET_CHECK failure (mediapipe/gpu/gl_context_egl.cc:77) display != EGL_NO_DISPLAYeglGetDisplay() returned error 0x300c\n",
      "W0000 00:00:1730661287.992205    1420 inference_feedback_manager.cc:114] Feedback manager requires a model with a single signature inference. Disabling support for feedback tensors.\n",
      "W0000 00:00:1730661288.016919    1422 inference_feedback_manager.cc:114] Feedback manager requires a model with a single signature inference. Disabling support for feedback tensors.\n"
     ]
    },
    {
     "name": "stdout",
     "output_type": "stream",
     "text": [
      "Calculating time: 1.2465927600860596\n",
      "Landmarks time: 1.2433106899261475\n",
      "Check_landmarks time: 0.000286102294921875\n",
      "Fragment: 165 from 610, mode: 'train'\n"
     ]
    },
    {
     "name": "stderr",
     "output_type": "stream",
     "text": [
      "I0000 00:00:1730661289.405930      17 task_runner.cc:85] GPU suport is not available: INTERNAL: ; RET_CHECK failure (mediapipe/gpu/gl_context_egl.cc:77) display != EGL_NO_DISPLAYeglGetDisplay() returned error 0x300c\n",
      "W0000 00:00:1730661289.503859    1427 inference_feedback_manager.cc:114] Feedback manager requires a model with a single signature inference. Disabling support for feedback tensors.\n",
      "W0000 00:00:1730661289.529115    1428 inference_feedback_manager.cc:114] Feedback manager requires a model with a single signature inference. Disabling support for feedback tensors.\n"
     ]
    },
    {
     "name": "stdout",
     "output_type": "stream",
     "text": [
      "Calculating time: 1.191047191619873\n",
      "Landmarks time: 1.1898953914642334\n",
      "Check_landmarks time: 0.0003414154052734375\n",
      "Fragment: 166 from 610, mode: 'train'\n"
     ]
    },
    {
     "name": "stderr",
     "output_type": "stream",
     "text": [
      "I0000 00:00:1730661290.877178      17 task_runner.cc:85] GPU suport is not available: INTERNAL: ; RET_CHECK failure (mediapipe/gpu/gl_context_egl.cc:77) display != EGL_NO_DISPLAYeglGetDisplay() returned error 0x300c\n",
      "W0000 00:00:1730661290.976384    1437 inference_feedback_manager.cc:114] Feedback manager requires a model with a single signature inference. Disabling support for feedback tensors.\n",
      "W0000 00:00:1730661291.001417    1438 inference_feedback_manager.cc:114] Feedback manager requires a model with a single signature inference. Disabling support for feedback tensors.\n"
     ]
    },
    {
     "name": "stdout",
     "output_type": "stream",
     "text": [
      "Calculating time: 1.1730577945709229\n",
      "Landmarks time: 1.1693637371063232\n",
      "Check_landmarks time: 0.0003306865692138672\n",
      "Fragment: 167 from 610, mode: 'train'\n"
     ]
    },
    {
     "name": "stderr",
     "output_type": "stream",
     "text": [
      "I0000 00:00:1730661292.315197      17 task_runner.cc:85] GPU suport is not available: INTERNAL: ; RET_CHECK failure (mediapipe/gpu/gl_context_egl.cc:77) display != EGL_NO_DISPLAYeglGetDisplay() returned error 0x300c\n",
      "W0000 00:00:1730661292.419451    1446 inference_feedback_manager.cc:114] Feedback manager requires a model with a single signature inference. Disabling support for feedback tensors.\n",
      "W0000 00:00:1730661292.443972    1444 inference_feedback_manager.cc:114] Feedback manager requires a model with a single signature inference. Disabling support for feedback tensors.\n"
     ]
    },
    {
     "name": "stdout",
     "output_type": "stream",
     "text": [
      "Calculating time: 1.2557544708251953\n",
      "Landmarks time: 1.2517681121826172\n",
      "Check_landmarks time: 0.00028777122497558594\n",
      "Fragment: 168 from 610, mode: 'train'\n"
     ]
    },
    {
     "name": "stderr",
     "output_type": "stream",
     "text": [
      "I0000 00:00:1730661293.845100      17 task_runner.cc:85] GPU suport is not available: INTERNAL: ; RET_CHECK failure (mediapipe/gpu/gl_context_egl.cc:77) display != EGL_NO_DISPLAYeglGetDisplay() returned error 0x300c\n",
      "W0000 00:00:1730661293.949991    1451 inference_feedback_manager.cc:114] Feedback manager requires a model with a single signature inference. Disabling support for feedback tensors.\n",
      "W0000 00:00:1730661293.974575    1453 inference_feedback_manager.cc:114] Feedback manager requires a model with a single signature inference. Disabling support for feedback tensors.\n"
     ]
    },
    {
     "name": "stdout",
     "output_type": "stream",
     "text": [
      "Calculating time: 1.3204479217529297\n",
      "Landmarks time: 1.3190195560455322\n",
      "Check_landmarks time: 0.00055694580078125\n",
      "Fragment: 169 from 610, mode: 'train'\n"
     ]
    },
    {
     "name": "stderr",
     "output_type": "stream",
     "text": [
      "I0000 00:00:1730661295.476379      17 task_runner.cc:85] GPU suport is not available: INTERNAL: ; RET_CHECK failure (mediapipe/gpu/gl_context_egl.cc:77) display != EGL_NO_DISPLAYeglGetDisplay() returned error 0x300c\n",
      "W0000 00:00:1730661295.574986    1460 inference_feedback_manager.cc:114] Feedback manager requires a model with a single signature inference. Disabling support for feedback tensors.\n",
      "W0000 00:00:1730661295.599228    1460 inference_feedback_manager.cc:114] Feedback manager requires a model with a single signature inference. Disabling support for feedback tensors.\n"
     ]
    },
    {
     "name": "stdout",
     "output_type": "stream",
     "text": [
      "Calculating time: 1.1668751239776611\n",
      "Landmarks time: 1.163118839263916\n",
      "Check_landmarks time: 0.00033664703369140625\n",
      "Fragment: 170 from 610, mode: 'train'\n"
     ]
    },
    {
     "name": "stderr",
     "output_type": "stream",
     "text": [
      "I0000 00:00:1730661296.904776      17 task_runner.cc:85] GPU suport is not available: INTERNAL: ; RET_CHECK failure (mediapipe/gpu/gl_context_egl.cc:77) display != EGL_NO_DISPLAYeglGetDisplay() returned error 0x300c\n",
      "W0000 00:00:1730661297.015305    1470 inference_feedback_manager.cc:114] Feedback manager requires a model with a single signature inference. Disabling support for feedback tensors.\n",
      "W0000 00:00:1730661297.046842    1470 inference_feedback_manager.cc:114] Feedback manager requires a model with a single signature inference. Disabling support for feedback tensors.\n"
     ]
    },
    {
     "name": "stdout",
     "output_type": "stream",
     "text": [
      "Calculating time: 1.2506475448608398\n",
      "Landmarks time: 1.246473789215088\n",
      "Check_landmarks time: 0.0003046989440917969\n",
      "Fragment: 171 from 610, mode: 'train'\n"
     ]
    },
    {
     "name": "stderr",
     "output_type": "stream",
     "text": [
      "I0000 00:00:1730661298.426323      17 task_runner.cc:85] GPU suport is not available: INTERNAL: ; RET_CHECK failure (mediapipe/gpu/gl_context_egl.cc:77) display != EGL_NO_DISPLAYeglGetDisplay() returned error 0x300c\n",
      "W0000 00:00:1730661298.524040    1475 inference_feedback_manager.cc:114] Feedback manager requires a model with a single signature inference. Disabling support for feedback tensors.\n",
      "W0000 00:00:1730661298.552441    1475 inference_feedback_manager.cc:114] Feedback manager requires a model with a single signature inference. Disabling support for feedback tensors.\n"
     ]
    },
    {
     "name": "stdout",
     "output_type": "stream",
     "text": [
      "Calculating time: 1.206756830215454\n",
      "Landmarks time: 1.2059473991394043\n",
      "Check_landmarks time: 0.0003058910369873047\n",
      "Fragment: 172 from 610, mode: 'train'\n"
     ]
    },
    {
     "name": "stderr",
     "output_type": "stream",
     "text": [
      "I0000 00:00:1730661299.906899      17 task_runner.cc:85] GPU suport is not available: INTERNAL: ; RET_CHECK failure (mediapipe/gpu/gl_context_egl.cc:77) display != EGL_NO_DISPLAYeglGetDisplay() returned error 0x300c\n",
      "W0000 00:00:1730661300.016775    1483 inference_feedback_manager.cc:114] Feedback manager requires a model with a single signature inference. Disabling support for feedback tensors.\n",
      "W0000 00:00:1730661300.048350    1483 inference_feedback_manager.cc:114] Feedback manager requires a model with a single signature inference. Disabling support for feedback tensors.\n"
     ]
    },
    {
     "name": "stdout",
     "output_type": "stream",
     "text": [
      "Calculating time: 1.1887493133544922\n",
      "Landmarks time: 1.184722900390625\n",
      "Check_landmarks time: 0.0007941722869873047\n",
      "Fragment: 173 from 610, mode: 'train'\n"
     ]
    },
    {
     "name": "stderr",
     "output_type": "stream",
     "text": [
      "I0000 00:00:1730661301.368870      17 task_runner.cc:85] GPU suport is not available: INTERNAL: ; RET_CHECK failure (mediapipe/gpu/gl_context_egl.cc:77) display != EGL_NO_DISPLAYeglGetDisplay() returned error 0x300c\n",
      "W0000 00:00:1730661301.466789    1494 inference_feedback_manager.cc:114] Feedback manager requires a model with a single signature inference. Disabling support for feedback tensors.\n",
      "W0000 00:00:1730661301.498262    1493 inference_feedback_manager.cc:114] Feedback manager requires a model with a single signature inference. Disabling support for feedback tensors.\n"
     ]
    },
    {
     "name": "stdout",
     "output_type": "stream",
     "text": [
      "Calculating time: 1.2903389930725098\n",
      "Landmarks time: 1.2854583263397217\n",
      "Check_landmarks time: 0.0010790824890136719\n",
      "Fragment: 174 from 610, mode: 'train'\n"
     ]
    },
    {
     "name": "stderr",
     "output_type": "stream",
     "text": [
      "I0000 00:00:1730661302.973706      17 task_runner.cc:85] GPU suport is not available: INTERNAL: ; RET_CHECK failure (mediapipe/gpu/gl_context_egl.cc:77) display != EGL_NO_DISPLAYeglGetDisplay() returned error 0x300c\n",
      "W0000 00:00:1730661303.071965    1499 inference_feedback_manager.cc:114] Feedback manager requires a model with a single signature inference. Disabling support for feedback tensors.\n",
      "W0000 00:00:1730661303.096198    1499 inference_feedback_manager.cc:114] Feedback manager requires a model with a single signature inference. Disabling support for feedback tensors.\n"
     ]
    },
    {
     "name": "stdout",
     "output_type": "stream",
     "text": [
      "Calculating time: 1.1151671409606934\n",
      "Landmarks time: 1.1130383014678955\n",
      "Check_landmarks time: 0.0015943050384521484\n",
      "Fragment: 175 from 610, mode: 'train'\n"
     ]
    },
    {
     "name": "stderr",
     "output_type": "stream",
     "text": [
      "I0000 00:00:1730661304.367180      17 task_runner.cc:85] GPU suport is not available: INTERNAL: ; RET_CHECK failure (mediapipe/gpu/gl_context_egl.cc:77) display != EGL_NO_DISPLAYeglGetDisplay() returned error 0x300c\n",
      "W0000 00:00:1730661304.475381    1508 inference_feedback_manager.cc:114] Feedback manager requires a model with a single signature inference. Disabling support for feedback tensors.\n",
      "W0000 00:00:1730661304.506657    1508 inference_feedback_manager.cc:114] Feedback manager requires a model with a single signature inference. Disabling support for feedback tensors.\n"
     ]
    },
    {
     "name": "stdout",
     "output_type": "stream",
     "text": [
      "Calculating time: 1.1723294258117676\n",
      "Landmarks time: 1.1686921119689941\n",
      "Check_landmarks time: 0.00029921531677246094\n",
      "Fragment: 176 from 610, mode: 'train'\n"
     ]
    },
    {
     "name": "stderr",
     "output_type": "stream",
     "text": [
      "I0000 00:00:1730661305.818063      17 task_runner.cc:85] GPU suport is not available: INTERNAL: ; RET_CHECK failure (mediapipe/gpu/gl_context_egl.cc:77) display != EGL_NO_DISPLAYeglGetDisplay() returned error 0x300c\n",
      "W0000 00:00:1730661305.926325    1516 inference_feedback_manager.cc:114] Feedback manager requires a model with a single signature inference. Disabling support for feedback tensors.\n",
      "W0000 00:00:1730661305.950771    1517 inference_feedback_manager.cc:114] Feedback manager requires a model with a single signature inference. Disabling support for feedback tensors.\n"
     ]
    },
    {
     "name": "stdout",
     "output_type": "stream",
     "text": [
      "Calculating time: 1.2418088912963867\n",
      "Landmarks time: 1.237900972366333\n",
      "Check_landmarks time: 0.0006325244903564453\n",
      "Fragment: 177 from 610, mode: 'train'\n"
     ]
    },
    {
     "name": "stderr",
     "output_type": "stream",
     "text": [
      "I0000 00:00:1730661307.332018      17 task_runner.cc:85] GPU suport is not available: INTERNAL: ; RET_CHECK failure (mediapipe/gpu/gl_context_egl.cc:77) display != EGL_NO_DISPLAYeglGetDisplay() returned error 0x300c\n",
      "W0000 00:00:1730661307.429719    1526 inference_feedback_manager.cc:114] Feedback manager requires a model with a single signature inference. Disabling support for feedback tensors.\n",
      "W0000 00:00:1730661307.454413    1526 inference_feedback_manager.cc:114] Feedback manager requires a model with a single signature inference. Disabling support for feedback tensors.\n"
     ]
    },
    {
     "name": "stdout",
     "output_type": "stream",
     "text": [
      "Calculating time: 1.1993412971496582\n",
      "Landmarks time: 1.1985728740692139\n",
      "Check_landmarks time: 0.0002994537353515625\n",
      "Fragment: 178 from 610, mode: 'train'\n"
     ]
    },
    {
     "name": "stderr",
     "output_type": "stream",
     "text": [
      "I0000 00:00:1730661308.812474      17 task_runner.cc:85] GPU suport is not available: INTERNAL: ; RET_CHECK failure (mediapipe/gpu/gl_context_egl.cc:77) display != EGL_NO_DISPLAYeglGetDisplay() returned error 0x300c\n",
      "W0000 00:00:1730661308.920702    1533 inference_feedback_manager.cc:114] Feedback manager requires a model with a single signature inference. Disabling support for feedback tensors.\n",
      "W0000 00:00:1730661308.951903    1533 inference_feedback_manager.cc:114] Feedback manager requires a model with a single signature inference. Disabling support for feedback tensors.\n"
     ]
    },
    {
     "name": "stdout",
     "output_type": "stream",
     "text": [
      "Calculating time: 1.1736934185028076\n",
      "Landmarks time: 1.1700248718261719\n",
      "Check_landmarks time: 0.0002770423889160156\n",
      "Fragment: 179 from 610, mode: 'train'\n"
     ]
    },
    {
     "name": "stderr",
     "output_type": "stream",
     "text": [
      "I0000 00:00:1730661310.255832      17 task_runner.cc:85] GPU suport is not available: INTERNAL: ; RET_CHECK failure (mediapipe/gpu/gl_context_egl.cc:77) display != EGL_NO_DISPLAYeglGetDisplay() returned error 0x300c\n",
      "W0000 00:00:1730661310.362516    1540 inference_feedback_manager.cc:114] Feedback manager requires a model with a single signature inference. Disabling support for feedback tensors.\n",
      "W0000 00:00:1730661310.387030    1541 inference_feedback_manager.cc:114] Feedback manager requires a model with a single signature inference. Disabling support for feedback tensors.\n"
     ]
    },
    {
     "name": "stdout",
     "output_type": "stream",
     "text": [
      "Calculating time: 1.2445309162139893\n",
      "Landmarks time: 1.241112470626831\n",
      "Check_landmarks time: 0.00028967857360839844\n",
      "Fragment: 180 from 610, mode: 'train'\n"
     ]
    },
    {
     "name": "stderr",
     "output_type": "stream",
     "text": [
      "I0000 00:00:1730661311.764599      17 task_runner.cc:85] GPU suport is not available: INTERNAL: ; RET_CHECK failure (mediapipe/gpu/gl_context_egl.cc:77) display != EGL_NO_DISPLAYeglGetDisplay() returned error 0x300c\n",
      "W0000 00:00:1730661311.861848    1548 inference_feedback_manager.cc:114] Feedback manager requires a model with a single signature inference. Disabling support for feedback tensors.\n",
      "W0000 00:00:1730661311.886408    1547 inference_feedback_manager.cc:114] Feedback manager requires a model with a single signature inference. Disabling support for feedback tensors.\n"
     ]
    },
    {
     "name": "stdout",
     "output_type": "stream",
     "text": [
      "Calculating time: 1.2144825458526611\n",
      "Landmarks time: 1.213653564453125\n",
      "Check_landmarks time: 0.0003154277801513672\n",
      "Fragment: 181 from 610, mode: 'train'\n"
     ]
    },
    {
     "name": "stderr",
     "output_type": "stream",
     "text": [
      "I0000 00:00:1730661313.251110      17 task_runner.cc:85] GPU suport is not available: INTERNAL: ; RET_CHECK failure (mediapipe/gpu/gl_context_egl.cc:77) display != EGL_NO_DISPLAYeglGetDisplay() returned error 0x300c\n",
      "W0000 00:00:1730661313.349061    1556 inference_feedback_manager.cc:114] Feedback manager requires a model with a single signature inference. Disabling support for feedback tensors.\n",
      "W0000 00:00:1730661313.374018    1557 inference_feedback_manager.cc:114] Feedback manager requires a model with a single signature inference. Disabling support for feedback tensors.\n"
     ]
    },
    {
     "name": "stdout",
     "output_type": "stream",
     "text": [
      "Calculating time: 1.1705474853515625\n",
      "Landmarks time: 1.1667077541351318\n",
      "Check_landmarks time: 0.00029587745666503906\n",
      "Fragment: 182 from 610, mode: 'train'\n"
     ]
    },
    {
     "name": "stderr",
     "output_type": "stream",
     "text": [
      "I0000 00:00:1730661314.692606      17 task_runner.cc:85] GPU suport is not available: INTERNAL: ; RET_CHECK failure (mediapipe/gpu/gl_context_egl.cc:77) display != EGL_NO_DISPLAYeglGetDisplay() returned error 0x300c\n",
      "W0000 00:00:1730661314.790708    1565 inference_feedback_manager.cc:114] Feedback manager requires a model with a single signature inference. Disabling support for feedback tensors.\n",
      "W0000 00:00:1730661314.821962    1566 inference_feedback_manager.cc:114] Feedback manager requires a model with a single signature inference. Disabling support for feedback tensors.\n"
     ]
    },
    {
     "name": "stdout",
     "output_type": "stream",
     "text": [
      "Calculating time: 1.2996644973754883\n",
      "Landmarks time: 1.2948896884918213\n",
      "Check_landmarks time: 0.0010273456573486328\n",
      "Fragment: 183 from 610, mode: 'train'\n"
     ]
    },
    {
     "name": "stderr",
     "output_type": "stream",
     "text": [
      "I0000 00:00:1730661316.273166      17 task_runner.cc:85] GPU suport is not available: INTERNAL: ; RET_CHECK failure (mediapipe/gpu/gl_context_egl.cc:77) display != EGL_NO_DISPLAYeglGetDisplay() returned error 0x300c\n",
      "W0000 00:00:1730661316.370421    1574 inference_feedback_manager.cc:114] Feedback manager requires a model with a single signature inference. Disabling support for feedback tensors.\n",
      "W0000 00:00:1730661316.402350    1573 inference_feedback_manager.cc:114] Feedback manager requires a model with a single signature inference. Disabling support for feedback tensors.\n"
     ]
    },
    {
     "name": "stdout",
     "output_type": "stream",
     "text": [
      "Calculating time: 1.2901716232299805\n",
      "Landmarks time: 1.288604497909546\n",
      "Check_landmarks time: 0.0010883808135986328\n",
      "Fragment: 184 from 610, mode: 'train'\n"
     ]
    },
    {
     "name": "stderr",
     "output_type": "stream",
     "text": [
      "I0000 00:00:1730661317.859695      17 task_runner.cc:85] GPU suport is not available: INTERNAL: ; RET_CHECK failure (mediapipe/gpu/gl_context_egl.cc:77) display != EGL_NO_DISPLAYeglGetDisplay() returned error 0x300c\n",
      "W0000 00:00:1730661317.966517    1582 inference_feedback_manager.cc:114] Feedback manager requires a model with a single signature inference. Disabling support for feedback tensors.\n",
      "W0000 00:00:1730661318.001862    1580 inference_feedback_manager.cc:114] Feedback manager requires a model with a single signature inference. Disabling support for feedback tensors.\n"
     ]
    },
    {
     "name": "stdout",
     "output_type": "stream",
     "text": [
      "Calculating time: 1.2027053833007812\n",
      "Landmarks time: 1.1990444660186768\n",
      "Check_landmarks time: 0.0002796649932861328\n",
      "Fragment: 185 from 610, mode: 'train'\n"
     ]
    },
    {
     "name": "stderr",
     "output_type": "stream",
     "text": [
      "I0000 00:00:1730661319.330054      17 task_runner.cc:85] GPU suport is not available: INTERNAL: ; RET_CHECK failure (mediapipe/gpu/gl_context_egl.cc:77) display != EGL_NO_DISPLAYeglGetDisplay() returned error 0x300c\n",
      "W0000 00:00:1730661319.429193    1589 inference_feedback_manager.cc:114] Feedback manager requires a model with a single signature inference. Disabling support for feedback tensors.\n",
      "W0000 00:00:1730661319.474141    1590 inference_feedback_manager.cc:114] Feedback manager requires a model with a single signature inference. Disabling support for feedback tensors.\n"
     ]
    },
    {
     "name": "stdout",
     "output_type": "stream",
     "text": [
      "Calculating time: 1.2577216625213623\n",
      "Landmarks time: 1.2542500495910645\n",
      "Check_landmarks time: 0.00031113624572753906\n",
      "Fragment: 186 from 610, mode: 'train'\n"
     ]
    },
    {
     "name": "stderr",
     "output_type": "stream",
     "text": [
      "I0000 00:00:1730661320.859475      17 task_runner.cc:85] GPU suport is not available: INTERNAL: ; RET_CHECK failure (mediapipe/gpu/gl_context_egl.cc:77) display != EGL_NO_DISPLAYeglGetDisplay() returned error 0x300c\n",
      "W0000 00:00:1730661320.957281    1595 inference_feedback_manager.cc:114] Feedback manager requires a model with a single signature inference. Disabling support for feedback tensors.\n",
      "W0000 00:00:1730661320.982341    1596 inference_feedback_manager.cc:114] Feedback manager requires a model with a single signature inference. Disabling support for feedback tensors.\n"
     ]
    },
    {
     "name": "stdout",
     "output_type": "stream",
     "text": [
      "Calculating time: 1.2115399837493896\n",
      "Landmarks time: 1.210768699645996\n",
      "Check_landmarks time: 0.00030517578125\n",
      "Fragment: 187 from 610, mode: 'train'\n"
     ]
    },
    {
     "name": "stderr",
     "output_type": "stream",
     "text": [
      "I0000 00:00:1730661322.352720      17 task_runner.cc:85] GPU suport is not available: INTERNAL: ; RET_CHECK failure (mediapipe/gpu/gl_context_egl.cc:77) display != EGL_NO_DISPLAYeglGetDisplay() returned error 0x300c\n",
      "W0000 00:00:1730661322.451402    1605 inference_feedback_manager.cc:114] Feedback manager requires a model with a single signature inference. Disabling support for feedback tensors.\n",
      "W0000 00:00:1730661322.477347    1604 inference_feedback_manager.cc:114] Feedback manager requires a model with a single signature inference. Disabling support for feedback tensors.\n"
     ]
    },
    {
     "name": "stdout",
     "output_type": "stream",
     "text": [
      "Calculating time: 1.2032220363616943\n",
      "Landmarks time: 1.1995670795440674\n",
      "Check_landmarks time: 0.0002911090850830078\n",
      "Fragment: 188 from 610, mode: 'train'\n"
     ]
    },
    {
     "name": "stderr",
     "output_type": "stream",
     "text": [
      "I0000 00:00:1730661323.823117      17 task_runner.cc:85] GPU suport is not available: INTERNAL: ; RET_CHECK failure (mediapipe/gpu/gl_context_egl.cc:77) display != EGL_NO_DISPLAYeglGetDisplay() returned error 0x300c\n",
      "W0000 00:00:1730661323.932429    1612 inference_feedback_manager.cc:114] Feedback manager requires a model with a single signature inference. Disabling support for feedback tensors.\n",
      "W0000 00:00:1730661323.956964    1614 inference_feedback_manager.cc:114] Feedback manager requires a model with a single signature inference. Disabling support for feedback tensors.\n"
     ]
    },
    {
     "name": "stdout",
     "output_type": "stream",
     "text": [
      "Calculating time: 1.2686333656311035\n",
      "Landmarks time: 1.265082836151123\n",
      "Check_landmarks time: 0.0006413459777832031\n",
      "Fragment: 189 from 610, mode: 'train'\n"
     ]
    },
    {
     "name": "stderr",
     "output_type": "stream",
     "text": [
      "I0000 00:00:1730661325.374373      17 task_runner.cc:85] GPU suport is not available: INTERNAL: ; RET_CHECK failure (mediapipe/gpu/gl_context_egl.cc:77) display != EGL_NO_DISPLAYeglGetDisplay() returned error 0x300c\n",
      "W0000 00:00:1730661325.471886    1620 inference_feedback_manager.cc:114] Feedback manager requires a model with a single signature inference. Disabling support for feedback tensors.\n",
      "W0000 00:00:1730661325.496819    1619 inference_feedback_manager.cc:114] Feedback manager requires a model with a single signature inference. Disabling support for feedback tensors.\n"
     ]
    },
    {
     "name": "stdout",
     "output_type": "stream",
     "text": [
      "Calculating time: 1.2489781379699707\n",
      "Landmarks time: 1.2477569580078125\n",
      "Check_landmarks time: 0.0003783702850341797\n",
      "Fragment: 190 from 610, mode: 'train'\n"
     ]
    },
    {
     "name": "stderr",
     "output_type": "stream",
     "text": [
      "I0000 00:00:1730661326.961628      17 task_runner.cc:85] GPU suport is not available: INTERNAL: ; RET_CHECK failure (mediapipe/gpu/gl_context_egl.cc:77) display != EGL_NO_DISPLAYeglGetDisplay() returned error 0x300c\n",
      "W0000 00:00:1730661327.071383    1627 inference_feedback_manager.cc:114] Feedback manager requires a model with a single signature inference. Disabling support for feedback tensors.\n",
      "W0000 00:00:1730661327.095886    1630 inference_feedback_manager.cc:114] Feedback manager requires a model with a single signature inference. Disabling support for feedback tensors.\n"
     ]
    },
    {
     "name": "stdout",
     "output_type": "stream",
     "text": [
      "Calculating time: 1.190431833267212\n",
      "Landmarks time: 1.186762809753418\n",
      "Check_landmarks time: 0.0002772808074951172\n",
      "Fragment: 191 from 610, mode: 'train'\n"
     ]
    },
    {
     "name": "stderr",
     "output_type": "stream",
     "text": [
      "I0000 00:00:1730661328.429033      17 task_runner.cc:85] GPU suport is not available: INTERNAL: ; RET_CHECK failure (mediapipe/gpu/gl_context_egl.cc:77) display != EGL_NO_DISPLAYeglGetDisplay() returned error 0x300c\n",
      "W0000 00:00:1730661328.534005    1637 inference_feedback_manager.cc:114] Feedback manager requires a model with a single signature inference. Disabling support for feedback tensors.\n",
      "W0000 00:00:1730661328.570468    1636 inference_feedback_manager.cc:114] Feedback manager requires a model with a single signature inference. Disabling support for feedback tensors.\n"
     ]
    },
    {
     "name": "stdout",
     "output_type": "stream",
     "text": [
      "Calculating time: 1.2562470436096191\n",
      "Landmarks time: 1.2527289390563965\n",
      "Check_landmarks time: 0.0002887248992919922\n",
      "Fragment: 192 from 610, mode: 'train'\n"
     ]
    },
    {
     "name": "stderr",
     "output_type": "stream",
     "text": [
      "I0000 00:00:1730661329.960507      17 task_runner.cc:85] GPU suport is not available: INTERNAL: ; RET_CHECK failure (mediapipe/gpu/gl_context_egl.cc:77) display != EGL_NO_DISPLAYeglGetDisplay() returned error 0x300c\n",
      "W0000 00:00:1730661330.060045    1643 inference_feedback_manager.cc:114] Feedback manager requires a model with a single signature inference. Disabling support for feedback tensors.\n",
      "W0000 00:00:1730661330.085968    1646 inference_feedback_manager.cc:114] Feedback manager requires a model with a single signature inference. Disabling support for feedback tensors.\n"
     ]
    },
    {
     "name": "stdout",
     "output_type": "stream",
     "text": [
      "Calculating time: 1.195617914199829\n",
      "Landmarks time: 1.1947901248931885\n",
      "Check_landmarks time: 0.0003170967102050781\n",
      "Fragment: 193 from 610, mode: 'train'\n"
     ]
    },
    {
     "name": "stderr",
     "output_type": "stream",
     "text": [
      "I0000 00:00:1730661331.435702      17 task_runner.cc:85] GPU suport is not available: INTERNAL: ; RET_CHECK failure (mediapipe/gpu/gl_context_egl.cc:77) display != EGL_NO_DISPLAYeglGetDisplay() returned error 0x300c\n",
      "W0000 00:00:1730661331.534041    1651 inference_feedback_manager.cc:114] Feedback manager requires a model with a single signature inference. Disabling support for feedback tensors.\n",
      "W0000 00:00:1730661331.558820    1653 inference_feedback_manager.cc:114] Feedback manager requires a model with a single signature inference. Disabling support for feedback tensors.\n"
     ]
    },
    {
     "name": "stdout",
     "output_type": "stream",
     "text": [
      "Calculating time: 1.1613712310791016\n",
      "Landmarks time: 1.1578912734985352\n",
      "Check_landmarks time: 0.0002765655517578125\n",
      "Fragment: 194 from 610, mode: 'train'\n"
     ]
    },
    {
     "name": "stderr",
     "output_type": "stream",
     "text": [
      "I0000 00:00:1730661332.886106      17 task_runner.cc:85] GPU suport is not available: INTERNAL: ; RET_CHECK failure (mediapipe/gpu/gl_context_egl.cc:77) display != EGL_NO_DISPLAYeglGetDisplay() returned error 0x300c\n",
      "W0000 00:00:1730661332.987916    1659 inference_feedback_manager.cc:114] Feedback manager requires a model with a single signature inference. Disabling support for feedback tensors.\n",
      "W0000 00:00:1730661333.019695    1660 inference_feedback_manager.cc:114] Feedback manager requires a model with a single signature inference. Disabling support for feedback tensors.\n"
     ]
    },
    {
     "name": "stdout",
     "output_type": "stream",
     "text": [
      "Calculating time: 1.242168664932251\n",
      "Landmarks time: 1.2380273342132568\n",
      "Check_landmarks time: 0.0002892017364501953\n",
      "Fragment: 195 from 610, mode: 'train'\n"
     ]
    },
    {
     "name": "stderr",
     "output_type": "stream",
     "text": [
      "I0000 00:00:1730661334.407143      17 task_runner.cc:85] GPU suport is not available: INTERNAL: ; RET_CHECK failure (mediapipe/gpu/gl_context_egl.cc:77) display != EGL_NO_DISPLAYeglGetDisplay() returned error 0x300c\n",
      "W0000 00:00:1730661334.505228    1668 inference_feedback_manager.cc:114] Feedback manager requires a model with a single signature inference. Disabling support for feedback tensors.\n",
      "W0000 00:00:1730661334.533996    1668 inference_feedback_manager.cc:114] Feedback manager requires a model with a single signature inference. Disabling support for feedback tensors.\n"
     ]
    },
    {
     "name": "stdout",
     "output_type": "stream",
     "text": [
      "Calculating time: 1.204362392425537\n",
      "Landmarks time: 1.203233242034912\n",
      "Check_landmarks time: 0.00033020973205566406\n",
      "Fragment: 196 from 610, mode: 'train'\n"
     ]
    },
    {
     "name": "stderr",
     "output_type": "stream",
     "text": [
      "I0000 00:00:1730661335.893992      17 task_runner.cc:85] GPU suport is not available: INTERNAL: ; RET_CHECK failure (mediapipe/gpu/gl_context_egl.cc:77) display != EGL_NO_DISPLAYeglGetDisplay() returned error 0x300c\n",
      "W0000 00:00:1730661335.991632    1676 inference_feedback_manager.cc:114] Feedback manager requires a model with a single signature inference. Disabling support for feedback tensors.\n",
      "W0000 00:00:1730661336.017531    1676 inference_feedback_manager.cc:114] Feedback manager requires a model with a single signature inference. Disabling support for feedback tensors.\n"
     ]
    },
    {
     "name": "stdout",
     "output_type": "stream",
     "text": [
      "Calculating time: 1.16276216506958\n",
      "Landmarks time: 1.1591074466705322\n",
      "Check_landmarks time: 0.000286102294921875\n",
      "Fragment: 197 from 610, mode: 'train'\n"
     ]
    },
    {
     "name": "stderr",
     "output_type": "stream",
     "text": [
      "I0000 00:00:1730661337.340911      17 task_runner.cc:85] GPU suport is not available: INTERNAL: ; RET_CHECK failure (mediapipe/gpu/gl_context_egl.cc:77) display != EGL_NO_DISPLAYeglGetDisplay() returned error 0x300c\n",
      "W0000 00:00:1730661337.439357    1683 inference_feedback_manager.cc:114] Feedback manager requires a model with a single signature inference. Disabling support for feedback tensors.\n",
      "W0000 00:00:1730661337.469101    1684 inference_feedback_manager.cc:114] Feedback manager requires a model with a single signature inference. Disabling support for feedback tensors.\n"
     ]
    },
    {
     "name": "stdout",
     "output_type": "stream",
     "text": [
      "Calculating time: 1.2600972652435303\n",
      "Landmarks time: 1.2556889057159424\n",
      "Check_landmarks time: 0.0006277561187744141\n",
      "Fragment: 198 from 610, mode: 'train'\n"
     ]
    },
    {
     "name": "stderr",
     "output_type": "stream",
     "text": [
      "I0000 00:00:1730661338.866384      17 task_runner.cc:85] GPU suport is not available: INTERNAL: ; RET_CHECK failure (mediapipe/gpu/gl_context_egl.cc:77) display != EGL_NO_DISPLAYeglGetDisplay() returned error 0x300c\n",
      "W0000 00:00:1730661338.963886    1691 inference_feedback_manager.cc:114] Feedback manager requires a model with a single signature inference. Disabling support for feedback tensors.\n",
      "W0000 00:00:1730661338.995348    1693 inference_feedback_manager.cc:114] Feedback manager requires a model with a single signature inference. Disabling support for feedback tensors.\n"
     ]
    },
    {
     "name": "stdout",
     "output_type": "stream",
     "text": [
      "Calculating time: 1.2105228900909424\n",
      "Landmarks time: 1.2096772193908691\n",
      "Check_landmarks time: 0.0003075599670410156\n",
      "Fragment: 199 from 610, mode: 'train'\n"
     ]
    },
    {
     "name": "stderr",
     "output_type": "stream",
     "text": [
      "I0000 00:00:1730661340.357795      17 task_runner.cc:85] GPU suport is not available: INTERNAL: ; RET_CHECK failure (mediapipe/gpu/gl_context_egl.cc:77) display != EGL_NO_DISPLAYeglGetDisplay() returned error 0x300c\n",
      "W0000 00:00:1730661340.465393    1699 inference_feedback_manager.cc:114] Feedback manager requires a model with a single signature inference. Disabling support for feedback tensors.\n",
      "W0000 00:00:1730661340.498614    1699 inference_feedback_manager.cc:114] Feedback manager requires a model with a single signature inference. Disabling support for feedback tensors.\n"
     ]
    },
    {
     "name": "stdout",
     "output_type": "stream",
     "text": [
      "Calculating time: 1.1912951469421387\n",
      "Landmarks time: 1.187924861907959\n",
      "Check_landmarks time: 0.0002765655517578125\n",
      "Fragment: 200 from 610, mode: 'train'\n"
     ]
    },
    {
     "name": "stderr",
     "output_type": "stream",
     "text": [
      "I0000 00:00:1730661341.823102      17 task_runner.cc:85] GPU suport is not available: INTERNAL: ; RET_CHECK failure (mediapipe/gpu/gl_context_egl.cc:77) display != EGL_NO_DISPLAYeglGetDisplay() returned error 0x300c\n",
      "W0000 00:00:1730661341.920261    1708 inference_feedback_manager.cc:114] Feedback manager requires a model with a single signature inference. Disabling support for feedback tensors.\n",
      "W0000 00:00:1730661341.952055    1707 inference_feedback_manager.cc:114] Feedback manager requires a model with a single signature inference. Disabling support for feedback tensors.\n"
     ]
    },
    {
     "name": "stdout",
     "output_type": "stream",
     "text": [
      "Calculating time: 1.2643632888793945\n",
      "Landmarks time: 1.2610275745391846\n",
      "Check_landmarks time: 0.00030517578125\n",
      "Fragment: 201 from 610, mode: 'train'\n"
     ]
    },
    {
     "name": "stderr",
     "output_type": "stream",
     "text": [
      "I0000 00:00:1730661343.363262      17 task_runner.cc:85] GPU suport is not available: INTERNAL: ; RET_CHECK failure (mediapipe/gpu/gl_context_egl.cc:77) display != EGL_NO_DISPLAYeglGetDisplay() returned error 0x300c\n",
      "W0000 00:00:1730661343.472384    1717 inference_feedback_manager.cc:114] Feedback manager requires a model with a single signature inference. Disabling support for feedback tensors.\n",
      "W0000 00:00:1730661343.503915    1717 inference_feedback_manager.cc:114] Feedback manager requires a model with a single signature inference. Disabling support for feedback tensors.\n"
     ]
    },
    {
     "name": "stdout",
     "output_type": "stream",
     "text": [
      "Calculating time: 1.219139575958252\n",
      "Landmarks time: 1.2180230617523193\n",
      "Check_landmarks time: 0.0003139972686767578\n",
      "Fragment: 202 from 610, mode: 'train'\n"
     ]
    },
    {
     "name": "stderr",
     "output_type": "stream",
     "text": [
      "I0000 00:00:1730661344.859820      17 task_runner.cc:85] GPU suport is not available: INTERNAL: ; RET_CHECK failure (mediapipe/gpu/gl_context_egl.cc:77) display != EGL_NO_DISPLAYeglGetDisplay() returned error 0x300c\n",
      "W0000 00:00:1730661344.956934    1725 inference_feedback_manager.cc:114] Feedback manager requires a model with a single signature inference. Disabling support for feedback tensors.\n",
      "W0000 00:00:1730661344.983166    1725 inference_feedback_manager.cc:114] Feedback manager requires a model with a single signature inference. Disabling support for feedback tensors.\n"
     ]
    },
    {
     "name": "stdout",
     "output_type": "stream",
     "text": [
      "Calculating time: 1.1612184047698975\n",
      "Landmarks time: 1.1576259136199951\n",
      "Check_landmarks time: 0.00027871131896972656\n",
      "Fragment: 203 from 610, mode: 'train'\n"
     ]
    },
    {
     "name": "stderr",
     "output_type": "stream",
     "text": [
      "I0000 00:00:1730661346.294519      17 task_runner.cc:85] GPU suport is not available: INTERNAL: ; RET_CHECK failure (mediapipe/gpu/gl_context_egl.cc:77) display != EGL_NO_DISPLAYeglGetDisplay() returned error 0x300c\n",
      "W0000 00:00:1730661346.402556    1734 inference_feedback_manager.cc:114] Feedback manager requires a model with a single signature inference. Disabling support for feedback tensors.\n",
      "W0000 00:00:1730661346.427074    1733 inference_feedback_manager.cc:114] Feedback manager requires a model with a single signature inference. Disabling support for feedback tensors.\n"
     ]
    },
    {
     "name": "stdout",
     "output_type": "stream",
     "text": [
      "Calculating time: 1.245298147201538\n",
      "Landmarks time: 1.241325855255127\n",
      "Check_landmarks time: 0.00030040740966796875\n",
      "Fragment: 204 from 610, mode: 'train'\n"
     ]
    },
    {
     "name": "stderr",
     "output_type": "stream",
     "text": [
      "I0000 00:00:1730661347.817139      17 task_runner.cc:85] GPU suport is not available: INTERNAL: ; RET_CHECK failure (mediapipe/gpu/gl_context_egl.cc:77) display != EGL_NO_DISPLAYeglGetDisplay() returned error 0x300c\n",
      "W0000 00:00:1730661347.926176    1740 inference_feedback_manager.cc:114] Feedback manager requires a model with a single signature inference. Disabling support for feedback tensors.\n",
      "W0000 00:00:1730661347.951357    1741 inference_feedback_manager.cc:114] Feedback manager requires a model with a single signature inference. Disabling support for feedback tensors.\n"
     ]
    },
    {
     "name": "stdout",
     "output_type": "stream",
     "text": [
      "Calculating time: 1.2138097286224365\n",
      "Landmarks time: 1.2127108573913574\n",
      "Check_landmarks time: 0.0002899169921875\n",
      "Fragment: 205 from 610, mode: 'train'\n"
     ]
    },
    {
     "name": "stderr",
     "output_type": "stream",
     "text": [
      "I0000 00:00:1730661349.309531      17 task_runner.cc:85] GPU suport is not available: INTERNAL: ; RET_CHECK failure (mediapipe/gpu/gl_context_egl.cc:77) display != EGL_NO_DISPLAYeglGetDisplay() returned error 0x300c\n",
      "W0000 00:00:1730661349.407476    1748 inference_feedback_manager.cc:114] Feedback manager requires a model with a single signature inference. Disabling support for feedback tensors.\n",
      "W0000 00:00:1730661349.439193    1749 inference_feedback_manager.cc:114] Feedback manager requires a model with a single signature inference. Disabling support for feedback tensors.\n"
     ]
    },
    {
     "name": "stdout",
     "output_type": "stream",
     "text": [
      "Calculating time: 1.1682746410369873\n",
      "Landmarks time: 1.1647822856903076\n",
      "Check_landmarks time: 0.0002772808074951172\n",
      "Fragment: 206 from 610, mode: 'train'\n"
     ]
    },
    {
     "name": "stderr",
     "output_type": "stream",
     "text": [
      "I0000 00:00:1730661350.746489      17 task_runner.cc:85] GPU suport is not available: INTERNAL: ; RET_CHECK failure (mediapipe/gpu/gl_context_egl.cc:77) display != EGL_NO_DISPLAYeglGetDisplay() returned error 0x300c\n",
      "W0000 00:00:1730661350.843647    1755 inference_feedback_manager.cc:114] Feedback manager requires a model with a single signature inference. Disabling support for feedback tensors.\n",
      "W0000 00:00:1730661350.872395    1757 inference_feedback_manager.cc:114] Feedback manager requires a model with a single signature inference. Disabling support for feedback tensors.\n"
     ]
    },
    {
     "name": "stdout",
     "output_type": "stream",
     "text": [
      "Calculating time: 1.2398452758789062\n",
      "Landmarks time: 1.236642599105835\n",
      "Check_landmarks time: 0.00029206275939941406\n",
      "Fragment: 207 from 610, mode: 'train'\n"
     ]
    },
    {
     "name": "stderr",
     "output_type": "stream",
     "text": [
      "I0000 00:00:1730661352.264257      17 task_runner.cc:85] GPU suport is not available: INTERNAL: ; RET_CHECK failure (mediapipe/gpu/gl_context_egl.cc:77) display != EGL_NO_DISPLAYeglGetDisplay() returned error 0x300c\n",
      "W0000 00:00:1730661352.361818    1766 inference_feedback_manager.cc:114] Feedback manager requires a model with a single signature inference. Disabling support for feedback tensors.\n",
      "W0000 00:00:1730661352.385910    1766 inference_feedback_manager.cc:114] Feedback manager requires a model with a single signature inference. Disabling support for feedback tensors.\n"
     ]
    },
    {
     "name": "stdout",
     "output_type": "stream",
     "text": [
      "Calculating time: 1.235215663909912\n",
      "Landmarks time: 1.2344350814819336\n",
      "Check_landmarks time: 0.0003113746643066406\n",
      "Fragment: 208 from 610, mode: 'train'\n"
     ]
    },
    {
     "name": "stderr",
     "output_type": "stream",
     "text": [
      "I0000 00:00:1730661353.773494      17 task_runner.cc:85] GPU suport is not available: INTERNAL: ; RET_CHECK failure (mediapipe/gpu/gl_context_egl.cc:77) display != EGL_NO_DISPLAYeglGetDisplay() returned error 0x300c\n",
      "W0000 00:00:1730661353.871817    1774 inference_feedback_manager.cc:114] Feedback manager requires a model with a single signature inference. Disabling support for feedback tensors.\n",
      "W0000 00:00:1730661353.896505    1773 inference_feedback_manager.cc:114] Feedback manager requires a model with a single signature inference. Disabling support for feedback tensors.\n"
     ]
    },
    {
     "name": "stdout",
     "output_type": "stream",
     "text": [
      "Calculating time: 1.1684610843658447\n",
      "Landmarks time: 1.164874792098999\n",
      "Check_landmarks time: 0.0002751350402832031\n",
      "Fragment: 209 from 610, mode: 'train'\n"
     ]
    },
    {
     "name": "stderr",
     "output_type": "stream",
     "text": [
      "I0000 00:00:1730661355.204434      17 task_runner.cc:85] GPU suport is not available: INTERNAL: ; RET_CHECK failure (mediapipe/gpu/gl_context_egl.cc:77) display != EGL_NO_DISPLAYeglGetDisplay() returned error 0x300c\n",
      "W0000 00:00:1730661355.302152    1780 inference_feedback_manager.cc:114] Feedback manager requires a model with a single signature inference. Disabling support for feedback tensors.\n",
      "W0000 00:00:1730661355.326860    1782 inference_feedback_manager.cc:114] Feedback manager requires a model with a single signature inference. Disabling support for feedback tensors.\n"
     ]
    },
    {
     "name": "stdout",
     "output_type": "stream",
     "text": [
      "Calculating time: 1.2105131149291992\n",
      "Landmarks time: 1.2071874141693115\n",
      "Check_landmarks time: 0.0002987384796142578\n",
      "Fragment: 210 from 610, mode: 'train'\n"
     ]
    },
    {
     "name": "stderr",
     "output_type": "stream",
     "text": [
      "I0000 00:00:1730661356.682009      17 task_runner.cc:85] GPU suport is not available: INTERNAL: ; RET_CHECK failure (mediapipe/gpu/gl_context_egl.cc:77) display != EGL_NO_DISPLAYeglGetDisplay() returned error 0x300c\n",
      "W0000 00:00:1730661356.790148    1787 inference_feedback_manager.cc:114] Feedback manager requires a model with a single signature inference. Disabling support for feedback tensors.\n",
      "W0000 00:00:1730661356.821686    1790 inference_feedback_manager.cc:114] Feedback manager requires a model with a single signature inference. Disabling support for feedback tensors.\n"
     ]
    },
    {
     "name": "stdout",
     "output_type": "stream",
     "text": [
      "Calculating time: 1.2563748359680176\n",
      "Landmarks time: 1.2487685680389404\n",
      "Check_landmarks time: 0.0004127025604248047\n",
      "Fragment: 211 from 610, mode: 'train'\n"
     ]
    },
    {
     "name": "stderr",
     "output_type": "stream",
     "text": [
      "I0000 00:00:1730661358.283458      17 task_runner.cc:85] GPU suport is not available: INTERNAL: ; RET_CHECK failure (mediapipe/gpu/gl_context_egl.cc:77) display != EGL_NO_DISPLAYeglGetDisplay() returned error 0x300c\n",
      "W0000 00:00:1730661358.393938    1796 inference_feedback_manager.cc:114] Feedback manager requires a model with a single signature inference. Disabling support for feedback tensors.\n",
      "W0000 00:00:1730661358.428894    1798 inference_feedback_manager.cc:114] Feedback manager requires a model with a single signature inference. Disabling support for feedback tensors.\n"
     ]
    },
    {
     "name": "stdout",
     "output_type": "stream",
     "text": [
      "Calculating time: 1.2429571151733398\n",
      "Landmarks time: 1.2392809391021729\n",
      "Check_landmarks time: 0.00027561187744140625\n",
      "Fragment: 212 from 610, mode: 'train'\n"
     ]
    },
    {
     "name": "stderr",
     "output_type": "stream",
     "text": [
      "I0000 00:00:1730661359.792157      17 task_runner.cc:85] GPU suport is not available: INTERNAL: ; RET_CHECK failure (mediapipe/gpu/gl_context_egl.cc:77) display != EGL_NO_DISPLAYeglGetDisplay() returned error 0x300c\n",
      "W0000 00:00:1730661359.899835    1805 inference_feedback_manager.cc:114] Feedback manager requires a model with a single signature inference. Disabling support for feedback tensors.\n",
      "W0000 00:00:1730661359.931067    1805 inference_feedback_manager.cc:114] Feedback manager requires a model with a single signature inference. Disabling support for feedback tensors.\n"
     ]
    },
    {
     "name": "stdout",
     "output_type": "stream",
     "text": [
      "Calculating time: 1.2459008693695068\n",
      "Landmarks time: 1.2424240112304688\n",
      "Check_landmarks time: 0.0002989768981933594\n",
      "Fragment: 213 from 610, mode: 'train'\n"
     ]
    },
    {
     "name": "stderr",
     "output_type": "stream",
     "text": [
      "I0000 00:00:1730661361.318794      17 task_runner.cc:85] GPU suport is not available: INTERNAL: ; RET_CHECK failure (mediapipe/gpu/gl_context_egl.cc:77) display != EGL_NO_DISPLAYeglGetDisplay() returned error 0x300c\n",
      "W0000 00:00:1730661361.427325    1812 inference_feedback_manager.cc:114] Feedback manager requires a model with a single signature inference. Disabling support for feedback tensors.\n",
      "W0000 00:00:1730661361.452341    1814 inference_feedback_manager.cc:114] Feedback manager requires a model with a single signature inference. Disabling support for feedback tensors.\n"
     ]
    },
    {
     "name": "stdout",
     "output_type": "stream",
     "text": [
      "Calculating time: 1.207507848739624\n",
      "Landmarks time: 1.2067005634307861\n",
      "Check_landmarks time: 0.00030040740966796875\n",
      "Fragment: 214 from 610, mode: 'train'\n"
     ]
    },
    {
     "name": "stderr",
     "output_type": "stream",
     "text": [
      "I0000 00:00:1730661362.806634      17 task_runner.cc:85] GPU suport is not available: INTERNAL: ; RET_CHECK failure (mediapipe/gpu/gl_context_egl.cc:77) display != EGL_NO_DISPLAYeglGetDisplay() returned error 0x300c\n",
      "W0000 00:00:1730661362.917372    1819 inference_feedback_manager.cc:114] Feedback manager requires a model with a single signature inference. Disabling support for feedback tensors.\n",
      "W0000 00:00:1730661362.941672    1820 inference_feedback_manager.cc:114] Feedback manager requires a model with a single signature inference. Disabling support for feedback tensors.\n"
     ]
    },
    {
     "name": "stdout",
     "output_type": "stream",
     "text": [
      "Calculating time: 1.1779131889343262\n",
      "Landmarks time: 1.174269676208496\n",
      "Check_landmarks time: 0.00029730796813964844\n",
      "Fragment: 215 from 610, mode: 'train'\n"
     ]
    },
    {
     "name": "stderr",
     "output_type": "stream",
     "text": [
      "I0000 00:00:1730661364.246441      17 task_runner.cc:85] GPU suport is not available: INTERNAL: ; RET_CHECK failure (mediapipe/gpu/gl_context_egl.cc:77) display != EGL_NO_DISPLAYeglGetDisplay() returned error 0x300c\n",
      "W0000 00:00:1730661364.344193    1829 inference_feedback_manager.cc:114] Feedback manager requires a model with a single signature inference. Disabling support for feedback tensors.\n",
      "W0000 00:00:1730661364.368387    1829 inference_feedback_manager.cc:114] Feedback manager requires a model with a single signature inference. Disabling support for feedback tensors.\n"
     ]
    },
    {
     "name": "stdout",
     "output_type": "stream",
     "text": [
      "Calculating time: 1.2266669273376465\n",
      "Landmarks time: 1.2235221862792969\n",
      "Check_landmarks time: 0.0002906322479248047\n",
      "Fragment: 216 from 610, mode: 'train'\n"
     ]
    },
    {
     "name": "stderr",
     "output_type": "stream",
     "text": [
      "I0000 00:00:1730661365.746137      17 task_runner.cc:85] GPU suport is not available: INTERNAL: ; RET_CHECK failure (mediapipe/gpu/gl_context_egl.cc:77) display != EGL_NO_DISPLAYeglGetDisplay() returned error 0x300c\n",
      "W0000 00:00:1730661365.854440    1836 inference_feedback_manager.cc:114] Feedback manager requires a model with a single signature inference. Disabling support for feedback tensors.\n",
      "W0000 00:00:1730661365.878841    1838 inference_feedback_manager.cc:114] Feedback manager requires a model with a single signature inference. Disabling support for feedback tensors.\n"
     ]
    },
    {
     "name": "stdout",
     "output_type": "stream",
     "text": [
      "Calculating time: 1.2690565586090088\n",
      "Landmarks time: 1.2682647705078125\n",
      "Check_landmarks time: 0.0002989768981933594\n",
      "Fragment: 217 from 610, mode: 'train'\n"
     ]
    },
    {
     "name": "stderr",
     "output_type": "stream",
     "text": [
      "I0000 00:00:1730661367.302027      17 task_runner.cc:85] GPU suport is not available: INTERNAL: ; RET_CHECK failure (mediapipe/gpu/gl_context_egl.cc:77) display != EGL_NO_DISPLAYeglGetDisplay() returned error 0x300c\n",
      "W0000 00:00:1730661367.420009    1843 inference_feedback_manager.cc:114] Feedback manager requires a model with a single signature inference. Disabling support for feedback tensors.\n",
      "W0000 00:00:1730661367.450157    1844 inference_feedback_manager.cc:114] Feedback manager requires a model with a single signature inference. Disabling support for feedback tensors.\n"
     ]
    },
    {
     "name": "stdout",
     "output_type": "stream",
     "text": [
      "Calculating time: 1.1932628154754639\n",
      "Landmarks time: 1.1894474029541016\n",
      "Check_landmarks time: 0.00027680397033691406\n",
      "Fragment: 218 from 610, mode: 'train'\n"
     ]
    },
    {
     "name": "stderr",
     "output_type": "stream",
     "text": [
      "I0000 00:00:1730661368.763470      17 task_runner.cc:85] GPU suport is not available: INTERNAL: ; RET_CHECK failure (mediapipe/gpu/gl_context_egl.cc:77) display != EGL_NO_DISPLAYeglGetDisplay() returned error 0x300c\n",
      "W0000 00:00:1730661368.861297    1854 inference_feedback_manager.cc:114] Feedback manager requires a model with a single signature inference. Disabling support for feedback tensors.\n",
      "W0000 00:00:1730661368.899396    1851 inference_feedback_manager.cc:114] Feedback manager requires a model with a single signature inference. Disabling support for feedback tensors.\n"
     ]
    },
    {
     "name": "stdout",
     "output_type": "stream",
     "text": [
      "Calculating time: 1.2473771572113037\n",
      "Landmarks time: 1.2434840202331543\n",
      "Check_landmarks time: 0.0008032321929931641\n",
      "Fragment: 219 from 610, mode: 'train'\n"
     ]
    },
    {
     "name": "stderr",
     "output_type": "stream",
     "text": [
      "I0000 00:00:1730661370.289526      17 task_runner.cc:85] GPU suport is not available: INTERNAL: ; RET_CHECK failure (mediapipe/gpu/gl_context_egl.cc:77) display != EGL_NO_DISPLAYeglGetDisplay() returned error 0x300c\n",
      "W0000 00:00:1730661370.405991    1860 inference_feedback_manager.cc:114] Feedback manager requires a model with a single signature inference. Disabling support for feedback tensors.\n",
      "W0000 00:00:1730661370.430435    1862 inference_feedback_manager.cc:114] Feedback manager requires a model with a single signature inference. Disabling support for feedback tensors.\n"
     ]
    },
    {
     "name": "stdout",
     "output_type": "stream",
     "text": [
      "Calculating time: 1.2848260402679443\n",
      "Landmarks time: 1.2834632396697998\n",
      "Check_landmarks time: 0.0008287429809570312\n",
      "Fragment: 220 from 610, mode: 'train'\n"
     ]
    },
    {
     "name": "stderr",
     "output_type": "stream",
     "text": [
      "I0000 00:00:1730661371.859623      17 task_runner.cc:85] GPU suport is not available: INTERNAL: ; RET_CHECK failure (mediapipe/gpu/gl_context_egl.cc:77) display != EGL_NO_DISPLAYeglGetDisplay() returned error 0x300c\n",
      "W0000 00:00:1730661371.957040    1869 inference_feedback_manager.cc:114] Feedback manager requires a model with a single signature inference. Disabling support for feedback tensors.\n",
      "W0000 00:00:1730661371.988786    1867 inference_feedback_manager.cc:114] Feedback manager requires a model with a single signature inference. Disabling support for feedback tensors.\n"
     ]
    },
    {
     "name": "stdout",
     "output_type": "stream",
     "text": [
      "Calculating time: 1.2511672973632812\n",
      "Landmarks time: 1.2465147972106934\n",
      "Check_landmarks time: 0.0009989738464355469\n",
      "Fragment: 221 from 610, mode: 'train'\n"
     ]
    },
    {
     "name": "stderr",
     "output_type": "stream",
     "text": [
      "I0000 00:00:1730661373.379434      17 task_runner.cc:85] GPU suport is not available: INTERNAL: ; RET_CHECK failure (mediapipe/gpu/gl_context_egl.cc:77) display != EGL_NO_DISPLAYeglGetDisplay() returned error 0x300c\n",
      "W0000 00:00:1730661373.493091    1877 inference_feedback_manager.cc:114] Feedback manager requires a model with a single signature inference. Disabling support for feedback tensors.\n",
      "W0000 00:00:1730661373.519285    1876 inference_feedback_manager.cc:114] Feedback manager requires a model with a single signature inference. Disabling support for feedback tensors.\n"
     ]
    },
    {
     "name": "stdout",
     "output_type": "stream",
     "text": [
      "Calculating time: 1.321516990661621\n",
      "Landmarks time: 1.3165192604064941\n",
      "Check_landmarks time: 0.0010371208190917969\n",
      "Fragment: 222 from 610, mode: 'train'\n"
     ]
    },
    {
     "name": "stderr",
     "output_type": "stream",
     "text": [
      "I0000 00:00:1730661374.971648      17 task_runner.cc:85] GPU suport is not available: INTERNAL: ; RET_CHECK failure (mediapipe/gpu/gl_context_egl.cc:77) display != EGL_NO_DISPLAYeglGetDisplay() returned error 0x300c\n",
      "W0000 00:00:1730661375.080006    1885 inference_feedback_manager.cc:114] Feedback manager requires a model with a single signature inference. Disabling support for feedback tensors.\n",
      "W0000 00:00:1730661375.113185    1885 inference_feedback_manager.cc:114] Feedback manager requires a model with a single signature inference. Disabling support for feedback tensors.\n"
     ]
    },
    {
     "name": "stdout",
     "output_type": "stream",
     "text": [
      "Calculating time: 1.244375467300415\n",
      "Landmarks time: 1.242971420288086\n",
      "Check_landmarks time: 0.0005724430084228516\n",
      "Fragment: 223 from 610, mode: 'train'\n"
     ]
    },
    {
     "name": "stderr",
     "output_type": "stream",
     "text": [
      "I0000 00:00:1730661376.489462      17 task_runner.cc:85] GPU suport is not available: INTERNAL: ; RET_CHECK failure (mediapipe/gpu/gl_context_egl.cc:77) display != EGL_NO_DISPLAYeglGetDisplay() returned error 0x300c\n",
      "W0000 00:00:1730661376.587586    1893 inference_feedback_manager.cc:114] Feedback manager requires a model with a single signature inference. Disabling support for feedback tensors.\n",
      "W0000 00:00:1730661376.613544    1892 inference_feedback_manager.cc:114] Feedback manager requires a model with a single signature inference. Disabling support for feedback tensors.\n"
     ]
    },
    {
     "name": "stdout",
     "output_type": "stream",
     "text": [
      "Calculating time: 1.1901848316192627\n",
      "Landmarks time: 1.1859173774719238\n",
      "Check_landmarks time: 0.0005946159362792969\n",
      "Fragment: 224 from 610, mode: 'train'\n"
     ]
    },
    {
     "name": "stderr",
     "output_type": "stream",
     "text": [
      "I0000 00:00:1730661377.937727      17 task_runner.cc:85] GPU suport is not available: INTERNAL: ; RET_CHECK failure (mediapipe/gpu/gl_context_egl.cc:77) display != EGL_NO_DISPLAYeglGetDisplay() returned error 0x300c\n",
      "W0000 00:00:1730661378.035096    1900 inference_feedback_manager.cc:114] Feedback manager requires a model with a single signature inference. Disabling support for feedback tensors.\n",
      "W0000 00:00:1730661378.059951    1902 inference_feedback_manager.cc:114] Feedback manager requires a model with a single signature inference. Disabling support for feedback tensors.\n"
     ]
    },
    {
     "name": "stdout",
     "output_type": "stream",
     "text": [
      "Calculating time: 1.304382085800171\n",
      "Landmarks time: 1.3002474308013916\n",
      "Check_landmarks time: 0.0010199546813964844\n",
      "Fragment: 225 from 610, mode: 'train'\n"
     ]
    },
    {
     "name": "stderr",
     "output_type": "stream",
     "text": [
      "I0000 00:00:1730661379.516944      17 task_runner.cc:85] GPU suport is not available: INTERNAL: ; RET_CHECK failure (mediapipe/gpu/gl_context_egl.cc:77) display != EGL_NO_DISPLAYeglGetDisplay() returned error 0x300c\n",
      "W0000 00:00:1730661379.615440    1909 inference_feedback_manager.cc:114] Feedback manager requires a model with a single signature inference. Disabling support for feedback tensors.\n",
      "W0000 00:00:1730661379.640834    1909 inference_feedback_manager.cc:114] Feedback manager requires a model with a single signature inference. Disabling support for feedback tensors.\n"
     ]
    },
    {
     "name": "stdout",
     "output_type": "stream",
     "text": [
      "Calculating time: 1.2094171047210693\n",
      "Landmarks time: 1.2082738876342773\n",
      "Check_landmarks time: 0.00031256675720214844\n",
      "Fragment: 226 from 610, mode: 'train'\n"
     ]
    },
    {
     "name": "stderr",
     "output_type": "stream",
     "text": [
      "I0000 00:00:1730661381.008054      17 task_runner.cc:85] GPU suport is not available: INTERNAL: ; RET_CHECK failure (mediapipe/gpu/gl_context_egl.cc:77) display != EGL_NO_DISPLAYeglGetDisplay() returned error 0x300c\n",
      "W0000 00:00:1730661381.105994    1916 inference_feedback_manager.cc:114] Feedback manager requires a model with a single signature inference. Disabling support for feedback tensors.\n",
      "W0000 00:00:1730661381.134665    1916 inference_feedback_manager.cc:114] Feedback manager requires a model with a single signature inference. Disabling support for feedback tensors.\n"
     ]
    },
    {
     "name": "stdout",
     "output_type": "stream",
     "text": [
      "Calculating time: 1.177821159362793\n",
      "Landmarks time: 1.1740317344665527\n",
      "Check_landmarks time: 0.0002865791320800781\n",
      "Fragment: 227 from 610, mode: 'train'\n"
     ]
    },
    {
     "name": "stderr",
     "output_type": "stream",
     "text": [
      "I0000 00:00:1730661382.454361      17 task_runner.cc:85] GPU suport is not available: INTERNAL: ; RET_CHECK failure (mediapipe/gpu/gl_context_egl.cc:77) display != EGL_NO_DISPLAYeglGetDisplay() returned error 0x300c\n",
      "W0000 00:00:1730661382.551758    1925 inference_feedback_manager.cc:114] Feedback manager requires a model with a single signature inference. Disabling support for feedback tensors.\n",
      "W0000 00:00:1730661382.583444    1926 inference_feedback_manager.cc:114] Feedback manager requires a model with a single signature inference. Disabling support for feedback tensors.\n"
     ]
    },
    {
     "name": "stdout",
     "output_type": "stream",
     "text": [
      "Calculating time: 1.2720084190368652\n",
      "Landmarks time: 1.268115758895874\n",
      "Check_landmarks time: 0.00030159950256347656\n",
      "Fragment: 228 from 610, mode: 'train'\n"
     ]
    },
    {
     "name": "stderr",
     "output_type": "stream",
     "text": [
      "I0000 00:00:1730661384.007013      17 task_runner.cc:85] GPU suport is not available: INTERNAL: ; RET_CHECK failure (mediapipe/gpu/gl_context_egl.cc:77) display != EGL_NO_DISPLAYeglGetDisplay() returned error 0x300c\n",
      "W0000 00:00:1730661384.115523    1932 inference_feedback_manager.cc:114] Feedback manager requires a model with a single signature inference. Disabling support for feedback tensors.\n",
      "W0000 00:00:1730661384.140242    1934 inference_feedback_manager.cc:114] Feedback manager requires a model with a single signature inference. Disabling support for feedback tensors.\n"
     ]
    },
    {
     "name": "stdout",
     "output_type": "stream",
     "text": [
      "Calculating time: 1.2227468490600586\n",
      "Landmarks time: 1.2216217517852783\n",
      "Check_landmarks time: 0.00029754638671875\n",
      "Fragment: 229 from 610, mode: 'train'\n"
     ]
    },
    {
     "name": "stderr",
     "output_type": "stream",
     "text": [
      "I0000 00:00:1730661385.512395      17 task_runner.cc:85] GPU suport is not available: INTERNAL: ; RET_CHECK failure (mediapipe/gpu/gl_context_egl.cc:77) display != EGL_NO_DISPLAYeglGetDisplay() returned error 0x300c\n",
      "W0000 00:00:1730661385.620960    1940 inference_feedback_manager.cc:114] Feedback manager requires a model with a single signature inference. Disabling support for feedback tensors.\n",
      "W0000 00:00:1730661385.645560    1942 inference_feedback_manager.cc:114] Feedback manager requires a model with a single signature inference. Disabling support for feedback tensors.\n"
     ]
    },
    {
     "name": "stdout",
     "output_type": "stream",
     "text": [
      "Calculating time: 1.1901984214782715\n",
      "Landmarks time: 1.1865348815917969\n",
      "Check_landmarks time: 0.00030684471130371094\n",
      "Fragment: 230 from 610, mode: 'train'\n"
     ]
    },
    {
     "name": "stderr",
     "output_type": "stream",
     "text": [
      "I0000 00:00:1730661386.964609      17 task_runner.cc:85] GPU suport is not available: INTERNAL: ; RET_CHECK failure (mediapipe/gpu/gl_context_egl.cc:77) display != EGL_NO_DISPLAYeglGetDisplay() returned error 0x300c\n",
      "W0000 00:00:1730661387.073917    1949 inference_feedback_manager.cc:114] Feedback manager requires a model with a single signature inference. Disabling support for feedback tensors.\n",
      "W0000 00:00:1730661387.098229    1950 inference_feedback_manager.cc:114] Feedback manager requires a model with a single signature inference. Disabling support for feedback tensors.\n"
     ]
    },
    {
     "name": "stdout",
     "output_type": "stream",
     "text": [
      "Calculating time: 1.2481141090393066\n",
      "Landmarks time: 1.2447433471679688\n",
      "Check_landmarks time: 0.00030493736267089844\n",
      "Fragment: 231 from 610, mode: 'train'\n"
     ]
    },
    {
     "name": "stderr",
     "output_type": "stream",
     "text": [
      "I0000 00:00:1730661388.489064      17 task_runner.cc:85] GPU suport is not available: INTERNAL: ; RET_CHECK failure (mediapipe/gpu/gl_context_egl.cc:77) display != EGL_NO_DISPLAYeglGetDisplay() returned error 0x300c\n",
      "W0000 00:00:1730661388.587108    1955 inference_feedback_manager.cc:114] Feedback manager requires a model with a single signature inference. Disabling support for feedback tensors.\n",
      "W0000 00:00:1730661388.611949    1956 inference_feedback_manager.cc:114] Feedback manager requires a model with a single signature inference. Disabling support for feedback tensors.\n"
     ]
    },
    {
     "name": "stdout",
     "output_type": "stream",
     "text": [
      "Calculating time: 1.1983733177185059\n",
      "Landmarks time: 1.1971919536590576\n",
      "Check_landmarks time: 0.0003113746643066406\n",
      "Fragment: 232 from 610, mode: 'train'\n"
     ]
    },
    {
     "name": "stderr",
     "output_type": "stream",
     "text": [
      "I0000 00:00:1730661390.003932      17 task_runner.cc:85] GPU suport is not available: INTERNAL: ; RET_CHECK failure (mediapipe/gpu/gl_context_egl.cc:77) display != EGL_NO_DISPLAYeglGetDisplay() returned error 0x300c\n",
      "W0000 00:00:1730661390.107663    1964 inference_feedback_manager.cc:114] Feedback manager requires a model with a single signature inference. Disabling support for feedback tensors.\n",
      "W0000 00:00:1730661390.139659    1964 inference_feedback_manager.cc:114] Feedback manager requires a model with a single signature inference. Disabling support for feedback tensors.\n"
     ]
    },
    {
     "name": "stdout",
     "output_type": "stream",
     "text": [
      "Calculating time: 1.304922103881836\n",
      "Landmarks time: 1.2998566627502441\n",
      "Check_landmarks time: 0.0008308887481689453\n",
      "Fragment: 233 from 610, mode: 'train'\n"
     ]
    },
    {
     "name": "stderr",
     "output_type": "stream",
     "text": [
      "I0000 00:00:1730661391.579582      17 task_runner.cc:85] GPU suport is not available: INTERNAL: ; RET_CHECK failure (mediapipe/gpu/gl_context_egl.cc:77) display != EGL_NO_DISPLAYeglGetDisplay() returned error 0x300c\n",
      "W0000 00:00:1730661391.677813    1974 inference_feedback_manager.cc:114] Feedback manager requires a model with a single signature inference. Disabling support for feedback tensors.\n",
      "W0000 00:00:1730661391.702254    1974 inference_feedback_manager.cc:114] Feedback manager requires a model with a single signature inference. Disabling support for feedback tensors.\n"
     ]
    },
    {
     "name": "stdout",
     "output_type": "stream",
     "text": [
      "Calculating time: 1.346613883972168\n",
      "Landmarks time: 1.3422150611877441\n",
      "Check_landmarks time: 0.0013687610626220703\n",
      "Fragment: 234 from 610, mode: 'train'\n"
     ]
    },
    {
     "name": "stderr",
     "output_type": "stream",
     "text": [
      "I0000 00:00:1730661393.207383      17 task_runner.cc:85] GPU suport is not available: INTERNAL: ; RET_CHECK failure (mediapipe/gpu/gl_context_egl.cc:77) display != EGL_NO_DISPLAYeglGetDisplay() returned error 0x300c\n",
      "W0000 00:00:1730661393.304943    1979 inference_feedback_manager.cc:114] Feedback manager requires a model with a single signature inference. Disabling support for feedback tensors.\n",
      "W0000 00:00:1730661393.336355    1982 inference_feedback_manager.cc:114] Feedback manager requires a model with a single signature inference. Disabling support for feedback tensors.\n"
     ]
    },
    {
     "name": "stdout",
     "output_type": "stream",
     "text": [
      "Calculating time: 1.316908836364746\n",
      "Landmarks time: 1.3148293495178223\n",
      "Check_landmarks time: 0.0012469291687011719\n",
      "Fragment: 235 from 610, mode: 'train'\n"
     ]
    },
    {
     "name": "stderr",
     "output_type": "stream",
     "text": [
      "I0000 00:00:1730661394.801318      17 task_runner.cc:85] GPU suport is not available: INTERNAL: ; RET_CHECK failure (mediapipe/gpu/gl_context_egl.cc:77) display != EGL_NO_DISPLAYeglGetDisplay() returned error 0x300c\n",
      "W0000 00:00:1730661394.909200    1988 inference_feedback_manager.cc:114] Feedback manager requires a model with a single signature inference. Disabling support for feedback tensors.\n",
      "W0000 00:00:1730661394.933654    1987 inference_feedback_manager.cc:114] Feedback manager requires a model with a single signature inference. Disabling support for feedback tensors.\n"
     ]
    },
    {
     "name": "stdout",
     "output_type": "stream",
     "text": [
      "Calculating time: 1.2669298648834229\n",
      "Landmarks time: 1.2622599601745605\n",
      "Check_landmarks time: 0.001447916030883789\n",
      "Fragment: 236 from 610, mode: 'train'\n"
     ]
    },
    {
     "name": "stderr",
     "output_type": "stream",
     "text": [
      "I0000 00:00:1730661396.336511      17 task_runner.cc:85] GPU suport is not available: INTERNAL: ; RET_CHECK failure (mediapipe/gpu/gl_context_egl.cc:77) display != EGL_NO_DISPLAYeglGetDisplay() returned error 0x300c\n",
      "W0000 00:00:1730661396.446979    1996 inference_feedback_manager.cc:114] Feedback manager requires a model with a single signature inference. Disabling support for feedback tensors.\n",
      "W0000 00:00:1730661396.471997    1998 inference_feedback_manager.cc:114] Feedback manager requires a model with a single signature inference. Disabling support for feedback tensors.\n"
     ]
    },
    {
     "name": "stdout",
     "output_type": "stream",
     "text": [
      "Calculating time: 1.2708938121795654\n",
      "Landmarks time: 1.2668871879577637\n",
      "Check_landmarks time: 0.0006651878356933594\n",
      "Fragment: 237 from 610, mode: 'train'\n"
     ]
    },
    {
     "name": "stderr",
     "output_type": "stream",
     "text": [
      "I0000 00:00:1730661397.875508      17 task_runner.cc:85] GPU suport is not available: INTERNAL: ; RET_CHECK failure (mediapipe/gpu/gl_context_egl.cc:77) display != EGL_NO_DISPLAYeglGetDisplay() returned error 0x300c\n",
      "W0000 00:00:1730661397.973681    2006 inference_feedback_manager.cc:114] Feedback manager requires a model with a single signature inference. Disabling support for feedback tensors.\n",
      "W0000 00:00:1730661398.005386    2005 inference_feedback_manager.cc:114] Feedback manager requires a model with a single signature inference. Disabling support for feedback tensors.\n"
     ]
    },
    {
     "name": "stdout",
     "output_type": "stream",
     "text": [
      "Calculating time: 1.2142863273620605\n",
      "Landmarks time: 1.213196039199829\n",
      "Check_landmarks time: 0.0002968311309814453\n",
      "Fragment: 238 from 610, mode: 'train'\n"
     ]
    },
    {
     "name": "stderr",
     "output_type": "stream",
     "text": [
      "I0000 00:00:1730661399.370448      17 task_runner.cc:85] GPU suport is not available: INTERNAL: ; RET_CHECK failure (mediapipe/gpu/gl_context_egl.cc:77) display != EGL_NO_DISPLAYeglGetDisplay() returned error 0x300c\n",
      "W0000 00:00:1730661399.468493    2013 inference_feedback_manager.cc:114] Feedback manager requires a model with a single signature inference. Disabling support for feedback tensors.\n",
      "W0000 00:00:1730661399.493021    2011 inference_feedback_manager.cc:114] Feedback manager requires a model with a single signature inference. Disabling support for feedback tensors.\n"
     ]
    },
    {
     "name": "stdout",
     "output_type": "stream",
     "text": [
      "Calculating time: 1.1665446758270264\n",
      "Landmarks time: 1.1626737117767334\n",
      "Check_landmarks time: 0.0002930164337158203\n",
      "Fragment: 239 from 610, mode: 'train'\n"
     ]
    },
    {
     "name": "stderr",
     "output_type": "stream",
     "text": [
      "I0000 00:00:1730661400.803081      17 task_runner.cc:85] GPU suport is not available: INTERNAL: ; RET_CHECK failure (mediapipe/gpu/gl_context_egl.cc:77) display != EGL_NO_DISPLAYeglGetDisplay() returned error 0x300c\n",
      "W0000 00:00:1730661400.901195    2020 inference_feedback_manager.cc:114] Feedback manager requires a model with a single signature inference. Disabling support for feedback tensors.\n",
      "W0000 00:00:1730661400.933228    2019 inference_feedback_manager.cc:114] Feedback manager requires a model with a single signature inference. Disabling support for feedback tensors.\n"
     ]
    },
    {
     "name": "stdout",
     "output_type": "stream",
     "text": [
      "Calculating time: 1.241105079650879\n",
      "Landmarks time: 1.2377948760986328\n",
      "Check_landmarks time: 0.0002963542938232422\n",
      "Fragment: 240 from 610, mode: 'train'\n"
     ]
    },
    {
     "name": "stderr",
     "output_type": "stream",
     "text": [
      "I0000 00:00:1730661402.315799      17 task_runner.cc:85] GPU suport is not available: INTERNAL: ; RET_CHECK failure (mediapipe/gpu/gl_context_egl.cc:77) display != EGL_NO_DISPLAYeglGetDisplay() returned error 0x300c\n",
      "W0000 00:00:1730661402.425470    2030 inference_feedback_manager.cc:114] Feedback manager requires a model with a single signature inference. Disabling support for feedback tensors.\n",
      "W0000 00:00:1730661402.450092    2027 inference_feedback_manager.cc:114] Feedback manager requires a model with a single signature inference. Disabling support for feedback tensors.\n"
     ]
    },
    {
     "name": "stdout",
     "output_type": "stream",
     "text": [
      "Calculating time: 1.2367074489593506\n",
      "Landmarks time: 1.2359211444854736\n",
      "Check_landmarks time: 0.00028967857360839844\n",
      "Fragment: 241 from 610, mode: 'train'\n"
     ]
    },
    {
     "name": "stderr",
     "output_type": "stream",
     "text": [
      "I0000 00:00:1730661403.825775      17 task_runner.cc:85] GPU suport is not available: INTERNAL: ; RET_CHECK failure (mediapipe/gpu/gl_context_egl.cc:77) display != EGL_NO_DISPLAYeglGetDisplay() returned error 0x300c\n",
      "W0000 00:00:1730661403.924538    2037 inference_feedback_manager.cc:114] Feedback manager requires a model with a single signature inference. Disabling support for feedback tensors.\n",
      "W0000 00:00:1730661403.955871    2038 inference_feedback_manager.cc:114] Feedback manager requires a model with a single signature inference. Disabling support for feedback tensors.\n"
     ]
    },
    {
     "name": "stdout",
     "output_type": "stream",
     "text": [
      "Calculating time: 1.1853969097137451\n",
      "Landmarks time: 1.1818640232086182\n",
      "Check_landmarks time: 0.00027561187744140625\n",
      "Fragment: 242 from 610, mode: 'train'\n"
     ]
    },
    {
     "name": "stderr",
     "output_type": "stream",
     "text": [
      "I0000 00:00:1730661405.264352      17 task_runner.cc:85] GPU suport is not available: INTERNAL: ; RET_CHECK failure (mediapipe/gpu/gl_context_egl.cc:77) display != EGL_NO_DISPLAYeglGetDisplay() returned error 0x300c\n",
      "W0000 00:00:1730661405.362352    2046 inference_feedback_manager.cc:114] Feedback manager requires a model with a single signature inference. Disabling support for feedback tensors.\n",
      "W0000 00:00:1730661405.387060    2046 inference_feedback_manager.cc:114] Feedback manager requires a model with a single signature inference. Disabling support for feedback tensors.\n"
     ]
    },
    {
     "name": "stdout",
     "output_type": "stream",
     "text": [
      "Calculating time: 1.2350568771362305\n",
      "Landmarks time: 1.2314622402191162\n",
      "Check_landmarks time: 0.0002923011779785156\n",
      "Fragment: 243 from 610, mode: 'train'\n"
     ]
    },
    {
     "name": "stderr",
     "output_type": "stream",
     "text": [
      "I0000 00:00:1730661406.780336      17 task_runner.cc:85] GPU suport is not available: INTERNAL: ; RET_CHECK failure (mediapipe/gpu/gl_context_egl.cc:77) display != EGL_NO_DISPLAYeglGetDisplay() returned error 0x300c\n",
      "W0000 00:00:1730661406.878123    2051 inference_feedback_manager.cc:114] Feedback manager requires a model with a single signature inference. Disabling support for feedback tensors.\n",
      "W0000 00:00:1730661406.902561    2051 inference_feedback_manager.cc:114] Feedback manager requires a model with a single signature inference. Disabling support for feedback tensors.\n"
     ]
    },
    {
     "name": "stdout",
     "output_type": "stream",
     "text": [
      "Calculating time: 1.2202866077423096\n",
      "Landmarks time: 1.219090223312378\n",
      "Check_landmarks time: 0.0003097057342529297\n",
      "Fragment: 244 from 610, mode: 'train'\n"
     ]
    },
    {
     "name": "stderr",
     "output_type": "stream",
     "text": [
      "I0000 00:00:1730661408.279514      17 task_runner.cc:85] GPU suport is not available: INTERNAL: ; RET_CHECK failure (mediapipe/gpu/gl_context_egl.cc:77) display != EGL_NO_DISPLAYeglGetDisplay() returned error 0x300c\n",
      "W0000 00:00:1730661408.376746    2062 inference_feedback_manager.cc:114] Feedback manager requires a model with a single signature inference. Disabling support for feedback tensors.\n",
      "W0000 00:00:1730661408.402690    2062 inference_feedback_manager.cc:114] Feedback manager requires a model with a single signature inference. Disabling support for feedback tensors.\n"
     ]
    },
    {
     "name": "stdout",
     "output_type": "stream",
     "text": [
      "Calculating time: 1.181955337524414\n",
      "Landmarks time: 1.1777851581573486\n",
      "Check_landmarks time: 0.0006124973297119141\n",
      "Fragment: 245 from 610, mode: 'train'\n"
     ]
    },
    {
     "name": "stderr",
     "output_type": "stream",
     "text": [
      "I0000 00:00:1730661409.736030      17 task_runner.cc:85] GPU suport is not available: INTERNAL: ; RET_CHECK failure (mediapipe/gpu/gl_context_egl.cc:77) display != EGL_NO_DISPLAYeglGetDisplay() returned error 0x300c\n",
      "W0000 00:00:1730661409.841266    2068 inference_feedback_manager.cc:114] Feedback manager requires a model with a single signature inference. Disabling support for feedback tensors.\n",
      "W0000 00:00:1730661409.865441    2070 inference_feedback_manager.cc:114] Feedback manager requires a model with a single signature inference. Disabling support for feedback tensors.\n"
     ]
    },
    {
     "name": "stdout",
     "output_type": "stream",
     "text": [
      "Calculating time: 1.2584073543548584\n",
      "Landmarks time: 1.2542788982391357\n",
      "Check_landmarks time: 0.0006418228149414062\n",
      "Fragment: 246 from 610, mode: 'train'\n"
     ]
    },
    {
     "name": "stderr",
     "output_type": "stream",
     "text": [
      "I0000 00:00:1730661411.264410      17 task_runner.cc:85] GPU suport is not available: INTERNAL: ; RET_CHECK failure (mediapipe/gpu/gl_context_egl.cc:77) display != EGL_NO_DISPLAYeglGetDisplay() returned error 0x300c\n",
      "W0000 00:00:1730661411.361910    2076 inference_feedback_manager.cc:114] Feedback manager requires a model with a single signature inference. Disabling support for feedback tensors.\n",
      "W0000 00:00:1730661411.386224    2076 inference_feedback_manager.cc:114] Feedback manager requires a model with a single signature inference. Disabling support for feedback tensors.\n"
     ]
    },
    {
     "name": "stdout",
     "output_type": "stream",
     "text": [
      "Calculating time: 1.1928229331970215\n",
      "Landmarks time: 1.192030906677246\n",
      "Check_landmarks time: 0.00029277801513671875\n",
      "Fragment: 247 from 610, mode: 'train'\n"
     ]
    },
    {
     "name": "stderr",
     "output_type": "stream",
     "text": [
      "I0000 00:00:1730661412.643415      17 task_runner.cc:85] GPU suport is not available: INTERNAL: ; RET_CHECK failure (mediapipe/gpu/gl_context_egl.cc:77) display != EGL_NO_DISPLAYeglGetDisplay() returned error 0x300c\n",
      "W0000 00:00:1730661412.743517    2084 inference_feedback_manager.cc:114] Feedback manager requires a model with a single signature inference. Disabling support for feedback tensors.\n",
      "W0000 00:00:1730661412.768005    2086 inference_feedback_manager.cc:114] Feedback manager requires a model with a single signature inference. Disabling support for feedback tensors.\n"
     ]
    },
    {
     "name": "stdout",
     "output_type": "stream",
     "text": [
      "Calculating time: 0.7573325634002686\n",
      "Landmarks time: 0.7544534206390381\n",
      "Check_landmarks time: 0.00020122528076171875\n",
      "Fragment: 248 from 610, mode: 'train'\n"
     ]
    },
    {
     "name": "stderr",
     "output_type": "stream",
     "text": [
      "I0000 00:00:1730661413.849940      17 task_runner.cc:85] GPU suport is not available: INTERNAL: ; RET_CHECK failure (mediapipe/gpu/gl_context_egl.cc:77) display != EGL_NO_DISPLAYeglGetDisplay() returned error 0x300c\n",
      "W0000 00:00:1730661413.958852    2092 inference_feedback_manager.cc:114] Feedback manager requires a model with a single signature inference. Disabling support for feedback tensors.\n",
      "W0000 00:00:1730661413.990690    2092 inference_feedback_manager.cc:114] Feedback manager requires a model with a single signature inference. Disabling support for feedback tensors.\n"
     ]
    },
    {
     "name": "stdout",
     "output_type": "stream",
     "text": [
      "Not valid sequence\n",
      "Calculating time: 1.072425127029419\n",
      "Landmarks time: 1.0610642433166504\n",
      "Check_landmarks time: 0.007871866226196289\n",
      "Fragment: 249 from 610, mode: 'train'\n"
     ]
    },
    {
     "name": "stderr",
     "output_type": "stream",
     "text": [
      "I0000 00:00:1730661415.666222      17 task_runner.cc:85] GPU suport is not available: INTERNAL: ; RET_CHECK failure (mediapipe/gpu/gl_context_egl.cc:77) display != EGL_NO_DISPLAYeglGetDisplay() returned error 0x300c\n",
      "W0000 00:00:1730661415.776204    2100 inference_feedback_manager.cc:114] Feedback manager requires a model with a single signature inference. Disabling support for feedback tensors.\n",
      "W0000 00:00:1730661415.801171    2101 inference_feedback_manager.cc:114] Feedback manager requires a model with a single signature inference. Disabling support for feedback tensors.\n"
     ]
    },
    {
     "name": "stdout",
     "output_type": "stream",
     "text": [
      "Calculating time: 1.2240703105926514\n",
      "Landmarks time: 1.212907314300537\n",
      "Check_landmarks time: 0.0049304962158203125\n",
      "Fragment: 250 from 610, mode: 'train'\n"
     ]
    },
    {
     "name": "stderr",
     "output_type": "stream",
     "text": [
      "I0000 00:00:1730661417.948931      17 task_runner.cc:85] GPU suport is not available: INTERNAL: ; RET_CHECK failure (mediapipe/gpu/gl_context_egl.cc:77) display != EGL_NO_DISPLAYeglGetDisplay() returned error 0x300c\n",
      "W0000 00:00:1730661418.057618    2109 inference_feedback_manager.cc:114] Feedback manager requires a model with a single signature inference. Disabling support for feedback tensors.\n",
      "W0000 00:00:1730661418.082324    2110 inference_feedback_manager.cc:114] Feedback manager requires a model with a single signature inference. Disabling support for feedback tensors.\n"
     ]
    },
    {
     "name": "stdout",
     "output_type": "stream",
     "text": [
      "Calculating time: 1.267967939376831\n",
      "Landmarks time: 1.2589805126190186\n",
      "Check_landmarks time: 0.0027980804443359375\n",
      "Fragment: 251 from 610, mode: 'train'\n"
     ]
    },
    {
     "name": "stderr",
     "output_type": "stream",
     "text": [
      "I0000 00:00:1730661420.647482      17 task_runner.cc:85] GPU suport is not available: INTERNAL: ; RET_CHECK failure (mediapipe/gpu/gl_context_egl.cc:77) display != EGL_NO_DISPLAYeglGetDisplay() returned error 0x300c\n",
      "W0000 00:00:1730661420.745798    2116 inference_feedback_manager.cc:114] Feedback manager requires a model with a single signature inference. Disabling support for feedback tensors.\n",
      "W0000 00:00:1730661420.770240    2116 inference_feedback_manager.cc:114] Feedback manager requires a model with a single signature inference. Disabling support for feedback tensors.\n"
     ]
    },
    {
     "name": "stdout",
     "output_type": "stream",
     "text": [
      "Calculating time: 1.349963665008545\n",
      "Landmarks time: 1.3411948680877686\n",
      "Check_landmarks time: 0.002566814422607422\n",
      "Fragment: 252 from 610, mode: 'train'\n"
     ]
    },
    {
     "name": "stderr",
     "output_type": "stream",
     "text": [
      "I0000 00:00:1730661424.028460      17 task_runner.cc:85] GPU suport is not available: INTERNAL: ; RET_CHECK failure (mediapipe/gpu/gl_context_egl.cc:77) display != EGL_NO_DISPLAYeglGetDisplay() returned error 0x300c\n",
      "W0000 00:00:1730661424.126477    2125 inference_feedback_manager.cc:114] Feedback manager requires a model with a single signature inference. Disabling support for feedback tensors.\n",
      "W0000 00:00:1730661424.150590    2125 inference_feedback_manager.cc:114] Feedback manager requires a model with a single signature inference. Disabling support for feedback tensors.\n"
     ]
    },
    {
     "name": "stdout",
     "output_type": "stream",
     "text": [
      "Calculating time: 1.3682265281677246\n",
      "Landmarks time: 1.3618555068969727\n",
      "Check_landmarks time: 0.0003139972686767578\n",
      "Fragment: 253 from 610, mode: 'train'\n"
     ]
    },
    {
     "name": "stderr",
     "output_type": "stream",
     "text": [
      "I0000 00:00:1730661426.332442      17 task_runner.cc:85] GPU suport is not available: INTERNAL: ; RET_CHECK failure (mediapipe/gpu/gl_context_egl.cc:77) display != EGL_NO_DISPLAYeglGetDisplay() returned error 0x300c\n",
      "W0000 00:00:1730661426.441452    2134 inference_feedback_manager.cc:114] Feedback manager requires a model with a single signature inference. Disabling support for feedback tensors.\n",
      "W0000 00:00:1730661426.474558    2134 inference_feedback_manager.cc:114] Feedback manager requires a model with a single signature inference. Disabling support for feedback tensors.\n"
     ]
    },
    {
     "name": "stdout",
     "output_type": "stream",
     "text": [
      "Calculating time: 1.3682386875152588\n",
      "Landmarks time: 1.3614375591278076\n",
      "Check_landmarks time: 0.0002846717834472656\n",
      "Fragment: 254 from 610, mode: 'train'\n"
     ]
    },
    {
     "name": "stderr",
     "output_type": "stream",
     "text": [
      "I0000 00:00:1730661428.934120      17 task_runner.cc:85] GPU suport is not available: INTERNAL: ; RET_CHECK failure (mediapipe/gpu/gl_context_egl.cc:77) display != EGL_NO_DISPLAYeglGetDisplay() returned error 0x300c\n",
      "W0000 00:00:1730661429.051181    2139 inference_feedback_manager.cc:114] Feedback manager requires a model with a single signature inference. Disabling support for feedback tensors.\n",
      "W0000 00:00:1730661429.088049    2141 inference_feedback_manager.cc:114] Feedback manager requires a model with a single signature inference. Disabling support for feedback tensors.\n"
     ]
    },
    {
     "name": "stdout",
     "output_type": "stream",
     "text": [
      "Calculating time: 1.402756690979004\n",
      "Landmarks time: 1.3964424133300781\n",
      "Check_landmarks time: 0.0002872943878173828\n",
      "Fragment: 255 from 610, mode: 'train'\n"
     ]
    },
    {
     "name": "stderr",
     "output_type": "stream",
     "text": [
      "I0000 00:00:1730661431.857248      17 task_runner.cc:85] GPU suport is not available: INTERNAL: ; RET_CHECK failure (mediapipe/gpu/gl_context_egl.cc:77) display != EGL_NO_DISPLAYeglGetDisplay() returned error 0x300c\n",
      "W0000 00:00:1730661431.955812    2148 inference_feedback_manager.cc:114] Feedback manager requires a model with a single signature inference. Disabling support for feedback tensors.\n",
      "W0000 00:00:1730661431.988389    2148 inference_feedback_manager.cc:114] Feedback manager requires a model with a single signature inference. Disabling support for feedback tensors.\n"
     ]
    },
    {
     "name": "stdout",
     "output_type": "stream",
     "text": [
      "Calculating time: 1.3992512226104736\n",
      "Landmarks time: 1.3919522762298584\n",
      "Check_landmarks time: 0.0003085136413574219\n",
      "Fragment: 256 from 610, mode: 'train'\n"
     ]
    },
    {
     "name": "stderr",
     "output_type": "stream",
     "text": [
      "I0000 00:00:1730661435.095517      17 task_runner.cc:85] GPU suport is not available: INTERNAL: ; RET_CHECK failure (mediapipe/gpu/gl_context_egl.cc:77) display != EGL_NO_DISPLAYeglGetDisplay() returned error 0x300c\n",
      "W0000 00:00:1730661435.203511    2158 inference_feedback_manager.cc:114] Feedback manager requires a model with a single signature inference. Disabling support for feedback tensors.\n",
      "W0000 00:00:1730661435.239890    2155 inference_feedback_manager.cc:114] Feedback manager requires a model with a single signature inference. Disabling support for feedback tensors.\n"
     ]
    },
    {
     "name": "stdout",
     "output_type": "stream",
     "text": [
      "Calculating time: 1.3357295989990234\n",
      "Landmarks time: 1.3292489051818848\n",
      "Check_landmarks time: 0.0002727508544921875\n",
      "Fragment: 257 from 610, mode: 'train'\n"
     ]
    },
    {
     "name": "stderr",
     "output_type": "stream",
     "text": [
      "I0000 00:00:1730661437.061127      17 task_runner.cc:85] GPU suport is not available: INTERNAL: ; RET_CHECK failure (mediapipe/gpu/gl_context_egl.cc:77) display != EGL_NO_DISPLAYeglGetDisplay() returned error 0x300c\n",
      "W0000 00:00:1730661437.159537    2164 inference_feedback_manager.cc:114] Feedback manager requires a model with a single signature inference. Disabling support for feedback tensors.\n",
      "W0000 00:00:1730661437.190872    2166 inference_feedback_manager.cc:114] Feedback manager requires a model with a single signature inference. Disabling support for feedback tensors.\n"
     ]
    },
    {
     "name": "stdout",
     "output_type": "stream",
     "text": [
      "Calculating time: 1.3737351894378662\n",
      "Landmarks time: 1.3661994934082031\n",
      "Check_landmarks time: 0.0009224414825439453\n",
      "Fragment: 258 from 610, mode: 'train'\n"
     ]
    },
    {
     "name": "stderr",
     "output_type": "stream",
     "text": [
      "I0000 00:00:1730661439.395177      17 task_runner.cc:85] GPU suport is not available: INTERNAL: ; RET_CHECK failure (mediapipe/gpu/gl_context_egl.cc:77) display != EGL_NO_DISPLAYeglGetDisplay() returned error 0x300c\n",
      "W0000 00:00:1730661439.504294    2174 inference_feedback_manager.cc:114] Feedback manager requires a model with a single signature inference. Disabling support for feedback tensors.\n",
      "W0000 00:00:1730661439.530250    2171 inference_feedback_manager.cc:114] Feedback manager requires a model with a single signature inference. Disabling support for feedback tensors.\n"
     ]
    },
    {
     "name": "stdout",
     "output_type": "stream",
     "text": [
      "Calculating time: 1.4040253162384033\n",
      "Landmarks time: 1.3970308303833008\n",
      "Check_landmarks time: 0.001073598861694336\n",
      "Fragment: 259 from 610, mode: 'train'\n"
     ]
    },
    {
     "name": "stderr",
     "output_type": "stream",
     "text": [
      "I0000 00:00:1730661442.056475      17 task_runner.cc:85] GPU suport is not available: INTERNAL: ; RET_CHECK failure (mediapipe/gpu/gl_context_egl.cc:77) display != EGL_NO_DISPLAYeglGetDisplay() returned error 0x300c\n",
      "W0000 00:00:1730661442.155068    2182 inference_feedback_manager.cc:114] Feedback manager requires a model with a single signature inference. Disabling support for feedback tensors.\n",
      "W0000 00:00:1730661442.179701    2182 inference_feedback_manager.cc:114] Feedback manager requires a model with a single signature inference. Disabling support for feedback tensors.\n"
     ]
    },
    {
     "name": "stdout",
     "output_type": "stream",
     "text": [
      "Calculating time: 1.3459241390228271\n",
      "Landmarks time: 1.3388938903808594\n",
      "Check_landmarks time: 0.00029659271240234375\n",
      "Fragment: 260 from 610, mode: 'train'\n"
     ]
    },
    {
     "name": "stderr",
     "output_type": "stream",
     "text": [
      "I0000 00:00:1730661444.982245      17 task_runner.cc:85] GPU suport is not available: INTERNAL: ; RET_CHECK failure (mediapipe/gpu/gl_context_egl.cc:77) display != EGL_NO_DISPLAYeglGetDisplay() returned error 0x300c\n",
      "W0000 00:00:1730661445.091591    2188 inference_feedback_manager.cc:114] Feedback manager requires a model with a single signature inference. Disabling support for feedback tensors.\n",
      "W0000 00:00:1730661445.124907    2189 inference_feedback_manager.cc:114] Feedback manager requires a model with a single signature inference. Disabling support for feedback tensors.\n"
     ]
    },
    {
     "name": "stdout",
     "output_type": "stream",
     "text": [
      "Calculating time: 1.3983604907989502\n",
      "Landmarks time: 1.3923351764678955\n",
      "Check_landmarks time: 0.0002999305725097656\n",
      "Fragment: 261 from 610, mode: 'train'\n"
     ]
    },
    {
     "name": "stderr",
     "output_type": "stream",
     "text": [
      "I0000 00:00:1730661448.263748      17 task_runner.cc:85] GPU suport is not available: INTERNAL: ; RET_CHECK failure (mediapipe/gpu/gl_context_egl.cc:77) display != EGL_NO_DISPLAYeglGetDisplay() returned error 0x300c\n",
      "W0000 00:00:1730661448.371341    2196 inference_feedback_manager.cc:114] Feedback manager requires a model with a single signature inference. Disabling support for feedback tensors.\n",
      "W0000 00:00:1730661448.402577    2196 inference_feedback_manager.cc:114] Feedback manager requires a model with a single signature inference. Disabling support for feedback tensors.\n"
     ]
    },
    {
     "name": "stdout",
     "output_type": "stream",
     "text": [
      "Calculating time: 1.4039459228515625\n",
      "Landmarks time: 1.3972208499908447\n",
      "Check_landmarks time: 0.00029206275939941406\n",
      "Fragment: 262 from 610, mode: 'train'\n"
     ]
    },
    {
     "name": "stderr",
     "output_type": "stream",
     "text": [
      "I0000 00:00:1730661450.481058      17 task_runner.cc:85] GPU suport is not available: INTERNAL: ; RET_CHECK failure (mediapipe/gpu/gl_context_egl.cc:77) display != EGL_NO_DISPLAYeglGetDisplay() returned error 0x300c\n",
      "W0000 00:00:1730661450.580669    2205 inference_feedback_manager.cc:114] Feedback manager requires a model with a single signature inference. Disabling support for feedback tensors.\n",
      "W0000 00:00:1730661450.605359    2206 inference_feedback_manager.cc:114] Feedback manager requires a model with a single signature inference. Disabling support for feedback tensors.\n"
     ]
    },
    {
     "name": "stdout",
     "output_type": "stream",
     "text": [
      "Calculating time: 1.3404366970062256\n",
      "Landmarks time: 1.3334412574768066\n",
      "Check_landmarks time: 0.000985860824584961\n",
      "Fragment: 263 from 610, mode: 'train'\n"
     ]
    },
    {
     "name": "stderr",
     "output_type": "stream",
     "text": [
      "I0000 00:00:1730661452.647625      17 task_runner.cc:85] GPU suport is not available: INTERNAL: ; RET_CHECK failure (mediapipe/gpu/gl_context_egl.cc:77) display != EGL_NO_DISPLAYeglGetDisplay() returned error 0x300c\n",
      "W0000 00:00:1730661452.748909    2213 inference_feedback_manager.cc:114] Feedback manager requires a model with a single signature inference. Disabling support for feedback tensors.\n",
      "W0000 00:00:1730661452.776907    2213 inference_feedback_manager.cc:114] Feedback manager requires a model with a single signature inference. Disabling support for feedback tensors.\n"
     ]
    },
    {
     "name": "stdout",
     "output_type": "stream",
     "text": [
      "Calculating time: 1.4063138961791992\n",
      "Landmarks time: 1.399810791015625\n",
      "Check_landmarks time: 0.0003292560577392578\n",
      "Fragment: 264 from 610, mode: 'train'\n"
     ]
    },
    {
     "name": "stderr",
     "output_type": "stream",
     "text": [
      "I0000 00:00:1730661455.072394      17 task_runner.cc:85] GPU suport is not available: INTERNAL: ; RET_CHECK failure (mediapipe/gpu/gl_context_egl.cc:77) display != EGL_NO_DISPLAYeglGetDisplay() returned error 0x300c\n",
      "W0000 00:00:1730661455.187783    2220 inference_feedback_manager.cc:114] Feedback manager requires a model with a single signature inference. Disabling support for feedback tensors.\n",
      "W0000 00:00:1730661455.225711    2222 inference_feedback_manager.cc:114] Feedback manager requires a model with a single signature inference. Disabling support for feedback tensors.\n"
     ]
    },
    {
     "name": "stdout",
     "output_type": "stream",
     "text": [
      "Calculating time: 1.4781758785247803\n",
      "Landmarks time: 1.4718222618103027\n",
      "Check_landmarks time: 0.0003135204315185547\n",
      "Fragment: 265 from 610, mode: 'train'\n"
     ]
    },
    {
     "name": "stderr",
     "output_type": "stream",
     "text": [
      "I0000 00:00:1730661457.741382      17 task_runner.cc:85] GPU suport is not available: INTERNAL: ; RET_CHECK failure (mediapipe/gpu/gl_context_egl.cc:77) display != EGL_NO_DISPLAYeglGetDisplay() returned error 0x300c\n",
      "W0000 00:00:1730661457.849174    2228 inference_feedback_manager.cc:114] Feedback manager requires a model with a single signature inference. Disabling support for feedback tensors.\n",
      "W0000 00:00:1730661457.874279    2227 inference_feedback_manager.cc:114] Feedback manager requires a model with a single signature inference. Disabling support for feedback tensors.\n"
     ]
    },
    {
     "name": "stdout",
     "output_type": "stream",
     "text": [
      "Calculating time: 1.3286385536193848\n",
      "Landmarks time: 1.3218767642974854\n",
      "Check_landmarks time: 0.0003256797790527344\n",
      "Fragment: 266 from 610, mode: 'train'\n"
     ]
    },
    {
     "name": "stderr",
     "output_type": "stream",
     "text": [
      "I0000 00:00:1730661459.704457      17 task_runner.cc:85] GPU suport is not available: INTERNAL: ; RET_CHECK failure (mediapipe/gpu/gl_context_egl.cc:77) display != EGL_NO_DISPLAYeglGetDisplay() returned error 0x300c\n",
      "W0000 00:00:1730661459.801635    2238 inference_feedback_manager.cc:114] Feedback manager requires a model with a single signature inference. Disabling support for feedback tensors.\n",
      "W0000 00:00:1730661459.825645    2238 inference_feedback_manager.cc:114] Feedback manager requires a model with a single signature inference. Disabling support for feedback tensors.\n"
     ]
    },
    {
     "name": "stdout",
     "output_type": "stream",
     "text": [
      "Calculating time: 1.419705867767334\n",
      "Landmarks time: 1.4123973846435547\n",
      "Check_landmarks time: 0.0013680458068847656\n",
      "Fragment: 267 from 610, mode: 'train'\n"
     ]
    },
    {
     "name": "stderr",
     "output_type": "stream",
     "text": [
      "I0000 00:00:1730661461.833501      17 task_runner.cc:85] GPU suport is not available: INTERNAL: ; RET_CHECK failure (mediapipe/gpu/gl_context_egl.cc:77) display != EGL_NO_DISPLAYeglGetDisplay() returned error 0x300c\n",
      "W0000 00:00:1730661461.930675    2243 inference_feedback_manager.cc:114] Feedback manager requires a model with a single signature inference. Disabling support for feedback tensors.\n",
      "W0000 00:00:1730661461.963637    2244 inference_feedback_manager.cc:114] Feedback manager requires a model with a single signature inference. Disabling support for feedback tensors.\n"
     ]
    },
    {
     "name": "stdout",
     "output_type": "stream",
     "text": [
      "Calculating time: 1.4001383781433105\n",
      "Landmarks time: 1.3932836055755615\n",
      "Check_landmarks time: 0.0003032684326171875\n",
      "Fragment: 268 from 610, mode: 'train'\n"
     ]
    },
    {
     "name": "stderr",
     "output_type": "stream",
     "text": [
      "I0000 00:00:1730661464.264481      17 task_runner.cc:85] GPU suport is not available: INTERNAL: ; RET_CHECK failure (mediapipe/gpu/gl_context_egl.cc:77) display != EGL_NO_DISPLAYeglGetDisplay() returned error 0x300c\n",
      "W0000 00:00:1730661464.372909    2252 inference_feedback_manager.cc:114] Feedback manager requires a model with a single signature inference. Disabling support for feedback tensors.\n",
      "W0000 00:00:1730661464.397873    2253 inference_feedback_manager.cc:114] Feedback manager requires a model with a single signature inference. Disabling support for feedback tensors.\n"
     ]
    },
    {
     "name": "stdout",
     "output_type": "stream",
     "text": [
      "Calculating time: 1.3235032558441162\n",
      "Landmarks time: 1.3169023990631104\n",
      "Check_landmarks time: 0.0002951622009277344\n",
      "Fragment: 269 from 610, mode: 'train'\n"
     ]
    },
    {
     "name": "stderr",
     "output_type": "stream",
     "text": [
      "I0000 00:00:1730661466.942115      17 task_runner.cc:85] GPU suport is not available: INTERNAL: ; RET_CHECK failure (mediapipe/gpu/gl_context_egl.cc:77) display != EGL_NO_DISPLAYeglGetDisplay() returned error 0x300c\n",
      "W0000 00:00:1730661467.051185    2261 inference_feedback_manager.cc:114] Feedback manager requires a model with a single signature inference. Disabling support for feedback tensors.\n",
      "W0000 00:00:1730661467.075815    2262 inference_feedback_manager.cc:114] Feedback manager requires a model with a single signature inference. Disabling support for feedback tensors.\n"
     ]
    },
    {
     "name": "stdout",
     "output_type": "stream",
     "text": [
      "Calculating time: 1.37674880027771\n",
      "Landmarks time: 1.3703300952911377\n",
      "Check_landmarks time: 0.00030112266540527344\n",
      "Fragment: 270 from 610, mode: 'train'\n"
     ]
    },
    {
     "name": "stderr",
     "output_type": "stream",
     "text": [
      "I0000 00:00:1730661469.225347      17 task_runner.cc:85] GPU suport is not available: INTERNAL: ; RET_CHECK failure (mediapipe/gpu/gl_context_egl.cc:77) display != EGL_NO_DISPLAYeglGetDisplay() returned error 0x300c\n",
      "W0000 00:00:1730661469.334152    2269 inference_feedback_manager.cc:114] Feedback manager requires a model with a single signature inference. Disabling support for feedback tensors.\n",
      "W0000 00:00:1730661469.359387    2267 inference_feedback_manager.cc:114] Feedback manager requires a model with a single signature inference. Disabling support for feedback tensors.\n"
     ]
    },
    {
     "name": "stdout",
     "output_type": "stream",
     "text": [
      "Calculating time: 1.3993935585021973\n",
      "Landmarks time: 1.3932769298553467\n",
      "Check_landmarks time: 0.00029778480529785156\n",
      "Fragment: 271 from 610, mode: 'train'\n"
     ]
    },
    {
     "name": "stderr",
     "output_type": "stream",
     "text": [
      "I0000 00:00:1730661471.435630      17 task_runner.cc:85] GPU suport is not available: INTERNAL: ; RET_CHECK failure (mediapipe/gpu/gl_context_egl.cc:77) display != EGL_NO_DISPLAYeglGetDisplay() returned error 0x300c\n",
      "W0000 00:00:1730661471.544728    2277 inference_feedback_manager.cc:114] Feedback manager requires a model with a single signature inference. Disabling support for feedback tensors.\n",
      "W0000 00:00:1730661471.569706    2278 inference_feedback_manager.cc:114] Feedback manager requires a model with a single signature inference. Disabling support for feedback tensors.\n"
     ]
    },
    {
     "name": "stdout",
     "output_type": "stream",
     "text": [
      "Calculating time: 1.3386468887329102\n",
      "Landmarks time: 1.3313798904418945\n",
      "Check_landmarks time: 0.00028133392333984375\n",
      "Fragment: 272 from 610, mode: 'train'\n"
     ]
    },
    {
     "name": "stderr",
     "output_type": "stream",
     "text": [
      "I0000 00:00:1730661473.691423      17 task_runner.cc:85] GPU suport is not available: INTERNAL: ; RET_CHECK failure (mediapipe/gpu/gl_context_egl.cc:77) display != EGL_NO_DISPLAYeglGetDisplay() returned error 0x300c\n",
      "W0000 00:00:1730661473.789286    2283 inference_feedback_manager.cc:114] Feedback manager requires a model with a single signature inference. Disabling support for feedback tensors.\n",
      "W0000 00:00:1730661473.820920    2286 inference_feedback_manager.cc:114] Feedback manager requires a model with a single signature inference. Disabling support for feedback tensors.\n"
     ]
    },
    {
     "name": "stdout",
     "output_type": "stream",
     "text": [
      "Calculating time: 1.387878179550171\n",
      "Landmarks time: 1.3819079399108887\n",
      "Check_landmarks time: 0.0003085136413574219\n",
      "Fragment: 273 from 610, mode: 'train'\n"
     ]
    },
    {
     "name": "stderr",
     "output_type": "stream",
     "text": [
      "I0000 00:00:1730661475.771119      17 task_runner.cc:85] GPU suport is not available: INTERNAL: ; RET_CHECK failure (mediapipe/gpu/gl_context_egl.cc:77) display != EGL_NO_DISPLAYeglGetDisplay() returned error 0x300c\n",
      "W0000 00:00:1730661475.880129    2293 inference_feedback_manager.cc:114] Feedback manager requires a model with a single signature inference. Disabling support for feedback tensors.\n",
      "W0000 00:00:1730661475.905136    2294 inference_feedback_manager.cc:114] Feedback manager requires a model with a single signature inference. Disabling support for feedback tensors.\n"
     ]
    },
    {
     "name": "stdout",
     "output_type": "stream",
     "text": [
      "Calculating time: 1.39375638961792\n",
      "Landmarks time: 1.386453628540039\n",
      "Check_landmarks time: 0.00029659271240234375\n",
      "Fragment: 274 from 610, mode: 'train'\n"
     ]
    },
    {
     "name": "stderr",
     "output_type": "stream",
     "text": [
      "I0000 00:00:1730661477.846922      17 task_runner.cc:85] GPU suport is not available: INTERNAL: ; RET_CHECK failure (mediapipe/gpu/gl_context_egl.cc:77) display != EGL_NO_DISPLAYeglGetDisplay() returned error 0x300c\n",
      "W0000 00:00:1730661477.944908    2301 inference_feedback_manager.cc:114] Feedback manager requires a model with a single signature inference. Disabling support for feedback tensors.\n",
      "W0000 00:00:1730661477.969604    2302 inference_feedback_manager.cc:114] Feedback manager requires a model with a single signature inference. Disabling support for feedback tensors.\n"
     ]
    },
    {
     "name": "stdout",
     "output_type": "stream",
     "text": [
      "Calculating time: 1.3422095775604248\n",
      "Landmarks time: 1.3349287509918213\n",
      "Check_landmarks time: 0.0009381771087646484\n",
      "Fragment: 275 from 610, mode: 'train'\n"
     ]
    },
    {
     "name": "stderr",
     "output_type": "stream",
     "text": [
      "I0000 00:00:1730661480.201372      17 task_runner.cc:85] GPU suport is not available: INTERNAL: ; RET_CHECK failure (mediapipe/gpu/gl_context_egl.cc:77) display != EGL_NO_DISPLAYeglGetDisplay() returned error 0x300c\n",
      "W0000 00:00:1730661480.309855    2310 inference_feedback_manager.cc:114] Feedback manager requires a model with a single signature inference. Disabling support for feedback tensors.\n",
      "W0000 00:00:1730661480.343953    2310 inference_feedback_manager.cc:114] Feedback manager requires a model with a single signature inference. Disabling support for feedback tensors.\n"
     ]
    },
    {
     "name": "stdout",
     "output_type": "stream",
     "text": [
      "Calculating time: 1.5128538608551025\n",
      "Landmarks time: 1.503732681274414\n",
      "Check_landmarks time: 0.002811431884765625\n",
      "Fragment: 276 from 610, mode: 'train'\n"
     ]
    },
    {
     "name": "stderr",
     "output_type": "stream",
     "text": [
      "I0000 00:00:1730661483.074163      17 task_runner.cc:85] GPU suport is not available: INTERNAL: ; RET_CHECK failure (mediapipe/gpu/gl_context_egl.cc:77) display != EGL_NO_DISPLAYeglGetDisplay() returned error 0x300c\n",
      "W0000 00:00:1730661483.172797    2316 inference_feedback_manager.cc:114] Feedback manager requires a model with a single signature inference. Disabling support for feedback tensors.\n",
      "W0000 00:00:1730661483.197747    2316 inference_feedback_manager.cc:114] Feedback manager requires a model with a single signature inference. Disabling support for feedback tensors.\n"
     ]
    },
    {
     "name": "stdout",
     "output_type": "stream",
     "text": [
      "Calculating time: 1.4672033786773682\n",
      "Landmarks time: 1.457956314086914\n",
      "Check_landmarks time: 0.0026862621307373047\n",
      "Fragment: 277 from 610, mode: 'train'\n"
     ]
    },
    {
     "name": "stderr",
     "output_type": "stream",
     "text": [
      "I0000 00:00:1730661486.191972      17 task_runner.cc:85] GPU suport is not available: INTERNAL: ; RET_CHECK failure (mediapipe/gpu/gl_context_egl.cc:77) display != EGL_NO_DISPLAYeglGetDisplay() returned error 0x300c\n",
      "W0000 00:00:1730661486.290817    2326 inference_feedback_manager.cc:114] Feedback manager requires a model with a single signature inference. Disabling support for feedback tensors.\n",
      "W0000 00:00:1730661486.315361    2326 inference_feedback_manager.cc:114] Feedback manager requires a model with a single signature inference. Disabling support for feedback tensors.\n"
     ]
    },
    {
     "name": "stdout",
     "output_type": "stream",
     "text": [
      "Calculating time: 1.4242823123931885\n",
      "Landmarks time: 1.4167344570159912\n",
      "Check_landmarks time: 0.0009760856628417969\n",
      "Fragment: 278 from 610, mode: 'train'\n"
     ]
    },
    {
     "name": "stderr",
     "output_type": "stream",
     "text": [
      "I0000 00:00:1730661489.677378      17 task_runner.cc:85] GPU suport is not available: INTERNAL: ; RET_CHECK failure (mediapipe/gpu/gl_context_egl.cc:77) display != EGL_NO_DISPLAYeglGetDisplay() returned error 0x300c\n",
      "W0000 00:00:1730661489.776132    2334 inference_feedback_manager.cc:114] Feedback manager requires a model with a single signature inference. Disabling support for feedback tensors.\n",
      "W0000 00:00:1730661489.801135    2331 inference_feedback_manager.cc:114] Feedback manager requires a model with a single signature inference. Disabling support for feedback tensors.\n"
     ]
    },
    {
     "name": "stdout",
     "output_type": "stream",
     "text": [
      "Calculating time: 1.380735158920288\n",
      "Landmarks time: 1.374436855316162\n",
      "Check_landmarks time: 0.00029087066650390625\n",
      "Fragment: 279 from 610, mode: 'train'\n"
     ]
    },
    {
     "name": "stderr",
     "output_type": "stream",
     "text": [
      "I0000 00:00:1730661491.717499      17 task_runner.cc:85] GPU suport is not available: INTERNAL: ; RET_CHECK failure (mediapipe/gpu/gl_context_egl.cc:77) display != EGL_NO_DISPLAYeglGetDisplay() returned error 0x300c\n",
      "W0000 00:00:1730661491.815884    2342 inference_feedback_manager.cc:114] Feedback manager requires a model with a single signature inference. Disabling support for feedback tensors.\n",
      "W0000 00:00:1730661491.847278    2340 inference_feedback_manager.cc:114] Feedback manager requires a model with a single signature inference. Disabling support for feedback tensors.\n"
     ]
    },
    {
     "name": "stdout",
     "output_type": "stream",
     "text": [
      "Calculating time: 1.3997933864593506\n",
      "Landmarks time: 1.3932454586029053\n",
      "Check_landmarks time: 0.0002894401550292969\n",
      "Fragment: 280 from 610, mode: 'train'\n"
     ]
    },
    {
     "name": "stderr",
     "output_type": "stream",
     "text": [
      "I0000 00:00:1730661494.099867      17 task_runner.cc:85] GPU suport is not available: INTERNAL: ; RET_CHECK failure (mediapipe/gpu/gl_context_egl.cc:77) display != EGL_NO_DISPLAYeglGetDisplay() returned error 0x300c\n",
      "W0000 00:00:1730661494.210533    2347 inference_feedback_manager.cc:114] Feedback manager requires a model with a single signature inference. Disabling support for feedback tensors.\n",
      "W0000 00:00:1730661494.242949    2347 inference_feedback_manager.cc:114] Feedback manager requires a model with a single signature inference. Disabling support for feedback tensors.\n"
     ]
    },
    {
     "name": "stdout",
     "output_type": "stream",
     "text": [
      "Calculating time: 1.3424170017242432\n",
      "Landmarks time: 1.3358392715454102\n",
      "Check_landmarks time: 0.0002827644348144531\n",
      "Fragment: 281 from 610, mode: 'train'\n"
     ]
    },
    {
     "name": "stderr",
     "output_type": "stream",
     "text": [
      "I0000 00:00:1730661496.132488      17 task_runner.cc:85] GPU suport is not available: INTERNAL: ; RET_CHECK failure (mediapipe/gpu/gl_context_egl.cc:77) display != EGL_NO_DISPLAYeglGetDisplay() returned error 0x300c\n",
      "W0000 00:00:1730661496.241580    2357 inference_feedback_manager.cc:114] Feedback manager requires a model with a single signature inference. Disabling support for feedback tensors.\n",
      "W0000 00:00:1730661496.272703    2357 inference_feedback_manager.cc:114] Feedback manager requires a model with a single signature inference. Disabling support for feedback tensors.\n"
     ]
    },
    {
     "name": "stdout",
     "output_type": "stream",
     "text": [
      "Calculating time: 1.3915703296661377\n",
      "Landmarks time: 1.3849668502807617\n",
      "Check_landmarks time: 0.00029969215393066406\n",
      "Fragment: 282 from 610, mode: 'train'\n"
     ]
    },
    {
     "name": "stderr",
     "output_type": "stream",
     "text": [
      "I0000 00:00:1730661498.551014      17 task_runner.cc:85] GPU suport is not available: INTERNAL: ; RET_CHECK failure (mediapipe/gpu/gl_context_egl.cc:77) display != EGL_NO_DISPLAYeglGetDisplay() returned error 0x300c\n",
      "W0000 00:00:1730661498.659330    2364 inference_feedback_manager.cc:114] Feedback manager requires a model with a single signature inference. Disabling support for feedback tensors.\n",
      "W0000 00:00:1730661498.683767    2366 inference_feedback_manager.cc:114] Feedback manager requires a model with a single signature inference. Disabling support for feedback tensors.\n"
     ]
    },
    {
     "name": "stdout",
     "output_type": "stream",
     "text": [
      "Calculating time: 1.3917567729949951\n",
      "Landmarks time: 1.38553786277771\n",
      "Check_landmarks time: 0.0002868175506591797\n",
      "Fragment: 283 from 610, mode: 'train'\n"
     ]
    },
    {
     "name": "stderr",
     "output_type": "stream",
     "text": [
      "I0000 00:00:1730661501.320234      17 task_runner.cc:85] GPU suport is not available: INTERNAL: ; RET_CHECK failure (mediapipe/gpu/gl_context_egl.cc:77) display != EGL_NO_DISPLAYeglGetDisplay() returned error 0x300c\n",
      "W0000 00:00:1730661501.417560    2371 inference_feedback_manager.cc:114] Feedback manager requires a model with a single signature inference. Disabling support for feedback tensors.\n",
      "W0000 00:00:1730661501.449474    2373 inference_feedback_manager.cc:114] Feedback manager requires a model with a single signature inference. Disabling support for feedback tensors.\n"
     ]
    },
    {
     "name": "stdout",
     "output_type": "stream",
     "text": [
      "Calculating time: 1.3718173503875732\n",
      "Landmarks time: 1.3637433052062988\n",
      "Check_landmarks time: 0.0012500286102294922\n",
      "Fragment: 284 from 610, mode: 'train'\n"
     ]
    },
    {
     "name": "stderr",
     "output_type": "stream",
     "text": [
      "I0000 00:00:1730661503.699865      17 task_runner.cc:85] GPU suport is not available: INTERNAL: ; RET_CHECK failure (mediapipe/gpu/gl_context_egl.cc:77) display != EGL_NO_DISPLAYeglGetDisplay() returned error 0x300c\n",
      "W0000 00:00:1730661503.809087    2380 inference_feedback_manager.cc:114] Feedback manager requires a model with a single signature inference. Disabling support for feedback tensors.\n",
      "W0000 00:00:1730661503.833689    2382 inference_feedback_manager.cc:114] Feedback manager requires a model with a single signature inference. Disabling support for feedback tensors.\n"
     ]
    },
    {
     "name": "stdout",
     "output_type": "stream",
     "text": [
      "Calculating time: 1.3912937641143799\n",
      "Landmarks time: 1.3848168849945068\n",
      "Check_landmarks time: 0.0002911090850830078\n",
      "Fragment: 285 from 610, mode: 'train'\n"
     ]
    },
    {
     "name": "stderr",
     "output_type": "stream",
     "text": [
      "I0000 00:00:1730661506.396380      17 task_runner.cc:85] GPU suport is not available: INTERNAL: ; RET_CHECK failure (mediapipe/gpu/gl_context_egl.cc:77) display != EGL_NO_DISPLAYeglGetDisplay() returned error 0x300c\n",
      "W0000 00:00:1730661506.505356    2390 inference_feedback_manager.cc:114] Feedback manager requires a model with a single signature inference. Disabling support for feedback tensors.\n",
      "W0000 00:00:1730661506.537629    2389 inference_feedback_manager.cc:114] Feedback manager requires a model with a single signature inference. Disabling support for feedback tensors.\n"
     ]
    },
    {
     "name": "stdout",
     "output_type": "stream",
     "text": [
      "Calculating time: 1.3865435123443604\n",
      "Landmarks time: 1.379751205444336\n",
      "Check_landmarks time: 0.0002887248992919922\n",
      "Fragment: 286 from 610, mode: 'train'\n"
     ]
    },
    {
     "name": "stderr",
     "output_type": "stream",
     "text": [
      "I0000 00:00:1730661508.585460      17 task_runner.cc:85] GPU suport is not available: INTERNAL: ; RET_CHECK failure (mediapipe/gpu/gl_context_egl.cc:77) display != EGL_NO_DISPLAYeglGetDisplay() returned error 0x300c\n",
      "W0000 00:00:1730661508.693767    2397 inference_feedback_manager.cc:114] Feedback manager requires a model with a single signature inference. Disabling support for feedback tensors.\n",
      "W0000 00:00:1730661508.725122    2397 inference_feedback_manager.cc:114] Feedback manager requires a model with a single signature inference. Disabling support for feedback tensors.\n"
     ]
    },
    {
     "name": "stdout",
     "output_type": "stream",
     "text": [
      "Calculating time: 1.3407649993896484\n",
      "Landmarks time: 1.3344216346740723\n",
      "Check_landmarks time: 0.00028133392333984375\n",
      "Fragment: 287 from 610, mode: 'train'\n"
     ]
    },
    {
     "name": "stderr",
     "output_type": "stream",
     "text": [
      "I0000 00:00:1730661511.075370      17 task_runner.cc:85] GPU suport is not available: INTERNAL: ; RET_CHECK failure (mediapipe/gpu/gl_context_egl.cc:77) display != EGL_NO_DISPLAYeglGetDisplay() returned error 0x300c\n",
      "W0000 00:00:1730661511.173216    2405 inference_feedback_manager.cc:114] Feedback manager requires a model with a single signature inference. Disabling support for feedback tensors.\n",
      "W0000 00:00:1730661511.198377    2404 inference_feedback_manager.cc:114] Feedback manager requires a model with a single signature inference. Disabling support for feedback tensors.\n"
     ]
    },
    {
     "name": "stdout",
     "output_type": "stream",
     "text": [
      "Calculating time: 1.405317783355713\n",
      "Landmarks time: 1.3965752124786377\n",
      "Check_landmarks time: 0.002642393112182617\n",
      "Fragment: 288 from 610, mode: 'train'\n"
     ]
    },
    {
     "name": "stderr",
     "output_type": "stream",
     "text": [
      "I0000 00:00:1730661513.222562      17 task_runner.cc:85] GPU suport is not available: INTERNAL: ; RET_CHECK failure (mediapipe/gpu/gl_context_egl.cc:77) display != EGL_NO_DISPLAYeglGetDisplay() returned error 0x300c\n",
      "W0000 00:00:1730661513.328413    2412 inference_feedback_manager.cc:114] Feedback manager requires a model with a single signature inference. Disabling support for feedback tensors.\n",
      "W0000 00:00:1730661513.357157    2412 inference_feedback_manager.cc:114] Feedback manager requires a model with a single signature inference. Disabling support for feedback tensors.\n"
     ]
    },
    {
     "name": "stdout",
     "output_type": "stream",
     "text": [
      "Calculating time: 1.3980176448822021\n",
      "Landmarks time: 1.3915574550628662\n",
      "Check_landmarks time: 0.0003764629364013672\n",
      "Fragment: 289 from 610, mode: 'train'\n"
     ]
    },
    {
     "name": "stderr",
     "output_type": "stream",
     "text": [
      "I0000 00:00:1730661515.300438      17 task_runner.cc:85] GPU suport is not available: INTERNAL: ; RET_CHECK failure (mediapipe/gpu/gl_context_egl.cc:77) display != EGL_NO_DISPLAYeglGetDisplay() returned error 0x300c\n",
      "W0000 00:00:1730661515.403185    2419 inference_feedback_manager.cc:114] Feedback manager requires a model with a single signature inference. Disabling support for feedback tensors.\n",
      "W0000 00:00:1730661515.431916    2422 inference_feedback_manager.cc:114] Feedback manager requires a model with a single signature inference. Disabling support for feedback tensors.\n"
     ]
    },
    {
     "name": "stdout",
     "output_type": "stream",
     "text": [
      "Calculating time: 1.3401241302490234\n",
      "Landmarks time: 1.3327584266662598\n",
      "Check_landmarks time: 0.00030231475830078125\n",
      "Fragment: 290 from 610, mode: 'train'\n"
     ]
    },
    {
     "name": "stderr",
     "output_type": "stream",
     "text": [
      "I0000 00:00:1730661517.657540      17 task_runner.cc:85] GPU suport is not available: INTERNAL: ; RET_CHECK failure (mediapipe/gpu/gl_context_egl.cc:77) display != EGL_NO_DISPLAYeglGetDisplay() returned error 0x300c\n",
      "W0000 00:00:1730661517.755557    2429 inference_feedback_manager.cc:114] Feedback manager requires a model with a single signature inference. Disabling support for feedback tensors.\n",
      "W0000 00:00:1730661517.780209    2430 inference_feedback_manager.cc:114] Feedback manager requires a model with a single signature inference. Disabling support for feedback tensors.\n"
     ]
    },
    {
     "name": "stdout",
     "output_type": "stream",
     "text": [
      "Calculating time: 1.4190247058868408\n",
      "Landmarks time: 1.4125549793243408\n",
      "Check_landmarks time: 0.0002906322479248047\n",
      "Fragment: 291 from 610, mode: 'train'\n"
     ]
    },
    {
     "name": "stderr",
     "output_type": "stream",
     "text": [
      "I0000 00:00:1730661520.677814      17 task_runner.cc:85] GPU suport is not available: INTERNAL: ; RET_CHECK failure (mediapipe/gpu/gl_context_egl.cc:77) display != EGL_NO_DISPLAYeglGetDisplay() returned error 0x300c\n",
      "W0000 00:00:1730661520.796611    2437 inference_feedback_manager.cc:114] Feedback manager requires a model with a single signature inference. Disabling support for feedback tensors.\n",
      "W0000 00:00:1730661520.836225    2437 inference_feedback_manager.cc:114] Feedback manager requires a model with a single signature inference. Disabling support for feedback tensors.\n"
     ]
    },
    {
     "name": "stdout",
     "output_type": "stream",
     "text": [
      "Calculating time: 1.407008409500122\n",
      "Landmarks time: 1.3995792865753174\n",
      "Check_landmarks time: 0.00031757354736328125\n",
      "Fragment: 292 from 610, mode: 'train'\n"
     ]
    },
    {
     "name": "stderr",
     "output_type": "stream",
     "text": [
      "I0000 00:00:1730661522.711090      17 task_runner.cc:85] GPU suport is not available: INTERNAL: ; RET_CHECK failure (mediapipe/gpu/gl_context_egl.cc:77) display != EGL_NO_DISPLAYeglGetDisplay() returned error 0x300c\n",
      "W0000 00:00:1730661522.823629    2443 inference_feedback_manager.cc:114] Feedback manager requires a model with a single signature inference. Disabling support for feedback tensors.\n",
      "W0000 00:00:1730661522.855038    2444 inference_feedback_manager.cc:114] Feedback manager requires a model with a single signature inference. Disabling support for feedback tensors.\n"
     ]
    },
    {
     "name": "stdout",
     "output_type": "stream",
     "text": [
      "Calculating time: 1.3275117874145508\n",
      "Landmarks time: 1.3198935985565186\n",
      "Check_landmarks time: 0.00029087066650390625\n",
      "Fragment: 293 from 610, mode: 'train'\n"
     ]
    },
    {
     "name": "stderr",
     "output_type": "stream",
     "text": [
      "I0000 00:00:1730661524.729754      17 task_runner.cc:85] GPU suport is not available: INTERNAL: ; RET_CHECK failure (mediapipe/gpu/gl_context_egl.cc:77) display != EGL_NO_DISPLAYeglGetDisplay() returned error 0x300c\n",
      "W0000 00:00:1730661524.827202    2452 inference_feedback_manager.cc:114] Feedback manager requires a model with a single signature inference. Disabling support for feedback tensors.\n",
      "W0000 00:00:1730661524.851413    2452 inference_feedback_manager.cc:114] Feedback manager requires a model with a single signature inference. Disabling support for feedback tensors.\n"
     ]
    },
    {
     "name": "stdout",
     "output_type": "stream",
     "text": [
      "Calculating time: 1.3674612045288086\n",
      "Landmarks time: 1.36104154586792\n",
      "Check_landmarks time: 0.0002932548522949219\n",
      "Fragment: 294 from 610, mode: 'train'\n"
     ]
    },
    {
     "name": "stderr",
     "output_type": "stream",
     "text": [
      "I0000 00:00:1730661527.135977      17 task_runner.cc:85] GPU suport is not available: INTERNAL: ; RET_CHECK failure (mediapipe/gpu/gl_context_egl.cc:77) display != EGL_NO_DISPLAYeglGetDisplay() returned error 0x300c\n",
      "W0000 00:00:1730661527.234055    2462 inference_feedback_manager.cc:114] Feedback manager requires a model with a single signature inference. Disabling support for feedback tensors.\n",
      "W0000 00:00:1730661527.261709    2462 inference_feedback_manager.cc:114] Feedback manager requires a model with a single signature inference. Disabling support for feedback tensors.\n"
     ]
    },
    {
     "name": "stdout",
     "output_type": "stream",
     "text": [
      "Calculating time: 1.375762701034546\n",
      "Landmarks time: 1.3690154552459717\n",
      "Check_landmarks time: 0.00029277801513671875\n",
      "Fragment: 295 from 610, mode: 'train'\n"
     ]
    },
    {
     "name": "stderr",
     "output_type": "stream",
     "text": [
      "I0000 00:00:1730661529.305320      17 task_runner.cc:85] GPU suport is not available: INTERNAL: ; RET_CHECK failure (mediapipe/gpu/gl_context_egl.cc:77) display != EGL_NO_DISPLAYeglGetDisplay() returned error 0x300c\n",
      "W0000 00:00:1730661529.403530    2469 inference_feedback_manager.cc:114] Feedback manager requires a model with a single signature inference. Disabling support for feedback tensors.\n",
      "W0000 00:00:1730661529.428136    2468 inference_feedback_manager.cc:114] Feedback manager requires a model with a single signature inference. Disabling support for feedback tensors.\n"
     ]
    },
    {
     "name": "stdout",
     "output_type": "stream",
     "text": [
      "Calculating time: 1.3174383640289307\n",
      "Landmarks time: 1.309922456741333\n",
      "Check_landmarks time: 0.0008349418640136719\n",
      "Fragment: 296 from 610, mode: 'train'\n"
     ]
    },
    {
     "name": "stderr",
     "output_type": "stream",
     "text": [
      "I0000 00:00:1730661531.503475      17 task_runner.cc:85] GPU suport is not available: INTERNAL: ; RET_CHECK failure (mediapipe/gpu/gl_context_egl.cc:77) display != EGL_NO_DISPLAYeglGetDisplay() returned error 0x300c\n",
      "W0000 00:00:1730661531.623176    2478 inference_feedback_manager.cc:114] Feedback manager requires a model with a single signature inference. Disabling support for feedback tensors.\n",
      "W0000 00:00:1730661531.661685    2478 inference_feedback_manager.cc:114] Feedback manager requires a model with a single signature inference. Disabling support for feedback tensors.\n"
     ]
    },
    {
     "name": "stdout",
     "output_type": "stream",
     "text": [
      "Calculating time: 1.503915786743164\n",
      "Landmarks time: 1.4954586029052734\n",
      "Check_landmarks time: 0.0023953914642333984\n",
      "Fragment: 297 from 610, mode: 'train'\n"
     ]
    },
    {
     "name": "stderr",
     "output_type": "stream",
     "text": [
      "I0000 00:00:1730661533.703733      17 task_runner.cc:85] GPU suport is not available: INTERNAL: ; RET_CHECK failure (mediapipe/gpu/gl_context_egl.cc:77) display != EGL_NO_DISPLAYeglGetDisplay() returned error 0x300c\n",
      "W0000 00:00:1730661533.807030    2485 inference_feedback_manager.cc:114] Feedback manager requires a model with a single signature inference. Disabling support for feedback tensors.\n",
      "W0000 00:00:1730661533.831596    2485 inference_feedback_manager.cc:114] Feedback manager requires a model with a single signature inference. Disabling support for feedback tensors.\n"
     ]
    },
    {
     "name": "stdout",
     "output_type": "stream",
     "text": [
      "Calculating time: 1.3879330158233643\n",
      "Landmarks time: 1.3810019493103027\n",
      "Check_landmarks time: 0.00029754638671875\n",
      "Fragment: 298 from 610, mode: 'train'\n"
     ]
    },
    {
     "name": "stderr",
     "output_type": "stream",
     "text": [
      "I0000 00:00:1730661536.120529      17 task_runner.cc:85] GPU suport is not available: INTERNAL: ; RET_CHECK failure (mediapipe/gpu/gl_context_egl.cc:77) display != EGL_NO_DISPLAYeglGetDisplay() returned error 0x300c\n",
      "W0000 00:00:1730661536.229184    2493 inference_feedback_manager.cc:114] Feedback manager requires a model with a single signature inference. Disabling support for feedback tensors.\n",
      "W0000 00:00:1730661536.260969    2493 inference_feedback_manager.cc:114] Feedback manager requires a model with a single signature inference. Disabling support for feedback tensors.\n"
     ]
    },
    {
     "name": "stdout",
     "output_type": "stream",
     "text": [
      "Calculating time: 1.3316371440887451\n",
      "Landmarks time: 1.3248214721679688\n",
      "Check_landmarks time: 0.0003094673156738281\n",
      "Fragment: 299 from 610, mode: 'train'\n"
     ]
    },
    {
     "name": "stderr",
     "output_type": "stream",
     "text": [
      "I0000 00:00:1730661538.371111      17 task_runner.cc:85] GPU suport is not available: INTERNAL: ; RET_CHECK failure (mediapipe/gpu/gl_context_egl.cc:77) display != EGL_NO_DISPLAYeglGetDisplay() returned error 0x300c\n",
      "W0000 00:00:1730661538.469587    2501 inference_feedback_manager.cc:114] Feedback manager requires a model with a single signature inference. Disabling support for feedback tensors.\n",
      "W0000 00:00:1730661538.494151    2501 inference_feedback_manager.cc:114] Feedback manager requires a model with a single signature inference. Disabling support for feedback tensors.\n"
     ]
    },
    {
     "name": "stdout",
     "output_type": "stream",
     "text": [
      "Calculating time: 1.399958848953247\n",
      "Landmarks time: 1.392697811126709\n",
      "Check_landmarks time: 0.0009853839874267578\n",
      "Fragment: 300 from 610, mode: 'train'\n"
     ]
    },
    {
     "name": "stderr",
     "output_type": "stream",
     "text": [
      "I0000 00:00:1730661540.614056      17 task_runner.cc:85] GPU suport is not available: INTERNAL: ; RET_CHECK failure (mediapipe/gpu/gl_context_egl.cc:77) display != EGL_NO_DISPLAYeglGetDisplay() returned error 0x300c\n",
      "W0000 00:00:1730661540.711586    2507 inference_feedback_manager.cc:114] Feedback manager requires a model with a single signature inference. Disabling support for feedback tensors.\n",
      "W0000 00:00:1730661540.735911    2507 inference_feedback_manager.cc:114] Feedback manager requires a model with a single signature inference. Disabling support for feedback tensors.\n"
     ]
    },
    {
     "name": "stdout",
     "output_type": "stream",
     "text": [
      "Calculating time: 1.3817908763885498\n",
      "Landmarks time: 1.375394344329834\n",
      "Check_landmarks time: 0.00030159950256347656\n",
      "Fragment: 301 from 610, mode: 'train'\n"
     ]
    },
    {
     "name": "stderr",
     "output_type": "stream",
     "text": [
      "I0000 00:00:1730661543.219413      17 task_runner.cc:85] GPU suport is not available: INTERNAL: ; RET_CHECK failure (mediapipe/gpu/gl_context_egl.cc:77) display != EGL_NO_DISPLAYeglGetDisplay() returned error 0x300c\n",
      "W0000 00:00:1730661543.328021    2515 inference_feedback_manager.cc:114] Feedback manager requires a model with a single signature inference. Disabling support for feedback tensors.\n",
      "W0000 00:00:1730661543.359667    2515 inference_feedback_manager.cc:114] Feedback manager requires a model with a single signature inference. Disabling support for feedback tensors.\n"
     ]
    },
    {
     "name": "stdout",
     "output_type": "stream",
     "text": [
      "Calculating time: 1.3500802516937256\n",
      "Landmarks time: 1.3431830406188965\n",
      "Check_landmarks time: 0.0003447532653808594\n",
      "Fragment: 302 from 610, mode: 'train'\n"
     ]
    },
    {
     "name": "stderr",
     "output_type": "stream",
     "text": [
      "I0000 00:00:1730661545.425044      17 task_runner.cc:85] GPU suport is not available: INTERNAL: ; RET_CHECK failure (mediapipe/gpu/gl_context_egl.cc:77) display != EGL_NO_DISPLAYeglGetDisplay() returned error 0x300c\n",
      "W0000 00:00:1730661545.534208    2526 inference_feedback_manager.cc:114] Feedback manager requires a model with a single signature inference. Disabling support for feedback tensors.\n",
      "W0000 00:00:1730661545.568884    2526 inference_feedback_manager.cc:114] Feedback manager requires a model with a single signature inference. Disabling support for feedback tensors.\n"
     ]
    },
    {
     "name": "stdout",
     "output_type": "stream",
     "text": [
      "Calculating time: 1.4145076274871826\n",
      "Landmarks time: 1.407982587814331\n",
      "Check_landmarks time: 0.0002887248992919922\n",
      "Fragment: 303 from 610, mode: 'train'\n"
     ]
    },
    {
     "name": "stderr",
     "output_type": "stream",
     "text": [
      "I0000 00:00:1730661548.036460      17 task_runner.cc:85] GPU suport is not available: INTERNAL: ; RET_CHECK failure (mediapipe/gpu/gl_context_egl.cc:77) display != EGL_NO_DISPLAYeglGetDisplay() returned error 0x300c\n",
      "W0000 00:00:1730661548.134811    2532 inference_feedback_manager.cc:114] Feedback manager requires a model with a single signature inference. Disabling support for feedback tensors.\n",
      "W0000 00:00:1730661548.158777    2532 inference_feedback_manager.cc:114] Feedback manager requires a model with a single signature inference. Disabling support for feedback tensors.\n"
     ]
    },
    {
     "name": "stdout",
     "output_type": "stream",
     "text": [
      "Calculating time: 1.383359432220459\n",
      "Landmarks time: 1.3757531642913818\n",
      "Check_landmarks time: 0.0003094673156738281\n",
      "Fragment: 304 from 610, mode: 'train'\n"
     ]
    },
    {
     "name": "stderr",
     "output_type": "stream",
     "text": [
      "I0000 00:00:1730661550.961353      17 task_runner.cc:85] GPU suport is not available: INTERNAL: ; RET_CHECK failure (mediapipe/gpu/gl_context_egl.cc:77) display != EGL_NO_DISPLAYeglGetDisplay() returned error 0x300c\n",
      "W0000 00:00:1730661551.071125    2539 inference_feedback_manager.cc:114] Feedback manager requires a model with a single signature inference. Disabling support for feedback tensors.\n",
      "W0000 00:00:1730661551.106610    2541 inference_feedback_manager.cc:114] Feedback manager requires a model with a single signature inference. Disabling support for feedback tensors.\n"
     ]
    },
    {
     "name": "stdout",
     "output_type": "stream",
     "text": [
      "Calculating time: 1.4426424503326416\n",
      "Landmarks time: 1.434403657913208\n",
      "Check_landmarks time: 0.0010104179382324219\n",
      "Fragment: 305 from 610, mode: 'train'\n"
     ]
    },
    {
     "name": "stderr",
     "output_type": "stream",
     "text": [
      "I0000 00:00:1730661554.305787      17 task_runner.cc:85] GPU suport is not available: INTERNAL: ; RET_CHECK failure (mediapipe/gpu/gl_context_egl.cc:77) display != EGL_NO_DISPLAYeglGetDisplay() returned error 0x300c\n",
      "W0000 00:00:1730661554.403908    2549 inference_feedback_manager.cc:114] Feedback manager requires a model with a single signature inference. Disabling support for feedback tensors.\n",
      "W0000 00:00:1730661554.428337    2549 inference_feedback_manager.cc:114] Feedback manager requires a model with a single signature inference. Disabling support for feedback tensors.\n"
     ]
    },
    {
     "name": "stdout",
     "output_type": "stream",
     "text": [
      "Calculating time: 1.3930513858795166\n",
      "Landmarks time: 1.3866477012634277\n",
      "Check_landmarks time: 0.00030112266540527344\n",
      "Fragment: 306 from 610, mode: 'train'\n"
     ]
    },
    {
     "name": "stderr",
     "output_type": "stream",
     "text": [
      "I0000 00:00:1730661556.511812      17 task_runner.cc:85] GPU suport is not available: INTERNAL: ; RET_CHECK failure (mediapipe/gpu/gl_context_egl.cc:77) display != EGL_NO_DISPLAYeglGetDisplay() returned error 0x300c\n",
      "W0000 00:00:1730661556.610116    2557 inference_feedback_manager.cc:114] Feedback manager requires a model with a single signature inference. Disabling support for feedback tensors.\n",
      "W0000 00:00:1730661556.641747    2558 inference_feedback_manager.cc:114] Feedback manager requires a model with a single signature inference. Disabling support for feedback tensors.\n"
     ]
    },
    {
     "name": "stdout",
     "output_type": "stream",
     "text": [
      "Calculating time: 1.3816053867340088\n",
      "Landmarks time: 1.374868631362915\n",
      "Check_landmarks time: 0.0002911090850830078\n",
      "Fragment: 307 from 610, mode: 'train'\n"
     ]
    },
    {
     "name": "stderr",
     "output_type": "stream",
     "text": [
      "I0000 00:00:1730661559.056983      17 task_runner.cc:85] GPU suport is not available: INTERNAL: ; RET_CHECK failure (mediapipe/gpu/gl_context_egl.cc:77) display != EGL_NO_DISPLAYeglGetDisplay() returned error 0x300c\n",
      "W0000 00:00:1730661559.154732    2565 inference_feedback_manager.cc:114] Feedback manager requires a model with a single signature inference. Disabling support for feedback tensors.\n",
      "W0000 00:00:1730661559.186511    2566 inference_feedback_manager.cc:114] Feedback manager requires a model with a single signature inference. Disabling support for feedback tensors.\n"
     ]
    },
    {
     "name": "stdout",
     "output_type": "stream",
     "text": [
      "Calculating time: 1.3242168426513672\n",
      "Landmarks time: 1.317204475402832\n",
      "Check_landmarks time: 0.00029921531677246094\n",
      "Fragment: 308 from 610, mode: 'train'\n"
     ]
    },
    {
     "name": "stderr",
     "output_type": "stream",
     "text": [
      "I0000 00:00:1730661561.931584      17 task_runner.cc:85] GPU suport is not available: INTERNAL: ; RET_CHECK failure (mediapipe/gpu/gl_context_egl.cc:77) display != EGL_NO_DISPLAYeglGetDisplay() returned error 0x300c\n",
      "W0000 00:00:1730661562.041074    2574 inference_feedback_manager.cc:114] Feedback manager requires a model with a single signature inference. Disabling support for feedback tensors.\n",
      "W0000 00:00:1730661562.074974    2571 inference_feedback_manager.cc:114] Feedback manager requires a model with a single signature inference. Disabling support for feedback tensors.\n"
     ]
    },
    {
     "name": "stdout",
     "output_type": "stream",
     "text": [
      "Calculating time: 1.4256596565246582\n",
      "Landmarks time: 1.4193165302276611\n",
      "Check_landmarks time: 0.0002903938293457031\n",
      "Fragment: 309 from 610, mode: 'train'\n"
     ]
    },
    {
     "name": "stderr",
     "output_type": "stream",
     "text": [
      "I0000 00:00:1730661564.081507      17 task_runner.cc:85] GPU suport is not available: INTERNAL: ; RET_CHECK failure (mediapipe/gpu/gl_context_egl.cc:77) display != EGL_NO_DISPLAYeglGetDisplay() returned error 0x300c\n",
      "W0000 00:00:1730661564.180029    2582 inference_feedback_manager.cc:114] Feedback manager requires a model with a single signature inference. Disabling support for feedback tensors.\n",
      "W0000 00:00:1730661564.204709    2582 inference_feedback_manager.cc:114] Feedback manager requires a model with a single signature inference. Disabling support for feedback tensors.\n"
     ]
    },
    {
     "name": "stdout",
     "output_type": "stream",
     "text": [
      "Calculating time: 1.375774621963501\n",
      "Landmarks time: 1.3686842918395996\n",
      "Check_landmarks time: 0.0003094673156738281\n",
      "Fragment: 310 from 610, mode: 'train'\n"
     ]
    },
    {
     "name": "stderr",
     "output_type": "stream",
     "text": [
      "I0000 00:00:1730661566.521835      17 task_runner.cc:85] GPU suport is not available: INTERNAL: ; RET_CHECK failure (mediapipe/gpu/gl_context_egl.cc:77) display != EGL_NO_DISPLAYeglGetDisplay() returned error 0x300c\n",
      "W0000 00:00:1730661566.619627    2587 inference_feedback_manager.cc:114] Feedback manager requires a model with a single signature inference. Disabling support for feedback tensors.\n",
      "W0000 00:00:1730661566.643820    2587 inference_feedback_manager.cc:114] Feedback manager requires a model with a single signature inference. Disabling support for feedback tensors.\n"
     ]
    },
    {
     "name": "stdout",
     "output_type": "stream",
     "text": [
      "Calculating time: 1.319047212600708\n",
      "Landmarks time: 1.3122518062591553\n",
      "Check_landmarks time: 0.0002791881561279297\n",
      "Fragment: 311 from 610, mode: 'train'\n"
     ]
    },
    {
     "name": "stderr",
     "output_type": "stream",
     "text": [
      "I0000 00:00:1730661569.216043      17 task_runner.cc:85] GPU suport is not available: INTERNAL: ; RET_CHECK failure (mediapipe/gpu/gl_context_egl.cc:77) display != EGL_NO_DISPLAYeglGetDisplay() returned error 0x300c\n",
      "W0000 00:00:1730661569.314250    2597 inference_feedback_manager.cc:114] Feedback manager requires a model with a single signature inference. Disabling support for feedback tensors.\n",
      "W0000 00:00:1730661569.339094    2597 inference_feedback_manager.cc:114] Feedback manager requires a model with a single signature inference. Disabling support for feedback tensors.\n"
     ]
    },
    {
     "name": "stdout",
     "output_type": "stream",
     "text": [
      "Calculating time: 1.3937039375305176\n",
      "Landmarks time: 1.386580467224121\n",
      "Check_landmarks time: 0.0002884864807128906\n",
      "Fragment: 312 from 610, mode: 'train'\n"
     ]
    },
    {
     "name": "stderr",
     "output_type": "stream",
     "text": [
      "I0000 00:00:1730661571.498290      17 task_runner.cc:85] GPU suport is not available: INTERNAL: ; RET_CHECK failure (mediapipe/gpu/gl_context_egl.cc:77) display != EGL_NO_DISPLAYeglGetDisplay() returned error 0x300c\n",
      "W0000 00:00:1730661571.596257    2603 inference_feedback_manager.cc:114] Feedback manager requires a model with a single signature inference. Disabling support for feedback tensors.\n",
      "W0000 00:00:1730661571.629386    2605 inference_feedback_manager.cc:114] Feedback manager requires a model with a single signature inference. Disabling support for feedback tensors.\n"
     ]
    },
    {
     "name": "stdout",
     "output_type": "stream",
     "text": [
      "Calculating time: 1.4211359024047852\n",
      "Landmarks time: 1.4137792587280273\n",
      "Check_landmarks time: 0.00029349327087402344\n",
      "Fragment: 313 from 610, mode: 'train'\n"
     ]
    },
    {
     "name": "stderr",
     "output_type": "stream",
     "text": [
      "I0000 00:00:1730661573.769987      17 task_runner.cc:85] GPU suport is not available: INTERNAL: ; RET_CHECK failure (mediapipe/gpu/gl_context_egl.cc:77) display != EGL_NO_DISPLAYeglGetDisplay() returned error 0x300c\n",
      "W0000 00:00:1730661573.868879    2613 inference_feedback_manager.cc:114] Feedback manager requires a model with a single signature inference. Disabling support for feedback tensors.\n",
      "W0000 00:00:1730661573.893762    2613 inference_feedback_manager.cc:114] Feedback manager requires a model with a single signature inference. Disabling support for feedback tensors.\n"
     ]
    },
    {
     "name": "stdout",
     "output_type": "stream",
     "text": [
      "Calculating time: 1.3500969409942627\n",
      "Landmarks time: 1.3428339958190918\n",
      "Check_landmarks time: 0.000286102294921875\n",
      "Fragment: 314 from 610, mode: 'train'\n"
     ]
    },
    {
     "name": "stderr",
     "output_type": "stream",
     "text": [
      "I0000 00:00:1730661576.327514      17 task_runner.cc:85] GPU suport is not available: INTERNAL: ; RET_CHECK failure (mediapipe/gpu/gl_context_egl.cc:77) display != EGL_NO_DISPLAYeglGetDisplay() returned error 0x300c\n",
      "W0000 00:00:1730661576.437406    2622 inference_feedback_manager.cc:114] Feedback manager requires a model with a single signature inference. Disabling support for feedback tensors.\n",
      "W0000 00:00:1730661576.462259    2621 inference_feedback_manager.cc:114] Feedback manager requires a model with a single signature inference. Disabling support for feedback tensors.\n"
     ]
    },
    {
     "name": "stdout",
     "output_type": "stream",
     "text": [
      "Calculating time: 1.402496099472046\n",
      "Landmarks time: 1.3960421085357666\n",
      "Check_landmarks time: 0.0003006458282470703\n",
      "Fragment: 315 from 610, mode: 'train'\n"
     ]
    },
    {
     "name": "stderr",
     "output_type": "stream",
     "text": [
      "I0000 00:00:1730661579.261635      17 task_runner.cc:85] GPU suport is not available: INTERNAL: ; RET_CHECK failure (mediapipe/gpu/gl_context_egl.cc:77) display != EGL_NO_DISPLAYeglGetDisplay() returned error 0x300c\n",
      "W0000 00:00:1730661579.369896    2628 inference_feedback_manager.cc:114] Feedback manager requires a model with a single signature inference. Disabling support for feedback tensors.\n",
      "W0000 00:00:1730661579.401505    2628 inference_feedback_manager.cc:114] Feedback manager requires a model with a single signature inference. Disabling support for feedback tensors.\n"
     ]
    },
    {
     "name": "stdout",
     "output_type": "stream",
     "text": [
      "Calculating time: 1.4175684452056885\n",
      "Landmarks time: 1.4096384048461914\n",
      "Check_landmarks time: 0.0013020038604736328\n",
      "Fragment: 316 from 610, mode: 'train'\n"
     ]
    },
    {
     "name": "stderr",
     "output_type": "stream",
     "text": [
      "I0000 00:00:1730661581.578457      17 task_runner.cc:85] GPU suport is not available: INTERNAL: ; RET_CHECK failure (mediapipe/gpu/gl_context_egl.cc:77) display != EGL_NO_DISPLAYeglGetDisplay() returned error 0x300c\n",
      "W0000 00:00:1730661581.676455    2637 inference_feedback_manager.cc:114] Feedback manager requires a model with a single signature inference. Disabling support for feedback tensors.\n",
      "W0000 00:00:1730661581.708529    2635 inference_feedback_manager.cc:114] Feedback manager requires a model with a single signature inference. Disabling support for feedback tensors.\n"
     ]
    },
    {
     "name": "stdout",
     "output_type": "stream",
     "text": [
      "Calculating time: 1.2953221797943115\n",
      "Landmarks time: 1.286914587020874\n",
      "Check_landmarks time: 0.0015060901641845703\n",
      "Fragment: 317 from 610, mode: 'train'\n"
     ]
    },
    {
     "name": "stderr",
     "output_type": "stream",
     "text": [
      "I0000 00:00:1730661584.325854      17 task_runner.cc:85] GPU suport is not available: INTERNAL: ; RET_CHECK failure (mediapipe/gpu/gl_context_egl.cc:77) display != EGL_NO_DISPLAYeglGetDisplay() returned error 0x300c\n",
      "W0000 00:00:1730661584.424841    2645 inference_feedback_manager.cc:114] Feedback manager requires a model with a single signature inference. Disabling support for feedback tensors.\n",
      "W0000 00:00:1730661584.454304    2644 inference_feedback_manager.cc:114] Feedback manager requires a model with a single signature inference. Disabling support for feedback tensors.\n"
     ]
    },
    {
     "name": "stdout",
     "output_type": "stream",
     "text": [
      "Calculating time: 1.4191617965698242\n",
      "Landmarks time: 1.411695957183838\n",
      "Check_landmarks time: 0.0002942085266113281\n",
      "Fragment: 318 from 610, mode: 'train'\n"
     ]
    },
    {
     "name": "stderr",
     "output_type": "stream",
     "text": [
      "I0000 00:00:1730661587.261927      17 task_runner.cc:85] GPU suport is not available: INTERNAL: ; RET_CHECK failure (mediapipe/gpu/gl_context_egl.cc:77) display != EGL_NO_DISPLAYeglGetDisplay() returned error 0x300c\n",
      "W0000 00:00:1730661587.361407    2651 inference_feedback_manager.cc:114] Feedback manager requires a model with a single signature inference. Disabling support for feedback tensors.\n",
      "W0000 00:00:1730661587.394787    2652 inference_feedback_manager.cc:114] Feedback manager requires a model with a single signature inference. Disabling support for feedback tensors.\n"
     ]
    },
    {
     "name": "stdout",
     "output_type": "stream",
     "text": [
      "Calculating time: 1.3886210918426514\n",
      "Landmarks time: 1.381504774093628\n",
      "Check_landmarks time: 0.0003311634063720703\n",
      "Fragment: 319 from 610, mode: 'train'\n"
     ]
    },
    {
     "name": "stderr",
     "output_type": "stream",
     "text": [
      "I0000 00:00:1730661589.505939      17 task_runner.cc:85] GPU suport is not available: INTERNAL: ; RET_CHECK failure (mediapipe/gpu/gl_context_egl.cc:77) display != EGL_NO_DISPLAYeglGetDisplay() returned error 0x300c\n",
      "W0000 00:00:1730661589.603577    2662 inference_feedback_manager.cc:114] Feedback manager requires a model with a single signature inference. Disabling support for feedback tensors.\n",
      "W0000 00:00:1730661589.628364    2659 inference_feedback_manager.cc:114] Feedback manager requires a model with a single signature inference. Disabling support for feedback tensors.\n"
     ]
    },
    {
     "name": "stdout",
     "output_type": "stream",
     "text": [
      "Calculating time: 1.3294358253479004\n",
      "Landmarks time: 1.3224329948425293\n",
      "Check_landmarks time: 0.0003142356872558594\n",
      "Fragment: 320 from 610, mode: 'train'\n"
     ]
    },
    {
     "name": "stderr",
     "output_type": "stream",
     "text": [
      "I0000 00:00:1730661592.012177      17 task_runner.cc:85] GPU suport is not available: INTERNAL: ; RET_CHECK failure (mediapipe/gpu/gl_context_egl.cc:77) display != EGL_NO_DISPLAYeglGetDisplay() returned error 0x300c\n",
      "W0000 00:00:1730661592.122234    2669 inference_feedback_manager.cc:114] Feedback manager requires a model with a single signature inference. Disabling support for feedback tensors.\n",
      "W0000 00:00:1730661592.148003    2668 inference_feedback_manager.cc:114] Feedback manager requires a model with a single signature inference. Disabling support for feedback tensors.\n"
     ]
    },
    {
     "name": "stdout",
     "output_type": "stream",
     "text": [
      "Calculating time: 1.4520745277404785\n",
      "Landmarks time: 1.445525884628296\n",
      "Check_landmarks time: 0.0002932548522949219\n",
      "Fragment: 321 from 610, mode: 'train'\n"
     ]
    },
    {
     "name": "stderr",
     "output_type": "stream",
     "text": [
      "I0000 00:00:1730661594.396091      17 task_runner.cc:85] GPU suport is not available: INTERNAL: ; RET_CHECK failure (mediapipe/gpu/gl_context_egl.cc:77) display != EGL_NO_DISPLAYeglGetDisplay() returned error 0x300c\n",
      "W0000 00:00:1730661594.516829    2678 inference_feedback_manager.cc:114] Feedback manager requires a model with a single signature inference. Disabling support for feedback tensors.\n",
      "W0000 00:00:1730661594.546327    2677 inference_feedback_manager.cc:114] Feedback manager requires a model with a single signature inference. Disabling support for feedback tensors.\n"
     ]
    },
    {
     "name": "stdout",
     "output_type": "stream",
     "text": [
      "Calculating time: 1.4167547225952148\n",
      "Landmarks time: 1.4098010063171387\n",
      "Check_landmarks time: 0.00029087066650390625\n",
      "Fragment: 322 from 610, mode: 'train'\n"
     ]
    },
    {
     "name": "stderr",
     "output_type": "stream",
     "text": [
      "I0000 00:00:1730661596.515621      17 task_runner.cc:85] GPU suport is not available: INTERNAL: ; RET_CHECK failure (mediapipe/gpu/gl_context_egl.cc:77) display != EGL_NO_DISPLAYeglGetDisplay() returned error 0x300c\n",
      "W0000 00:00:1730661596.627031    2686 inference_feedback_manager.cc:114] Feedback manager requires a model with a single signature inference. Disabling support for feedback tensors.\n",
      "W0000 00:00:1730661596.673173    2684 inference_feedback_manager.cc:114] Feedback manager requires a model with a single signature inference. Disabling support for feedback tensors.\n"
     ]
    },
    {
     "name": "stdout",
     "output_type": "stream",
     "text": [
      "Calculating time: 1.3805773258209229\n",
      "Landmarks time: 1.3724255561828613\n",
      "Check_landmarks time: 0.0002777576446533203\n",
      "Fragment: 323 from 610, mode: 'train'\n"
     ]
    },
    {
     "name": "stderr",
     "output_type": "stream",
     "text": [
      "I0000 00:00:1730661598.909529      17 task_runner.cc:85] GPU suport is not available: INTERNAL: ; RET_CHECK failure (mediapipe/gpu/gl_context_egl.cc:77) display != EGL_NO_DISPLAYeglGetDisplay() returned error 0x300c\n",
      "W0000 00:00:1730661599.019696    2693 inference_feedback_manager.cc:114] Feedback manager requires a model with a single signature inference. Disabling support for feedback tensors.\n",
      "W0000 00:00:1730661599.054154    2693 inference_feedback_manager.cc:114] Feedback manager requires a model with a single signature inference. Disabling support for feedback tensors.\n"
     ]
    },
    {
     "name": "stdout",
     "output_type": "stream",
     "text": [
      "Calculating time: 1.4308669567108154\n",
      "Landmarks time: 1.424213171005249\n",
      "Check_landmarks time: 0.00030350685119628906\n",
      "Fragment: 324 from 610, mode: 'train'\n"
     ]
    },
    {
     "name": "stderr",
     "output_type": "stream",
     "text": [
      "I0000 00:00:1730661601.084566      17 task_runner.cc:85] GPU suport is not available: INTERNAL: ; RET_CHECK failure (mediapipe/gpu/gl_context_egl.cc:77) display != EGL_NO_DISPLAYeglGetDisplay() returned error 0x300c\n",
      "W0000 00:00:1730661601.183105    2700 inference_feedback_manager.cc:114] Feedback manager requires a model with a single signature inference. Disabling support for feedback tensors.\n",
      "W0000 00:00:1730661601.213804    2700 inference_feedback_manager.cc:114] Feedback manager requires a model with a single signature inference. Disabling support for feedback tensors.\n"
     ]
    },
    {
     "name": "stdout",
     "output_type": "stream",
     "text": [
      "Calculating time: 1.389676570892334\n",
      "Landmarks time: 1.382575511932373\n",
      "Check_landmarks time: 0.00028967857360839844\n",
      "Fragment: 325 from 610, mode: 'train'\n"
     ]
    },
    {
     "name": "stderr",
     "output_type": "stream",
     "text": [
      "I0000 00:00:1730661603.532608      17 task_runner.cc:85] GPU suport is not available: INTERNAL: ; RET_CHECK failure (mediapipe/gpu/gl_context_egl.cc:77) display != EGL_NO_DISPLAYeglGetDisplay() returned error 0x300c\n",
      "W0000 00:00:1730661603.641972    2708 inference_feedback_manager.cc:114] Feedback manager requires a model with a single signature inference. Disabling support for feedback tensors.\n",
      "W0000 00:00:1730661603.666920    2707 inference_feedback_manager.cc:114] Feedback manager requires a model with a single signature inference. Disabling support for feedback tensors.\n"
     ]
    },
    {
     "name": "stdout",
     "output_type": "stream",
     "text": [
      "Calculating time: 1.3419342041015625\n",
      "Landmarks time: 1.3350157737731934\n",
      "Check_landmarks time: 0.0002799034118652344\n",
      "Fragment: 326 from 610, mode: 'train'\n"
     ]
    },
    {
     "name": "stderr",
     "output_type": "stream",
     "text": [
      "I0000 00:00:1730661606.245067      17 task_runner.cc:85] GPU suport is not available: INTERNAL: ; RET_CHECK failure (mediapipe/gpu/gl_context_egl.cc:77) display != EGL_NO_DISPLAYeglGetDisplay() returned error 0x300c\n",
      "W0000 00:00:1730661606.354388    2715 inference_feedback_manager.cc:114] Feedback manager requires a model with a single signature inference. Disabling support for feedback tensors.\n",
      "W0000 00:00:1730661606.391855    2716 inference_feedback_manager.cc:114] Feedback manager requires a model with a single signature inference. Disabling support for feedback tensors.\n"
     ]
    },
    {
     "name": "stdout",
     "output_type": "stream",
     "text": [
      "Calculating time: 1.4265835285186768\n",
      "Landmarks time: 1.419154167175293\n",
      "Check_landmarks time: 0.0010006427764892578\n",
      "Fragment: 327 from 610, mode: 'train'\n"
     ]
    },
    {
     "name": "stderr",
     "output_type": "stream",
     "text": [
      "I0000 00:00:1730661608.526639      17 task_runner.cc:85] GPU suport is not available: INTERNAL: ; RET_CHECK failure (mediapipe/gpu/gl_context_egl.cc:77) display != EGL_NO_DISPLAYeglGetDisplay() returned error 0x300c\n",
      "W0000 00:00:1730661608.636354    2725 inference_feedback_manager.cc:114] Feedback manager requires a model with a single signature inference. Disabling support for feedback tensors.\n",
      "W0000 00:00:1730661608.668193    2725 inference_feedback_manager.cc:114] Feedback manager requires a model with a single signature inference. Disabling support for feedback tensors.\n"
     ]
    },
    {
     "name": "stdout",
     "output_type": "stream",
     "text": [
      "Calculating time: 1.4835283756256104\n",
      "Landmarks time: 1.4741923809051514\n",
      "Check_landmarks time: 0.0023775100708007812\n",
      "Fragment: 328 from 610, mode: 'train'\n"
     ]
    },
    {
     "name": "stderr",
     "output_type": "stream",
     "text": [
      "I0000 00:00:1730661610.866259      17 task_runner.cc:85] GPU suport is not available: INTERNAL: ; RET_CHECK failure (mediapipe/gpu/gl_context_egl.cc:77) display != EGL_NO_DISPLAYeglGetDisplay() returned error 0x300c\n",
      "W0000 00:00:1730661610.976149    2733 inference_feedback_manager.cc:114] Feedback manager requires a model with a single signature inference. Disabling support for feedback tensors.\n",
      "W0000 00:00:1730661611.008217    2733 inference_feedback_manager.cc:114] Feedback manager requires a model with a single signature inference. Disabling support for feedback tensors.\n"
     ]
    },
    {
     "name": "stdout",
     "output_type": "stream",
     "text": [
      "Calculating time: 1.3839826583862305\n",
      "Landmarks time: 1.375218391418457\n",
      "Check_landmarks time: 0.0018544197082519531\n",
      "Fragment: 329 from 610, mode: 'train'\n"
     ]
    },
    {
     "name": "stderr",
     "output_type": "stream",
     "text": [
      "I0000 00:00:1730661613.418691      17 task_runner.cc:85] GPU suport is not available: INTERNAL: ; RET_CHECK failure (mediapipe/gpu/gl_context_egl.cc:77) display != EGL_NO_DISPLAYeglGetDisplay() returned error 0x300c\n",
      "W0000 00:00:1730661613.528577    2739 inference_feedback_manager.cc:114] Feedback manager requires a model with a single signature inference. Disabling support for feedback tensors.\n",
      "W0000 00:00:1730661613.565175    2739 inference_feedback_manager.cc:114] Feedback manager requires a model with a single signature inference. Disabling support for feedback tensors.\n"
     ]
    },
    {
     "name": "stdout",
     "output_type": "stream",
     "text": [
      "Calculating time: 1.4445445537567139\n",
      "Landmarks time: 1.4371588230133057\n",
      "Check_landmarks time: 0.0009741783142089844\n",
      "Fragment: 330 from 610, mode: 'train'\n"
     ]
    },
    {
     "name": "stderr",
     "output_type": "stream",
     "text": [
      "I0000 00:00:1730661616.523662      17 task_runner.cc:85] GPU suport is not available: INTERNAL: ; RET_CHECK failure (mediapipe/gpu/gl_context_egl.cc:77) display != EGL_NO_DISPLAYeglGetDisplay() returned error 0x300c\n",
      "W0000 00:00:1730661616.622819    2747 inference_feedback_manager.cc:114] Feedback manager requires a model with a single signature inference. Disabling support for feedback tensors.\n",
      "W0000 00:00:1730661616.658633    2748 inference_feedback_manager.cc:114] Feedback manager requires a model with a single signature inference. Disabling support for feedback tensors.\n"
     ]
    },
    {
     "name": "stdout",
     "output_type": "stream",
     "text": [
      "Calculating time: 1.4956088066101074\n",
      "Landmarks time: 1.486022710800171\n",
      "Check_landmarks time: 0.0016829967498779297\n",
      "Fragment: 331 from 610, mode: 'train'\n"
     ]
    },
    {
     "name": "stderr",
     "output_type": "stream",
     "text": [
      "I0000 00:00:1730661619.817321      17 task_runner.cc:85] GPU suport is not available: INTERNAL: ; RET_CHECK failure (mediapipe/gpu/gl_context_egl.cc:77) display != EGL_NO_DISPLAYeglGetDisplay() returned error 0x300c\n",
      "W0000 00:00:1730661619.916928    2757 inference_feedback_manager.cc:114] Feedback manager requires a model with a single signature inference. Disabling support for feedback tensors.\n",
      "W0000 00:00:1730661619.949921    2756 inference_feedback_manager.cc:114] Feedback manager requires a model with a single signature inference. Disabling support for feedback tensors.\n"
     ]
    },
    {
     "name": "stdout",
     "output_type": "stream",
     "text": [
      "Calculating time: 1.4028689861297607\n",
      "Landmarks time: 1.3941373825073242\n",
      "Check_landmarks time: 0.0018329620361328125\n",
      "Fragment: 332 from 610, mode: 'train'\n"
     ]
    },
    {
     "name": "stderr",
     "output_type": "stream",
     "text": [
      "I0000 00:00:1730661623.395750      17 task_runner.cc:85] GPU suport is not available: INTERNAL: ; RET_CHECK failure (mediapipe/gpu/gl_context_egl.cc:77) display != EGL_NO_DISPLAYeglGetDisplay() returned error 0x300c\n",
      "W0000 00:00:1730661623.505200    2765 inference_feedback_manager.cc:114] Feedback manager requires a model with a single signature inference. Disabling support for feedback tensors.\n",
      "W0000 00:00:1730661623.530146    2766 inference_feedback_manager.cc:114] Feedback manager requires a model with a single signature inference. Disabling support for feedback tensors.\n"
     ]
    },
    {
     "name": "stdout",
     "output_type": "stream",
     "text": [
      "Calculating time: 1.4059336185455322\n",
      "Landmarks time: 1.399057149887085\n",
      "Check_landmarks time: 0.00029015541076660156\n",
      "Fragment: 333 from 610, mode: 'train'\n"
     ]
    },
    {
     "name": "stderr",
     "output_type": "stream",
     "text": [
      "I0000 00:00:1730661625.701449      17 task_runner.cc:85] GPU suport is not available: INTERNAL: ; RET_CHECK failure (mediapipe/gpu/gl_context_egl.cc:77) display != EGL_NO_DISPLAYeglGetDisplay() returned error 0x300c\n",
      "W0000 00:00:1730661625.799990    2774 inference_feedback_manager.cc:114] Feedback manager requires a model with a single signature inference. Disabling support for feedback tensors.\n",
      "W0000 00:00:1730661625.824649    2774 inference_feedback_manager.cc:114] Feedback manager requires a model with a single signature inference. Disabling support for feedback tensors.\n"
     ]
    },
    {
     "name": "stdout",
     "output_type": "stream",
     "text": [
      "Calculating time: 1.3921453952789307\n",
      "Landmarks time: 1.3854970932006836\n",
      "Check_landmarks time: 0.000293731689453125\n",
      "Fragment: 334 from 610, mode: 'train'\n"
     ]
    },
    {
     "name": "stderr",
     "output_type": "stream",
     "text": [
      "I0000 00:00:1730661627.797557      17 task_runner.cc:85] GPU suport is not available: INTERNAL: ; RET_CHECK failure (mediapipe/gpu/gl_context_egl.cc:77) display != EGL_NO_DISPLAYeglGetDisplay() returned error 0x300c\n",
      "W0000 00:00:1730661627.895152    2782 inference_feedback_manager.cc:114] Feedback manager requires a model with a single signature inference. Disabling support for feedback tensors.\n",
      "W0000 00:00:1730661627.928062    2779 inference_feedback_manager.cc:114] Feedback manager requires a model with a single signature inference. Disabling support for feedback tensors.\n"
     ]
    },
    {
     "name": "stdout",
     "output_type": "stream",
     "text": [
      "Calculating time: 1.3341126441955566\n",
      "Landmarks time: 1.3272130489349365\n",
      "Check_landmarks time: 0.00027871131896972656\n",
      "Fragment: 335 from 610, mode: 'train'\n"
     ]
    },
    {
     "name": "stderr",
     "output_type": "stream",
     "text": [
      "I0000 00:00:1730661629.880378      17 task_runner.cc:85] GPU suport is not available: INTERNAL: ; RET_CHECK failure (mediapipe/gpu/gl_context_egl.cc:77) display != EGL_NO_DISPLAYeglGetDisplay() returned error 0x300c\n",
      "W0000 00:00:1730661629.979324    2789 inference_feedback_manager.cc:114] Feedback manager requires a model with a single signature inference. Disabling support for feedback tensors.\n",
      "W0000 00:00:1730661630.004239    2789 inference_feedback_manager.cc:114] Feedback manager requires a model with a single signature inference. Disabling support for feedback tensors.\n"
     ]
    },
    {
     "name": "stdout",
     "output_type": "stream",
     "text": [
      "Calculating time: 1.4123315811157227\n",
      "Landmarks time: 1.4054126739501953\n",
      "Check_landmarks time: 0.0009756088256835938\n",
      "Fragment: 336 from 610, mode: 'train'\n"
     ]
    },
    {
     "name": "stderr",
     "output_type": "stream",
     "text": [
      "I0000 00:00:1730661632.376672      17 task_runner.cc:85] GPU suport is not available: INTERNAL: ; RET_CHECK failure (mediapipe/gpu/gl_context_egl.cc:77) display != EGL_NO_DISPLAYeglGetDisplay() returned error 0x300c\n",
      "W0000 00:00:1730661632.475424    2796 inference_feedback_manager.cc:114] Feedback manager requires a model with a single signature inference. Disabling support for feedback tensors.\n",
      "W0000 00:00:1730661632.506982    2796 inference_feedback_manager.cc:114] Feedback manager requires a model with a single signature inference. Disabling support for feedback tensors.\n"
     ]
    },
    {
     "name": "stdout",
     "output_type": "stream",
     "text": [
      "Calculating time: 1.4550185203552246\n",
      "Landmarks time: 1.4470272064208984\n",
      "Check_landmarks time: 0.0014526844024658203\n",
      "Fragment: 337 from 610, mode: 'train'\n"
     ]
    },
    {
     "name": "stderr",
     "output_type": "stream",
     "text": [
      "I0000 00:00:1730661634.685204      17 task_runner.cc:85] GPU suport is not available: INTERNAL: ; RET_CHECK failure (mediapipe/gpu/gl_context_egl.cc:77) display != EGL_NO_DISPLAYeglGetDisplay() returned error 0x300c\n",
      "W0000 00:00:1730661634.783695    2804 inference_feedback_manager.cc:114] Feedback manager requires a model with a single signature inference. Disabling support for feedback tensors.\n",
      "W0000 00:00:1730661634.808803    2804 inference_feedback_manager.cc:114] Feedback manager requires a model with a single signature inference. Disabling support for feedback tensors.\n"
     ]
    },
    {
     "name": "stdout",
     "output_type": "stream",
     "text": [
      "Calculating time: 1.3237006664276123\n",
      "Landmarks time: 1.3166627883911133\n",
      "Check_landmarks time: 0.0002884864807128906\n",
      "Fragment: 338 from 610, mode: 'train'\n"
     ]
    },
    {
     "name": "stderr",
     "output_type": "stream",
     "text": [
      "I0000 00:00:1730661637.204067      17 task_runner.cc:85] GPU suport is not available: INTERNAL: ; RET_CHECK failure (mediapipe/gpu/gl_context_egl.cc:77) display != EGL_NO_DISPLAYeglGetDisplay() returned error 0x300c\n",
      "W0000 00:00:1730661637.314159    2813 inference_feedback_manager.cc:114] Feedback manager requires a model with a single signature inference. Disabling support for feedback tensors.\n",
      "W0000 00:00:1730661637.338903    2814 inference_feedback_manager.cc:114] Feedback manager requires a model with a single signature inference. Disabling support for feedback tensors.\n"
     ]
    },
    {
     "name": "stdout",
     "output_type": "stream",
     "text": [
      "Calculating time: 1.3966455459594727\n",
      "Landmarks time: 1.3903214931488037\n",
      "Check_landmarks time: 0.00032067298889160156\n",
      "Fragment: 339 from 610, mode: 'train'\n"
     ]
    },
    {
     "name": "stderr",
     "output_type": "stream",
     "text": [
      "I0000 00:00:1730661639.483415      17 task_runner.cc:85] GPU suport is not available: INTERNAL: ; RET_CHECK failure (mediapipe/gpu/gl_context_egl.cc:77) display != EGL_NO_DISPLAYeglGetDisplay() returned error 0x300c\n",
      "W0000 00:00:1730661639.591942    2822 inference_feedback_manager.cc:114] Feedback manager requires a model with a single signature inference. Disabling support for feedback tensors.\n",
      "W0000 00:00:1730661639.623914    2822 inference_feedback_manager.cc:114] Feedback manager requires a model with a single signature inference. Disabling support for feedback tensors.\n"
     ]
    },
    {
     "name": "stdout",
     "output_type": "stream",
     "text": [
      "Calculating time: 1.4102435111999512\n",
      "Landmarks time: 1.403212070465088\n",
      "Check_landmarks time: 0.00029778480529785156\n",
      "Fragment: 340 from 610, mode: 'train'\n"
     ]
    },
    {
     "name": "stderr",
     "output_type": "stream",
     "text": [
      "I0000 00:00:1730661642.126526      17 task_runner.cc:85] GPU suport is not available: INTERNAL: ; RET_CHECK failure (mediapipe/gpu/gl_context_egl.cc:77) display != EGL_NO_DISPLAYeglGetDisplay() returned error 0x300c\n",
      "W0000 00:00:1730661642.235746    2830 inference_feedback_manager.cc:114] Feedback manager requires a model with a single signature inference. Disabling support for feedback tensors.\n",
      "W0000 00:00:1730661642.260707    2829 inference_feedback_manager.cc:114] Feedback manager requires a model with a single signature inference. Disabling support for feedback tensors.\n"
     ]
    },
    {
     "name": "stdout",
     "output_type": "stream",
     "text": [
      "Calculating time: 1.35923171043396\n",
      "Landmarks time: 1.352522611618042\n",
      "Check_landmarks time: 0.000278472900390625\n",
      "Fragment: 341 from 610, mode: 'train'\n"
     ]
    },
    {
     "name": "stderr",
     "output_type": "stream",
     "text": [
      "I0000 00:00:1730661645.002372      17 task_runner.cc:85] GPU suport is not available: INTERNAL: ; RET_CHECK failure (mediapipe/gpu/gl_context_egl.cc:77) display != EGL_NO_DISPLAYeglGetDisplay() returned error 0x300c\n",
      "W0000 00:00:1730661645.111471    2835 inference_feedback_manager.cc:114] Feedback manager requires a model with a single signature inference. Disabling support for feedback tensors.\n",
      "W0000 00:00:1730661645.143253    2837 inference_feedback_manager.cc:114] Feedback manager requires a model with a single signature inference. Disabling support for feedback tensors.\n"
     ]
    },
    {
     "name": "stdout",
     "output_type": "stream",
     "text": [
      "Calculating time: 1.4039373397827148\n",
      "Landmarks time: 1.3973848819732666\n",
      "Check_landmarks time: 0.0002980232238769531\n",
      "Fragment: 342 from 610, mode: 'train'\n"
     ]
    },
    {
     "name": "stderr",
     "output_type": "stream",
     "text": [
      "I0000 00:00:1730661648.389389      17 task_runner.cc:85] GPU suport is not available: INTERNAL: ; RET_CHECK failure (mediapipe/gpu/gl_context_egl.cc:77) display != EGL_NO_DISPLAYeglGetDisplay() returned error 0x300c\n",
      "W0000 00:00:1730661648.499037    2846 inference_feedback_manager.cc:114] Feedback manager requires a model with a single signature inference. Disabling support for feedback tensors.\n",
      "W0000 00:00:1730661648.529094    2844 inference_feedback_manager.cc:114] Feedback manager requires a model with a single signature inference. Disabling support for feedback tensors.\n"
     ]
    },
    {
     "name": "stdout",
     "output_type": "stream",
     "text": [
      "Calculating time: 1.468735694885254\n",
      "Landmarks time: 1.4619574546813965\n",
      "Check_landmarks time: 0.0003528594970703125\n",
      "Fragment: 343 from 610, mode: 'train'\n"
     ]
    },
    {
     "name": "stderr",
     "output_type": "stream",
     "text": [
      "I0000 00:00:1730661652.062081      17 task_runner.cc:85] GPU suport is not available: INTERNAL: ; RET_CHECK failure (mediapipe/gpu/gl_context_egl.cc:77) display != EGL_NO_DISPLAYeglGetDisplay() returned error 0x300c\n",
      "W0000 00:00:1730661652.170948    2854 inference_feedback_manager.cc:114] Feedback manager requires a model with a single signature inference. Disabling support for feedback tensors.\n",
      "W0000 00:00:1730661652.202798    2854 inference_feedback_manager.cc:114] Feedback manager requires a model with a single signature inference. Disabling support for feedback tensors.\n"
     ]
    },
    {
     "name": "stdout",
     "output_type": "stream",
     "text": [
      "Calculating time: 1.3897576332092285\n",
      "Landmarks time: 1.3828766345977783\n",
      "Check_landmarks time: 0.00028395652770996094\n",
      "Fragment: 344 from 610, mode: 'train'\n"
     ]
    },
    {
     "name": "stderr",
     "output_type": "stream",
     "text": [
      "I0000 00:00:1730661654.301078      17 task_runner.cc:85] GPU suport is not available: INTERNAL: ; RET_CHECK failure (mediapipe/gpu/gl_context_egl.cc:77) display != EGL_NO_DISPLAYeglGetDisplay() returned error 0x300c\n",
      "W0000 00:00:1730661654.401009    2860 inference_feedback_manager.cc:114] Feedback manager requires a model with a single signature inference. Disabling support for feedback tensors.\n",
      "W0000 00:00:1730661654.433148    2861 inference_feedback_manager.cc:114] Feedback manager requires a model with a single signature inference. Disabling support for feedback tensors.\n"
     ]
    },
    {
     "name": "stdout",
     "output_type": "stream",
     "text": [
      "Calculating time: 1.4249916076660156\n",
      "Landmarks time: 1.418229579925537\n",
      "Check_landmarks time: 0.00031185150146484375\n",
      "Fragment: 345 from 610, mode: 'train'\n"
     ]
    },
    {
     "name": "stderr",
     "output_type": "stream",
     "text": [
      "I0000 00:00:1730661656.914212      17 task_runner.cc:85] GPU suport is not available: INTERNAL: ; RET_CHECK failure (mediapipe/gpu/gl_context_egl.cc:77) display != EGL_NO_DISPLAYeglGetDisplay() returned error 0x300c\n",
      "W0000 00:00:1730661657.012563    2870 inference_feedback_manager.cc:114] Feedback manager requires a model with a single signature inference. Disabling support for feedback tensors.\n",
      "W0000 00:00:1730661657.044727    2869 inference_feedback_manager.cc:114] Feedback manager requires a model with a single signature inference. Disabling support for feedback tensors.\n"
     ]
    },
    {
     "name": "stdout",
     "output_type": "stream",
     "text": [
      "Calculating time: 1.3947856426239014\n",
      "Landmarks time: 1.3879127502441406\n",
      "Check_landmarks time: 0.00029277801513671875\n",
      "Fragment: 346 from 610, mode: 'train'\n"
     ]
    },
    {
     "name": "stderr",
     "output_type": "stream",
     "text": [
      "I0000 00:00:1730661659.830676      17 task_runner.cc:85] GPU suport is not available: INTERNAL: ; RET_CHECK failure (mediapipe/gpu/gl_context_egl.cc:77) display != EGL_NO_DISPLAYeglGetDisplay() returned error 0x300c\n",
      "W0000 00:00:1730661659.929148    2877 inference_feedback_manager.cc:114] Feedback manager requires a model with a single signature inference. Disabling support for feedback tensors.\n",
      "W0000 00:00:1730661659.954094    2875 inference_feedback_manager.cc:114] Feedback manager requires a model with a single signature inference. Disabling support for feedback tensors.\n"
     ]
    },
    {
     "name": "stdout",
     "output_type": "stream",
     "text": [
      "Calculating time: 1.3267765045166016\n",
      "Landmarks time: 1.319823980331421\n",
      "Check_landmarks time: 0.0002868175506591797\n",
      "Fragment: 347 from 610, mode: 'train'\n"
     ]
    },
    {
     "name": "stderr",
     "output_type": "stream",
     "text": [
      "I0000 00:00:1730661663.031884      17 task_runner.cc:85] GPU suport is not available: INTERNAL: ; RET_CHECK failure (mediapipe/gpu/gl_context_egl.cc:77) display != EGL_NO_DISPLAYeglGetDisplay() returned error 0x300c\n",
      "W0000 00:00:1730661663.141387    2886 inference_feedback_manager.cc:114] Feedback manager requires a model with a single signature inference. Disabling support for feedback tensors.\n",
      "W0000 00:00:1730661663.166396    2884 inference_feedback_manager.cc:114] Feedback manager requires a model with a single signature inference. Disabling support for feedback tensors.\n"
     ]
    },
    {
     "name": "stdout",
     "output_type": "stream",
     "text": [
      "Calculating time: 1.387470006942749\n",
      "Landmarks time: 1.3809256553649902\n",
      "Check_landmarks time: 0.00029015541076660156\n",
      "Fragment: 348 from 610, mode: 'train'\n"
     ]
    },
    {
     "name": "stderr",
     "output_type": "stream",
     "text": [
      "I0000 00:00:1730661666.538738      17 task_runner.cc:85] GPU suport is not available: INTERNAL: ; RET_CHECK failure (mediapipe/gpu/gl_context_egl.cc:77) display != EGL_NO_DISPLAYeglGetDisplay() returned error 0x300c\n",
      "W0000 00:00:1730661666.648135    2894 inference_feedback_manager.cc:114] Feedback manager requires a model with a single signature inference. Disabling support for feedback tensors.\n",
      "W0000 00:00:1730661666.680931    2894 inference_feedback_manager.cc:114] Feedback manager requires a model with a single signature inference. Disabling support for feedback tensors.\n"
     ]
    },
    {
     "name": "stdout",
     "output_type": "stream",
     "text": [
      "Calculating time: 1.3989150524139404\n",
      "Landmarks time: 1.3918142318725586\n",
      "Check_landmarks time: 0.00030112266540527344\n",
      "Fragment: 349 from 610, mode: 'train'\n"
     ]
    },
    {
     "name": "stderr",
     "output_type": "stream",
     "text": [
      "I0000 00:00:1730661668.629400      17 task_runner.cc:85] GPU suport is not available: INTERNAL: ; RET_CHECK failure (mediapipe/gpu/gl_context_egl.cc:77) display != EGL_NO_DISPLAYeglGetDisplay() returned error 0x300c\n",
      "W0000 00:00:1730661668.739033    2902 inference_feedback_manager.cc:114] Feedback manager requires a model with a single signature inference. Disabling support for feedback tensors.\n",
      "W0000 00:00:1730661668.772093    2902 inference_feedback_manager.cc:114] Feedback manager requires a model with a single signature inference. Disabling support for feedback tensors.\n"
     ]
    },
    {
     "name": "stdout",
     "output_type": "stream",
     "text": [
      "Calculating time: 1.254560947418213\n",
      "Landmarks time: 1.2460966110229492\n",
      "Check_landmarks time: 0.001316070556640625\n",
      "Fragment: 350 from 610, mode: 'train'\n"
     ]
    },
    {
     "name": "stderr",
     "output_type": "stream",
     "text": [
      "I0000 00:00:1730661670.104174      17 task_runner.cc:85] GPU suport is not available: INTERNAL: ; RET_CHECK failure (mediapipe/gpu/gl_context_egl.cc:77) display != EGL_NO_DISPLAYeglGetDisplay() returned error 0x300c\n",
      "W0000 00:00:1730661670.202260    2910 inference_feedback_manager.cc:114] Feedback manager requires a model with a single signature inference. Disabling support for feedback tensors.\n",
      "W0000 00:00:1730661670.227262    2908 inference_feedback_manager.cc:114] Feedback manager requires a model with a single signature inference. Disabling support for feedback tensors.\n"
     ]
    },
    {
     "name": "stdout",
     "output_type": "stream",
     "text": [
      "Calculating time: 1.2650487422943115\n",
      "Landmarks time: 1.2579584121704102\n",
      "Check_landmarks time: 0.0007903575897216797\n",
      "Fragment: 351 from 610, mode: 'train'\n"
     ]
    },
    {
     "name": "stderr",
     "output_type": "stream",
     "text": [
      "I0000 00:00:1730661671.650041      17 task_runner.cc:85] GPU suport is not available: INTERNAL: ; RET_CHECK failure (mediapipe/gpu/gl_context_egl.cc:77) display != EGL_NO_DISPLAYeglGetDisplay() returned error 0x300c\n",
      "W0000 00:00:1730661671.759119    2917 inference_feedback_manager.cc:114] Feedback manager requires a model with a single signature inference. Disabling support for feedback tensors.\n",
      "W0000 00:00:1730661671.790671    2917 inference_feedback_manager.cc:114] Feedback manager requires a model with a single signature inference. Disabling support for feedback tensors.\n"
     ]
    },
    {
     "name": "stdout",
     "output_type": "stream",
     "text": [
      "Calculating time: 1.2449557781219482\n",
      "Landmarks time: 1.24066162109375\n",
      "Check_landmarks time: 0.001007080078125\n",
      "Fragment: 352 from 610, mode: 'train'\n"
     ]
    },
    {
     "name": "stderr",
     "output_type": "stream",
     "text": [
      "I0000 00:00:1730661673.175184      17 task_runner.cc:85] GPU suport is not available: INTERNAL: ; RET_CHECK failure (mediapipe/gpu/gl_context_egl.cc:77) display != EGL_NO_DISPLAYeglGetDisplay() returned error 0x300c\n",
      "W0000 00:00:1730661673.272508    2926 inference_feedback_manager.cc:114] Feedback manager requires a model with a single signature inference. Disabling support for feedback tensors.\n",
      "W0000 00:00:1730661673.298903    2926 inference_feedback_manager.cc:114] Feedback manager requires a model with a single signature inference. Disabling support for feedback tensors.\n"
     ]
    },
    {
     "name": "stdout",
     "output_type": "stream",
     "text": [
      "Calculating time: 1.1950781345367432\n",
      "Landmarks time: 1.1917011737823486\n",
      "Check_landmarks time: 0.0002789497375488281\n",
      "Fragment: 353 from 610, mode: 'train'\n"
     ]
    },
    {
     "name": "stderr",
     "output_type": "stream",
     "text": [
      "I0000 00:00:1730661674.648755      17 task_runner.cc:85] GPU suport is not available: INTERNAL: ; RET_CHECK failure (mediapipe/gpu/gl_context_egl.cc:77) display != EGL_NO_DISPLAYeglGetDisplay() returned error 0x300c\n",
      "W0000 00:00:1730661674.747882    2933 inference_feedback_manager.cc:114] Feedback manager requires a model with a single signature inference. Disabling support for feedback tensors.\n",
      "W0000 00:00:1730661674.772658    2934 inference_feedback_manager.cc:114] Feedback manager requires a model with a single signature inference. Disabling support for feedback tensors.\n"
     ]
    },
    {
     "name": "stdout",
     "output_type": "stream",
     "text": [
      "Calculating time: 1.2358405590057373\n",
      "Landmarks time: 1.2323377132415771\n",
      "Check_landmarks time: 0.0002899169921875\n",
      "Fragment: 354 from 610, mode: 'train'\n"
     ]
    },
    {
     "name": "stderr",
     "output_type": "stream",
     "text": [
      "I0000 00:00:1730661676.167850      17 task_runner.cc:85] GPU suport is not available: INTERNAL: ; RET_CHECK failure (mediapipe/gpu/gl_context_egl.cc:77) display != EGL_NO_DISPLAYeglGetDisplay() returned error 0x300c\n",
      "W0000 00:00:1730661676.266585    2941 inference_feedback_manager.cc:114] Feedback manager requires a model with a single signature inference. Disabling support for feedback tensors.\n",
      "W0000 00:00:1730661676.291950    2939 inference_feedback_manager.cc:114] Feedback manager requires a model with a single signature inference. Disabling support for feedback tensors.\n"
     ]
    },
    {
     "name": "stdout",
     "output_type": "stream",
     "text": [
      "Calculating time: 1.2452030181884766\n",
      "Landmarks time: 1.2413926124572754\n",
      "Check_landmarks time: 0.00030732154846191406\n",
      "Fragment: 355 from 610, mode: 'train'\n"
     ]
    },
    {
     "name": "stderr",
     "output_type": "stream",
     "text": [
      "I0000 00:00:1730661677.691047      17 task_runner.cc:85] GPU suport is not available: INTERNAL: ; RET_CHECK failure (mediapipe/gpu/gl_context_egl.cc:77) display != EGL_NO_DISPLAYeglGetDisplay() returned error 0x300c\n",
      "W0000 00:00:1730661677.800256    2948 inference_feedback_manager.cc:114] Feedback manager requires a model with a single signature inference. Disabling support for feedback tensors.\n",
      "W0000 00:00:1730661677.825176    2950 inference_feedback_manager.cc:114] Feedback manager requires a model with a single signature inference. Disabling support for feedback tensors.\n"
     ]
    },
    {
     "name": "stdout",
     "output_type": "stream",
     "text": [
      "Calculating time: 1.244497537612915\n",
      "Landmarks time: 1.2409040927886963\n",
      "Check_landmarks time: 0.0002760887145996094\n",
      "Fragment: 356 from 610, mode: 'train'\n"
     ]
    },
    {
     "name": "stderr",
     "output_type": "stream",
     "text": [
      "I0000 00:00:1730661679.216208      17 task_runner.cc:85] GPU suport is not available: INTERNAL: ; RET_CHECK failure (mediapipe/gpu/gl_context_egl.cc:77) display != EGL_NO_DISPLAYeglGetDisplay() returned error 0x300c\n",
      "W0000 00:00:1730661679.334693    2955 inference_feedback_manager.cc:114] Feedback manager requires a model with a single signature inference. Disabling support for feedback tensors.\n",
      "W0000 00:00:1730661679.370464    2955 inference_feedback_manager.cc:114] Feedback manager requires a model with a single signature inference. Disabling support for feedback tensors.\n"
     ]
    },
    {
     "name": "stdout",
     "output_type": "stream",
     "text": [
      "Calculating time: 1.3252511024475098\n",
      "Landmarks time: 1.3217127323150635\n",
      "Check_landmarks time: 0.0003514289855957031\n",
      "Fragment: 357 from 610, mode: 'train'\n"
     ]
    },
    {
     "name": "stderr",
     "output_type": "stream",
     "text": [
      "I0000 00:00:1730661680.888241      17 task_runner.cc:85] GPU suport is not available: INTERNAL: ; RET_CHECK failure (mediapipe/gpu/gl_context_egl.cc:77) display != EGL_NO_DISPLAYeglGetDisplay() returned error 0x300c\n",
      "W0000 00:00:1730661680.992133    2965 inference_feedback_manager.cc:114] Feedback manager requires a model with a single signature inference. Disabling support for feedback tensors.\n",
      "W0000 00:00:1730661681.022204    2965 inference_feedback_manager.cc:114] Feedback manager requires a model with a single signature inference. Disabling support for feedback tensors.\n"
     ]
    },
    {
     "name": "stdout",
     "output_type": "stream",
     "text": [
      "Calculating time: 1.2825407981872559\n",
      "Landmarks time: 1.2779929637908936\n",
      "Check_landmarks time: 0.000308990478515625\n",
      "Fragment: 358 from 610, mode: 'train'\n"
     ]
    },
    {
     "name": "stderr",
     "output_type": "stream",
     "text": [
      "I0000 00:00:1730661682.439099      17 task_runner.cc:85] GPU suport is not available: INTERNAL: ; RET_CHECK failure (mediapipe/gpu/gl_context_egl.cc:77) display != EGL_NO_DISPLAYeglGetDisplay() returned error 0x300c\n",
      "W0000 00:00:1730661682.556979    2972 inference_feedback_manager.cc:114] Feedback manager requires a model with a single signature inference. Disabling support for feedback tensors.\n",
      "W0000 00:00:1730661682.582258    2973 inference_feedback_manager.cc:114] Feedback manager requires a model with a single signature inference. Disabling support for feedback tensors.\n"
     ]
    },
    {
     "name": "stdout",
     "output_type": "stream",
     "text": [
      "Calculating time: 1.2239282131195068\n",
      "Landmarks time: 1.2201416492462158\n",
      "Check_landmarks time: 0.0003046989440917969\n",
      "Fragment: 359 from 610, mode: 'train'\n"
     ]
    },
    {
     "name": "stderr",
     "output_type": "stream",
     "text": [
      "I0000 00:00:1730661683.937868      17 task_runner.cc:85] GPU suport is not available: INTERNAL: ; RET_CHECK failure (mediapipe/gpu/gl_context_egl.cc:77) display != EGL_NO_DISPLAYeglGetDisplay() returned error 0x300c\n",
      "W0000 00:00:1730661684.036359    2981 inference_feedback_manager.cc:114] Feedback manager requires a model with a single signature inference. Disabling support for feedback tensors.\n",
      "W0000 00:00:1730661684.061097    2980 inference_feedback_manager.cc:114] Feedback manager requires a model with a single signature inference. Disabling support for feedback tensors.\n"
     ]
    },
    {
     "name": "stdout",
     "output_type": "stream",
     "text": [
      "Calculating time: 1.2269866466522217\n",
      "Landmarks time: 1.2229394912719727\n",
      "Check_landmarks time: 0.0002994537353515625\n",
      "Fragment: 360 from 610, mode: 'train'\n"
     ]
    },
    {
     "name": "stderr",
     "output_type": "stream",
     "text": [
      "I0000 00:00:1730661685.449246      17 task_runner.cc:85] GPU suport is not available: INTERNAL: ; RET_CHECK failure (mediapipe/gpu/gl_context_egl.cc:77) display != EGL_NO_DISPLAYeglGetDisplay() returned error 0x300c\n",
      "W0000 00:00:1730661685.560152    2989 inference_feedback_manager.cc:114] Feedback manager requires a model with a single signature inference. Disabling support for feedback tensors.\n",
      "W0000 00:00:1730661685.585261    2990 inference_feedback_manager.cc:114] Feedback manager requires a model with a single signature inference. Disabling support for feedback tensors.\n"
     ]
    },
    {
     "name": "stdout",
     "output_type": "stream",
     "text": [
      "Calculating time: 1.2287132740020752\n",
      "Landmarks time: 1.224989891052246\n",
      "Check_landmarks time: 0.0003147125244140625\n",
      "Fragment: 361 from 610, mode: 'train'\n"
     ]
    },
    {
     "name": "stderr",
     "output_type": "stream",
     "text": [
      "I0000 00:00:1730661686.941444      17 task_runner.cc:85] GPU suport is not available: INTERNAL: ; RET_CHECK failure (mediapipe/gpu/gl_context_egl.cc:77) display != EGL_NO_DISPLAYeglGetDisplay() returned error 0x300c\n",
      "W0000 00:00:1730661687.050238    2997 inference_feedback_manager.cc:114] Feedback manager requires a model with a single signature inference. Disabling support for feedback tensors.\n",
      "W0000 00:00:1730661687.092445    2997 inference_feedback_manager.cc:114] Feedback manager requires a model with a single signature inference. Disabling support for feedback tensors.\n"
     ]
    },
    {
     "name": "stdout",
     "output_type": "stream",
     "text": [
      "Calculating time: 1.2116429805755615\n",
      "Landmarks time: 1.207775592803955\n",
      "Check_landmarks time: 0.000782012939453125\n",
      "Fragment: 362 from 610, mode: 'train'\n"
     ]
    },
    {
     "name": "stderr",
     "output_type": "stream",
     "text": [
      "I0000 00:00:1730661688.423993      17 task_runner.cc:85] GPU suport is not available: INTERNAL: ; RET_CHECK failure (mediapipe/gpu/gl_context_egl.cc:77) display != EGL_NO_DISPLAYeglGetDisplay() returned error 0x300c\n",
      "W0000 00:00:1730661688.539381    3005 inference_feedback_manager.cc:114] Feedback manager requires a model with a single signature inference. Disabling support for feedback tensors.\n",
      "W0000 00:00:1730661688.572318    3005 inference_feedback_manager.cc:114] Feedback manager requires a model with a single signature inference. Disabling support for feedback tensors.\n"
     ]
    },
    {
     "name": "stdout",
     "output_type": "stream",
     "text": [
      "Calculating time: 1.2696871757507324\n",
      "Landmarks time: 1.2661800384521484\n",
      "Check_landmarks time: 0.0003151893615722656\n",
      "Fragment: 363 from 610, mode: 'train'\n"
     ]
    },
    {
     "name": "stderr",
     "output_type": "stream",
     "text": [
      "I0000 00:00:1730661689.966764      17 task_runner.cc:85] GPU suport is not available: INTERNAL: ; RET_CHECK failure (mediapipe/gpu/gl_context_egl.cc:77) display != EGL_NO_DISPLAYeglGetDisplay() returned error 0x300c\n",
      "W0000 00:00:1730661690.076237    3011 inference_feedback_manager.cc:114] Feedback manager requires a model with a single signature inference. Disabling support for feedback tensors.\n",
      "W0000 00:00:1730661690.101214    3014 inference_feedback_manager.cc:114] Feedback manager requires a model with a single signature inference. Disabling support for feedback tensors.\n"
     ]
    },
    {
     "name": "stdout",
     "output_type": "stream",
     "text": [
      "Calculating time: 1.2601351737976074\n",
      "Landmarks time: 1.2558670043945312\n",
      "Check_landmarks time: 0.0006194114685058594\n",
      "Fragment: 364 from 610, mode: 'train'\n"
     ]
    },
    {
     "name": "stderr",
     "output_type": "stream",
     "text": [
      "I0000 00:00:1730661691.496484      17 task_runner.cc:85] GPU suport is not available: INTERNAL: ; RET_CHECK failure (mediapipe/gpu/gl_context_egl.cc:77) display != EGL_NO_DISPLAYeglGetDisplay() returned error 0x300c\n",
      "W0000 00:00:1730661691.596197    3021 inference_feedback_manager.cc:114] Feedback manager requires a model with a single signature inference. Disabling support for feedback tensors.\n",
      "W0000 00:00:1730661691.621349    3019 inference_feedback_manager.cc:114] Feedback manager requires a model with a single signature inference. Disabling support for feedback tensors.\n"
     ]
    },
    {
     "name": "stdout",
     "output_type": "stream",
     "text": [
      "Calculating time: 1.1809983253479004\n",
      "Landmarks time: 1.1774721145629883\n",
      "Check_landmarks time: 0.0002760887145996094\n",
      "Fragment: 365 from 610, mode: 'train'\n"
     ]
    },
    {
     "name": "stderr",
     "output_type": "stream",
     "text": [
      "I0000 00:00:1730661692.988538      17 task_runner.cc:85] GPU suport is not available: INTERNAL: ; RET_CHECK failure (mediapipe/gpu/gl_context_egl.cc:77) display != EGL_NO_DISPLAYeglGetDisplay() returned error 0x300c\n",
      "W0000 00:00:1730661693.086767    3028 inference_feedback_manager.cc:114] Feedback manager requires a model with a single signature inference. Disabling support for feedback tensors.\n",
      "W0000 00:00:1730661693.111717    3029 inference_feedback_manager.cc:114] Feedback manager requires a model with a single signature inference. Disabling support for feedback tensors.\n"
     ]
    },
    {
     "name": "stdout",
     "output_type": "stream",
     "text": [
      "Calculating time: 1.2378873825073242\n",
      "Landmarks time: 1.2343502044677734\n",
      "Check_landmarks time: 0.0006172657012939453\n",
      "Fragment: 366 from 610, mode: 'train'\n"
     ]
    },
    {
     "name": "stderr",
     "output_type": "stream",
     "text": [
      "I0000 00:00:1730661694.499828      17 task_runner.cc:85] GPU suport is not available: INTERNAL: ; RET_CHECK failure (mediapipe/gpu/gl_context_egl.cc:77) display != EGL_NO_DISPLAYeglGetDisplay() returned error 0x300c\n",
      "W0000 00:00:1730661694.599548    3036 inference_feedback_manager.cc:114] Feedback manager requires a model with a single signature inference. Disabling support for feedback tensors.\n",
      "W0000 00:00:1730661694.625065    3036 inference_feedback_manager.cc:114] Feedback manager requires a model with a single signature inference. Disabling support for feedback tensors.\n"
     ]
    },
    {
     "name": "stdout",
     "output_type": "stream",
     "text": [
      "Calculating time: 1.248215913772583\n",
      "Landmarks time: 1.2447254657745361\n",
      "Check_landmarks time: 0.0002884864807128906\n",
      "Fragment: 367 from 610, mode: 'train'\n"
     ]
    },
    {
     "name": "stderr",
     "output_type": "stream",
     "text": [
      "I0000 00:00:1730661696.023952      17 task_runner.cc:85] GPU suport is not available: INTERNAL: ; RET_CHECK failure (mediapipe/gpu/gl_context_egl.cc:77) display != EGL_NO_DISPLAYeglGetDisplay() returned error 0x300c\n",
      "W0000 00:00:1730661696.123503    3045 inference_feedback_manager.cc:114] Feedback manager requires a model with a single signature inference. Disabling support for feedback tensors.\n",
      "W0000 00:00:1730661696.148106    3046 inference_feedback_manager.cc:114] Feedback manager requires a model with a single signature inference. Disabling support for feedback tensors.\n"
     ]
    },
    {
     "name": "stdout",
     "output_type": "stream",
     "text": [
      "Calculating time: 1.1900615692138672\n",
      "Landmarks time: 1.1866710186004639\n",
      "Check_landmarks time: 0.0002815723419189453\n",
      "Fragment: 368 from 610, mode: 'train'\n"
     ]
    },
    {
     "name": "stderr",
     "output_type": "stream",
     "text": [
      "I0000 00:00:1730661697.496423      17 task_runner.cc:85] GPU suport is not available: INTERNAL: ; RET_CHECK failure (mediapipe/gpu/gl_context_egl.cc:77) display != EGL_NO_DISPLAYeglGetDisplay() returned error 0x300c\n",
      "W0000 00:00:1730661697.607094    3052 inference_feedback_manager.cc:114] Feedback manager requires a model with a single signature inference. Disabling support for feedback tensors.\n",
      "W0000 00:00:1730661697.638892    3052 inference_feedback_manager.cc:114] Feedback manager requires a model with a single signature inference. Disabling support for feedback tensors.\n"
     ]
    },
    {
     "name": "stdout",
     "output_type": "stream",
     "text": [
      "Calculating time: 1.2688732147216797\n",
      "Landmarks time: 1.264880895614624\n",
      "Check_landmarks time: 0.0007054805755615234\n",
      "Fragment: 369 from 610, mode: 'train'\n"
     ]
    },
    {
     "name": "stderr",
     "output_type": "stream",
     "text": [
      "I0000 00:00:1730661699.048989      17 task_runner.cc:85] GPU suport is not available: INTERNAL: ; RET_CHECK failure (mediapipe/gpu/gl_context_egl.cc:77) display != EGL_NO_DISPLAYeglGetDisplay() returned error 0x300c\n",
      "W0000 00:00:1730661699.146562    3062 inference_feedback_manager.cc:114] Feedback manager requires a model with a single signature inference. Disabling support for feedback tensors.\n",
      "W0000 00:00:1730661699.170790    3062 inference_feedback_manager.cc:114] Feedback manager requires a model with a single signature inference. Disabling support for feedback tensors.\n"
     ]
    },
    {
     "name": "stdout",
     "output_type": "stream",
     "text": [
      "Calculating time: 1.2516000270843506\n",
      "Landmarks time: 1.2478935718536377\n",
      "Check_landmarks time: 0.0006644725799560547\n",
      "Fragment: 370 from 610, mode: 'train'\n"
     ]
    },
    {
     "name": "stderr",
     "output_type": "stream",
     "text": [
      "I0000 00:00:1730661700.578590      17 task_runner.cc:85] GPU suport is not available: INTERNAL: ; RET_CHECK failure (mediapipe/gpu/gl_context_egl.cc:77) display != EGL_NO_DISPLAYeglGetDisplay() returned error 0x300c\n",
      "W0000 00:00:1730661700.677907    3067 inference_feedback_manager.cc:114] Feedback manager requires a model with a single signature inference. Disabling support for feedback tensors.\n",
      "W0000 00:00:1730661700.704839    3067 inference_feedback_manager.cc:114] Feedback manager requires a model with a single signature inference. Disabling support for feedback tensors.\n"
     ]
    },
    {
     "name": "stdout",
     "output_type": "stream",
     "text": [
      "Calculating time: 1.206043004989624\n",
      "Landmarks time: 1.2026102542877197\n",
      "Check_landmarks time: 0.0002987384796142578\n",
      "Fragment: 371 from 610, mode: 'train'\n"
     ]
    },
    {
     "name": "stderr",
     "output_type": "stream",
     "text": [
      "I0000 00:00:1730661702.067622      17 task_runner.cc:85] GPU suport is not available: INTERNAL: ; RET_CHECK failure (mediapipe/gpu/gl_context_egl.cc:77) display != EGL_NO_DISPLAYeglGetDisplay() returned error 0x300c\n",
      "W0000 00:00:1730661702.165872    3078 inference_feedback_manager.cc:114] Feedback manager requires a model with a single signature inference. Disabling support for feedback tensors.\n",
      "W0000 00:00:1730661702.198587    3078 inference_feedback_manager.cc:114] Feedback manager requires a model with a single signature inference. Disabling support for feedback tensors.\n"
     ]
    },
    {
     "name": "stdout",
     "output_type": "stream",
     "text": [
      "Calculating time: 1.2767956256866455\n",
      "Landmarks time: 1.2733736038208008\n",
      "Check_landmarks time: 0.00035119056701660156\n",
      "Fragment: 372 from 610, mode: 'train'\n"
     ]
    },
    {
     "name": "stderr",
     "output_type": "stream",
     "text": [
      "I0000 00:00:1730661703.606968      17 task_runner.cc:85] GPU suport is not available: INTERNAL: ; RET_CHECK failure (mediapipe/gpu/gl_context_egl.cc:77) display != EGL_NO_DISPLAYeglGetDisplay() returned error 0x300c\n",
      "W0000 00:00:1730661703.704954    3084 inference_feedback_manager.cc:114] Feedback manager requires a model with a single signature inference. Disabling support for feedback tensors.\n",
      "W0000 00:00:1730661703.730108    3085 inference_feedback_manager.cc:114] Feedback manager requires a model with a single signature inference. Disabling support for feedback tensors.\n"
     ]
    },
    {
     "name": "stdout",
     "output_type": "stream",
     "text": [
      "Calculating time: 1.295029878616333\n",
      "Landmarks time: 1.2911176681518555\n",
      "Check_landmarks time: 0.0010197162628173828\n",
      "Fragment: 373 from 610, mode: 'train'\n"
     ]
    },
    {
     "name": "stderr",
     "output_type": "stream",
     "text": [
      "I0000 00:00:1730661705.175250      17 task_runner.cc:85] GPU suport is not available: INTERNAL: ; RET_CHECK failure (mediapipe/gpu/gl_context_egl.cc:77) display != EGL_NO_DISPLAYeglGetDisplay() returned error 0x300c\n",
      "W0000 00:00:1730661705.272934    3094 inference_feedback_manager.cc:114] Feedback manager requires a model with a single signature inference. Disabling support for feedback tensors.\n",
      "W0000 00:00:1730661705.304550    3092 inference_feedback_manager.cc:114] Feedback manager requires a model with a single signature inference. Disabling support for feedback tensors.\n"
     ]
    },
    {
     "name": "stdout",
     "output_type": "stream",
     "text": [
      "Calculating time: 1.2601420879364014\n",
      "Landmarks time: 1.2561554908752441\n",
      "Check_landmarks time: 0.0009377002716064453\n",
      "Fragment: 374 from 610, mode: 'train'\n"
     ]
    },
    {
     "name": "stderr",
     "output_type": "stream",
     "text": [
      "I0000 00:00:1730661706.728554      17 task_runner.cc:85] GPU suport is not available: INTERNAL: ; RET_CHECK failure (mediapipe/gpu/gl_context_egl.cc:77) display != EGL_NO_DISPLAYeglGetDisplay() returned error 0x300c\n",
      "W0000 00:00:1730661706.827045    3101 inference_feedback_manager.cc:114] Feedback manager requires a model with a single signature inference. Disabling support for feedback tensors.\n",
      "W0000 00:00:1730661706.851560    3101 inference_feedback_manager.cc:114] Feedback manager requires a model with a single signature inference. Disabling support for feedback tensors.\n"
     ]
    },
    {
     "name": "stdout",
     "output_type": "stream",
     "text": [
      "Calculating time: 1.2210900783538818\n",
      "Landmarks time: 1.2177908420562744\n",
      "Check_landmarks time: 0.0003218650817871094\n",
      "Fragment: 375 from 610, mode: 'train'\n"
     ]
    },
    {
     "name": "stderr",
     "output_type": "stream",
     "text": [
      "I0000 00:00:1730661708.233446      17 task_runner.cc:85] GPU suport is not available: INTERNAL: ; RET_CHECK failure (mediapipe/gpu/gl_context_egl.cc:77) display != EGL_NO_DISPLAYeglGetDisplay() returned error 0x300c\n",
      "W0000 00:00:1730661708.331220    3109 inference_feedback_manager.cc:114] Feedback manager requires a model with a single signature inference. Disabling support for feedback tensors.\n",
      "W0000 00:00:1730661708.356226    3110 inference_feedback_manager.cc:114] Feedback manager requires a model with a single signature inference. Disabling support for feedback tensors.\n"
     ]
    },
    {
     "name": "stdout",
     "output_type": "stream",
     "text": [
      "Calculating time: 1.2219674587249756\n",
      "Landmarks time: 1.2183973789215088\n",
      "Check_landmarks time: 0.0002903938293457031\n",
      "Fragment: 376 from 610, mode: 'train'\n"
     ]
    },
    {
     "name": "stderr",
     "output_type": "stream",
     "text": [
      "I0000 00:00:1730661709.724424      17 task_runner.cc:85] GPU suport is not available: INTERNAL: ; RET_CHECK failure (mediapipe/gpu/gl_context_egl.cc:77) display != EGL_NO_DISPLAYeglGetDisplay() returned error 0x300c\n",
      "W0000 00:00:1730661709.822049    3116 inference_feedback_manager.cc:114] Feedback manager requires a model with a single signature inference. Disabling support for feedback tensors.\n",
      "W0000 00:00:1730661709.847394    3117 inference_feedback_manager.cc:114] Feedback manager requires a model with a single signature inference. Disabling support for feedback tensors.\n"
     ]
    },
    {
     "name": "stdout",
     "output_type": "stream",
     "text": [
      "Calculating time: 1.1857531070709229\n",
      "Landmarks time: 1.1822421550750732\n",
      "Check_landmarks time: 0.00028133392333984375\n",
      "Fragment: 377 from 610, mode: 'train'\n"
     ]
    },
    {
     "name": "stderr",
     "output_type": "stream",
     "text": [
      "I0000 00:00:1730661711.191878      17 task_runner.cc:85] GPU suport is not available: INTERNAL: ; RET_CHECK failure (mediapipe/gpu/gl_context_egl.cc:77) display != EGL_NO_DISPLAYeglGetDisplay() returned error 0x300c\n",
      "W0000 00:00:1730661711.289856    3126 inference_feedback_manager.cc:114] Feedback manager requires a model with a single signature inference. Disabling support for feedback tensors.\n",
      "W0000 00:00:1730661711.314555    3125 inference_feedback_manager.cc:114] Feedback manager requires a model with a single signature inference. Disabling support for feedback tensors.\n"
     ]
    },
    {
     "name": "stdout",
     "output_type": "stream",
     "text": [
      "Calculating time: 1.279388427734375\n",
      "Landmarks time: 1.2757890224456787\n",
      "Check_landmarks time: 0.00035572052001953125\n",
      "Fragment: 378 from 610, mode: 'train'\n"
     ]
    },
    {
     "name": "stderr",
     "output_type": "stream",
     "text": [
      "I0000 00:00:1730661712.817992      17 task_runner.cc:85] GPU suport is not available: INTERNAL: ; RET_CHECK failure (mediapipe/gpu/gl_context_egl.cc:77) display != EGL_NO_DISPLAYeglGetDisplay() returned error 0x300c\n",
      "W0000 00:00:1730661712.951696    3131 inference_feedback_manager.cc:114] Feedback manager requires a model with a single signature inference. Disabling support for feedback tensors.\n",
      "W0000 00:00:1730661712.981058    3134 inference_feedback_manager.cc:114] Feedback manager requires a model with a single signature inference. Disabling support for feedback tensors.\n"
     ]
    },
    {
     "name": "stdout",
     "output_type": "stream",
     "text": [
      "Calculating time: 1.3059144020080566\n",
      "Landmarks time: 1.301870584487915\n",
      "Check_landmarks time: 0.00030231475830078125\n",
      "Fragment: 379 from 610, mode: 'train'\n"
     ]
    },
    {
     "name": "stderr",
     "output_type": "stream",
     "text": [
      "I0000 00:00:1730661714.401369      17 task_runner.cc:85] GPU suport is not available: INTERNAL: ; RET_CHECK failure (mediapipe/gpu/gl_context_egl.cc:77) display != EGL_NO_DISPLAYeglGetDisplay() returned error 0x300c\n",
      "W0000 00:00:1730661714.499427    3140 inference_feedback_manager.cc:114] Feedback manager requires a model with a single signature inference. Disabling support for feedback tensors.\n",
      "W0000 00:00:1730661714.531901    3141 inference_feedback_manager.cc:114] Feedback manager requires a model with a single signature inference. Disabling support for feedback tensors.\n"
     ]
    },
    {
     "name": "stdout",
     "output_type": "stream",
     "text": [
      "Calculating time: 1.1902010440826416\n",
      "Landmarks time: 1.186689853668213\n",
      "Check_landmarks time: 0.00027942657470703125\n",
      "Fragment: 380 from 610, mode: 'train'\n"
     ]
    },
    {
     "name": "stderr",
     "output_type": "stream",
     "text": [
      "I0000 00:00:1730661715.882420      17 task_runner.cc:85] GPU suport is not available: INTERNAL: ; RET_CHECK failure (mediapipe/gpu/gl_context_egl.cc:77) display != EGL_NO_DISPLAYeglGetDisplay() returned error 0x300c\n",
      "W0000 00:00:1730661715.990807    3148 inference_feedback_manager.cc:114] Feedback manager requires a model with a single signature inference. Disabling support for feedback tensors.\n",
      "W0000 00:00:1730661716.015335    3150 inference_feedback_manager.cc:114] Feedback manager requires a model with a single signature inference. Disabling support for feedback tensors.\n"
     ]
    },
    {
     "name": "stdout",
     "output_type": "stream",
     "text": [
      "Calculating time: 1.2393794059753418\n",
      "Landmarks time: 1.2346718311309814\n",
      "Check_landmarks time: 0.0002913475036621094\n",
      "Fragment: 381 from 610, mode: 'train'\n"
     ]
    },
    {
     "name": "stderr",
     "output_type": "stream",
     "text": [
      "I0000 00:00:1730661717.391227      17 task_runner.cc:85] GPU suport is not available: INTERNAL: ; RET_CHECK failure (mediapipe/gpu/gl_context_egl.cc:77) display != EGL_NO_DISPLAYeglGetDisplay() returned error 0x300c\n",
      "W0000 00:00:1730661717.489633    3158 inference_feedback_manager.cc:114] Feedback manager requires a model with a single signature inference. Disabling support for feedback tensors.\n",
      "W0000 00:00:1730661717.514595    3156 inference_feedback_manager.cc:114] Feedback manager requires a model with a single signature inference. Disabling support for feedback tensors.\n"
     ]
    },
    {
     "name": "stdout",
     "output_type": "stream",
     "text": [
      "Calculating time: 1.2320849895477295\n",
      "Landmarks time: 1.228508710861206\n",
      "Check_landmarks time: 0.0003478527069091797\n",
      "Fragment: 382 from 610, mode: 'train'\n"
     ]
    },
    {
     "name": "stderr",
     "output_type": "stream",
     "text": [
      "I0000 00:00:1730661718.894451      17 task_runner.cc:85] GPU suport is not available: INTERNAL: ; RET_CHECK failure (mediapipe/gpu/gl_context_egl.cc:77) display != EGL_NO_DISPLAYeglGetDisplay() returned error 0x300c\n",
      "W0000 00:00:1730661719.004393    3163 inference_feedback_manager.cc:114] Feedback manager requires a model with a single signature inference. Disabling support for feedback tensors.\n",
      "W0000 00:00:1730661719.029132    3165 inference_feedback_manager.cc:114] Feedback manager requires a model with a single signature inference. Disabling support for feedback tensors.\n"
     ]
    },
    {
     "name": "stdout",
     "output_type": "stream",
     "text": [
      "Calculating time: 1.182185173034668\n",
      "Landmarks time: 1.1788499355316162\n",
      "Check_landmarks time: 0.00030040740966796875\n",
      "Fragment: 383 from 610, mode: 'train'\n"
     ]
    },
    {
     "name": "stderr",
     "output_type": "stream",
     "text": [
      "I0000 00:00:1730661720.351642      17 task_runner.cc:85] GPU suport is not available: INTERNAL: ; RET_CHECK failure (mediapipe/gpu/gl_context_egl.cc:77) display != EGL_NO_DISPLAYeglGetDisplay() returned error 0x300c\n",
      "W0000 00:00:1730661720.450774    3171 inference_feedback_manager.cc:114] Feedback manager requires a model with a single signature inference. Disabling support for feedback tensors.\n",
      "W0000 00:00:1730661720.475467    3173 inference_feedback_manager.cc:114] Feedback manager requires a model with a single signature inference. Disabling support for feedback tensors.\n"
     ]
    },
    {
     "name": "stdout",
     "output_type": "stream",
     "text": [
      "Calculating time: 1.2241215705871582\n",
      "Landmarks time: 1.2208216190338135\n",
      "Check_landmarks time: 0.0002982616424560547\n",
      "Fragment: 384 from 610, mode: 'train'\n"
     ]
    },
    {
     "name": "stderr",
     "output_type": "stream",
     "text": [
      "I0000 00:00:1730661721.858920      17 task_runner.cc:85] GPU suport is not available: INTERNAL: ; RET_CHECK failure (mediapipe/gpu/gl_context_egl.cc:77) display != EGL_NO_DISPLAYeglGetDisplay() returned error 0x300c\n",
      "W0000 00:00:1730661721.957724    3182 inference_feedback_manager.cc:114] Feedback manager requires a model with a single signature inference. Disabling support for feedback tensors.\n",
      "W0000 00:00:1730661721.982579    3181 inference_feedback_manager.cc:114] Feedback manager requires a model with a single signature inference. Disabling support for feedback tensors.\n"
     ]
    },
    {
     "name": "stdout",
     "output_type": "stream",
     "text": [
      "Calculating time: 1.2510557174682617\n",
      "Landmarks time: 1.2472469806671143\n",
      "Check_landmarks time: 0.00037360191345214844\n",
      "Fragment: 385 from 610, mode: 'train'\n"
     ]
    },
    {
     "name": "stderr",
     "output_type": "stream",
     "text": [
      "I0000 00:00:1730661723.380231      17 task_runner.cc:85] GPU suport is not available: INTERNAL: ; RET_CHECK failure (mediapipe/gpu/gl_context_egl.cc:77) display != EGL_NO_DISPLAYeglGetDisplay() returned error 0x300c\n",
      "W0000 00:00:1730661723.479315    3189 inference_feedback_manager.cc:114] Feedback manager requires a model with a single signature inference. Disabling support for feedback tensors.\n",
      "W0000 00:00:1730661723.512963    3189 inference_feedback_manager.cc:114] Feedback manager requires a model with a single signature inference. Disabling support for feedback tensors.\n"
     ]
    },
    {
     "name": "stdout",
     "output_type": "stream",
     "text": [
      "Calculating time: 1.1945574283599854\n",
      "Landmarks time: 1.1909246444702148\n",
      "Check_landmarks time: 0.00029397010803222656\n",
      "Fragment: 386 from 610, mode: 'train'\n"
     ]
    },
    {
     "name": "stderr",
     "output_type": "stream",
     "text": [
      "I0000 00:00:1730661724.839424      17 task_runner.cc:85] GPU suport is not available: INTERNAL: ; RET_CHECK failure (mediapipe/gpu/gl_context_egl.cc:77) display != EGL_NO_DISPLAYeglGetDisplay() returned error 0x300c\n",
      "W0000 00:00:1730661724.937314    3198 inference_feedback_manager.cc:114] Feedback manager requires a model with a single signature inference. Disabling support for feedback tensors.\n",
      "W0000 00:00:1730661724.969249    3197 inference_feedback_manager.cc:114] Feedback manager requires a model with a single signature inference. Disabling support for feedback tensors.\n"
     ]
    },
    {
     "name": "stdout",
     "output_type": "stream",
     "text": [
      "Calculating time: 1.2325916290283203\n",
      "Landmarks time: 1.228769302368164\n",
      "Check_landmarks time: 0.0004513263702392578\n",
      "Fragment: 387 from 610, mode: 'train'\n"
     ]
    },
    {
     "name": "stderr",
     "output_type": "stream",
     "text": [
      "I0000 00:00:1730661726.352528      17 task_runner.cc:85] GPU suport is not available: INTERNAL: ; RET_CHECK failure (mediapipe/gpu/gl_context_egl.cc:77) display != EGL_NO_DISPLAYeglGetDisplay() returned error 0x300c\n",
      "W0000 00:00:1730661726.450727    3205 inference_feedback_manager.cc:114] Feedback manager requires a model with a single signature inference. Disabling support for feedback tensors.\n",
      "W0000 00:00:1730661726.483142    3204 inference_feedback_manager.cc:114] Feedback manager requires a model with a single signature inference. Disabling support for feedback tensors.\n"
     ]
    },
    {
     "name": "stdout",
     "output_type": "stream",
     "text": [
      "Calculating time: 1.2204194068908691\n",
      "Landmarks time: 1.2167108058929443\n",
      "Check_landmarks time: 0.0003237724304199219\n",
      "Fragment: 388 from 610, mode: 'train'\n"
     ]
    },
    {
     "name": "stderr",
     "output_type": "stream",
     "text": [
      "I0000 00:00:1730661727.852724      17 task_runner.cc:85] GPU suport is not available: INTERNAL: ; RET_CHECK failure (mediapipe/gpu/gl_context_egl.cc:77) display != EGL_NO_DISPLAYeglGetDisplay() returned error 0x300c\n",
      "W0000 00:00:1730661727.950545    3212 inference_feedback_manager.cc:114] Feedback manager requires a model with a single signature inference. Disabling support for feedback tensors.\n",
      "W0000 00:00:1730661727.981967    3214 inference_feedback_manager.cc:114] Feedback manager requires a model with a single signature inference. Disabling support for feedback tensors.\n"
     ]
    },
    {
     "name": "stdout",
     "output_type": "stream",
     "text": [
      "Calculating time: 1.2023353576660156\n",
      "Landmarks time: 1.1990532875061035\n",
      "Check_landmarks time: 0.0002734661102294922\n",
      "Fragment: 389 from 610, mode: 'train'\n"
     ]
    },
    {
     "name": "stderr",
     "output_type": "stream",
     "text": [
      "I0000 00:00:1730661729.331546      17 task_runner.cc:85] GPU suport is not available: INTERNAL: ; RET_CHECK failure (mediapipe/gpu/gl_context_egl.cc:77) display != EGL_NO_DISPLAYeglGetDisplay() returned error 0x300c\n",
      "W0000 00:00:1730661729.442318    3220 inference_feedback_manager.cc:114] Feedback manager requires a model with a single signature inference. Disabling support for feedback tensors.\n",
      "W0000 00:00:1730661729.486239    3222 inference_feedback_manager.cc:114] Feedback manager requires a model with a single signature inference. Disabling support for feedback tensors.\n"
     ]
    },
    {
     "name": "stdout",
     "output_type": "stream",
     "text": [
      "Calculating time: 1.2680583000183105\n",
      "Landmarks time: 1.2647254467010498\n",
      "Check_landmarks time: 0.00031566619873046875\n",
      "Fragment: 390 from 610, mode: 'train'\n"
     ]
    },
    {
     "name": "stderr",
     "output_type": "stream",
     "text": [
      "I0000 00:00:1730661730.882383      17 task_runner.cc:85] GPU suport is not available: INTERNAL: ; RET_CHECK failure (mediapipe/gpu/gl_context_egl.cc:77) display != EGL_NO_DISPLAYeglGetDisplay() returned error 0x300c\n",
      "W0000 00:00:1730661730.993532    3230 inference_feedback_manager.cc:114] Feedback manager requires a model with a single signature inference. Disabling support for feedback tensors.\n",
      "W0000 00:00:1730661731.018436    3228 inference_feedback_manager.cc:114] Feedback manager requires a model with a single signature inference. Disabling support for feedback tensors.\n"
     ]
    },
    {
     "name": "stdout",
     "output_type": "stream",
     "text": [
      "Calculating time: 1.2404730319976807\n",
      "Landmarks time: 1.2366623878479004\n",
      "Check_landmarks time: 0.0002932548522949219\n",
      "Fragment: 391 from 610, mode: 'train'\n"
     ]
    },
    {
     "name": "stderr",
     "output_type": "stream",
     "text": [
      "I0000 00:00:1730661732.401187      17 task_runner.cc:85] GPU suport is not available: INTERNAL: ; RET_CHECK failure (mediapipe/gpu/gl_context_egl.cc:77) display != EGL_NO_DISPLAYeglGetDisplay() returned error 0x300c\n",
      "W0000 00:00:1730661732.500482    3238 inference_feedback_manager.cc:114] Feedback manager requires a model with a single signature inference. Disabling support for feedback tensors.\n",
      "W0000 00:00:1730661732.528778    3236 inference_feedback_manager.cc:114] Feedback manager requires a model with a single signature inference. Disabling support for feedback tensors.\n"
     ]
    },
    {
     "name": "stdout",
     "output_type": "stream",
     "text": [
      "Calculating time: 1.2098429203033447\n",
      "Landmarks time: 1.2063074111938477\n",
      "Check_landmarks time: 0.0002734661102294922\n",
      "Fragment: 392 from 610, mode: 'train'\n"
     ]
    },
    {
     "name": "stderr",
     "output_type": "stream",
     "text": [
      "I0000 00:00:1730661733.892979      17 task_runner.cc:85] GPU suport is not available: INTERNAL: ; RET_CHECK failure (mediapipe/gpu/gl_context_egl.cc:77) display != EGL_NO_DISPLAYeglGetDisplay() returned error 0x300c\n",
      "W0000 00:00:1730661733.991246    3245 inference_feedback_manager.cc:114] Feedback manager requires a model with a single signature inference. Disabling support for feedback tensors.\n",
      "W0000 00:00:1730661734.026801    3245 inference_feedback_manager.cc:114] Feedback manager requires a model with a single signature inference. Disabling support for feedback tensors.\n"
     ]
    },
    {
     "name": "stdout",
     "output_type": "stream",
     "text": [
      "Calculating time: 1.2426538467407227\n",
      "Landmarks time: 1.2387874126434326\n",
      "Check_landmarks time: 0.00031495094299316406\n",
      "Fragment: 393 from 610, mode: 'train'\n"
     ]
    },
    {
     "name": "stderr",
     "output_type": "stream",
     "text": [
      "I0000 00:00:1730661735.402213      17 task_runner.cc:85] GPU suport is not available: INTERNAL: ; RET_CHECK failure (mediapipe/gpu/gl_context_egl.cc:77) display != EGL_NO_DISPLAYeglGetDisplay() returned error 0x300c\n",
      "W0000 00:00:1730661735.511858    3252 inference_feedback_manager.cc:114] Feedback manager requires a model with a single signature inference. Disabling support for feedback tensors.\n",
      "W0000 00:00:1730661735.560974    3254 inference_feedback_manager.cc:114] Feedback manager requires a model with a single signature inference. Disabling support for feedback tensors.\n"
     ]
    },
    {
     "name": "stdout",
     "output_type": "stream",
     "text": [
      "Calculating time: 1.2574646472930908\n",
      "Landmarks time: 1.254021406173706\n",
      "Check_landmarks time: 0.00032258033752441406\n",
      "Fragment: 394 from 610, mode: 'train'\n"
     ]
    },
    {
     "name": "stderr",
     "output_type": "stream",
     "text": [
      "I0000 00:00:1730661736.931113      17 task_runner.cc:85] GPU suport is not available: INTERNAL: ; RET_CHECK failure (mediapipe/gpu/gl_context_egl.cc:77) display != EGL_NO_DISPLAYeglGetDisplay() returned error 0x300c\n",
      "W0000 00:00:1730661737.030290    3260 inference_feedback_manager.cc:114] Feedback manager requires a model with a single signature inference. Disabling support for feedback tensors.\n",
      "W0000 00:00:1730661737.059259    3260 inference_feedback_manager.cc:114] Feedback manager requires a model with a single signature inference. Disabling support for feedback tensors.\n"
     ]
    },
    {
     "name": "stdout",
     "output_type": "stream",
     "text": [
      "Calculating time: 1.1765310764312744\n",
      "Landmarks time: 1.172548770904541\n",
      "Check_landmarks time: 0.00028967857360839844\n",
      "Fragment: 395 from 610, mode: 'train'\n"
     ]
    },
    {
     "name": "stderr",
     "output_type": "stream",
     "text": [
      "I0000 00:00:1730661738.378247      17 task_runner.cc:85] GPU suport is not available: INTERNAL: ; RET_CHECK failure (mediapipe/gpu/gl_context_egl.cc:77) display != EGL_NO_DISPLAYeglGetDisplay() returned error 0x300c\n",
      "W0000 00:00:1730661738.477534    3270 inference_feedback_manager.cc:114] Feedback manager requires a model with a single signature inference. Disabling support for feedback tensors.\n",
      "W0000 00:00:1730661738.502464    3269 inference_feedback_manager.cc:114] Feedback manager requires a model with a single signature inference. Disabling support for feedback tensors.\n"
     ]
    },
    {
     "name": "stdout",
     "output_type": "stream",
     "text": [
      "Calculating time: 1.2240169048309326\n",
      "Landmarks time: 1.2206151485443115\n",
      "Check_landmarks time: 0.0002994537353515625\n",
      "Fragment: 396 from 610, mode: 'train'\n"
     ]
    },
    {
     "name": "stderr",
     "output_type": "stream",
     "text": [
      "I0000 00:00:1730661739.876140      17 task_runner.cc:85] GPU suport is not available: INTERNAL: ; RET_CHECK failure (mediapipe/gpu/gl_context_egl.cc:77) display != EGL_NO_DISPLAYeglGetDisplay() returned error 0x300c\n",
      "W0000 00:00:1730661739.974606    3276 inference_feedback_manager.cc:114] Feedback manager requires a model with a single signature inference. Disabling support for feedback tensors.\n",
      "W0000 00:00:1730661739.999527    3278 inference_feedback_manager.cc:114] Feedback manager requires a model with a single signature inference. Disabling support for feedback tensors.\n"
     ]
    },
    {
     "name": "stdout",
     "output_type": "stream",
     "text": [
      "Calculating time: 1.2227303981781006\n",
      "Landmarks time: 1.2194931507110596\n",
      "Check_landmarks time: 0.00029850006103515625\n",
      "Fragment: 397 from 610, mode: 'train'\n"
     ]
    },
    {
     "name": "stderr",
     "output_type": "stream",
     "text": [
      "I0000 00:00:1730661741.366707      17 task_runner.cc:85] GPU suport is not available: INTERNAL: ; RET_CHECK failure (mediapipe/gpu/gl_context_egl.cc:77) display != EGL_NO_DISPLAYeglGetDisplay() returned error 0x300c\n",
      "W0000 00:00:1730661741.465250    3286 inference_feedback_manager.cc:114] Feedback manager requires a model with a single signature inference. Disabling support for feedback tensors.\n",
      "W0000 00:00:1730661741.489974    3286 inference_feedback_manager.cc:114] Feedback manager requires a model with a single signature inference. Disabling support for feedback tensors.\n"
     ]
    },
    {
     "name": "stdout",
     "output_type": "stream",
     "text": [
      "Calculating time: 1.1695573329925537\n",
      "Landmarks time: 1.166167974472046\n",
      "Check_landmarks time: 0.0002880096435546875\n",
      "Fragment: 398 from 610, mode: 'train'\n"
     ]
    },
    {
     "name": "stderr",
     "output_type": "stream",
     "text": [
      "I0000 00:00:1730661742.817683      17 task_runner.cc:85] GPU suport is not available: INTERNAL: ; RET_CHECK failure (mediapipe/gpu/gl_context_egl.cc:77) display != EGL_NO_DISPLAYeglGetDisplay() returned error 0x300c\n",
      "W0000 00:00:1730661742.929913    3293 inference_feedback_manager.cc:114] Feedback manager requires a model with a single signature inference. Disabling support for feedback tensors.\n",
      "W0000 00:00:1730661742.954746    3291 inference_feedback_manager.cc:114] Feedback manager requires a model with a single signature inference. Disabling support for feedback tensors.\n"
     ]
    },
    {
     "name": "stdout",
     "output_type": "stream",
     "text": [
      "Calculating time: 1.2656643390655518\n",
      "Landmarks time: 1.2609262466430664\n",
      "Check_landmarks time: 0.0002963542938232422\n",
      "Fragment: 399 from 610, mode: 'train'\n"
     ]
    },
    {
     "name": "stderr",
     "output_type": "stream",
     "text": [
      "I0000 00:00:1730661744.427715      17 task_runner.cc:85] GPU suport is not available: INTERNAL: ; RET_CHECK failure (mediapipe/gpu/gl_context_egl.cc:77) display != EGL_NO_DISPLAYeglGetDisplay() returned error 0x300c\n",
      "W0000 00:00:1730661744.530891    3301 inference_feedback_manager.cc:114] Feedback manager requires a model with a single signature inference. Disabling support for feedback tensors.\n",
      "W0000 00:00:1730661744.555580    3299 inference_feedback_manager.cc:114] Feedback manager requires a model with a single signature inference. Disabling support for feedback tensors.\n"
     ]
    },
    {
     "name": "stdout",
     "output_type": "stream",
     "text": [
      "Calculating time: 1.2839329242706299\n",
      "Landmarks time: 1.2805655002593994\n",
      "Check_landmarks time: 0.0003066062927246094\n",
      "Fragment: 400 from 610, mode: 'train'\n"
     ]
    },
    {
     "name": "stderr",
     "output_type": "stream",
     "text": [
      "I0000 00:00:1730661745.979287      17 task_runner.cc:85] GPU suport is not available: INTERNAL: ; RET_CHECK failure (mediapipe/gpu/gl_context_egl.cc:77) display != EGL_NO_DISPLAYeglGetDisplay() returned error 0x300c\n",
      "W0000 00:00:1730661746.077147    3308 inference_feedback_manager.cc:114] Feedback manager requires a model with a single signature inference. Disabling support for feedback tensors.\n",
      "W0000 00:00:1730661746.101818    3309 inference_feedback_manager.cc:114] Feedback manager requires a model with a single signature inference. Disabling support for feedback tensors.\n"
     ]
    },
    {
     "name": "stdout",
     "output_type": "stream",
     "text": [
      "Calculating time: 1.1653428077697754\n",
      "Landmarks time: 1.1615595817565918\n",
      "Check_landmarks time: 0.0002865791320800781\n",
      "Fragment: 401 from 610, mode: 'train'\n"
     ]
    },
    {
     "name": "stderr",
     "output_type": "stream",
     "text": [
      "I0000 00:00:1730661747.414675      17 task_runner.cc:85] GPU suport is not available: INTERNAL: ; RET_CHECK failure (mediapipe/gpu/gl_context_egl.cc:77) display != EGL_NO_DISPLAYeglGetDisplay() returned error 0x300c\n",
      "W0000 00:00:1730661747.514026    3316 inference_feedback_manager.cc:114] Feedback manager requires a model with a single signature inference. Disabling support for feedback tensors.\n",
      "W0000 00:00:1730661747.547007    3316 inference_feedback_manager.cc:114] Feedback manager requires a model with a single signature inference. Disabling support for feedback tensors.\n"
     ]
    },
    {
     "name": "stdout",
     "output_type": "stream",
     "text": [
      "Calculating time: 1.2669677734375\n",
      "Landmarks time: 1.2631711959838867\n",
      "Check_landmarks time: 0.0006396770477294922\n",
      "Fragment: 402 from 610, mode: 'train'\n"
     ]
    },
    {
     "name": "stderr",
     "output_type": "stream",
     "text": [
      "I0000 00:00:1730661748.945136      17 task_runner.cc:85] GPU suport is not available: INTERNAL: ; RET_CHECK failure (mediapipe/gpu/gl_context_egl.cc:77) display != EGL_NO_DISPLAYeglGetDisplay() returned error 0x300c\n",
      "W0000 00:00:1730661749.043326    3324 inference_feedback_manager.cc:114] Feedback manager requires a model with a single signature inference. Disabling support for feedback tensors.\n",
      "W0000 00:00:1730661749.077626    3326 inference_feedback_manager.cc:114] Feedback manager requires a model with a single signature inference. Disabling support for feedback tensors.\n"
     ]
    },
    {
     "name": "stdout",
     "output_type": "stream",
     "text": [
      "Calculating time: 1.2658910751342773\n",
      "Landmarks time: 1.2616732120513916\n",
      "Check_landmarks time: 0.0006923675537109375\n",
      "Fragment: 403 from 610, mode: 'train'\n"
     ]
    },
    {
     "name": "stderr",
     "output_type": "stream",
     "text": [
      "I0000 00:00:1730661750.482072      17 task_runner.cc:85] GPU suport is not available: INTERNAL: ; RET_CHECK failure (mediapipe/gpu/gl_context_egl.cc:77) display != EGL_NO_DISPLAYeglGetDisplay() returned error 0x300c\n",
      "W0000 00:00:1730661750.591155    3333 inference_feedback_manager.cc:114] Feedback manager requires a model with a single signature inference. Disabling support for feedback tensors.\n",
      "W0000 00:00:1730661750.625889    3333 inference_feedback_manager.cc:114] Feedback manager requires a model with a single signature inference. Disabling support for feedback tensors.\n"
     ]
    },
    {
     "name": "stdout",
     "output_type": "stream",
     "text": [
      "Calculating time: 1.2183630466461182\n",
      "Landmarks time: 1.214343786239624\n",
      "Check_landmarks time: 0.0006117820739746094\n",
      "Fragment: 404 from 610, mode: 'train'\n"
     ]
    },
    {
     "name": "stderr",
     "output_type": "stream",
     "text": [
      "I0000 00:00:1730661751.981073      17 task_runner.cc:85] GPU suport is not available: INTERNAL: ; RET_CHECK failure (mediapipe/gpu/gl_context_egl.cc:77) display != EGL_NO_DISPLAYeglGetDisplay() returned error 0x300c\n",
      "W0000 00:00:1730661752.079186    3341 inference_feedback_manager.cc:114] Feedback manager requires a model with a single signature inference. Disabling support for feedback tensors.\n",
      "W0000 00:00:1730661752.103869    3339 inference_feedback_manager.cc:114] Feedback manager requires a model with a single signature inference. Disabling support for feedback tensors.\n"
     ]
    },
    {
     "name": "stdout",
     "output_type": "stream",
     "text": [
      "Calculating time: 1.294585943222046\n",
      "Landmarks time: 1.290801763534546\n",
      "Check_landmarks time: 0.0008490085601806641\n",
      "Fragment: 405 from 610, mode: 'train'\n"
     ]
    },
    {
     "name": "stderr",
     "output_type": "stream",
     "text": [
      "I0000 00:00:1730661753.548019      17 task_runner.cc:85] GPU suport is not available: INTERNAL: ; RET_CHECK failure (mediapipe/gpu/gl_context_egl.cc:77) display != EGL_NO_DISPLAYeglGetDisplay() returned error 0x300c\n",
      "W0000 00:00:1730661753.646509    3348 inference_feedback_manager.cc:114] Feedback manager requires a model with a single signature inference. Disabling support for feedback tensors.\n",
      "W0000 00:00:1730661753.671309    3347 inference_feedback_manager.cc:114] Feedback manager requires a model with a single signature inference. Disabling support for feedback tensors.\n"
     ]
    },
    {
     "name": "stdout",
     "output_type": "stream",
     "text": [
      "Calculating time: 1.2596807479858398\n",
      "Landmarks time: 1.2558245658874512\n",
      "Check_landmarks time: 0.0007550716400146484\n",
      "Fragment: 406 from 610, mode: 'train'\n"
     ]
    },
    {
     "name": "stderr",
     "output_type": "stream",
     "text": [
      "I0000 00:00:1730661755.085910      17 task_runner.cc:85] GPU suport is not available: INTERNAL: ; RET_CHECK failure (mediapipe/gpu/gl_context_egl.cc:77) display != EGL_NO_DISPLAYeglGetDisplay() returned error 0x300c\n",
      "W0000 00:00:1730661755.185184    3356 inference_feedback_manager.cc:114] Feedback manager requires a model with a single signature inference. Disabling support for feedback tensors.\n",
      "W0000 00:00:1730661755.219097    3356 inference_feedback_manager.cc:114] Feedback manager requires a model with a single signature inference. Disabling support for feedback tensors.\n"
     ]
    },
    {
     "name": "stdout",
     "output_type": "stream",
     "text": [
      "Calculating time: 1.2046411037445068\n",
      "Landmarks time: 1.2009189128875732\n",
      "Check_landmarks time: 0.0002753734588623047\n",
      "Fragment: 407 from 610, mode: 'train'\n"
     ]
    },
    {
     "name": "stderr",
     "output_type": "stream",
     "text": [
      "I0000 00:00:1730661756.557009      17 task_runner.cc:85] GPU suport is not available: INTERNAL: ; RET_CHECK failure (mediapipe/gpu/gl_context_egl.cc:77) display != EGL_NO_DISPLAYeglGetDisplay() returned error 0x300c\n",
      "W0000 00:00:1730661756.656543    3364 inference_feedback_manager.cc:114] Feedback manager requires a model with a single signature inference. Disabling support for feedback tensors.\n",
      "W0000 00:00:1730661756.681660    3366 inference_feedback_manager.cc:114] Feedback manager requires a model with a single signature inference. Disabling support for feedback tensors.\n"
     ]
    },
    {
     "name": "stdout",
     "output_type": "stream",
     "text": [
      "Calculating time: 1.2184219360351562\n",
      "Landmarks time: 1.2150194644927979\n",
      "Check_landmarks time: 0.00028705596923828125\n",
      "Fragment: 408 from 610, mode: 'train'\n"
     ]
    },
    {
     "name": "stderr",
     "output_type": "stream",
     "text": [
      "I0000 00:00:1730661758.041577      17 task_runner.cc:85] GPU suport is not available: INTERNAL: ; RET_CHECK failure (mediapipe/gpu/gl_context_egl.cc:77) display != EGL_NO_DISPLAYeglGetDisplay() returned error 0x300c\n",
      "W0000 00:00:1730661758.140225    3373 inference_feedback_manager.cc:114] Feedback manager requires a model with a single signature inference. Disabling support for feedback tensors.\n",
      "W0000 00:00:1730661758.172146    3372 inference_feedback_manager.cc:114] Feedback manager requires a model with a single signature inference. Disabling support for feedback tensors.\n"
     ]
    },
    {
     "name": "stdout",
     "output_type": "stream",
     "text": [
      "Calculating time: 1.241692066192627\n",
      "Landmarks time: 1.2381796836853027\n",
      "Check_landmarks time: 0.000293731689453125\n",
      "Fragment: 409 from 610, mode: 'train'\n"
     ]
    },
    {
     "name": "stderr",
     "output_type": "stream",
     "text": [
      "I0000 00:00:1730661759.556807      17 task_runner.cc:85] GPU suport is not available: INTERNAL: ; RET_CHECK failure (mediapipe/gpu/gl_context_egl.cc:77) display != EGL_NO_DISPLAYeglGetDisplay() returned error 0x300c\n",
      "W0000 00:00:1730661759.655374    3380 inference_feedback_manager.cc:114] Feedback manager requires a model with a single signature inference. Disabling support for feedback tensors.\n",
      "W0000 00:00:1730661759.680581    3382 inference_feedback_manager.cc:114] Feedback manager requires a model with a single signature inference. Disabling support for feedback tensors.\n"
     ]
    },
    {
     "name": "stdout",
     "output_type": "stream",
     "text": [
      "Calculating time: 1.1925506591796875\n",
      "Landmarks time: 1.1886522769927979\n",
      "Check_landmarks time: 0.0002899169921875\n",
      "Fragment: 410 from 610, mode: 'train'\n"
     ]
    },
    {
     "name": "stderr",
     "output_type": "stream",
     "text": [
      "I0000 00:00:1730661761.022220      17 task_runner.cc:85] GPU suport is not available: INTERNAL: ; RET_CHECK failure (mediapipe/gpu/gl_context_egl.cc:77) display != EGL_NO_DISPLAYeglGetDisplay() returned error 0x300c\n",
      "W0000 00:00:1730661761.120252    3388 inference_feedback_manager.cc:114] Feedback manager requires a model with a single signature inference. Disabling support for feedback tensors.\n",
      "W0000 00:00:1730661761.153454    3388 inference_feedback_manager.cc:114] Feedback manager requires a model with a single signature inference. Disabling support for feedback tensors.\n"
     ]
    },
    {
     "name": "stdout",
     "output_type": "stream",
     "text": [
      "Calculating time: 1.2416739463806152\n",
      "Landmarks time: 1.2382879257202148\n",
      "Check_landmarks time: 0.0002982616424560547\n",
      "Fragment: 411 from 610, mode: 'train'\n"
     ]
    },
    {
     "name": "stderr",
     "output_type": "stream",
     "text": [
      "I0000 00:00:1730661762.526188      17 task_runner.cc:85] GPU suport is not available: INTERNAL: ; RET_CHECK failure (mediapipe/gpu/gl_context_egl.cc:77) display != EGL_NO_DISPLAYeglGetDisplay() returned error 0x300c\n",
      "W0000 00:00:1730661762.625230    3396 inference_feedback_manager.cc:114] Feedback manager requires a model with a single signature inference. Disabling support for feedback tensors.\n",
      "W0000 00:00:1730661762.650517    3395 inference_feedback_manager.cc:114] Feedback manager requires a model with a single signature inference. Disabling support for feedback tensors.\n"
     ]
    },
    {
     "name": "stdout",
     "output_type": "stream",
     "text": [
      "Calculating time: 1.256169080734253\n",
      "Landmarks time: 1.2527589797973633\n",
      "Check_landmarks time: 0.00029468536376953125\n",
      "Fragment: 412 from 610, mode: 'train'\n"
     ]
    },
    {
     "name": "stderr",
     "output_type": "stream",
     "text": [
      "I0000 00:00:1730661764.060253      17 task_runner.cc:85] GPU suport is not available: INTERNAL: ; RET_CHECK failure (mediapipe/gpu/gl_context_egl.cc:77) display != EGL_NO_DISPLAYeglGetDisplay() returned error 0x300c\n",
      "W0000 00:00:1730661764.158754    3405 inference_feedback_manager.cc:114] Feedback manager requires a model with a single signature inference. Disabling support for feedback tensors.\n",
      "W0000 00:00:1730661764.190586    3404 inference_feedback_manager.cc:114] Feedback manager requires a model with a single signature inference. Disabling support for feedback tensors.\n"
     ]
    },
    {
     "name": "stdout",
     "output_type": "stream",
     "text": [
      "Calculating time: 1.19572114944458\n",
      "Landmarks time: 1.191735029220581\n",
      "Check_landmarks time: 0.0002834796905517578\n",
      "Fragment: 413 from 610, mode: 'train'\n"
     ]
    },
    {
     "name": "stderr",
     "output_type": "stream",
     "text": [
      "I0000 00:00:1730661765.531793      17 task_runner.cc:85] GPU suport is not available: INTERNAL: ; RET_CHECK failure (mediapipe/gpu/gl_context_egl.cc:77) display != EGL_NO_DISPLAYeglGetDisplay() returned error 0x300c\n",
      "W0000 00:00:1730661765.641300    3412 inference_feedback_manager.cc:114] Feedback manager requires a model with a single signature inference. Disabling support for feedback tensors.\n",
      "W0000 00:00:1730661765.666137    3414 inference_feedback_manager.cc:114] Feedback manager requires a model with a single signature inference. Disabling support for feedback tensors.\n"
     ]
    },
    {
     "name": "stdout",
     "output_type": "stream",
     "text": [
      "Calculating time: 1.2393028736114502\n",
      "Landmarks time: 1.2357890605926514\n",
      "Check_landmarks time: 0.0002987384796142578\n",
      "Fragment: 414 from 610, mode: 'train'\n"
     ]
    },
    {
     "name": "stderr",
     "output_type": "stream",
     "text": [
      "I0000 00:00:1730661767.043703      17 task_runner.cc:85] GPU suport is not available: INTERNAL: ; RET_CHECK failure (mediapipe/gpu/gl_context_egl.cc:77) display != EGL_NO_DISPLAYeglGetDisplay() returned error 0x300c\n",
      "W0000 00:00:1730661767.152223    3419 inference_feedback_manager.cc:114] Feedback manager requires a model with a single signature inference. Disabling support for feedback tensors.\n",
      "W0000 00:00:1730661767.177393    3421 inference_feedback_manager.cc:114] Feedback manager requires a model with a single signature inference. Disabling support for feedback tensors.\n"
     ]
    },
    {
     "name": "stdout",
     "output_type": "stream",
     "text": [
      "Calculating time: 1.2475895881652832\n",
      "Landmarks time: 1.2439861297607422\n",
      "Check_landmarks time: 0.0002899169921875\n",
      "Fragment: 415 from 610, mode: 'train'\n"
     ]
    },
    {
     "name": "stderr",
     "output_type": "stream",
     "text": [
      "I0000 00:00:1730661768.553946      17 task_runner.cc:85] GPU suport is not available: INTERNAL: ; RET_CHECK failure (mediapipe/gpu/gl_context_egl.cc:77) display != EGL_NO_DISPLAYeglGetDisplay() returned error 0x300c\n",
      "W0000 00:00:1730661768.651750    3428 inference_feedback_manager.cc:114] Feedback manager requires a model with a single signature inference. Disabling support for feedback tensors.\n",
      "W0000 00:00:1730661768.683527    3429 inference_feedback_manager.cc:114] Feedback manager requires a model with a single signature inference. Disabling support for feedback tensors.\n"
     ]
    },
    {
     "name": "stdout",
     "output_type": "stream",
     "text": [
      "Calculating time: 1.1797444820404053\n",
      "Landmarks time: 1.176203966140747\n",
      "Check_landmarks time: 0.00035691261291503906\n",
      "Fragment: 416 from 610, mode: 'train'\n"
     ]
    },
    {
     "name": "stderr",
     "output_type": "stream",
     "text": [
      "I0000 00:00:1730661770.008816      17 task_runner.cc:85] GPU suport is not available: INTERNAL: ; RET_CHECK failure (mediapipe/gpu/gl_context_egl.cc:77) display != EGL_NO_DISPLAYeglGetDisplay() returned error 0x300c\n",
      "W0000 00:00:1730661770.107506    3438 inference_feedback_manager.cc:114] Feedback manager requires a model with a single signature inference. Disabling support for feedback tensors.\n",
      "W0000 00:00:1730661770.132130    3437 inference_feedback_manager.cc:114] Feedback manager requires a model with a single signature inference. Disabling support for feedback tensors.\n"
     ]
    },
    {
     "name": "stdout",
     "output_type": "stream",
     "text": [
      "Calculating time: 1.252140998840332\n",
      "Landmarks time: 1.2484877109527588\n",
      "Check_landmarks time: 0.0006473064422607422\n",
      "Fragment: 417 from 610, mode: 'train'\n"
     ]
    },
    {
     "name": "stderr",
     "output_type": "stream",
     "text": [
      "I0000 00:00:1730661771.546446      17 task_runner.cc:85] GPU suport is not available: INTERNAL: ; RET_CHECK failure (mediapipe/gpu/gl_context_egl.cc:77) display != EGL_NO_DISPLAYeglGetDisplay() returned error 0x300c\n",
      "W0000 00:00:1730661771.645124    3443 inference_feedback_manager.cc:114] Feedback manager requires a model with a single signature inference. Disabling support for feedback tensors.\n",
      "W0000 00:00:1730661771.669938    3443 inference_feedback_manager.cc:114] Feedback manager requires a model with a single signature inference. Disabling support for feedback tensors.\n"
     ]
    },
    {
     "name": "stdout",
     "output_type": "stream",
     "text": [
      "Calculating time: 1.2108781337738037\n",
      "Landmarks time: 1.2070238590240479\n",
      "Check_landmarks time: 0.00036597251892089844\n",
      "Fragment: 418 from 610, mode: 'train'\n"
     ]
    },
    {
     "name": "stderr",
     "output_type": "stream",
     "text": [
      "I0000 00:00:1730661773.073405      17 task_runner.cc:85] GPU suport is not available: INTERNAL: ; RET_CHECK failure (mediapipe/gpu/gl_context_egl.cc:77) display != EGL_NO_DISPLAYeglGetDisplay() returned error 0x300c\n",
      "W0000 00:00:1730661773.171973    3451 inference_feedback_manager.cc:114] Feedback manager requires a model with a single signature inference. Disabling support for feedback tensors.\n",
      "W0000 00:00:1730661773.212197    3451 inference_feedback_manager.cc:114] Feedback manager requires a model with a single signature inference. Disabling support for feedback tensors.\n"
     ]
    },
    {
     "name": "stdout",
     "output_type": "stream",
     "text": [
      "Calculating time: 1.1859872341156006\n",
      "Landmarks time: 1.1825120449066162\n",
      "Check_landmarks time: 0.00033593177795410156\n",
      "Fragment: 419 from 610, mode: 'train'\n"
     ]
    },
    {
     "name": "stderr",
     "output_type": "stream",
     "text": [
      "I0000 00:00:1730661774.514826      17 task_runner.cc:85] GPU suport is not available: INTERNAL: ; RET_CHECK failure (mediapipe/gpu/gl_context_egl.cc:77) display != EGL_NO_DISPLAYeglGetDisplay() returned error 0x300c\n",
      "W0000 00:00:1730661774.624305    3460 inference_feedback_manager.cc:114] Feedback manager requires a model with a single signature inference. Disabling support for feedback tensors.\n",
      "W0000 00:00:1730661774.655619    3460 inference_feedback_manager.cc:114] Feedback manager requires a model with a single signature inference. Disabling support for feedback tensors.\n"
     ]
    },
    {
     "name": "stdout",
     "output_type": "stream",
     "text": [
      "Calculating time: 1.2218835353851318\n",
      "Landmarks time: 1.218447208404541\n",
      "Check_landmarks time: 0.00030803680419921875\n",
      "Fragment: 420 from 610, mode: 'train'\n"
     ]
    },
    {
     "name": "stderr",
     "output_type": "stream",
     "text": [
      "I0000 00:00:1730661776.029157      17 task_runner.cc:85] GPU suport is not available: INTERNAL: ; RET_CHECK failure (mediapipe/gpu/gl_context_egl.cc:77) display != EGL_NO_DISPLAYeglGetDisplay() returned error 0x300c\n",
      "W0000 00:00:1730661776.135145    3468 inference_feedback_manager.cc:114] Feedback manager requires a model with a single signature inference. Disabling support for feedback tensors.\n",
      "W0000 00:00:1730661776.164444    3468 inference_feedback_manager.cc:114] Feedback manager requires a model with a single signature inference. Disabling support for feedback tensors.\n"
     ]
    },
    {
     "name": "stdout",
     "output_type": "stream",
     "text": [
      "Calculating time: 1.2901861667633057\n",
      "Landmarks time: 1.2886455059051514\n",
      "Check_landmarks time: 0.0005950927734375\n",
      "Fragment: 421 from 610, mode: 'train'\n"
     ]
    },
    {
     "name": "stderr",
     "output_type": "stream",
     "text": [
      "I0000 00:00:1730661777.515218      17 task_runner.cc:85] GPU suport is not available: INTERNAL: ; RET_CHECK failure (mediapipe/gpu/gl_context_egl.cc:77) display != EGL_NO_DISPLAYeglGetDisplay() returned error 0x300c\n",
      "W0000 00:00:1730661777.613832    3477 inference_feedback_manager.cc:114] Feedback manager requires a model with a single signature inference. Disabling support for feedback tensors.\n",
      "W0000 00:00:1730661777.638412    3477 inference_feedback_manager.cc:114] Feedback manager requires a model with a single signature inference. Disabling support for feedback tensors.\n"
     ]
    },
    {
     "name": "stdout",
     "output_type": "stream",
     "text": [
      "Not valid sequence\n",
      "Calculating time: 0.645470142364502\n",
      "Landmarks time: 0.6402630805969238\n",
      "Check_landmarks time: 0.0017437934875488281\n",
      "Fragment: 422 from 610, mode: 'train'\n"
     ]
    },
    {
     "name": "stderr",
     "output_type": "stream",
     "text": [
      "I0000 00:00:1730661778.620127      17 task_runner.cc:85] GPU suport is not available: INTERNAL: ; RET_CHECK failure (mediapipe/gpu/gl_context_egl.cc:77) display != EGL_NO_DISPLAYeglGetDisplay() returned error 0x300c\n",
      "W0000 00:00:1730661778.718797    3485 inference_feedback_manager.cc:114] Feedback manager requires a model with a single signature inference. Disabling support for feedback tensors.\n",
      "W0000 00:00:1730661778.743586    3483 inference_feedback_manager.cc:114] Feedback manager requires a model with a single signature inference. Disabling support for feedback tensors.\n"
     ]
    },
    {
     "name": "stdout",
     "output_type": "stream",
     "text": [
      "Calculating time: 1.6151106357574463\n",
      "Landmarks time: 1.6068713665008545\n",
      "Check_landmarks time: 0.0076677799224853516\n",
      "Fragment: 423 from 610, mode: 'train'\n"
     ]
    },
    {
     "name": "stderr",
     "output_type": "stream",
     "text": [
      "I0000 00:00:1730661780.975034      17 task_runner.cc:85] GPU suport is not available: INTERNAL: ; RET_CHECK failure (mediapipe/gpu/gl_context_egl.cc:77) display != EGL_NO_DISPLAYeglGetDisplay() returned error 0x300c\n",
      "W0000 00:00:1730661781.072621    3494 inference_feedback_manager.cc:114] Feedback manager requires a model with a single signature inference. Disabling support for feedback tensors.\n",
      "W0000 00:00:1730661781.097409    3491 inference_feedback_manager.cc:114] Feedback manager requires a model with a single signature inference. Disabling support for feedback tensors.\n"
     ]
    },
    {
     "name": "stdout",
     "output_type": "stream",
     "text": [
      "Not valid sequence\n",
      "Calculating time: 1.6450190544128418\n",
      "Landmarks time: 1.630127191543579\n",
      "Check_landmarks time: 0.007891416549682617\n",
      "Fragment: 424 from 610, mode: 'train'\n"
     ]
    },
    {
     "name": "stderr",
     "output_type": "stream",
     "text": [
      "I0000 00:00:1730661783.663960      17 task_runner.cc:85] GPU suport is not available: INTERNAL: ; RET_CHECK failure (mediapipe/gpu/gl_context_egl.cc:77) display != EGL_NO_DISPLAYeglGetDisplay() returned error 0x300c\n",
      "W0000 00:00:1730661783.762195    3500 inference_feedback_manager.cc:114] Feedback manager requires a model with a single signature inference. Disabling support for feedback tensors.\n",
      "W0000 00:00:1730661783.787215    3501 inference_feedback_manager.cc:114] Feedback manager requires a model with a single signature inference. Disabling support for feedback tensors.\n"
     ]
    },
    {
     "name": "stdout",
     "output_type": "stream",
     "text": [
      "Not valid sequence\n",
      "Calculating time: 1.566857099533081\n",
      "Landmarks time: 1.5520813465118408\n",
      "Check_landmarks time: 0.00790095329284668\n",
      "Fragment: 425 from 610, mode: 'train'\n"
     ]
    },
    {
     "name": "stderr",
     "output_type": "stream",
     "text": [
      "I0000 00:00:1730661786.482762      17 task_runner.cc:85] GPU suport is not available: INTERNAL: ; RET_CHECK failure (mediapipe/gpu/gl_context_egl.cc:77) display != EGL_NO_DISPLAYeglGetDisplay() returned error 0x300c\n",
      "W0000 00:00:1730661786.591336    3508 inference_feedback_manager.cc:114] Feedback manager requires a model with a single signature inference. Disabling support for feedback tensors.\n",
      "W0000 00:00:1730661786.616422    3509 inference_feedback_manager.cc:114] Feedback manager requires a model with a single signature inference. Disabling support for feedback tensors.\n"
     ]
    },
    {
     "name": "stdout",
     "output_type": "stream",
     "text": [
      "Not valid sequence\n",
      "Calculating time: 1.6569442749023438\n",
      "Landmarks time: 1.6430902481079102\n",
      "Check_landmarks time: 0.00799560546875\n",
      "Fragment: 426 from 610, mode: 'train'\n"
     ]
    },
    {
     "name": "stderr",
     "output_type": "stream",
     "text": [
      "I0000 00:00:1730661789.684663      17 task_runner.cc:85] GPU suport is not available: INTERNAL: ; RET_CHECK failure (mediapipe/gpu/gl_context_egl.cc:77) display != EGL_NO_DISPLAYeglGetDisplay() returned error 0x300c\n",
      "W0000 00:00:1730661789.793372    3516 inference_feedback_manager.cc:114] Feedback manager requires a model with a single signature inference. Disabling support for feedback tensors.\n",
      "W0000 00:00:1730661789.824757    3518 inference_feedback_manager.cc:114] Feedback manager requires a model with a single signature inference. Disabling support for feedback tensors.\n"
     ]
    },
    {
     "name": "stdout",
     "output_type": "stream",
     "text": [
      "Not valid sequence\n",
      "Calculating time: 1.6588101387023926\n",
      "Landmarks time: 1.6435308456420898\n",
      "Check_landmarks time: 0.007851362228393555\n",
      "Fragment: 427 from 610, mode: 'train'\n"
     ]
    },
    {
     "name": "stderr",
     "output_type": "stream",
     "text": [
      "I0000 00:00:1730661793.193985      17 task_runner.cc:85] GPU suport is not available: INTERNAL: ; RET_CHECK failure (mediapipe/gpu/gl_context_egl.cc:77) display != EGL_NO_DISPLAYeglGetDisplay() returned error 0x300c\n",
      "W0000 00:00:1730661793.291372    3524 inference_feedback_manager.cc:114] Feedback manager requires a model with a single signature inference. Disabling support for feedback tensors.\n",
      "W0000 00:00:1730661793.315711    3524 inference_feedback_manager.cc:114] Feedback manager requires a model with a single signature inference. Disabling support for feedback tensors.\n"
     ]
    },
    {
     "name": "stdout",
     "output_type": "stream",
     "text": [
      "Not valid sequence\n",
      "Calculating time: 1.4187767505645752\n",
      "Landmarks time: 1.4045658111572266\n",
      "Check_landmarks time: 0.0075531005859375\n",
      "Fragment: 428 from 610, mode: 'train'\n"
     ]
    },
    {
     "name": "stderr",
     "output_type": "stream",
     "text": [
      "I0000 00:00:1730661795.451242      17 task_runner.cc:85] GPU suport is not available: INTERNAL: ; RET_CHECK failure (mediapipe/gpu/gl_context_egl.cc:77) display != EGL_NO_DISPLAYeglGetDisplay() returned error 0x300c\n",
      "W0000 00:00:1730661795.548622    3532 inference_feedback_manager.cc:114] Feedback manager requires a model with a single signature inference. Disabling support for feedback tensors.\n",
      "W0000 00:00:1730661795.573455    3533 inference_feedback_manager.cc:114] Feedback manager requires a model with a single signature inference. Disabling support for feedback tensors.\n"
     ]
    },
    {
     "name": "stdout",
     "output_type": "stream",
     "text": [
      "Not valid sequence\n",
      "Calculating time: 1.393418788909912\n",
      "Landmarks time: 1.3785820007324219\n",
      "Check_landmarks time: 0.008223533630371094\n",
      "Fragment: 429 from 610, mode: 'train'\n"
     ]
    },
    {
     "name": "stderr",
     "output_type": "stream",
     "text": [
      "I0000 00:00:1730661798.057885      17 task_runner.cc:85] GPU suport is not available: INTERNAL: ; RET_CHECK failure (mediapipe/gpu/gl_context_egl.cc:77) display != EGL_NO_DISPLAYeglGetDisplay() returned error 0x300c\n",
      "W0000 00:00:1730661798.166702    3541 inference_feedback_manager.cc:114] Feedback manager requires a model with a single signature inference. Disabling support for feedback tensors.\n",
      "W0000 00:00:1730661798.191724    3540 inference_feedback_manager.cc:114] Feedback manager requires a model with a single signature inference. Disabling support for feedback tensors.\n"
     ]
    },
    {
     "name": "stdout",
     "output_type": "stream",
     "text": [
      "Calculating time: 1.2981805801391602\n",
      "Landmarks time: 1.2870800495147705\n",
      "Check_landmarks time: 0.004450798034667969\n",
      "Fragment: 430 from 610, mode: 'train'\n"
     ]
    },
    {
     "name": "stderr",
     "output_type": "stream",
     "text": [
      "I0000 00:00:1730661800.056468      17 task_runner.cc:85] GPU suport is not available: INTERNAL: ; RET_CHECK failure (mediapipe/gpu/gl_context_egl.cc:77) display != EGL_NO_DISPLAYeglGetDisplay() returned error 0x300c\n",
      "W0000 00:00:1730661800.172157    3548 inference_feedback_manager.cc:114] Feedback manager requires a model with a single signature inference. Disabling support for feedback tensors.\n",
      "W0000 00:00:1730661800.216769    3550 inference_feedback_manager.cc:114] Feedback manager requires a model with a single signature inference. Disabling support for feedback tensors.\n"
     ]
    },
    {
     "name": "stdout",
     "output_type": "stream",
     "text": [
      "Calculating time: 1.3197143077850342\n",
      "Landmarks time: 1.3129076957702637\n",
      "Check_landmarks time: 0.0002963542938232422\n",
      "Fragment: 431 from 610, mode: 'train'\n"
     ]
    },
    {
     "name": "stderr",
     "output_type": "stream",
     "text": [
      "I0000 00:00:1730661802.346091      17 task_runner.cc:85] GPU suport is not available: INTERNAL: ; RET_CHECK failure (mediapipe/gpu/gl_context_egl.cc:77) display != EGL_NO_DISPLAYeglGetDisplay() returned error 0x300c\n",
      "W0000 00:00:1730661802.455493    3557 inference_feedback_manager.cc:114] Feedback manager requires a model with a single signature inference. Disabling support for feedback tensors.\n",
      "W0000 00:00:1730661802.489654    3557 inference_feedback_manager.cc:114] Feedback manager requires a model with a single signature inference. Disabling support for feedback tensors.\n"
     ]
    },
    {
     "name": "stdout",
     "output_type": "stream",
     "text": [
      "Calculating time: 1.4038829803466797\n",
      "Landmarks time: 1.3968935012817383\n",
      "Check_landmarks time: 0.00034809112548828125\n",
      "Fragment: 432 from 610, mode: 'train'\n"
     ]
    },
    {
     "name": "stderr",
     "output_type": "stream",
     "text": [
      "I0000 00:00:1730661804.527762      17 task_runner.cc:85] GPU suport is not available: INTERNAL: ; RET_CHECK failure (mediapipe/gpu/gl_context_egl.cc:77) display != EGL_NO_DISPLAYeglGetDisplay() returned error 0x300c\n",
      "W0000 00:00:1730661804.636589    3564 inference_feedback_manager.cc:114] Feedback manager requires a model with a single signature inference. Disabling support for feedback tensors.\n",
      "W0000 00:00:1730661804.661518    3563 inference_feedback_manager.cc:114] Feedback manager requires a model with a single signature inference. Disabling support for feedback tensors.\n"
     ]
    },
    {
     "name": "stdout",
     "output_type": "stream",
     "text": [
      "Calculating time: 1.3673896789550781\n",
      "Landmarks time: 1.359799861907959\n",
      "Check_landmarks time: 0.0002968311309814453\n",
      "Fragment: 433 from 610, mode: 'train'\n"
     ]
    },
    {
     "name": "stderr",
     "output_type": "stream",
     "text": [
      "I0000 00:00:1730661806.954542      17 task_runner.cc:85] GPU suport is not available: INTERNAL: ; RET_CHECK failure (mediapipe/gpu/gl_context_egl.cc:77) display != EGL_NO_DISPLAYeglGetDisplay() returned error 0x300c\n",
      "W0000 00:00:1730661807.061896    3573 inference_feedback_manager.cc:114] Feedback manager requires a model with a single signature inference. Disabling support for feedback tensors.\n",
      "W0000 00:00:1730661807.096970    3573 inference_feedback_manager.cc:114] Feedback manager requires a model with a single signature inference. Disabling support for feedback tensors.\n"
     ]
    },
    {
     "name": "stdout",
     "output_type": "stream",
     "text": [
      "Calculating time: 1.3640315532684326\n",
      "Landmarks time: 1.3568754196166992\n",
      "Check_landmarks time: 0.00030612945556640625\n",
      "Fragment: 434 from 610, mode: 'train'\n"
     ]
    },
    {
     "name": "stderr",
     "output_type": "stream",
     "text": [
      "I0000 00:00:1730661809.936004      17 task_runner.cc:85] GPU suport is not available: INTERNAL: ; RET_CHECK failure (mediapipe/gpu/gl_context_egl.cc:77) display != EGL_NO_DISPLAYeglGetDisplay() returned error 0x300c\n",
      "W0000 00:00:1730661810.045527    3582 inference_feedback_manager.cc:114] Feedback manager requires a model with a single signature inference. Disabling support for feedback tensors.\n",
      "W0000 00:00:1730661810.077303    3581 inference_feedback_manager.cc:114] Feedback manager requires a model with a single signature inference. Disabling support for feedback tensors.\n"
     ]
    },
    {
     "name": "stdout",
     "output_type": "stream",
     "text": [
      "Calculating time: 1.3752267360687256\n",
      "Landmarks time: 1.3688030242919922\n",
      "Check_landmarks time: 0.0002999305725097656\n",
      "Fragment: 435 from 610, mode: 'train'\n"
     ]
    },
    {
     "name": "stderr",
     "output_type": "stream",
     "text": [
      "I0000 00:00:1730661813.024844      17 task_runner.cc:85] GPU suport is not available: INTERNAL: ; RET_CHECK failure (mediapipe/gpu/gl_context_egl.cc:77) display != EGL_NO_DISPLAYeglGetDisplay() returned error 0x300c\n",
      "W0000 00:00:1730661813.133367    3587 inference_feedback_manager.cc:114] Feedback manager requires a model with a single signature inference. Disabling support for feedback tensors.\n",
      "W0000 00:00:1730661813.164817    3587 inference_feedback_manager.cc:114] Feedback manager requires a model with a single signature inference. Disabling support for feedback tensors.\n"
     ]
    },
    {
     "name": "stdout",
     "output_type": "stream",
     "text": [
      "Calculating time: 1.383680820465088\n",
      "Landmarks time: 1.3763432502746582\n",
      "Check_landmarks time: 0.0003001689910888672\n",
      "Fragment: 436 from 610, mode: 'train'\n"
     ]
    },
    {
     "name": "stderr",
     "output_type": "stream",
     "text": [
      "I0000 00:00:1730661816.367664      17 task_runner.cc:85] GPU suport is not available: INTERNAL: ; RET_CHECK failure (mediapipe/gpu/gl_context_egl.cc:77) display != EGL_NO_DISPLAYeglGetDisplay() returned error 0x300c\n",
      "W0000 00:00:1730661816.465148    3595 inference_feedback_manager.cc:114] Feedback manager requires a model with a single signature inference. Disabling support for feedback tensors.\n",
      "W0000 00:00:1730661816.495761    3595 inference_feedback_manager.cc:114] Feedback manager requires a model with a single signature inference. Disabling support for feedback tensors.\n"
     ]
    },
    {
     "name": "stdout",
     "output_type": "stream",
     "text": [
      "Calculating time: 1.293370008468628\n",
      "Landmarks time: 1.286564588546753\n",
      "Check_landmarks time: 0.00030040740966796875\n",
      "Fragment: 437 from 610, mode: 'train'\n"
     ]
    },
    {
     "name": "stderr",
     "output_type": "stream",
     "text": [
      "I0000 00:00:1730661818.483186      17 task_runner.cc:85] GPU suport is not available: INTERNAL: ; RET_CHECK failure (mediapipe/gpu/gl_context_egl.cc:77) display != EGL_NO_DISPLAYeglGetDisplay() returned error 0x300c\n",
      "W0000 00:00:1730661818.592143    3603 inference_feedback_manager.cc:114] Feedback manager requires a model with a single signature inference. Disabling support for feedback tensors.\n",
      "W0000 00:00:1730661818.617230    3606 inference_feedback_manager.cc:114] Feedback manager requires a model with a single signature inference. Disabling support for feedback tensors.\n"
     ]
    },
    {
     "name": "stdout",
     "output_type": "stream",
     "text": [
      "Calculating time: 1.3732812404632568\n",
      "Landmarks time: 1.3665688037872314\n",
      "Check_landmarks time: 0.0002875328063964844\n",
      "Fragment: 438 from 610, mode: 'train'\n"
     ]
    },
    {
     "name": "stderr",
     "output_type": "stream",
     "text": [
      "I0000 00:00:1730661821.023351      17 task_runner.cc:85] GPU suport is not available: INTERNAL: ; RET_CHECK failure (mediapipe/gpu/gl_context_egl.cc:77) display != EGL_NO_DISPLAYeglGetDisplay() returned error 0x300c\n",
      "W0000 00:00:1730661821.131898    3613 inference_feedback_manager.cc:114] Feedback manager requires a model with a single signature inference. Disabling support for feedback tensors.\n",
      "W0000 00:00:1730661821.156370    3614 inference_feedback_manager.cc:114] Feedback manager requires a model with a single signature inference. Disabling support for feedback tensors.\n"
     ]
    },
    {
     "name": "stdout",
     "output_type": "stream",
     "text": [
      "Calculating time: 1.3588998317718506\n",
      "Landmarks time: 1.3506896495819092\n",
      "Check_landmarks time: 0.0002913475036621094\n",
      "Fragment: 439 from 610, mode: 'train'\n"
     ]
    },
    {
     "name": "stderr",
     "output_type": "stream",
     "text": [
      "I0000 00:00:1730661823.913933      17 task_runner.cc:85] GPU suport is not available: INTERNAL: ; RET_CHECK failure (mediapipe/gpu/gl_context_egl.cc:77) display != EGL_NO_DISPLAYeglGetDisplay() returned error 0x300c\n",
      "W0000 00:00:1730661824.022136    3620 inference_feedback_manager.cc:114] Feedback manager requires a model with a single signature inference. Disabling support for feedback tensors.\n",
      "W0000 00:00:1730661824.048394    3622 inference_feedback_manager.cc:114] Feedback manager requires a model with a single signature inference. Disabling support for feedback tensors.\n"
     ]
    },
    {
     "name": "stdout",
     "output_type": "stream",
     "text": [
      "Calculating time: 1.3260259628295898\n",
      "Landmarks time: 1.3181943893432617\n",
      "Check_landmarks time: 0.0009958744049072266\n",
      "Fragment: 440 from 610, mode: 'train'\n"
     ]
    },
    {
     "name": "stderr",
     "output_type": "stream",
     "text": [
      "I0000 00:00:1730661825.961919      17 task_runner.cc:85] GPU suport is not available: INTERNAL: ; RET_CHECK failure (mediapipe/gpu/gl_context_egl.cc:77) display != EGL_NO_DISPLAYeglGetDisplay() returned error 0x300c\n",
      "W0000 00:00:1730661826.070545    3630 inference_feedback_manager.cc:114] Feedback manager requires a model with a single signature inference. Disabling support for feedback tensors.\n",
      "W0000 00:00:1730661826.095279    3628 inference_feedback_manager.cc:114] Feedback manager requires a model with a single signature inference. Disabling support for feedback tensors.\n"
     ]
    },
    {
     "name": "stdout",
     "output_type": "stream",
     "text": [
      "Calculating time: 1.3825998306274414\n",
      "Landmarks time: 1.3764417171478271\n",
      "Check_landmarks time: 0.00031280517578125\n",
      "Fragment: 441 from 610, mode: 'train'\n"
     ]
    },
    {
     "name": "stderr",
     "output_type": "stream",
     "text": [
      "I0000 00:00:1730661828.422805      17 task_runner.cc:85] GPU suport is not available: INTERNAL: ; RET_CHECK failure (mediapipe/gpu/gl_context_egl.cc:77) display != EGL_NO_DISPLAYeglGetDisplay() returned error 0x300c\n",
      "W0000 00:00:1730661828.520630    3636 inference_feedback_manager.cc:114] Feedback manager requires a model with a single signature inference. Disabling support for feedback tensors.\n",
      "W0000 00:00:1730661828.545028    3636 inference_feedback_manager.cc:114] Feedback manager requires a model with a single signature inference. Disabling support for feedback tensors.\n"
     ]
    },
    {
     "name": "stdout",
     "output_type": "stream",
     "text": [
      "Calculating time: 1.3541772365570068\n",
      "Landmarks time: 1.3469583988189697\n",
      "Check_landmarks time: 0.00029349327087402344\n",
      "Fragment: 442 from 610, mode: 'train'\n"
     ]
    },
    {
     "name": "stderr",
     "output_type": "stream",
     "text": [
      "I0000 00:00:1730661830.449323      17 task_runner.cc:85] GPU suport is not available: INTERNAL: ; RET_CHECK failure (mediapipe/gpu/gl_context_egl.cc:77) display != EGL_NO_DISPLAYeglGetDisplay() returned error 0x300c\n",
      "W0000 00:00:1730661830.546739    3645 inference_feedback_manager.cc:114] Feedback manager requires a model with a single signature inference. Disabling support for feedback tensors.\n",
      "W0000 00:00:1730661830.570971    3645 inference_feedback_manager.cc:114] Feedback manager requires a model with a single signature inference. Disabling support for feedback tensors.\n"
     ]
    },
    {
     "name": "stdout",
     "output_type": "stream",
     "text": [
      "Calculating time: 1.286573886871338\n",
      "Landmarks time: 1.2791016101837158\n",
      "Check_landmarks time: 0.00030493736267089844\n",
      "Fragment: 443 from 610, mode: 'train'\n"
     ]
    },
    {
     "name": "stderr",
     "output_type": "stream",
     "text": [
      "I0000 00:00:1730661832.769366      17 task_runner.cc:85] GPU suport is not available: INTERNAL: ; RET_CHECK failure (mediapipe/gpu/gl_context_egl.cc:77) display != EGL_NO_DISPLAYeglGetDisplay() returned error 0x300c\n",
      "W0000 00:00:1730661832.891918    3654 inference_feedback_manager.cc:114] Feedback manager requires a model with a single signature inference. Disabling support for feedback tensors.\n",
      "W0000 00:00:1730661832.916434    3654 inference_feedback_manager.cc:114] Feedback manager requires a model with a single signature inference. Disabling support for feedback tensors.\n"
     ]
    },
    {
     "name": "stdout",
     "output_type": "stream",
     "text": [
      "Calculating time: 1.3845241069793701\n",
      "Landmarks time: 1.3781189918518066\n",
      "Check_landmarks time: 0.00029969215393066406\n",
      "Fragment: 444 from 610, mode: 'train'\n"
     ]
    },
    {
     "name": "stderr",
     "output_type": "stream",
     "text": [
      "I0000 00:00:1730661834.801804      17 task_runner.cc:85] GPU suport is not available: INTERNAL: ; RET_CHECK failure (mediapipe/gpu/gl_context_egl.cc:77) display != EGL_NO_DISPLAYeglGetDisplay() returned error 0x300c\n",
      "W0000 00:00:1730661834.898939    3660 inference_feedback_manager.cc:114] Feedback manager requires a model with a single signature inference. Disabling support for feedback tensors.\n",
      "W0000 00:00:1730661834.923956    3659 inference_feedback_manager.cc:114] Feedback manager requires a model with a single signature inference. Disabling support for feedback tensors.\n"
     ]
    },
    {
     "name": "stdout",
     "output_type": "stream",
     "text": [
      "Calculating time: 1.357654094696045\n",
      "Landmarks time: 1.3505170345306396\n",
      "Check_landmarks time: 0.00030875205993652344\n",
      "Fragment: 445 from 610, mode: 'train'\n"
     ]
    },
    {
     "name": "stderr",
     "output_type": "stream",
     "text": [
      "I0000 00:00:1730661837.129297      17 task_runner.cc:85] GPU suport is not available: INTERNAL: ; RET_CHECK failure (mediapipe/gpu/gl_context_egl.cc:77) display != EGL_NO_DISPLAYeglGetDisplay() returned error 0x300c\n",
      "W0000 00:00:1730661837.227550    3667 inference_feedback_manager.cc:114] Feedback manager requires a model with a single signature inference. Disabling support for feedback tensors.\n",
      "W0000 00:00:1730661837.252298    3668 inference_feedback_manager.cc:114] Feedback manager requires a model with a single signature inference. Disabling support for feedback tensors.\n"
     ]
    },
    {
     "name": "stdout",
     "output_type": "stream",
     "text": [
      "Calculating time: 1.2894165515899658\n",
      "Landmarks time: 1.2823259830474854\n",
      "Check_landmarks time: 0.00028634071350097656\n",
      "Fragment: 446 from 610, mode: 'train'\n"
     ]
    },
    {
     "name": "stderr",
     "output_type": "stream",
     "text": [
      "I0000 00:00:1730661839.708100      17 task_runner.cc:85] GPU suport is not available: INTERNAL: ; RET_CHECK failure (mediapipe/gpu/gl_context_egl.cc:77) display != EGL_NO_DISPLAYeglGetDisplay() returned error 0x300c\n",
      "W0000 00:00:1730661839.806326    3676 inference_feedback_manager.cc:114] Feedback manager requires a model with a single signature inference. Disabling support for feedback tensors.\n",
      "W0000 00:00:1730661839.830795    3675 inference_feedback_manager.cc:114] Feedback manager requires a model with a single signature inference. Disabling support for feedback tensors.\n"
     ]
    },
    {
     "name": "stdout",
     "output_type": "stream",
     "text": [
      "Calculating time: 1.4528260231018066\n",
      "Landmarks time: 1.4463562965393066\n",
      "Check_landmarks time: 0.0002989768981933594\n",
      "Fragment: 447 from 610, mode: 'train'\n"
     ]
    },
    {
     "name": "stderr",
     "output_type": "stream",
     "text": [
      "I0000 00:00:1730661841.947597      17 task_runner.cc:85] GPU suport is not available: INTERNAL: ; RET_CHECK failure (mediapipe/gpu/gl_context_egl.cc:77) display != EGL_NO_DISPLAYeglGetDisplay() returned error 0x300c\n",
      "W0000 00:00:1730661842.047460    3683 inference_feedback_manager.cc:114] Feedback manager requires a model with a single signature inference. Disabling support for feedback tensors.\n",
      "W0000 00:00:1730661842.078957    3686 inference_feedback_manager.cc:114] Feedback manager requires a model with a single signature inference. Disabling support for feedback tensors.\n"
     ]
    },
    {
     "name": "stdout",
     "output_type": "stream",
     "text": [
      "Calculating time: 1.4320194721221924\n",
      "Landmarks time: 1.4234185218811035\n",
      "Check_landmarks time: 0.00146484375\n",
      "Fragment: 448 from 610, mode: 'train'\n"
     ]
    },
    {
     "name": "stderr",
     "output_type": "stream",
     "text": [
      "I0000 00:00:1730661844.037106      17 task_runner.cc:85] GPU suport is not available: INTERNAL: ; RET_CHECK failure (mediapipe/gpu/gl_context_egl.cc:77) display != EGL_NO_DISPLAYeglGetDisplay() returned error 0x300c\n",
      "W0000 00:00:1730661844.135545    3692 inference_feedback_manager.cc:114] Feedback manager requires a model with a single signature inference. Disabling support for feedback tensors.\n",
      "W0000 00:00:1730661844.159955    3691 inference_feedback_manager.cc:114] Feedback manager requires a model with a single signature inference. Disabling support for feedback tensors.\n"
     ]
    },
    {
     "name": "stdout",
     "output_type": "stream",
     "text": [
      "Calculating time: 1.3257896900177002\n",
      "Landmarks time: 1.317720890045166\n",
      "Check_landmarks time: 0.0014202594757080078\n",
      "Fragment: 449 from 610, mode: 'train'\n"
     ]
    },
    {
     "name": "stderr",
     "output_type": "stream",
     "text": [
      "I0000 00:00:1730661846.335403      17 task_runner.cc:85] GPU suport is not available: INTERNAL: ; RET_CHECK failure (mediapipe/gpu/gl_context_egl.cc:77) display != EGL_NO_DISPLAYeglGetDisplay() returned error 0x300c\n",
      "W0000 00:00:1730661846.445129    3701 inference_feedback_manager.cc:114] Feedback manager requires a model with a single signature inference. Disabling support for feedback tensors.\n",
      "W0000 00:00:1730661846.470103    3699 inference_feedback_manager.cc:114] Feedback manager requires a model with a single signature inference. Disabling support for feedback tensors.\n"
     ]
    },
    {
     "name": "stdout",
     "output_type": "stream",
     "text": [
      "Calculating time: 1.4412274360656738\n",
      "Landmarks time: 1.432912826538086\n",
      "Check_landmarks time: 0.0023202896118164062\n",
      "Fragment: 450 from 610, mode: 'train'\n"
     ]
    },
    {
     "name": "stderr",
     "output_type": "stream",
     "text": [
      "I0000 00:00:1730661849.038236      17 task_runner.cc:85] GPU suport is not available: INTERNAL: ; RET_CHECK failure (mediapipe/gpu/gl_context_egl.cc:77) display != EGL_NO_DISPLAYeglGetDisplay() returned error 0x300c\n",
      "W0000 00:00:1730661849.136773    3707 inference_feedback_manager.cc:114] Feedback manager requires a model with a single signature inference. Disabling support for feedback tensors.\n",
      "W0000 00:00:1730661849.161285    3709 inference_feedback_manager.cc:114] Feedback manager requires a model with a single signature inference. Disabling support for feedback tensors.\n"
     ]
    },
    {
     "name": "stdout",
     "output_type": "stream",
     "text": [
      "Calculating time: 1.4867510795593262\n",
      "Landmarks time: 1.4760589599609375\n",
      "Check_landmarks time: 0.003614664077758789\n",
      "Fragment: 451 from 610, mode: 'train'\n"
     ]
    },
    {
     "name": "stderr",
     "output_type": "stream",
     "text": [
      "I0000 00:00:1730661852.067298      17 task_runner.cc:85] GPU suport is not available: INTERNAL: ; RET_CHECK failure (mediapipe/gpu/gl_context_egl.cc:77) display != EGL_NO_DISPLAYeglGetDisplay() returned error 0x300c\n",
      "W0000 00:00:1730661852.166216    3716 inference_feedback_manager.cc:114] Feedback manager requires a model with a single signature inference. Disabling support for feedback tensors.\n",
      "W0000 00:00:1730661852.190690    3716 inference_feedback_manager.cc:114] Feedback manager requires a model with a single signature inference. Disabling support for feedback tensors.\n"
     ]
    },
    {
     "name": "stdout",
     "output_type": "stream",
     "text": [
      "Calculating time: 1.3638391494750977\n",
      "Landmarks time: 1.3548452854156494\n",
      "Check_landmarks time: 0.0023403167724609375\n",
      "Fragment: 452 from 610, mode: 'train'\n"
     ]
    },
    {
     "name": "stderr",
     "output_type": "stream",
     "text": [
      "I0000 00:00:1730661855.258205      17 task_runner.cc:85] GPU suport is not available: INTERNAL: ; RET_CHECK failure (mediapipe/gpu/gl_context_egl.cc:77) display != EGL_NO_DISPLAYeglGetDisplay() returned error 0x300c\n",
      "W0000 00:00:1730661855.356136    3725 inference_feedback_manager.cc:114] Feedback manager requires a model with a single signature inference. Disabling support for feedback tensors.\n",
      "W0000 00:00:1730661855.380800    3726 inference_feedback_manager.cc:114] Feedback manager requires a model with a single signature inference. Disabling support for feedback tensors.\n"
     ]
    },
    {
     "name": "stdout",
     "output_type": "stream",
     "text": [
      "Calculating time: 1.4637067317962646\n",
      "Landmarks time: 1.454650640487671\n",
      "Check_landmarks time: 0.0031931400299072266\n",
      "Fragment: 453 from 610, mode: 'train'\n"
     ]
    },
    {
     "name": "stderr",
     "output_type": "stream",
     "text": [
      "I0000 00:00:1730661857.380714      17 task_runner.cc:85] GPU suport is not available: INTERNAL: ; RET_CHECK failure (mediapipe/gpu/gl_context_egl.cc:77) display != EGL_NO_DISPLAYeglGetDisplay() returned error 0x300c\n",
      "W0000 00:00:1730661857.479661    3731 inference_feedback_manager.cc:114] Feedback manager requires a model with a single signature inference. Disabling support for feedback tensors.\n",
      "W0000 00:00:1730661857.511757    3732 inference_feedback_manager.cc:114] Feedback manager requires a model with a single signature inference. Disabling support for feedback tensors.\n"
     ]
    },
    {
     "name": "stdout",
     "output_type": "stream",
     "text": [
      "Calculating time: 1.4461302757263184\n",
      "Landmarks time: 1.4366166591644287\n",
      "Check_landmarks time: 0.0023260116577148438\n",
      "Fragment: 454 from 610, mode: 'train'\n"
     ]
    },
    {
     "name": "stderr",
     "output_type": "stream",
     "text": [
      "I0000 00:00:1730661859.816099      17 task_runner.cc:85] GPU suport is not available: INTERNAL: ; RET_CHECK failure (mediapipe/gpu/gl_context_egl.cc:77) display != EGL_NO_DISPLAYeglGetDisplay() returned error 0x300c\n",
      "W0000 00:00:1730661859.924290    3740 inference_feedback_manager.cc:114] Feedback manager requires a model with a single signature inference. Disabling support for feedback tensors.\n",
      "W0000 00:00:1730661859.948896    3742 inference_feedback_manager.cc:114] Feedback manager requires a model with a single signature inference. Disabling support for feedback tensors.\n"
     ]
    },
    {
     "name": "stdout",
     "output_type": "stream",
     "text": [
      "Calculating time: 1.3166234493255615\n",
      "Landmarks time: 1.3098630905151367\n",
      "Check_landmarks time: 0.0002777576446533203\n",
      "Fragment: 455 from 610, mode: 'train'\n"
     ]
    },
    {
     "name": "stderr",
     "output_type": "stream",
     "text": [
      "I0000 00:00:1730661862.426002      17 task_runner.cc:85] GPU suport is not available: INTERNAL: ; RET_CHECK failure (mediapipe/gpu/gl_context_egl.cc:77) display != EGL_NO_DISPLAYeglGetDisplay() returned error 0x300c\n",
      "W0000 00:00:1730661862.523997    3749 inference_feedback_manager.cc:114] Feedback manager requires a model with a single signature inference. Disabling support for feedback tensors.\n",
      "W0000 00:00:1730661862.548392    3749 inference_feedback_manager.cc:114] Feedback manager requires a model with a single signature inference. Disabling support for feedback tensors.\n"
     ]
    },
    {
     "name": "stdout",
     "output_type": "stream",
     "text": [
      "Calculating time: 1.3848958015441895\n",
      "Landmarks time: 1.3785033226013184\n",
      "Check_landmarks time: 0.00030231475830078125\n",
      "Fragment: 456 from 610, mode: 'train'\n"
     ]
    },
    {
     "name": "stderr",
     "output_type": "stream",
     "text": [
      "I0000 00:00:1730661864.762843      17 task_runner.cc:85] GPU suport is not available: INTERNAL: ; RET_CHECK failure (mediapipe/gpu/gl_context_egl.cc:77) display != EGL_NO_DISPLAYeglGetDisplay() returned error 0x300c\n",
      "W0000 00:00:1730661864.860801    3757 inference_feedback_manager.cc:114] Feedback manager requires a model with a single signature inference. Disabling support for feedback tensors.\n",
      "W0000 00:00:1730661864.885658    3756 inference_feedback_manager.cc:114] Feedback manager requires a model with a single signature inference. Disabling support for feedback tensors.\n"
     ]
    },
    {
     "name": "stdout",
     "output_type": "stream",
     "text": [
      "Calculating time: 1.3672521114349365\n",
      "Landmarks time: 1.3600037097930908\n",
      "Check_landmarks time: 0.0002961158752441406\n",
      "Fragment: 457 from 610, mode: 'train'\n"
     ]
    },
    {
     "name": "stderr",
     "output_type": "stream",
     "text": [
      "I0000 00:00:1730661867.402722      17 task_runner.cc:85] GPU suport is not available: INTERNAL: ; RET_CHECK failure (mediapipe/gpu/gl_context_egl.cc:77) display != EGL_NO_DISPLAYeglGetDisplay() returned error 0x300c\n",
      "W0000 00:00:1730661867.500738    3766 inference_feedback_manager.cc:114] Feedback manager requires a model with a single signature inference. Disabling support for feedback tensors.\n",
      "W0000 00:00:1730661867.525177    3766 inference_feedback_manager.cc:114] Feedback manager requires a model with a single signature inference. Disabling support for feedback tensors.\n"
     ]
    },
    {
     "name": "stdout",
     "output_type": "stream",
     "text": [
      "Calculating time: 1.2925124168395996\n",
      "Landmarks time: 1.2852528095245361\n",
      "Check_landmarks time: 0.0002815723419189453\n",
      "Fragment: 458 from 610, mode: 'train'\n"
     ]
    },
    {
     "name": "stderr",
     "output_type": "stream",
     "text": [
      "I0000 00:00:1730661870.270860      17 task_runner.cc:85] GPU suport is not available: INTERNAL: ; RET_CHECK failure (mediapipe/gpu/gl_context_egl.cc:77) display != EGL_NO_DISPLAYeglGetDisplay() returned error 0x300c\n",
      "W0000 00:00:1730661870.368567    3772 inference_feedback_manager.cc:114] Feedback manager requires a model with a single signature inference. Disabling support for feedback tensors.\n",
      "W0000 00:00:1730661870.393252    3774 inference_feedback_manager.cc:114] Feedback manager requires a model with a single signature inference. Disabling support for feedback tensors.\n"
     ]
    },
    {
     "name": "stdout",
     "output_type": "stream",
     "text": [
      "Calculating time: 1.365581750869751\n",
      "Landmarks time: 1.3584415912628174\n",
      "Check_landmarks time: 0.0003120899200439453\n",
      "Fragment: 459 from 610, mode: 'train'\n"
     ]
    },
    {
     "name": "stderr",
     "output_type": "stream",
     "text": [
      "I0000 00:00:1730661872.499964      17 task_runner.cc:85] GPU suport is not available: INTERNAL: ; RET_CHECK failure (mediapipe/gpu/gl_context_egl.cc:77) display != EGL_NO_DISPLAYeglGetDisplay() returned error 0x300c\n",
      "W0000 00:00:1730661872.632483    3780 inference_feedback_manager.cc:114] Feedback manager requires a model with a single signature inference. Disabling support for feedback tensors.\n",
      "W0000 00:00:1730661872.664861    3781 inference_feedback_manager.cc:114] Feedback manager requires a model with a single signature inference. Disabling support for feedback tensors.\n"
     ]
    },
    {
     "name": "stdout",
     "output_type": "stream",
     "text": [
      "Calculating time: 1.538081407546997\n",
      "Landmarks time: 1.5265188217163086\n",
      "Check_landmarks time: 0.00038552284240722656\n",
      "Fragment: 460 from 610, mode: 'train'\n"
     ]
    },
    {
     "name": "stderr",
     "output_type": "stream",
     "text": [
      "I0000 00:00:1730661874.822076      17 task_runner.cc:85] GPU suport is not available: INTERNAL: ; RET_CHECK failure (mediapipe/gpu/gl_context_egl.cc:77) display != EGL_NO_DISPLAYeglGetDisplay() returned error 0x300c\n",
      "W0000 00:00:1730661874.919483    3787 inference_feedback_manager.cc:114] Feedback manager requires a model with a single signature inference. Disabling support for feedback tensors.\n",
      "W0000 00:00:1730661874.943799    3787 inference_feedback_manager.cc:114] Feedback manager requires a model with a single signature inference. Disabling support for feedback tensors.\n"
     ]
    },
    {
     "name": "stdout",
     "output_type": "stream",
     "text": [
      "Calculating time: 1.2907497882843018\n",
      "Landmarks time: 1.2838656902313232\n",
      "Check_landmarks time: 0.00027823448181152344\n",
      "Fragment: 461 from 610, mode: 'train'\n"
     ]
    },
    {
     "name": "stderr",
     "output_type": "stream",
     "text": [
      "I0000 00:00:1730661877.226737      17 task_runner.cc:85] GPU suport is not available: INTERNAL: ; RET_CHECK failure (mediapipe/gpu/gl_context_egl.cc:77) display != EGL_NO_DISPLAYeglGetDisplay() returned error 0x300c\n",
      "W0000 00:00:1730661877.335802    3798 inference_feedback_manager.cc:114] Feedback manager requires a model with a single signature inference. Disabling support for feedback tensors.\n",
      "W0000 00:00:1730661877.367036    3798 inference_feedback_manager.cc:114] Feedback manager requires a model with a single signature inference. Disabling support for feedback tensors.\n"
     ]
    },
    {
     "name": "stdout",
     "output_type": "stream",
     "text": [
      "Calculating time: 1.3849031925201416\n",
      "Landmarks time: 1.3781116008758545\n",
      "Check_landmarks time: 0.0003056526184082031\n",
      "Fragment: 462 from 610, mode: 'train'\n"
     ]
    },
    {
     "name": "stderr",
     "output_type": "stream",
     "text": [
      "I0000 00:00:1730661879.496841      17 task_runner.cc:85] GPU suport is not available: INTERNAL: ; RET_CHECK failure (mediapipe/gpu/gl_context_egl.cc:77) display != EGL_NO_DISPLAYeglGetDisplay() returned error 0x300c\n",
      "W0000 00:00:1730661879.595461    3806 inference_feedback_manager.cc:114] Feedback manager requires a model with a single signature inference. Disabling support for feedback tensors.\n",
      "W0000 00:00:1730661879.620351    3805 inference_feedback_manager.cc:114] Feedback manager requires a model with a single signature inference. Disabling support for feedback tensors.\n"
     ]
    },
    {
     "name": "stdout",
     "output_type": "stream",
     "text": [
      "Calculating time: 1.3567934036254883\n",
      "Landmarks time: 1.3495020866394043\n",
      "Check_landmarks time: 0.0003266334533691406\n",
      "Fragment: 463 from 610, mode: 'train'\n"
     ]
    },
    {
     "name": "stderr",
     "output_type": "stream",
     "text": [
      "I0000 00:00:1730661881.555760      17 task_runner.cc:85] GPU suport is not available: INTERNAL: ; RET_CHECK failure (mediapipe/gpu/gl_context_egl.cc:77) display != EGL_NO_DISPLAYeglGetDisplay() returned error 0x300c\n",
      "W0000 00:00:1730661881.653725    3814 inference_feedback_manager.cc:114] Feedback manager requires a model with a single signature inference. Disabling support for feedback tensors.\n",
      "W0000 00:00:1730661881.678595    3812 inference_feedback_manager.cc:114] Feedback manager requires a model with a single signature inference. Disabling support for feedback tensors.\n"
     ]
    },
    {
     "name": "stdout",
     "output_type": "stream",
     "text": [
      "Calculating time: 1.2924518585205078\n",
      "Landmarks time: 1.2851667404174805\n",
      "Check_landmarks time: 0.000408172607421875\n",
      "Fragment: 464 from 610, mode: 'train'\n"
     ]
    },
    {
     "name": "stderr",
     "output_type": "stream",
     "text": [
      "I0000 00:00:1730661883.758035      17 task_runner.cc:85] GPU suport is not available: INTERNAL: ; RET_CHECK failure (mediapipe/gpu/gl_context_egl.cc:77) display != EGL_NO_DISPLAYeglGetDisplay() returned error 0x300c\n",
      "W0000 00:00:1730661883.855814    3820 inference_feedback_manager.cc:114] Feedback manager requires a model with a single signature inference. Disabling support for feedback tensors.\n",
      "W0000 00:00:1730661883.880540    3821 inference_feedback_manager.cc:114] Feedback manager requires a model with a single signature inference. Disabling support for feedback tensors.\n"
     ]
    },
    {
     "name": "stdout",
     "output_type": "stream",
     "text": [
      "Calculating time: 1.3863253593444824\n",
      "Landmarks time: 1.3798654079437256\n",
      "Check_landmarks time: 0.00029397010803222656\n",
      "Fragment: 465 from 610, mode: 'train'\n"
     ]
    },
    {
     "name": "stderr",
     "output_type": "stream",
     "text": [
      "I0000 00:00:1730661886.390520      17 task_runner.cc:85] GPU suport is not available: INTERNAL: ; RET_CHECK failure (mediapipe/gpu/gl_context_egl.cc:77) display != EGL_NO_DISPLAYeglGetDisplay() returned error 0x300c\n",
      "W0000 00:00:1730661886.519412    3827 inference_feedback_manager.cc:114] Feedback manager requires a model with a single signature inference. Disabling support for feedback tensors.\n",
      "W0000 00:00:1730661886.551193    3830 inference_feedback_manager.cc:114] Feedback manager requires a model with a single signature inference. Disabling support for feedback tensors.\n"
     ]
    },
    {
     "name": "stdout",
     "output_type": "stream",
     "text": [
      "Calculating time: 1.4204425811767578\n",
      "Landmarks time: 1.4123215675354004\n",
      "Check_landmarks time: 0.0010135173797607422\n",
      "Fragment: 466 from 610, mode: 'train'\n"
     ]
    },
    {
     "name": "stderr",
     "output_type": "stream",
     "text": [
      "I0000 00:00:1730661888.675999      17 task_runner.cc:85] GPU suport is not available: INTERNAL: ; RET_CHECK failure (mediapipe/gpu/gl_context_egl.cc:77) display != EGL_NO_DISPLAYeglGetDisplay() returned error 0x300c\n",
      "W0000 00:00:1730661888.784690    3836 inference_feedback_manager.cc:114] Feedback manager requires a model with a single signature inference. Disabling support for feedback tensors.\n",
      "W0000 00:00:1730661888.820435    3835 inference_feedback_manager.cc:114] Feedback manager requires a model with a single signature inference. Disabling support for feedback tensors.\n"
     ]
    },
    {
     "name": "stdout",
     "output_type": "stream",
     "text": [
      "Calculating time: 1.3293747901916504\n",
      "Landmarks time: 1.3191955089569092\n",
      "Check_landmarks time: 0.0027637481689453125\n",
      "Fragment: 467 from 610, mode: 'train'\n"
     ]
    },
    {
     "name": "stderr",
     "output_type": "stream",
     "text": [
      "I0000 00:00:1730661890.639138      17 task_runner.cc:85] GPU suport is not available: INTERNAL: ; RET_CHECK failure (mediapipe/gpu/gl_context_egl.cc:77) display != EGL_NO_DISPLAYeglGetDisplay() returned error 0x300c\n",
      "W0000 00:00:1730661890.752653    3844 inference_feedback_manager.cc:114] Feedback manager requires a model with a single signature inference. Disabling support for feedback tensors.\n",
      "W0000 00:00:1730661890.777414    3845 inference_feedback_manager.cc:114] Feedback manager requires a model with a single signature inference. Disabling support for feedback tensors.\n"
     ]
    },
    {
     "name": "stdout",
     "output_type": "stream",
     "text": [
      "Calculating time: 1.374035120010376\n",
      "Landmarks time: 1.3677887916564941\n",
      "Check_landmarks time: 0.00030875205993652344\n",
      "Fragment: 468 from 610, mode: 'train'\n"
     ]
    },
    {
     "name": "stderr",
     "output_type": "stream",
     "text": [
      "I0000 00:00:1730661893.007724      17 task_runner.cc:85] GPU suport is not available: INTERNAL: ; RET_CHECK failure (mediapipe/gpu/gl_context_egl.cc:77) display != EGL_NO_DISPLAYeglGetDisplay() returned error 0x300c\n",
      "W0000 00:00:1730661893.106633    3852 inference_feedback_manager.cc:114] Feedback manager requires a model with a single signature inference. Disabling support for feedback tensors.\n",
      "W0000 00:00:1730661893.131156    3853 inference_feedback_manager.cc:114] Feedback manager requires a model with a single signature inference. Disabling support for feedback tensors.\n"
     ]
    },
    {
     "name": "stdout",
     "output_type": "stream",
     "text": [
      "Calculating time: 1.3309850692749023\n",
      "Landmarks time: 1.3226618766784668\n",
      "Check_landmarks time: 0.0009953975677490234\n",
      "Fragment: 469 from 610, mode: 'train'\n"
     ]
    },
    {
     "name": "stderr",
     "output_type": "stream",
     "text": [
      "I0000 00:00:1730661895.623129      17 task_runner.cc:85] GPU suport is not available: INTERNAL: ; RET_CHECK failure (mediapipe/gpu/gl_context_egl.cc:77) display != EGL_NO_DISPLAYeglGetDisplay() returned error 0x300c\n",
      "W0000 00:00:1730661895.721807    3861 inference_feedback_manager.cc:114] Feedback manager requires a model with a single signature inference. Disabling support for feedback tensors.\n",
      "W0000 00:00:1730661895.756934    3860 inference_feedback_manager.cc:114] Feedback manager requires a model with a single signature inference. Disabling support for feedback tensors.\n"
     ]
    },
    {
     "name": "stdout",
     "output_type": "stream",
     "text": [
      "Calculating time: 1.2908222675323486\n",
      "Landmarks time: 1.2836787700653076\n",
      "Check_landmarks time: 0.0002884864807128906\n",
      "Fragment: 470 from 610, mode: 'train'\n"
     ]
    },
    {
     "name": "stderr",
     "output_type": "stream",
     "text": [
      "I0000 00:00:1730661898.524879      17 task_runner.cc:85] GPU suport is not available: INTERNAL: ; RET_CHECK failure (mediapipe/gpu/gl_context_egl.cc:77) display != EGL_NO_DISPLAYeglGetDisplay() returned error 0x300c\n",
      "W0000 00:00:1730661898.622898    3868 inference_feedback_manager.cc:114] Feedback manager requires a model with a single signature inference. Disabling support for feedback tensors.\n",
      "W0000 00:00:1730661898.647599    3869 inference_feedback_manager.cc:114] Feedback manager requires a model with a single signature inference. Disabling support for feedback tensors.\n"
     ]
    },
    {
     "name": "stdout",
     "output_type": "stream",
     "text": [
      "Calculating time: 1.3875148296356201\n",
      "Landmarks time: 1.3803234100341797\n",
      "Check_landmarks time: 0.0009891986846923828\n",
      "Fragment: 471 from 610, mode: 'train'\n"
     ]
    },
    {
     "name": "stderr",
     "output_type": "stream",
     "text": [
      "I0000 00:00:1730661900.701235      17 task_runner.cc:85] GPU suport is not available: INTERNAL: ; RET_CHECK failure (mediapipe/gpu/gl_context_egl.cc:77) display != EGL_NO_DISPLAYeglGetDisplay() returned error 0x300c\n",
      "W0000 00:00:1730661900.810095    3876 inference_feedback_manager.cc:114] Feedback manager requires a model with a single signature inference. Disabling support for feedback tensors.\n",
      "W0000 00:00:1730661900.834765    3878 inference_feedback_manager.cc:114] Feedback manager requires a model with a single signature inference. Disabling support for feedback tensors.\n"
     ]
    },
    {
     "name": "stdout",
     "output_type": "stream",
     "text": [
      "Calculating time: 1.3522155284881592\n",
      "Landmarks time: 1.345064640045166\n",
      "Check_landmarks time: 0.0003056526184082031\n",
      "Fragment: 472 from 610, mode: 'train'\n"
     ]
    },
    {
     "name": "stderr",
     "output_type": "stream",
     "text": [
      "I0000 00:00:1730661903.153775      17 task_runner.cc:85] GPU suport is not available: INTERNAL: ; RET_CHECK failure (mediapipe/gpu/gl_context_egl.cc:77) display != EGL_NO_DISPLAYeglGetDisplay() returned error 0x300c\n",
      "W0000 00:00:1730661903.251955    3884 inference_feedback_manager.cc:114] Feedback manager requires a model with a single signature inference. Disabling support for feedback tensors.\n",
      "W0000 00:00:1730661903.276506    3886 inference_feedback_manager.cc:114] Feedback manager requires a model with a single signature inference. Disabling support for feedback tensors.\n"
     ]
    },
    {
     "name": "stdout",
     "output_type": "stream",
     "text": [
      "Calculating time: 1.2923424243927002\n",
      "Landmarks time: 1.2851800918579102\n",
      "Check_landmarks time: 0.00029778480529785156\n",
      "Fragment: 473 from 610, mode: 'train'\n"
     ]
    },
    {
     "name": "stderr",
     "output_type": "stream",
     "text": [
      "I0000 00:00:1730661905.232442      17 task_runner.cc:85] GPU suport is not available: INTERNAL: ; RET_CHECK failure (mediapipe/gpu/gl_context_egl.cc:77) display != EGL_NO_DISPLAYeglGetDisplay() returned error 0x300c\n",
      "W0000 00:00:1730661905.342397    3893 inference_feedback_manager.cc:114] Feedback manager requires a model with a single signature inference. Disabling support for feedback tensors.\n",
      "W0000 00:00:1730661905.372071    3893 inference_feedback_manager.cc:114] Feedback manager requires a model with a single signature inference. Disabling support for feedback tensors.\n"
     ]
    },
    {
     "name": "stdout",
     "output_type": "stream",
     "text": [
      "Calculating time: 1.4656569957733154\n",
      "Landmarks time: 1.4580581188201904\n",
      "Check_landmarks time: 0.0003001689910888672\n",
      "Fragment: 474 from 610, mode: 'train'\n"
     ]
    },
    {
     "name": "stderr",
     "output_type": "stream",
     "text": [
      "I0000 00:00:1730661907.653142      17 task_runner.cc:85] GPU suport is not available: INTERNAL: ; RET_CHECK failure (mediapipe/gpu/gl_context_egl.cc:77) display != EGL_NO_DISPLAYeglGetDisplay() returned error 0x300c\n",
      "W0000 00:00:1730661907.762584    3900 inference_feedback_manager.cc:114] Feedback manager requires a model with a single signature inference. Disabling support for feedback tensors.\n",
      "W0000 00:00:1730661907.787362    3900 inference_feedback_manager.cc:114] Feedback manager requires a model with a single signature inference. Disabling support for feedback tensors.\n"
     ]
    },
    {
     "name": "stdout",
     "output_type": "stream",
     "text": [
      "Calculating time: 1.3804197311401367\n",
      "Landmarks time: 1.3728294372558594\n",
      "Check_landmarks time: 0.0002887248992919922\n",
      "Fragment: 475 from 610, mode: 'train'\n"
     ]
    },
    {
     "name": "stderr",
     "output_type": "stream",
     "text": [
      "I0000 00:00:1730661910.269139      17 task_runner.cc:85] GPU suport is not available: INTERNAL: ; RET_CHECK failure (mediapipe/gpu/gl_context_egl.cc:77) display != EGL_NO_DISPLAYeglGetDisplay() returned error 0x300c\n",
      "W0000 00:00:1730661910.380003    3909 inference_feedback_manager.cc:114] Feedback manager requires a model with a single signature inference. Disabling support for feedback tensors.\n",
      "W0000 00:00:1730661910.404762    3908 inference_feedback_manager.cc:114] Feedback manager requires a model with a single signature inference. Disabling support for feedback tensors.\n"
     ]
    },
    {
     "name": "stdout",
     "output_type": "stream",
     "text": [
      "Calculating time: 1.3178114891052246\n",
      "Landmarks time: 1.3109796047210693\n",
      "Check_landmarks time: 0.0002760887145996094\n",
      "Fragment: 476 from 610, mode: 'train'\n"
     ]
    },
    {
     "name": "stderr",
     "output_type": "stream",
     "text": [
      "I0000 00:00:1730661912.464703      17 task_runner.cc:85] GPU suport is not available: INTERNAL: ; RET_CHECK failure (mediapipe/gpu/gl_context_egl.cc:77) display != EGL_NO_DISPLAYeglGetDisplay() returned error 0x300c\n",
      "W0000 00:00:1730661912.563190    3915 inference_feedback_manager.cc:114] Feedback manager requires a model with a single signature inference. Disabling support for feedback tensors.\n",
      "W0000 00:00:1730661912.587868    3918 inference_feedback_manager.cc:114] Feedback manager requires a model with a single signature inference. Disabling support for feedback tensors.\n"
     ]
    },
    {
     "name": "stdout",
     "output_type": "stream",
     "text": [
      "Calculating time: 1.4185924530029297\n",
      "Landmarks time: 1.4100794792175293\n",
      "Check_landmarks time: 0.0014576911926269531\n",
      "Fragment: 477 from 610, mode: 'train'\n"
     ]
    },
    {
     "name": "stderr",
     "output_type": "stream",
     "text": [
      "I0000 00:00:1730661915.065017      17 task_runner.cc:85] GPU suport is not available: INTERNAL: ; RET_CHECK failure (mediapipe/gpu/gl_context_egl.cc:77) display != EGL_NO_DISPLAYeglGetDisplay() returned error 0x300c\n",
      "W0000 00:00:1730661915.162823    3925 inference_feedback_manager.cc:114] Feedback manager requires a model with a single signature inference. Disabling support for feedback tensors.\n",
      "W0000 00:00:1730661915.190285    3925 inference_feedback_manager.cc:114] Feedback manager requires a model with a single signature inference. Disabling support for feedback tensors.\n"
     ]
    },
    {
     "name": "stdout",
     "output_type": "stream",
     "text": [
      "Calculating time: 1.369297981262207\n",
      "Landmarks time: 1.3616235256195068\n",
      "Check_landmarks time: 0.0002913475036621094\n",
      "Fragment: 478 from 610, mode: 'train'\n"
     ]
    },
    {
     "name": "stderr",
     "output_type": "stream",
     "text": [
      "I0000 00:00:1730661917.324241      17 task_runner.cc:85] GPU suport is not available: INTERNAL: ; RET_CHECK failure (mediapipe/gpu/gl_context_egl.cc:77) display != EGL_NO_DISPLAYeglGetDisplay() returned error 0x300c\n",
      "W0000 00:00:1730661917.433359    3932 inference_feedback_manager.cc:114] Feedback manager requires a model with a single signature inference. Disabling support for feedback tensors.\n",
      "W0000 00:00:1730661917.467908    3932 inference_feedback_manager.cc:114] Feedback manager requires a model with a single signature inference. Disabling support for feedback tensors.\n"
     ]
    },
    {
     "name": "stdout",
     "output_type": "stream",
     "text": [
      "Calculating time: 1.3209431171417236\n",
      "Landmarks time: 1.314023733139038\n",
      "Check_landmarks time: 0.0002951622009277344\n",
      "Fragment: 479 from 610, mode: 'train'\n"
     ]
    },
    {
     "name": "stderr",
     "output_type": "stream",
     "text": [
      "I0000 00:00:1730661919.883629      17 task_runner.cc:85] GPU suport is not available: INTERNAL: ; RET_CHECK failure (mediapipe/gpu/gl_context_egl.cc:77) display != EGL_NO_DISPLAYeglGetDisplay() returned error 0x300c\n",
      "W0000 00:00:1730661919.981473    3941 inference_feedback_manager.cc:114] Feedback manager requires a model with a single signature inference. Disabling support for feedback tensors.\n",
      "W0000 00:00:1730661920.006040    3940 inference_feedback_manager.cc:114] Feedback manager requires a model with a single signature inference. Disabling support for feedback tensors.\n"
     ]
    },
    {
     "name": "stdout",
     "output_type": "stream",
     "text": [
      "Calculating time: 1.35538649559021\n",
      "Landmarks time: 1.3489532470703125\n",
      "Check_landmarks time: 0.00029158592224121094\n",
      "Fragment: 480 from 610, mode: 'train'\n"
     ]
    },
    {
     "name": "stderr",
     "output_type": "stream",
     "text": [
      "I0000 00:00:1730661922.775186      17 task_runner.cc:85] GPU suport is not available: INTERNAL: ; RET_CHECK failure (mediapipe/gpu/gl_context_egl.cc:77) display != EGL_NO_DISPLAYeglGetDisplay() returned error 0x300c\n",
      "W0000 00:00:1730661922.888148    3949 inference_feedback_manager.cc:114] Feedback manager requires a model with a single signature inference. Disabling support for feedback tensors.\n",
      "W0000 00:00:1730661922.913545    3949 inference_feedback_manager.cc:114] Feedback manager requires a model with a single signature inference. Disabling support for feedback tensors.\n"
     ]
    },
    {
     "name": "stdout",
     "output_type": "stream",
     "text": [
      "Calculating time: 1.3731918334960938\n",
      "Landmarks time: 1.3653876781463623\n",
      "Check_landmarks time: 0.0002923011779785156\n",
      "Fragment: 481 from 610, mode: 'train'\n"
     ]
    },
    {
     "name": "stderr",
     "output_type": "stream",
     "text": [
      "I0000 00:00:1730661924.848333      17 task_runner.cc:85] GPU suport is not available: INTERNAL: ; RET_CHECK failure (mediapipe/gpu/gl_context_egl.cc:77) display != EGL_NO_DISPLAYeglGetDisplay() returned error 0x300c\n",
      "W0000 00:00:1730661924.946299    3956 inference_feedback_manager.cc:114] Feedback manager requires a model with a single signature inference. Disabling support for feedback tensors.\n",
      "W0000 00:00:1730661924.971101    3958 inference_feedback_manager.cc:114] Feedback manager requires a model with a single signature inference. Disabling support for feedback tensors.\n"
     ]
    },
    {
     "name": "stdout",
     "output_type": "stream",
     "text": [
      "Calculating time: 1.3051366806030273\n",
      "Landmarks time: 1.2983887195587158\n",
      "Check_landmarks time: 0.0002884864807128906\n",
      "Fragment: 482 from 610, mode: 'train'\n"
     ]
    },
    {
     "name": "stderr",
     "output_type": "stream",
     "text": [
      "I0000 00:00:1730661927.177007      17 task_runner.cc:85] GPU suport is not available: INTERNAL: ; RET_CHECK failure (mediapipe/gpu/gl_context_egl.cc:77) display != EGL_NO_DISPLAYeglGetDisplay() returned error 0x300c\n",
      "W0000 00:00:1730661927.275359    3965 inference_feedback_manager.cc:114] Feedback manager requires a model with a single signature inference. Disabling support for feedback tensors.\n",
      "W0000 00:00:1730661927.305325    3965 inference_feedback_manager.cc:114] Feedback manager requires a model with a single signature inference. Disabling support for feedback tensors.\n"
     ]
    },
    {
     "name": "stdout",
     "output_type": "stream",
     "text": [
      "Calculating time: 1.3673858642578125\n",
      "Landmarks time: 1.360929012298584\n",
      "Check_landmarks time: 0.00029087066650390625\n",
      "Fragment: 483 from 610, mode: 'train'\n"
     ]
    },
    {
     "name": "stderr",
     "output_type": "stream",
     "text": [
      "I0000 00:00:1730661929.415315      17 task_runner.cc:85] GPU suport is not available: INTERNAL: ; RET_CHECK failure (mediapipe/gpu/gl_context_egl.cc:77) display != EGL_NO_DISPLAYeglGetDisplay() returned error 0x300c\n",
      "W0000 00:00:1730661929.525458    3972 inference_feedback_manager.cc:114] Feedback manager requires a model with a single signature inference. Disabling support for feedback tensors.\n",
      "W0000 00:00:1730661929.557678    3972 inference_feedback_manager.cc:114] Feedback manager requires a model with a single signature inference. Disabling support for feedback tensors.\n"
     ]
    },
    {
     "name": "stdout",
     "output_type": "stream",
     "text": [
      "Calculating time: 1.3958425521850586\n",
      "Landmarks time: 1.3884108066558838\n",
      "Check_landmarks time: 0.0002925395965576172\n",
      "Fragment: 484 from 610, mode: 'train'\n"
     ]
    },
    {
     "name": "stderr",
     "output_type": "stream",
     "text": [
      "I0000 00:00:1730661932.004418      17 task_runner.cc:85] GPU suport is not available: INTERNAL: ; RET_CHECK failure (mediapipe/gpu/gl_context_egl.cc:77) display != EGL_NO_DISPLAYeglGetDisplay() returned error 0x300c\n",
      "W0000 00:00:1730661932.102485    3980 inference_feedback_manager.cc:114] Feedback manager requires a model with a single signature inference. Disabling support for feedback tensors.\n",
      "W0000 00:00:1730661932.127222    3981 inference_feedback_manager.cc:114] Feedback manager requires a model with a single signature inference. Disabling support for feedback tensors.\n"
     ]
    },
    {
     "name": "stdout",
     "output_type": "stream",
     "text": [
      "Calculating time: 1.3391823768615723\n",
      "Landmarks time: 1.3323190212249756\n",
      "Check_landmarks time: 0.0003361701965332031\n",
      "Fragment: 485 from 610, mode: 'train'\n"
     ]
    },
    {
     "name": "stderr",
     "output_type": "stream",
     "text": [
      "I0000 00:00:1730661934.872794      17 task_runner.cc:85] GPU suport is not available: INTERNAL: ; RET_CHECK failure (mediapipe/gpu/gl_context_egl.cc:77) display != EGL_NO_DISPLAYeglGetDisplay() returned error 0x300c\n",
      "W0000 00:00:1730661934.982106    3990 inference_feedback_manager.cc:114] Feedback manager requires a model with a single signature inference. Disabling support for feedback tensors.\n",
      "W0000 00:00:1730661935.007050    3988 inference_feedback_manager.cc:114] Feedback manager requires a model with a single signature inference. Disabling support for feedback tensors.\n"
     ]
    },
    {
     "name": "stdout",
     "output_type": "stream",
     "text": [
      "Calculating time: 1.3759291172027588\n",
      "Landmarks time: 1.3692278861999512\n",
      "Check_landmarks time: 0.00029349327087402344\n",
      "Fragment: 486 from 610, mode: 'train'\n"
     ]
    },
    {
     "name": "stderr",
     "output_type": "stream",
     "text": [
      "I0000 00:00:1730661937.038673      17 task_runner.cc:85] GPU suport is not available: INTERNAL: ; RET_CHECK failure (mediapipe/gpu/gl_context_egl.cc:77) display != EGL_NO_DISPLAYeglGetDisplay() returned error 0x300c\n",
      "W0000 00:00:1730661937.137364    3995 inference_feedback_manager.cc:114] Feedback manager requires a model with a single signature inference. Disabling support for feedback tensors.\n",
      "W0000 00:00:1730661937.166224    3995 inference_feedback_manager.cc:114] Feedback manager requires a model with a single signature inference. Disabling support for feedback tensors.\n"
     ]
    },
    {
     "name": "stdout",
     "output_type": "stream",
     "text": [
      "Calculating time: 1.4505455493927002\n",
      "Landmarks time: 1.4430639743804932\n",
      "Check_landmarks time: 0.00030112266540527344\n",
      "Fragment: 487 from 610, mode: 'train'\n"
     ]
    },
    {
     "name": "stderr",
     "output_type": "stream",
     "text": [
      "I0000 00:00:1730661939.545565      17 task_runner.cc:85] GPU suport is not available: INTERNAL: ; RET_CHECK failure (mediapipe/gpu/gl_context_egl.cc:77) display != EGL_NO_DISPLAYeglGetDisplay() returned error 0x300c\n",
      "W0000 00:00:1730661939.643915    4004 inference_feedback_manager.cc:114] Feedback manager requires a model with a single signature inference. Disabling support for feedback tensors.\n",
      "W0000 00:00:1730661939.668308    4004 inference_feedback_manager.cc:114] Feedback manager requires a model with a single signature inference. Disabling support for feedback tensors.\n"
     ]
    },
    {
     "name": "stdout",
     "output_type": "stream",
     "text": [
      "Calculating time: 1.2976806163787842\n",
      "Landmarks time: 1.2908415794372559\n",
      "Check_landmarks time: 0.0003044605255126953\n",
      "Fragment: 488 from 610, mode: 'train'\n"
     ]
    },
    {
     "name": "stderr",
     "output_type": "stream",
     "text": [
      "I0000 00:00:1730661942.220249      17 task_runner.cc:85] GPU suport is not available: INTERNAL: ; RET_CHECK failure (mediapipe/gpu/gl_context_egl.cc:77) display != EGL_NO_DISPLAYeglGetDisplay() returned error 0x300c\n",
      "W0000 00:00:1730661942.328934    4013 inference_feedback_manager.cc:114] Feedback manager requires a model with a single signature inference. Disabling support for feedback tensors.\n",
      "W0000 00:00:1730661942.353454    4013 inference_feedback_manager.cc:114] Feedback manager requires a model with a single signature inference. Disabling support for feedback tensors.\n"
     ]
    },
    {
     "name": "stdout",
     "output_type": "stream",
     "text": [
      "Calculating time: 1.4068000316619873\n",
      "Landmarks time: 1.3999083042144775\n",
      "Check_landmarks time: 0.00031113624572753906\n",
      "Fragment: 489 from 610, mode: 'train'\n"
     ]
    },
    {
     "name": "stderr",
     "output_type": "stream",
     "text": [
      "I0000 00:00:1730661945.308388      17 task_runner.cc:85] GPU suport is not available: INTERNAL: ; RET_CHECK failure (mediapipe/gpu/gl_context_egl.cc:77) display != EGL_NO_DISPLAYeglGetDisplay() returned error 0x300c\n",
      "W0000 00:00:1730661945.417056    4022 inference_feedback_manager.cc:114] Feedback manager requires a model with a single signature inference. Disabling support for feedback tensors.\n",
      "W0000 00:00:1730661945.441715    4019 inference_feedback_manager.cc:114] Feedback manager requires a model with a single signature inference. Disabling support for feedback tensors.\n"
     ]
    },
    {
     "name": "stdout",
     "output_type": "stream",
     "text": [
      "Calculating time: 1.3685612678527832\n",
      "Landmarks time: 1.3614211082458496\n",
      "Check_landmarks time: 0.0002925395965576172\n",
      "Fragment: 490 from 610, mode: 'train'\n"
     ]
    },
    {
     "name": "stderr",
     "output_type": "stream",
     "text": [
      "I0000 00:00:1730661947.527558      17 task_runner.cc:85] GPU suport is not available: INTERNAL: ; RET_CHECK failure (mediapipe/gpu/gl_context_egl.cc:77) display != EGL_NO_DISPLAYeglGetDisplay() returned error 0x300c\n",
      "W0000 00:00:1730661947.636800    4029 inference_feedback_manager.cc:114] Feedback manager requires a model with a single signature inference. Disabling support for feedback tensors.\n",
      "W0000 00:00:1730661947.669253    4029 inference_feedback_manager.cc:114] Feedback manager requires a model with a single signature inference. Disabling support for feedback tensors.\n"
     ]
    },
    {
     "name": "stdout",
     "output_type": "stream",
     "text": [
      "Calculating time: 1.3026432991027832\n",
      "Landmarks time: 1.2939066886901855\n",
      "Check_landmarks time: 0.0009520053863525391\n",
      "Fragment: 491 from 610, mode: 'train'\n"
     ]
    },
    {
     "name": "stderr",
     "output_type": "stream",
     "text": [
      "I0000 00:00:1730661949.997426      17 task_runner.cc:85] GPU suport is not available: INTERNAL: ; RET_CHECK failure (mediapipe/gpu/gl_context_egl.cc:77) display != EGL_NO_DISPLAYeglGetDisplay() returned error 0x300c\n",
      "W0000 00:00:1730661950.105352    4038 inference_feedback_manager.cc:114] Feedback manager requires a model with a single signature inference. Disabling support for feedback tensors.\n",
      "W0000 00:00:1730661950.130149    4036 inference_feedback_manager.cc:114] Feedback manager requires a model with a single signature inference. Disabling support for feedback tensors.\n"
     ]
    },
    {
     "name": "stdout",
     "output_type": "stream",
     "text": [
      "Calculating time: 1.3873050212860107\n",
      "Landmarks time: 1.3809914588928223\n",
      "Check_landmarks time: 0.0003101825714111328\n",
      "Fragment: 492 from 610, mode: 'train'\n"
     ]
    },
    {
     "name": "stderr",
     "output_type": "stream",
     "text": [
      "I0000 00:00:1730661952.270817      17 task_runner.cc:85] GPU suport is not available: INTERNAL: ; RET_CHECK failure (mediapipe/gpu/gl_context_egl.cc:77) display != EGL_NO_DISPLAYeglGetDisplay() returned error 0x300c\n",
      "W0000 00:00:1730661952.379376    4045 inference_feedback_manager.cc:114] Feedback manager requires a model with a single signature inference. Disabling support for feedback tensors.\n",
      "W0000 00:00:1730661952.410793    4045 inference_feedback_manager.cc:114] Feedback manager requires a model with a single signature inference. Disabling support for feedback tensors.\n"
     ]
    },
    {
     "name": "stdout",
     "output_type": "stream",
     "text": [
      "Calculating time: 1.4098412990570068\n",
      "Landmarks time: 1.402515172958374\n",
      "Check_landmarks time: 0.00030732154846191406\n",
      "Fragment: 493 from 610, mode: 'train'\n"
     ]
    },
    {
     "name": "stderr",
     "output_type": "stream",
     "text": [
      "I0000 00:00:1730661954.883147      17 task_runner.cc:85] GPU suport is not available: INTERNAL: ; RET_CHECK failure (mediapipe/gpu/gl_context_egl.cc:77) display != EGL_NO_DISPLAYeglGetDisplay() returned error 0x300c\n",
      "W0000 00:00:1730661954.991610    4053 inference_feedback_manager.cc:114] Feedback manager requires a model with a single signature inference. Disabling support for feedback tensors.\n",
      "W0000 00:00:1730661955.016590    4054 inference_feedback_manager.cc:114] Feedback manager requires a model with a single signature inference. Disabling support for feedback tensors.\n"
     ]
    },
    {
     "name": "stdout",
     "output_type": "stream",
     "text": [
      "Calculating time: 1.3190851211547852\n",
      "Landmarks time: 1.3118205070495605\n",
      "Check_landmarks time: 0.00028133392333984375\n",
      "Fragment: 494 from 610, mode: 'train'\n"
     ]
    },
    {
     "name": "stderr",
     "output_type": "stream",
     "text": [
      "I0000 00:00:1730661957.128265      17 task_runner.cc:85] GPU suport is not available: INTERNAL: ; RET_CHECK failure (mediapipe/gpu/gl_context_egl.cc:77) display != EGL_NO_DISPLAYeglGetDisplay() returned error 0x300c\n",
      "W0000 00:00:1730661957.226350    4061 inference_feedback_manager.cc:114] Feedback manager requires a model with a single signature inference. Disabling support for feedback tensors.\n",
      "W0000 00:00:1730661957.251092    4060 inference_feedback_manager.cc:114] Feedback manager requires a model with a single signature inference. Disabling support for feedback tensors.\n"
     ]
    },
    {
     "name": "stdout",
     "output_type": "stream",
     "text": [
      "Calculating time: 1.3715732097625732\n",
      "Landmarks time: 1.3648364543914795\n",
      "Check_landmarks time: 0.00029349327087402344\n",
      "Fragment: 495 from 610, mode: 'train'\n"
     ]
    },
    {
     "name": "stderr",
     "output_type": "stream",
     "text": [
      "I0000 00:00:1730661959.163364      17 task_runner.cc:85] GPU suport is not available: INTERNAL: ; RET_CHECK failure (mediapipe/gpu/gl_context_egl.cc:77) display != EGL_NO_DISPLAYeglGetDisplay() returned error 0x300c\n",
      "W0000 00:00:1730661959.272082    4069 inference_feedback_manager.cc:114] Feedback manager requires a model with a single signature inference. Disabling support for feedback tensors.\n",
      "W0000 00:00:1730661959.303554    4069 inference_feedback_manager.cc:114] Feedback manager requires a model with a single signature inference. Disabling support for feedback tensors.\n"
     ]
    },
    {
     "name": "stdout",
     "output_type": "stream",
     "text": [
      "Calculating time: 1.4040496349334717\n",
      "Landmarks time: 1.395500898361206\n",
      "Check_landmarks time: 0.0009770393371582031\n",
      "Fragment: 496 from 610, mode: 'train'\n"
     ]
    },
    {
     "name": "stderr",
     "output_type": "stream",
     "text": [
      "I0000 00:00:1730661961.577511      17 task_runner.cc:85] GPU suport is not available: INTERNAL: ; RET_CHECK failure (mediapipe/gpu/gl_context_egl.cc:77) display != EGL_NO_DISPLAYeglGetDisplay() returned error 0x300c\n",
      "W0000 00:00:1730661961.687606    4077 inference_feedback_manager.cc:114] Feedback manager requires a model with a single signature inference. Disabling support for feedback tensors.\n",
      "W0000 00:00:1730661961.712469    4078 inference_feedback_manager.cc:114] Feedback manager requires a model with a single signature inference. Disabling support for feedback tensors.\n"
     ]
    },
    {
     "name": "stdout",
     "output_type": "stream",
     "text": [
      "Calculating time: 1.322303056716919\n",
      "Landmarks time: 1.3151907920837402\n",
      "Check_landmarks time: 0.0002808570861816406\n",
      "Fragment: 497 from 610, mode: 'train'\n"
     ]
    },
    {
     "name": "stderr",
     "output_type": "stream",
     "text": [
      "I0000 00:00:1730661964.198123      17 task_runner.cc:85] GPU suport is not available: INTERNAL: ; RET_CHECK failure (mediapipe/gpu/gl_context_egl.cc:77) display != EGL_NO_DISPLAYeglGetDisplay() returned error 0x300c\n",
      "W0000 00:00:1730661964.306902    4084 inference_feedback_manager.cc:114] Feedback manager requires a model with a single signature inference. Disabling support for feedback tensors.\n",
      "W0000 00:00:1730661964.331403    4083 inference_feedback_manager.cc:114] Feedback manager requires a model with a single signature inference. Disabling support for feedback tensors.\n"
     ]
    },
    {
     "name": "stdout",
     "output_type": "stream",
     "text": [
      "Calculating time: 1.4093561172485352\n",
      "Landmarks time: 1.4023466110229492\n",
      "Check_landmarks time: 0.00046181678771972656\n",
      "Fragment: 498 from 610, mode: 'train'\n"
     ]
    },
    {
     "name": "stderr",
     "output_type": "stream",
     "text": [
      "I0000 00:00:1730661966.454165      17 task_runner.cc:85] GPU suport is not available: INTERNAL: ; RET_CHECK failure (mediapipe/gpu/gl_context_egl.cc:77) display != EGL_NO_DISPLAYeglGetDisplay() returned error 0x300c\n",
      "W0000 00:00:1730661966.566881    4094 inference_feedback_manager.cc:114] Feedback manager requires a model with a single signature inference. Disabling support for feedback tensors.\n",
      "W0000 00:00:1730661966.611563    4093 inference_feedback_manager.cc:114] Feedback manager requires a model with a single signature inference. Disabling support for feedback tensors.\n"
     ]
    },
    {
     "name": "stdout",
     "output_type": "stream",
     "text": [
      "Calculating time: 1.3902039527893066\n",
      "Landmarks time: 1.3827893733978271\n",
      "Check_landmarks time: 0.00029206275939941406\n",
      "Fragment: 499 from 610, mode: 'train'\n"
     ]
    },
    {
     "name": "stderr",
     "output_type": "stream",
     "text": [
      "I0000 00:00:1730661969.075146      17 task_runner.cc:85] GPU suport is not available: INTERNAL: ; RET_CHECK failure (mediapipe/gpu/gl_context_egl.cc:77) display != EGL_NO_DISPLAYeglGetDisplay() returned error 0x300c\n",
      "W0000 00:00:1730661969.197349    4100 inference_feedback_manager.cc:114] Feedback manager requires a model with a single signature inference. Disabling support for feedback tensors.\n",
      "W0000 00:00:1730661969.231739    4102 inference_feedback_manager.cc:114] Feedback manager requires a model with a single signature inference. Disabling support for feedback tensors.\n"
     ]
    },
    {
     "name": "stdout",
     "output_type": "stream",
     "text": [
      "Calculating time: 1.4313328266143799\n",
      "Landmarks time: 1.423043966293335\n",
      "Check_landmarks time: 0.00029397010803222656\n",
      "Fragment: 500 from 610, mode: 'train'\n"
     ]
    },
    {
     "name": "stderr",
     "output_type": "stream",
     "text": [
      "I0000 00:00:1730661971.274074      17 task_runner.cc:85] GPU suport is not available: INTERNAL: ; RET_CHECK failure (mediapipe/gpu/gl_context_egl.cc:77) display != EGL_NO_DISPLAYeglGetDisplay() returned error 0x300c\n",
      "W0000 00:00:1730661971.382774    4108 inference_feedback_manager.cc:114] Feedback manager requires a model with a single signature inference. Disabling support for feedback tensors.\n",
      "W0000 00:00:1730661971.407756    4107 inference_feedback_manager.cc:114] Feedback manager requires a model with a single signature inference. Disabling support for feedback tensors.\n"
     ]
    },
    {
     "name": "stdout",
     "output_type": "stream",
     "text": [
      "Calculating time: 1.3521356582641602\n",
      "Landmarks time: 1.3451087474822998\n",
      "Check_landmarks time: 0.0009942054748535156\n",
      "Fragment: 501 from 610, mode: 'train'\n"
     ]
    },
    {
     "name": "stderr",
     "output_type": "stream",
     "text": [
      "I0000 00:00:1730661973.724352      17 task_runner.cc:85] GPU suport is not available: INTERNAL: ; RET_CHECK failure (mediapipe/gpu/gl_context_egl.cc:77) display != EGL_NO_DISPLAYeglGetDisplay() returned error 0x300c\n",
      "W0000 00:00:1730661973.832844    4116 inference_feedback_manager.cc:114] Feedback manager requires a model with a single signature inference. Disabling support for feedback tensors.\n",
      "W0000 00:00:1730661973.867546    4117 inference_feedback_manager.cc:114] Feedback manager requires a model with a single signature inference. Disabling support for feedback tensors.\n"
     ]
    },
    {
     "name": "stdout",
     "output_type": "stream",
     "text": [
      "Calculating time: 1.397287130355835\n",
      "Landmarks time: 1.3884761333465576\n",
      "Check_landmarks time: 0.0009899139404296875\n",
      "Fragment: 502 from 610, mode: 'train'\n"
     ]
    },
    {
     "name": "stderr",
     "output_type": "stream",
     "text": [
      "I0000 00:00:1730661975.950859      17 task_runner.cc:85] GPU suport is not available: INTERNAL: ; RET_CHECK failure (mediapipe/gpu/gl_context_egl.cc:77) display != EGL_NO_DISPLAYeglGetDisplay() returned error 0x300c\n",
      "W0000 00:00:1730661976.058877    4125 inference_feedback_manager.cc:114] Feedback manager requires a model with a single signature inference. Disabling support for feedback tensors.\n",
      "W0000 00:00:1730661976.083692    4126 inference_feedback_manager.cc:114] Feedback manager requires a model with a single signature inference. Disabling support for feedback tensors.\n"
     ]
    },
    {
     "name": "stdout",
     "output_type": "stream",
     "text": [
      "Calculating time: 1.304617166519165\n",
      "Landmarks time: 1.2977612018585205\n",
      "Check_landmarks time: 0.00035500526428222656\n",
      "Fragment: 503 from 610, mode: 'train'\n"
     ]
    },
    {
     "name": "stderr",
     "output_type": "stream",
     "text": [
      "I0000 00:00:1730661977.982171      17 task_runner.cc:85] GPU suport is not available: INTERNAL: ; RET_CHECK failure (mediapipe/gpu/gl_context_egl.cc:77) display != EGL_NO_DISPLAYeglGetDisplay() returned error 0x300c\n",
      "W0000 00:00:1730661978.091497    4134 inference_feedback_manager.cc:114] Feedback manager requires a model with a single signature inference. Disabling support for feedback tensors.\n",
      "W0000 00:00:1730661978.116532    4133 inference_feedback_manager.cc:114] Feedback manager requires a model with a single signature inference. Disabling support for feedback tensors.\n"
     ]
    },
    {
     "name": "stdout",
     "output_type": "stream",
     "text": [
      "Calculating time: 1.3891844749450684\n",
      "Landmarks time: 1.3816421031951904\n",
      "Check_landmarks time: 0.0010004043579101562\n",
      "Fragment: 504 from 610, mode: 'train'\n"
     ]
    },
    {
     "name": "stderr",
     "output_type": "stream",
     "text": [
      "I0000 00:00:1730661980.410793      17 task_runner.cc:85] GPU suport is not available: INTERNAL: ; RET_CHECK failure (mediapipe/gpu/gl_context_egl.cc:77) display != EGL_NO_DISPLAYeglGetDisplay() returned error 0x300c\n",
      "W0000 00:00:1730661980.520545    4142 inference_feedback_manager.cc:114] Feedback manager requires a model with a single signature inference. Disabling support for feedback tensors.\n",
      "W0000 00:00:1730661980.545291    4141 inference_feedback_manager.cc:114] Feedback manager requires a model with a single signature inference. Disabling support for feedback tensors.\n"
     ]
    },
    {
     "name": "stdout",
     "output_type": "stream",
     "text": [
      "Calculating time: 1.3894519805908203\n",
      "Landmarks time: 1.3821916580200195\n",
      "Check_landmarks time: 0.0002913475036621094\n",
      "Fragment: 505 from 610, mode: 'train'\n"
     ]
    },
    {
     "name": "stderr",
     "output_type": "stream",
     "text": [
      "I0000 00:00:1730661983.185739      17 task_runner.cc:85] GPU suport is not available: INTERNAL: ; RET_CHECK failure (mediapipe/gpu/gl_context_egl.cc:77) display != EGL_NO_DISPLAYeglGetDisplay() returned error 0x300c\n",
      "W0000 00:00:1730661983.284571    4150 inference_feedback_manager.cc:114] Feedback manager requires a model with a single signature inference. Disabling support for feedback tensors.\n",
      "W0000 00:00:1730661983.314027    4150 inference_feedback_manager.cc:114] Feedback manager requires a model with a single signature inference. Disabling support for feedback tensors.\n"
     ]
    },
    {
     "name": "stdout",
     "output_type": "stream",
     "text": [
      "Calculating time: 1.3135027885437012\n",
      "Landmarks time: 1.3060758113861084\n",
      "Check_landmarks time: 0.0002796649932861328\n",
      "Fragment: 506 from 610, mode: 'train'\n"
     ]
    },
    {
     "name": "stderr",
     "output_type": "stream",
     "text": [
      "I0000 00:00:1730661986.202319      17 task_runner.cc:85] GPU suport is not available: INTERNAL: ; RET_CHECK failure (mediapipe/gpu/gl_context_egl.cc:77) display != EGL_NO_DISPLAYeglGetDisplay() returned error 0x300c\n",
      "W0000 00:00:1730661986.311435    4155 inference_feedback_manager.cc:114] Feedback manager requires a model with a single signature inference. Disabling support for feedback tensors.\n",
      "W0000 00:00:1730661986.336302    4157 inference_feedback_manager.cc:114] Feedback manager requires a model with a single signature inference. Disabling support for feedback tensors.\n"
     ]
    },
    {
     "name": "stdout",
     "output_type": "stream",
     "text": [
      "Calculating time: 1.3855993747711182\n",
      "Landmarks time: 1.3793706893920898\n",
      "Check_landmarks time: 0.00029778480529785156\n",
      "Fragment: 507 from 610, mode: 'train'\n"
     ]
    },
    {
     "name": "stderr",
     "output_type": "stream",
     "text": [
      "I0000 00:00:1730661988.510979      17 task_runner.cc:85] GPU suport is not available: INTERNAL: ; RET_CHECK failure (mediapipe/gpu/gl_context_egl.cc:77) display != EGL_NO_DISPLAYeglGetDisplay() returned error 0x300c\n",
      "W0000 00:00:1730661988.610382    4164 inference_feedback_manager.cc:114] Feedback manager requires a model with a single signature inference. Disabling support for feedback tensors.\n",
      "W0000 00:00:1730661988.635346    4166 inference_feedback_manager.cc:114] Feedback manager requires a model with a single signature inference. Disabling support for feedback tensors.\n"
     ]
    },
    {
     "name": "stdout",
     "output_type": "stream",
     "text": [
      "Calculating time: 1.3673741817474365\n",
      "Landmarks time: 1.3599574565887451\n",
      "Check_landmarks time: 0.0002942085266113281\n",
      "Fragment: 508 from 610, mode: 'train'\n"
     ]
    },
    {
     "name": "stderr",
     "output_type": "stream",
     "text": [
      "I0000 00:00:1730661991.112335      17 task_runner.cc:85] GPU suport is not available: INTERNAL: ; RET_CHECK failure (mediapipe/gpu/gl_context_egl.cc:77) display != EGL_NO_DISPLAYeglGetDisplay() returned error 0x300c\n",
      "W0000 00:00:1730661991.209909    4171 inference_feedback_manager.cc:114] Feedback manager requires a model with a single signature inference. Disabling support for feedback tensors.\n",
      "W0000 00:00:1730661991.235459    4174 inference_feedback_manager.cc:114] Feedback manager requires a model with a single signature inference. Disabling support for feedback tensors.\n"
     ]
    },
    {
     "name": "stdout",
     "output_type": "stream",
     "text": [
      "Calculating time: 1.3090503215789795\n",
      "Landmarks time: 1.3022775650024414\n",
      "Check_landmarks time: 0.0002868175506591797\n",
      "Fragment: 509 from 610, mode: 'train'\n"
     ]
    },
    {
     "name": "stderr",
     "output_type": "stream",
     "text": [
      "I0000 00:00:1730661993.286353      17 task_runner.cc:85] GPU suport is not available: INTERNAL: ; RET_CHECK failure (mediapipe/gpu/gl_context_egl.cc:77) display != EGL_NO_DISPLAYeglGetDisplay() returned error 0x300c\n",
      "W0000 00:00:1730661993.391221    4180 inference_feedback_manager.cc:114] Feedback manager requires a model with a single signature inference. Disabling support for feedback tensors.\n",
      "W0000 00:00:1730661993.422876    4182 inference_feedback_manager.cc:114] Feedback manager requires a model with a single signature inference. Disabling support for feedback tensors.\n"
     ]
    },
    {
     "name": "stdout",
     "output_type": "stream",
     "text": [
      "Calculating time: 1.363044023513794\n",
      "Landmarks time: 1.35642671585083\n",
      "Check_landmarks time: 0.0003037452697753906\n",
      "Fragment: 510 from 610, mode: 'train'\n"
     ]
    },
    {
     "name": "stderr",
     "output_type": "stream",
     "text": [
      "I0000 00:00:1730661995.554930      17 task_runner.cc:85] GPU suport is not available: INTERNAL: ; RET_CHECK failure (mediapipe/gpu/gl_context_egl.cc:77) display != EGL_NO_DISPLAYeglGetDisplay() returned error 0x300c\n",
      "W0000 00:00:1730661995.664666    4187 inference_feedback_manager.cc:114] Feedback manager requires a model with a single signature inference. Disabling support for feedback tensors.\n",
      "W0000 00:00:1730661995.696401    4189 inference_feedback_manager.cc:114] Feedback manager requires a model with a single signature inference. Disabling support for feedback tensors.\n"
     ]
    },
    {
     "name": "stdout",
     "output_type": "stream",
     "text": [
      "Calculating time: 1.3794870376586914\n",
      "Landmarks time: 1.3721201419830322\n",
      "Check_landmarks time: 0.0002887248992919922\n",
      "Fragment: 511 from 610, mode: 'train'\n"
     ]
    },
    {
     "name": "stderr",
     "output_type": "stream",
     "text": [
      "I0000 00:00:1730661998.153506      17 task_runner.cc:85] GPU suport is not available: INTERNAL: ; RET_CHECK failure (mediapipe/gpu/gl_context_egl.cc:77) display != EGL_NO_DISPLAYeglGetDisplay() returned error 0x300c\n",
      "W0000 00:00:1730661998.263612    4197 inference_feedback_manager.cc:114] Feedback manager requires a model with a single signature inference. Disabling support for feedback tensors.\n",
      "W0000 00:00:1730661998.288502    4198 inference_feedback_manager.cc:114] Feedback manager requires a model with a single signature inference. Disabling support for feedback tensors.\n"
     ]
    },
    {
     "name": "stdout",
     "output_type": "stream",
     "text": [
      "Calculating time: 1.3323514461517334\n",
      "Landmarks time: 1.324479579925537\n",
      "Check_landmarks time: 0.0009992122650146484\n",
      "Fragment: 512 from 610, mode: 'train'\n"
     ]
    },
    {
     "name": "stderr",
     "output_type": "stream",
     "text": [
      "I0000 00:00:1730662000.246719      17 task_runner.cc:85] GPU suport is not available: INTERNAL: ; RET_CHECK failure (mediapipe/gpu/gl_context_egl.cc:77) display != EGL_NO_DISPLAYeglGetDisplay() returned error 0x300c\n",
      "W0000 00:00:1730662000.355788    4205 inference_feedback_manager.cc:114] Feedback manager requires a model with a single signature inference. Disabling support for feedback tensors.\n",
      "W0000 00:00:1730662000.383773    4206 inference_feedback_manager.cc:114] Feedback manager requires a model with a single signature inference. Disabling support for feedback tensors.\n"
     ]
    },
    {
     "name": "stdout",
     "output_type": "stream",
     "text": [
      "Calculating time: 1.491534948348999\n",
      "Landmarks time: 1.4844818115234375\n",
      "Check_landmarks time: 0.0009808540344238281\n",
      "Fragment: 513 from 610, mode: 'train'\n"
     ]
    },
    {
     "name": "stderr",
     "output_type": "stream",
     "text": [
      "I0000 00:00:1730662002.953532      17 task_runner.cc:85] GPU suport is not available: INTERNAL: ; RET_CHECK failure (mediapipe/gpu/gl_context_egl.cc:77) display != EGL_NO_DISPLAYeglGetDisplay() returned error 0x300c\n",
      "W0000 00:00:1730662003.062292    4213 inference_feedback_manager.cc:114] Feedback manager requires a model with a single signature inference. Disabling support for feedback tensors.\n",
      "W0000 00:00:1730662003.089336    4214 inference_feedback_manager.cc:114] Feedback manager requires a model with a single signature inference. Disabling support for feedback tensors.\n"
     ]
    },
    {
     "name": "stdout",
     "output_type": "stream",
     "text": [
      "Calculating time: 1.3904190063476562\n",
      "Landmarks time: 1.3825879096984863\n",
      "Check_landmarks time: 0.0009922981262207031\n",
      "Fragment: 514 from 610, mode: 'train'\n"
     ]
    },
    {
     "name": "stderr",
     "output_type": "stream",
     "text": [
      "I0000 00:00:1730662005.140410      17 task_runner.cc:85] GPU suport is not available: INTERNAL: ; RET_CHECK failure (mediapipe/gpu/gl_context_egl.cc:77) display != EGL_NO_DISPLAYeglGetDisplay() returned error 0x300c\n",
      "W0000 00:00:1730662005.238747    4221 inference_feedback_manager.cc:114] Feedback manager requires a model with a single signature inference. Disabling support for feedback tensors.\n",
      "W0000 00:00:1730662005.263802    4220 inference_feedback_manager.cc:114] Feedback manager requires a model with a single signature inference. Disabling support for feedback tensors.\n"
     ]
    },
    {
     "name": "stdout",
     "output_type": "stream",
     "text": [
      "Calculating time: 1.3005940914154053\n",
      "Landmarks time: 1.2935216426849365\n",
      "Check_landmarks time: 0.0002944469451904297\n",
      "Fragment: 515 from 610, mode: 'train'\n"
     ]
    },
    {
     "name": "stderr",
     "output_type": "stream",
     "text": [
      "I0000 00:00:1730662007.067066      17 task_runner.cc:85] GPU suport is not available: INTERNAL: ; RET_CHECK failure (mediapipe/gpu/gl_context_egl.cc:77) display != EGL_NO_DISPLAYeglGetDisplay() returned error 0x300c\n",
      "W0000 00:00:1730662007.165250    4230 inference_feedback_manager.cc:114] Feedback manager requires a model with a single signature inference. Disabling support for feedback tensors.\n",
      "W0000 00:00:1730662007.190139    4228 inference_feedback_manager.cc:114] Feedback manager requires a model with a single signature inference. Disabling support for feedback tensors.\n"
     ]
    },
    {
     "name": "stdout",
     "output_type": "stream",
     "text": [
      "Calculating time: 1.3527987003326416\n",
      "Landmarks time: 1.3458552360534668\n",
      "Check_landmarks time: 0.0002911090850830078\n",
      "Fragment: 516 from 610, mode: 'train'\n"
     ]
    },
    {
     "name": "stderr",
     "output_type": "stream",
     "text": [
      "I0000 00:00:1730662009.336999      17 task_runner.cc:85] GPU suport is not available: INTERNAL: ; RET_CHECK failure (mediapipe/gpu/gl_context_egl.cc:77) display != EGL_NO_DISPLAYeglGetDisplay() returned error 0x300c\n",
      "W0000 00:00:1730662009.446042    4235 inference_feedback_manager.cc:114] Feedback manager requires a model with a single signature inference. Disabling support for feedback tensors.\n",
      "W0000 00:00:1730662009.470620    4235 inference_feedback_manager.cc:114] Feedback manager requires a model with a single signature inference. Disabling support for feedback tensors.\n"
     ]
    },
    {
     "name": "stdout",
     "output_type": "stream",
     "text": [
      "Calculating time: 1.3809623718261719\n",
      "Landmarks time: 1.3733432292938232\n",
      "Check_landmarks time: 0.0003783702850341797\n",
      "Fragment: 517 from 610, mode: 'train'\n"
     ]
    },
    {
     "name": "stderr",
     "output_type": "stream",
     "text": [
      "I0000 00:00:1730662011.535741      17 task_runner.cc:85] GPU suport is not available: INTERNAL: ; RET_CHECK failure (mediapipe/gpu/gl_context_egl.cc:77) display != EGL_NO_DISPLAYeglGetDisplay() returned error 0x300c\n",
      "W0000 00:00:1730662011.645627    4246 inference_feedback_manager.cc:114] Feedback manager requires a model with a single signature inference. Disabling support for feedback tensors.\n",
      "W0000 00:00:1730662011.680411    4246 inference_feedback_manager.cc:114] Feedback manager requires a model with a single signature inference. Disabling support for feedback tensors.\n"
     ]
    },
    {
     "name": "stdout",
     "output_type": "stream",
     "text": [
      "Calculating time: 1.3285222053527832\n",
      "Landmarks time: 1.3216333389282227\n",
      "Check_landmarks time: 0.0003235340118408203\n",
      "Fragment: 518 from 610, mode: 'train'\n"
     ]
    },
    {
     "name": "stderr",
     "output_type": "stream",
     "text": [
      "I0000 00:00:1730662013.971553      17 task_runner.cc:85] GPU suport is not available: INTERNAL: ; RET_CHECK failure (mediapipe/gpu/gl_context_egl.cc:77) display != EGL_NO_DISPLAYeglGetDisplay() returned error 0x300c\n",
      "W0000 00:00:1730662014.068962    4252 inference_feedback_manager.cc:114] Feedback manager requires a model with a single signature inference. Disabling support for feedback tensors.\n",
      "W0000 00:00:1730662014.101844    4252 inference_feedback_manager.cc:114] Feedback manager requires a model with a single signature inference. Disabling support for feedback tensors.\n"
     ]
    },
    {
     "name": "stdout",
     "output_type": "stream",
     "text": [
      "Calculating time: 1.388906478881836\n",
      "Landmarks time: 1.3818464279174805\n",
      "Check_landmarks time: 0.0009980201721191406\n",
      "Fragment: 519 from 610, mode: 'train'\n"
     ]
    },
    {
     "name": "stderr",
     "output_type": "stream",
     "text": [
      "I0000 00:00:1730662016.190127      17 task_runner.cc:85] GPU suport is not available: INTERNAL: ; RET_CHECK failure (mediapipe/gpu/gl_context_egl.cc:77) display != EGL_NO_DISPLAYeglGetDisplay() returned error 0x300c\n",
      "W0000 00:00:1730662016.287761    4260 inference_feedback_manager.cc:114] Feedback manager requires a model with a single signature inference. Disabling support for feedback tensors.\n",
      "W0000 00:00:1730662016.312437    4259 inference_feedback_manager.cc:114] Feedback manager requires a model with a single signature inference. Disabling support for feedback tensors.\n"
     ]
    },
    {
     "name": "stdout",
     "output_type": "stream",
     "text": [
      "Calculating time: 1.4510765075683594\n",
      "Landmarks time: 1.4417173862457275\n",
      "Check_landmarks time: 0.0023157596588134766\n",
      "Fragment: 520 from 610, mode: 'train'\n"
     ]
    },
    {
     "name": "stderr",
     "output_type": "stream",
     "text": [
      "I0000 00:00:1730662018.295981      17 task_runner.cc:85] GPU suport is not available: INTERNAL: ; RET_CHECK failure (mediapipe/gpu/gl_context_egl.cc:77) display != EGL_NO_DISPLAYeglGetDisplay() returned error 0x300c\n",
      "W0000 00:00:1730662018.393848    4267 inference_feedback_manager.cc:114] Feedback manager requires a model with a single signature inference. Disabling support for feedback tensors.\n",
      "W0000 00:00:1730662018.418574    4270 inference_feedback_manager.cc:114] Feedback manager requires a model with a single signature inference. Disabling support for feedback tensors.\n"
     ]
    },
    {
     "name": "stdout",
     "output_type": "stream",
     "text": [
      "Calculating time: 1.379962682723999\n",
      "Landmarks time: 1.370609998703003\n",
      "Check_landmarks time: 0.0031816959381103516\n",
      "Fragment: 521 from 610, mode: 'train'\n"
     ]
    },
    {
     "name": "stderr",
     "output_type": "stream",
     "text": [
      "I0000 00:00:1730662020.648350      17 task_runner.cc:85] GPU suport is not available: INTERNAL: ; RET_CHECK failure (mediapipe/gpu/gl_context_egl.cc:77) display != EGL_NO_DISPLAYeglGetDisplay() returned error 0x300c\n",
      "W0000 00:00:1730662020.746297    4276 inference_feedback_manager.cc:114] Feedback manager requires a model with a single signature inference. Disabling support for feedback tensors.\n",
      "W0000 00:00:1730662020.771249    4277 inference_feedback_manager.cc:114] Feedback manager requires a model with a single signature inference. Disabling support for feedback tensors.\n"
     ]
    },
    {
     "name": "stdout",
     "output_type": "stream",
     "text": [
      "Calculating time: 1.446112871170044\n",
      "Landmarks time: 1.4369685649871826\n",
      "Check_landmarks time: 0.003104686737060547\n",
      "Fragment: 522 from 610, mode: 'train'\n"
     ]
    },
    {
     "name": "stderr",
     "output_type": "stream",
     "text": [
      "I0000 00:00:1730662023.378356      17 task_runner.cc:85] GPU suport is not available: INTERNAL: ; RET_CHECK failure (mediapipe/gpu/gl_context_egl.cc:77) display != EGL_NO_DISPLAYeglGetDisplay() returned error 0x300c\n",
      "W0000 00:00:1730662023.487293    4283 inference_feedback_manager.cc:114] Feedback manager requires a model with a single signature inference. Disabling support for feedback tensors.\n",
      "W0000 00:00:1730662023.512290    4286 inference_feedback_manager.cc:114] Feedback manager requires a model with a single signature inference. Disabling support for feedback tensors.\n"
     ]
    },
    {
     "name": "stdout",
     "output_type": "stream",
     "text": [
      "Calculating time: 1.4432079792022705\n",
      "Landmarks time: 1.4342265129089355\n",
      "Check_landmarks time: 0.002332448959350586\n",
      "Fragment: 523 from 610, mode: 'train'\n"
     ]
    },
    {
     "name": "stderr",
     "output_type": "stream",
     "text": [
      "I0000 00:00:1730662026.387305      17 task_runner.cc:85] GPU suport is not available: INTERNAL: ; RET_CHECK failure (mediapipe/gpu/gl_context_egl.cc:77) display != EGL_NO_DISPLAYeglGetDisplay() returned error 0x300c\n",
      "W0000 00:00:1730662026.497723    4293 inference_feedback_manager.cc:114] Feedback manager requires a model with a single signature inference. Disabling support for feedback tensors.\n",
      "W0000 00:00:1730662026.523741    4291 inference_feedback_manager.cc:114] Feedback manager requires a model with a single signature inference. Disabling support for feedback tensors.\n"
     ]
    },
    {
     "name": "stdout",
     "output_type": "stream",
     "text": [
      "Calculating time: 1.3390915393829346\n",
      "Landmarks time: 1.3311431407928467\n",
      "Check_landmarks time: 0.0011343955993652344\n",
      "Fragment: 524 from 610, mode: 'train'\n"
     ]
    },
    {
     "name": "stderr",
     "output_type": "stream",
     "text": [
      "I0000 00:00:1730662029.621784      17 task_runner.cc:85] GPU suport is not available: INTERNAL: ; RET_CHECK failure (mediapipe/gpu/gl_context_egl.cc:77) display != EGL_NO_DISPLAYeglGetDisplay() returned error 0x300c\n",
      "W0000 00:00:1730662029.730186    4302 inference_feedback_manager.cc:114] Feedback manager requires a model with a single signature inference. Disabling support for feedback tensors.\n",
      "W0000 00:00:1730662029.754958    4301 inference_feedback_manager.cc:114] Feedback manager requires a model with a single signature inference. Disabling support for feedback tensors.\n"
     ]
    },
    {
     "name": "stdout",
     "output_type": "stream",
     "text": [
      "Calculating time: 1.3744513988494873\n",
      "Landmarks time: 1.3682613372802734\n",
      "Check_landmarks time: 0.00029087066650390625\n",
      "Fragment: 525 from 610, mode: 'train'\n"
     ]
    },
    {
     "name": "stderr",
     "output_type": "stream",
     "text": [
      "I0000 00:00:1730662031.639349      17 task_runner.cc:85] GPU suport is not available: INTERNAL: ; RET_CHECK failure (mediapipe/gpu/gl_context_egl.cc:77) display != EGL_NO_DISPLAYeglGetDisplay() returned error 0x300c\n",
      "W0000 00:00:1730662031.748384    4310 inference_feedback_manager.cc:114] Feedback manager requires a model with a single signature inference. Disabling support for feedback tensors.\n",
      "W0000 00:00:1730662031.773175    4308 inference_feedback_manager.cc:114] Feedback manager requires a model with a single signature inference. Disabling support for feedback tensors.\n"
     ]
    },
    {
     "name": "stdout",
     "output_type": "stream",
     "text": [
      "Calculating time: 1.4044451713562012\n",
      "Landmarks time: 1.3971805572509766\n",
      "Check_landmarks time: 0.00031256675720214844\n",
      "Fragment: 526 from 610, mode: 'train'\n"
     ]
    },
    {
     "name": "stderr",
     "output_type": "stream",
     "text": [
      "I0000 00:00:1730662034.122649      17 task_runner.cc:85] GPU suport is not available: INTERNAL: ; RET_CHECK failure (mediapipe/gpu/gl_context_egl.cc:77) display != EGL_NO_DISPLAYeglGetDisplay() returned error 0x300c\n",
      "W0000 00:00:1730662034.228244    4316 inference_feedback_manager.cc:114] Feedback manager requires a model with a single signature inference. Disabling support for feedback tensors.\n",
      "W0000 00:00:1730662034.264229    4317 inference_feedback_manager.cc:114] Feedback manager requires a model with a single signature inference. Disabling support for feedback tensors.\n"
     ]
    },
    {
     "name": "stdout",
     "output_type": "stream",
     "text": [
      "Calculating time: 1.3517112731933594\n",
      "Landmarks time: 1.3448235988616943\n",
      "Check_landmarks time: 0.00028634071350097656\n",
      "Fragment: 527 from 610, mode: 'train'\n"
     ]
    },
    {
     "name": "stderr",
     "output_type": "stream",
     "text": [
      "I0000 00:00:1730662036.723759      17 task_runner.cc:85] GPU suport is not available: INTERNAL: ; RET_CHECK failure (mediapipe/gpu/gl_context_egl.cc:77) display != EGL_NO_DISPLAYeglGetDisplay() returned error 0x300c\n",
      "W0000 00:00:1730662036.821698    4324 inference_feedback_manager.cc:114] Feedback manager requires a model with a single signature inference. Disabling support for feedback tensors.\n",
      "W0000 00:00:1730662036.853540    4326 inference_feedback_manager.cc:114] Feedback manager requires a model with a single signature inference. Disabling support for feedback tensors.\n"
     ]
    },
    {
     "name": "stdout",
     "output_type": "stream",
     "text": [
      "Calculating time: 1.3733875751495361\n",
      "Landmarks time: 1.366400957107544\n",
      "Check_landmarks time: 0.00030922889709472656\n",
      "Fragment: 528 from 610, mode: 'train'\n"
     ]
    },
    {
     "name": "stderr",
     "output_type": "stream",
     "text": [
      "I0000 00:00:1730662039.631087      17 task_runner.cc:85] GPU suport is not available: INTERNAL: ; RET_CHECK failure (mediapipe/gpu/gl_context_egl.cc:77) display != EGL_NO_DISPLAYeglGetDisplay() returned error 0x300c\n",
      "W0000 00:00:1730662039.739809    4334 inference_feedback_manager.cc:114] Feedback manager requires a model with a single signature inference. Disabling support for feedback tensors.\n",
      "W0000 00:00:1730662039.765071    4333 inference_feedback_manager.cc:114] Feedback manager requires a model with a single signature inference. Disabling support for feedback tensors.\n"
     ]
    },
    {
     "name": "stdout",
     "output_type": "stream",
     "text": [
      "Calculating time: 1.375121831893921\n",
      "Landmarks time: 1.3679988384246826\n",
      "Check_landmarks time: 0.0003771781921386719\n",
      "Fragment: 529 from 610, mode: 'train'\n"
     ]
    },
    {
     "name": "stderr",
     "output_type": "stream",
     "text": [
      "I0000 00:00:1730662042.850126      17 task_runner.cc:85] GPU suport is not available: INTERNAL: ; RET_CHECK failure (mediapipe/gpu/gl_context_egl.cc:77) display != EGL_NO_DISPLAYeglGetDisplay() returned error 0x300c\n",
      "W0000 00:00:1730662042.959077    4340 inference_feedback_manager.cc:114] Feedback manager requires a model with a single signature inference. Disabling support for feedback tensors.\n",
      "W0000 00:00:1730662042.984454    4341 inference_feedback_manager.cc:114] Feedback manager requires a model with a single signature inference. Disabling support for feedback tensors.\n"
     ]
    },
    {
     "name": "stdout",
     "output_type": "stream",
     "text": [
      "Calculating time: 1.2062063217163086\n",
      "Landmarks time: 1.1940925121307373\n",
      "Check_landmarks time: 0.0031969547271728516\n",
      "Fragment: 530 from 610, mode: 'train'\n"
     ]
    },
    {
     "name": "stderr",
     "output_type": "stream",
     "text": [
      "I0000 00:00:1730662044.736240      17 task_runner.cc:85] GPU suport is not available: INTERNAL: ; RET_CHECK failure (mediapipe/gpu/gl_context_egl.cc:77) display != EGL_NO_DISPLAYeglGetDisplay() returned error 0x300c\n",
      "W0000 00:00:1730662044.834711    4348 inference_feedback_manager.cc:114] Feedback manager requires a model with a single signature inference. Disabling support for feedback tensors.\n",
      "W0000 00:00:1730662044.859500    4347 inference_feedback_manager.cc:114] Feedback manager requires a model with a single signature inference. Disabling support for feedback tensors.\n"
     ]
    },
    {
     "name": "stdout",
     "output_type": "stream",
     "text": [
      "Calculating time: 1.1858770847320557\n",
      "Landmarks time: 1.1747159957885742\n",
      "Check_landmarks time: 0.005307435989379883\n",
      "Fragment: 531 from 610, mode: 'train'\n"
     ]
    },
    {
     "name": "stderr",
     "output_type": "stream",
     "text": [
      "I0000 00:00:1730662046.964490      17 task_runner.cc:85] GPU suport is not available: INTERNAL: ; RET_CHECK failure (mediapipe/gpu/gl_context_egl.cc:77) display != EGL_NO_DISPLAYeglGetDisplay() returned error 0x300c\n",
      "W0000 00:00:1730662047.062058    4358 inference_feedback_manager.cc:114] Feedback manager requires a model with a single signature inference. Disabling support for feedback tensors.\n",
      "W0000 00:00:1730662047.093776    4356 inference_feedback_manager.cc:114] Feedback manager requires a model with a single signature inference. Disabling support for feedback tensors.\n"
     ]
    },
    {
     "name": "stdout",
     "output_type": "stream",
     "text": [
      "Not valid sequence\n",
      "Calculating time: 1.0799894332885742\n",
      "Landmarks time: 1.064734935760498\n",
      "Check_landmarks time: 0.008050680160522461\n",
      "Fragment: 532 from 610, mode: 'train'\n"
     ]
    },
    {
     "name": "stderr",
     "output_type": "stream",
     "text": [
      "I0000 00:00:1730662049.352699      17 task_runner.cc:85] GPU suport is not available: INTERNAL: ; RET_CHECK failure (mediapipe/gpu/gl_context_egl.cc:77) display != EGL_NO_DISPLAYeglGetDisplay() returned error 0x300c\n",
      "W0000 00:00:1730662049.450803    4363 inference_feedback_manager.cc:114] Feedback manager requires a model with a single signature inference. Disabling support for feedback tensors.\n",
      "W0000 00:00:1730662049.478162    4363 inference_feedback_manager.cc:114] Feedback manager requires a model with a single signature inference. Disabling support for feedback tensors.\n"
     ]
    },
    {
     "name": "stdout",
     "output_type": "stream",
     "text": [
      "Not valid sequence\n",
      "Calculating time: 0.9924619197845459\n",
      "Landmarks time: 0.9779763221740723\n",
      "Check_landmarks time: 0.007581472396850586\n",
      "Fragment: 533 from 610, mode: 'train'\n"
     ]
    },
    {
     "name": "stderr",
     "output_type": "stream",
     "text": [
      "I0000 00:00:1730662051.567914      17 task_runner.cc:85] GPU suport is not available: INTERNAL: ; RET_CHECK failure (mediapipe/gpu/gl_context_egl.cc:77) display != EGL_NO_DISPLAYeglGetDisplay() returned error 0x300c\n",
      "W0000 00:00:1730662051.666576    4373 inference_feedback_manager.cc:114] Feedback manager requires a model with a single signature inference. Disabling support for feedback tensors.\n",
      "W0000 00:00:1730662051.691180    4373 inference_feedback_manager.cc:114] Feedback manager requires a model with a single signature inference. Disabling support for feedback tensors.\n"
     ]
    },
    {
     "name": "stdout",
     "output_type": "stream",
     "text": [
      "Not valid sequence\n",
      "Calculating time: 0.5475327968597412\n",
      "Landmarks time: 0.5393905639648438\n",
      "Check_landmarks time: 0.0020928382873535156\n",
      "Fragment: 534 from 610, mode: 'train'\n"
     ]
    },
    {
     "name": "stderr",
     "output_type": "stream",
     "text": [
      "I0000 00:00:1730662052.321521      17 task_runner.cc:85] GPU suport is not available: INTERNAL: ; RET_CHECK failure (mediapipe/gpu/gl_context_egl.cc:77) display != EGL_NO_DISPLAYeglGetDisplay() returned error 0x300c\n",
      "W0000 00:00:1730662052.419576    4381 inference_feedback_manager.cc:114] Feedback manager requires a model with a single signature inference. Disabling support for feedback tensors.\n",
      "W0000 00:00:1730662052.444152    4380 inference_feedback_manager.cc:114] Feedback manager requires a model with a single signature inference. Disabling support for feedback tensors.\n"
     ]
    },
    {
     "name": "stdout",
     "output_type": "stream",
     "text": [
      "Calculating time: 1.2243318557739258\n",
      "Landmarks time: 1.22263765335083\n",
      "Check_landmarks time: 0.0012087821960449219\n",
      "Fragment: 535 from 610, mode: 'train'\n"
     ]
    },
    {
     "name": "stderr",
     "output_type": "stream",
     "text": [
      "I0000 00:00:1730662053.815058      17 task_runner.cc:85] GPU suport is not available: INTERNAL: ; RET_CHECK failure (mediapipe/gpu/gl_context_egl.cc:77) display != EGL_NO_DISPLAYeglGetDisplay() returned error 0x300c\n",
      "W0000 00:00:1730662053.924537    4389 inference_feedback_manager.cc:114] Feedback manager requires a model with a single signature inference. Disabling support for feedback tensors.\n",
      "W0000 00:00:1730662053.950993    4390 inference_feedback_manager.cc:114] Feedback manager requires a model with a single signature inference. Disabling support for feedback tensors.\n"
     ]
    },
    {
     "name": "stdout",
     "output_type": "stream",
     "text": [
      "Calculating time: 1.2539057731628418\n",
      "Landmarks time: 1.2505199909210205\n",
      "Check_landmarks time: 0.00034999847412109375\n",
      "Fragment: 536 from 610, mode: 'train'\n"
     ]
    },
    {
     "name": "stderr",
     "output_type": "stream",
     "text": [
      "I0000 00:00:1730662055.362044      17 task_runner.cc:85] GPU suport is not available: INTERNAL: ; RET_CHECK failure (mediapipe/gpu/gl_context_egl.cc:77) display != EGL_NO_DISPLAYeglGetDisplay() returned error 0x300c\n",
      "W0000 00:00:1730662055.483141    4396 inference_feedback_manager.cc:114] Feedback manager requires a model with a single signature inference. Disabling support for feedback tensors.\n",
      "W0000 00:00:1730662055.538119    4397 inference_feedback_manager.cc:114] Feedback manager requires a model with a single signature inference. Disabling support for feedback tensors.\n"
     ]
    },
    {
     "name": "stdout",
     "output_type": "stream",
     "text": [
      "Calculating time: 1.2539393901824951\n",
      "Landmarks time: 1.252195119857788\n",
      "Check_landmarks time: 0.0008614063262939453\n",
      "Fragment: 537 from 610, mode: 'train'\n"
     ]
    },
    {
     "name": "stderr",
     "output_type": "stream",
     "text": [
      "I0000 00:00:1730662056.890192      17 task_runner.cc:85] GPU suport is not available: INTERNAL: ; RET_CHECK failure (mediapipe/gpu/gl_context_egl.cc:77) display != EGL_NO_DISPLAYeglGetDisplay() returned error 0x300c\n",
      "W0000 00:00:1730662056.989254    4404 inference_feedback_manager.cc:114] Feedback manager requires a model with a single signature inference. Disabling support for feedback tensors.\n",
      "W0000 00:00:1730662057.026425    4404 inference_feedback_manager.cc:114] Feedback manager requires a model with a single signature inference. Disabling support for feedback tensors.\n"
     ]
    },
    {
     "name": "stdout",
     "output_type": "stream",
     "text": [
      "Calculating time: 1.3020148277282715\n",
      "Landmarks time: 1.2952518463134766\n",
      "Check_landmarks time: 0.002688169479370117\n",
      "Fragment: 538 from 610, mode: 'train'\n"
     ]
    },
    {
     "name": "stderr",
     "output_type": "stream",
     "text": [
      "I0000 00:00:1730662058.459519      17 task_runner.cc:85] GPU suport is not available: INTERNAL: ; RET_CHECK failure (mediapipe/gpu/gl_context_egl.cc:77) display != EGL_NO_DISPLAYeglGetDisplay() returned error 0x300c\n",
      "W0000 00:00:1730662058.577025    4413 inference_feedback_manager.cc:114] Feedback manager requires a model with a single signature inference. Disabling support for feedback tensors.\n",
      "W0000 00:00:1730662058.617231    4413 inference_feedback_manager.cc:114] Feedback manager requires a model with a single signature inference. Disabling support for feedback tensors.\n"
     ]
    },
    {
     "name": "stdout",
     "output_type": "stream",
     "text": [
      "Calculating time: 1.2412419319152832\n",
      "Landmarks time: 1.2400803565979004\n",
      "Check_landmarks time: 0.0002989768981933594\n",
      "Fragment: 539 from 610, mode: 'train'\n"
     ]
    },
    {
     "name": "stderr",
     "output_type": "stream",
     "text": [
      "I0000 00:00:1730662059.963362      17 task_runner.cc:85] GPU suport is not available: INTERNAL: ; RET_CHECK failure (mediapipe/gpu/gl_context_egl.cc:77) display != EGL_NO_DISPLAYeglGetDisplay() returned error 0x300c\n",
      "W0000 00:00:1730662060.064019    4419 inference_feedback_manager.cc:114] Feedback manager requires a model with a single signature inference. Disabling support for feedback tensors.\n",
      "W0000 00:00:1730662060.100774    4419 inference_feedback_manager.cc:114] Feedback manager requires a model with a single signature inference. Disabling support for feedback tensors.\n"
     ]
    },
    {
     "name": "stdout",
     "output_type": "stream",
     "text": [
      "Calculating time: 1.1991989612579346\n",
      "Landmarks time: 1.1951634883880615\n",
      "Check_landmarks time: 0.000286102294921875\n",
      "Fragment: 540 from 610, mode: 'train'\n"
     ]
    },
    {
     "name": "stderr",
     "output_type": "stream",
     "text": [
      "I0000 00:00:1730662061.434036      17 task_runner.cc:85] GPU suport is not available: INTERNAL: ; RET_CHECK failure (mediapipe/gpu/gl_context_egl.cc:77) display != EGL_NO_DISPLAYeglGetDisplay() returned error 0x300c\n",
      "W0000 00:00:1730662061.533402    4428 inference_feedback_manager.cc:114] Feedback manager requires a model with a single signature inference. Disabling support for feedback tensors.\n",
      "W0000 00:00:1730662061.558090    4428 inference_feedback_manager.cc:114] Feedback manager requires a model with a single signature inference. Disabling support for feedback tensors.\n"
     ]
    },
    {
     "name": "stdout",
     "output_type": "stream",
     "text": [
      "Calculating time: 1.2268540859222412\n",
      "Landmarks time: 1.225653886795044\n",
      "Check_landmarks time: 0.0002963542938232422\n",
      "Fragment: 541 from 610, mode: 'train'\n"
     ]
    },
    {
     "name": "stderr",
     "output_type": "stream",
     "text": [
      "I0000 00:00:1730662062.973967      17 task_runner.cc:85] GPU suport is not available: INTERNAL: ; RET_CHECK failure (mediapipe/gpu/gl_context_egl.cc:77) display != EGL_NO_DISPLAYeglGetDisplay() returned error 0x300c\n",
      "W0000 00:00:1730662063.074471    4437 inference_feedback_manager.cc:114] Feedback manager requires a model with a single signature inference. Disabling support for feedback tensors.\n",
      "W0000 00:00:1730662063.114380    4437 inference_feedback_manager.cc:114] Feedback manager requires a model with a single signature inference. Disabling support for feedback tensors.\n"
     ]
    },
    {
     "name": "stdout",
     "output_type": "stream",
     "text": [
      "Calculating time: 1.2468469142913818\n",
      "Landmarks time: 1.2431869506835938\n",
      "Check_landmarks time: 0.0003113746643066406\n",
      "Fragment: 542 from 610, mode: 'train'\n"
     ]
    },
    {
     "name": "stderr",
     "output_type": "stream",
     "text": [
      "I0000 00:00:1730662064.502650      17 task_runner.cc:85] GPU suport is not available: INTERNAL: ; RET_CHECK failure (mediapipe/gpu/gl_context_egl.cc:77) display != EGL_NO_DISPLAYeglGetDisplay() returned error 0x300c\n",
      "W0000 00:00:1730662064.612844    4445 inference_feedback_manager.cc:114] Feedback manager requires a model with a single signature inference. Disabling support for feedback tensors.\n",
      "W0000 00:00:1730662064.644146    4445 inference_feedback_manager.cc:114] Feedback manager requires a model with a single signature inference. Disabling support for feedback tensors.\n"
     ]
    },
    {
     "name": "stdout",
     "output_type": "stream",
     "text": [
      "Calculating time: 1.259742021560669\n",
      "Landmarks time: 1.2556369304656982\n",
      "Check_landmarks time: 0.0002951622009277344\n",
      "Fragment: 543 from 610, mode: 'train'\n"
     ]
    },
    {
     "name": "stderr",
     "output_type": "stream",
     "text": [
      "I0000 00:00:1730662066.097496      17 task_runner.cc:85] GPU suport is not available: INTERNAL: ; RET_CHECK failure (mediapipe/gpu/gl_context_egl.cc:77) display != EGL_NO_DISPLAYeglGetDisplay() returned error 0x300c\n",
      "W0000 00:00:1730662066.196209    4453 inference_feedback_manager.cc:114] Feedback manager requires a model with a single signature inference. Disabling support for feedback tensors.\n",
      "W0000 00:00:1730662066.223632    4453 inference_feedback_manager.cc:114] Feedback manager requires a model with a single signature inference. Disabling support for feedback tensors.\n"
     ]
    },
    {
     "name": "stdout",
     "output_type": "stream",
     "text": [
      "Calculating time: 1.2678368091583252\n",
      "Landmarks time: 1.2643415927886963\n",
      "Check_landmarks time: 0.00029277801513671875\n",
      "Fragment: 544 from 610, mode: 'train'\n"
     ]
    },
    {
     "name": "stderr",
     "output_type": "stream",
     "text": [
      "I0000 00:00:1730662067.632538      17 task_runner.cc:85] GPU suport is not available: INTERNAL: ; RET_CHECK failure (mediapipe/gpu/gl_context_egl.cc:77) display != EGL_NO_DISPLAYeglGetDisplay() returned error 0x300c\n",
      "W0000 00:00:1730662067.731462    4460 inference_feedback_manager.cc:114] Feedback manager requires a model with a single signature inference. Disabling support for feedback tensors.\n",
      "W0000 00:00:1730662067.772067    4460 inference_feedback_manager.cc:114] Feedback manager requires a model with a single signature inference. Disabling support for feedback tensors.\n"
     ]
    },
    {
     "name": "stdout",
     "output_type": "stream",
     "text": [
      "Calculating time: 1.2373473644256592\n",
      "Landmarks time: 1.2334449291229248\n",
      "Check_landmarks time: 0.0003485679626464844\n",
      "Fragment: 545 from 610, mode: 'train'\n"
     ]
    },
    {
     "name": "stderr",
     "output_type": "stream",
     "text": [
      "I0000 00:00:1730662069.140627      17 task_runner.cc:85] GPU suport is not available: INTERNAL: ; RET_CHECK failure (mediapipe/gpu/gl_context_egl.cc:77) display != EGL_NO_DISPLAYeglGetDisplay() returned error 0x300c\n",
      "W0000 00:00:1730662069.239716    4468 inference_feedback_manager.cc:114] Feedback manager requires a model with a single signature inference. Disabling support for feedback tensors.\n",
      "W0000 00:00:1730662069.264192    4470 inference_feedback_manager.cc:114] Feedback manager requires a model with a single signature inference. Disabling support for feedback tensors.\n"
     ]
    },
    {
     "name": "stdout",
     "output_type": "stream",
     "text": [
      "Calculating time: 1.150712490081787\n",
      "Landmarks time: 1.147141456604004\n",
      "Check_landmarks time: 0.0002734661102294922\n",
      "Fragment: 546 from 610, mode: 'train'\n"
     ]
    },
    {
     "name": "stderr",
     "output_type": "stream",
     "text": [
      "I0000 00:00:1730662070.564716      17 task_runner.cc:85] GPU suport is not available: INTERNAL: ; RET_CHECK failure (mediapipe/gpu/gl_context_egl.cc:77) display != EGL_NO_DISPLAYeglGetDisplay() returned error 0x300c\n",
      "W0000 00:00:1730662070.673791    4477 inference_feedback_manager.cc:114] Feedback manager requires a model with a single signature inference. Disabling support for feedback tensors.\n",
      "W0000 00:00:1730662070.705235    4477 inference_feedback_manager.cc:114] Feedback manager requires a model with a single signature inference. Disabling support for feedback tensors.\n"
     ]
    },
    {
     "name": "stdout",
     "output_type": "stream",
     "text": [
      "Calculating time: 1.250054121017456\n",
      "Landmarks time: 1.2459311485290527\n",
      "Check_landmarks time: 0.0006058216094970703\n",
      "Fragment: 547 from 610, mode: 'train'\n"
     ]
    },
    {
     "name": "stderr",
     "output_type": "stream",
     "text": [
      "I0000 00:00:1730662072.084733      17 task_runner.cc:85] GPU suport is not available: INTERNAL: ; RET_CHECK failure (mediapipe/gpu/gl_context_egl.cc:77) display != EGL_NO_DISPLAYeglGetDisplay() returned error 0x300c\n",
      "W0000 00:00:1730662072.183786    4485 inference_feedback_manager.cc:114] Feedback manager requires a model with a single signature inference. Disabling support for feedback tensors.\n",
      "W0000 00:00:1730662072.208477    4483 inference_feedback_manager.cc:114] Feedback manager requires a model with a single signature inference. Disabling support for feedback tensors.\n"
     ]
    },
    {
     "name": "stdout",
     "output_type": "stream",
     "text": [
      "Calculating time: 1.2361645698547363\n",
      "Landmarks time: 1.232269525527954\n",
      "Check_landmarks time: 0.00029015541076660156\n",
      "Fragment: 548 from 610, mode: 'train'\n"
     ]
    },
    {
     "name": "stderr",
     "output_type": "stream",
     "text": [
      "I0000 00:00:1730662073.594355      17 task_runner.cc:85] GPU suport is not available: INTERNAL: ; RET_CHECK failure (mediapipe/gpu/gl_context_egl.cc:77) display != EGL_NO_DISPLAYeglGetDisplay() returned error 0x300c\n",
      "W0000 00:00:1730662073.692975    4494 inference_feedback_manager.cc:114] Feedback manager requires a model with a single signature inference. Disabling support for feedback tensors.\n",
      "W0000 00:00:1730662073.724826    4493 inference_feedback_manager.cc:114] Feedback manager requires a model with a single signature inference. Disabling support for feedback tensors.\n"
     ]
    },
    {
     "name": "stdout",
     "output_type": "stream",
     "text": [
      "Calculating time: 1.1549501419067383\n",
      "Landmarks time: 1.1510186195373535\n",
      "Check_landmarks time: 0.00029397010803222656\n",
      "Fragment: 549 from 610, mode: 'train'\n"
     ]
    },
    {
     "name": "stderr",
     "output_type": "stream",
     "text": [
      "I0000 00:00:1730662075.029002      17 task_runner.cc:85] GPU suport is not available: INTERNAL: ; RET_CHECK failure (mediapipe/gpu/gl_context_egl.cc:77) display != EGL_NO_DISPLAYeglGetDisplay() returned error 0x300c\n",
      "W0000 00:00:1730662075.139810    4499 inference_feedback_manager.cc:114] Feedback manager requires a model with a single signature inference. Disabling support for feedback tensors.\n",
      "W0000 00:00:1730662075.164631    4501 inference_feedback_manager.cc:114] Feedback manager requires a model with a single signature inference. Disabling support for feedback tensors.\n"
     ]
    },
    {
     "name": "stdout",
     "output_type": "stream",
     "text": [
      "Calculating time: 1.2225701808929443\n",
      "Landmarks time: 1.2191340923309326\n",
      "Check_landmarks time: 0.00030684471130371094\n",
      "Fragment: 550 from 610, mode: 'train'\n"
     ]
    },
    {
     "name": "stderr",
     "output_type": "stream",
     "text": [
      "I0000 00:00:1730662076.526804      17 task_runner.cc:85] GPU suport is not available: INTERNAL: ; RET_CHECK failure (mediapipe/gpu/gl_context_egl.cc:77) display != EGL_NO_DISPLAYeglGetDisplay() returned error 0x300c\n",
      "W0000 00:00:1730662076.625651    4509 inference_feedback_manager.cc:114] Feedback manager requires a model with a single signature inference. Disabling support for feedback tensors.\n",
      "W0000 00:00:1730662076.650602    4509 inference_feedback_manager.cc:114] Feedback manager requires a model with a single signature inference. Disabling support for feedback tensors.\n"
     ]
    },
    {
     "name": "stdout",
     "output_type": "stream",
     "text": [
      "Calculating time: 1.2247896194458008\n",
      "Landmarks time: 1.2212517261505127\n",
      "Check_landmarks time: 0.0002880096435546875\n",
      "Fragment: 551 from 610, mode: 'train'\n"
     ]
    },
    {
     "name": "stderr",
     "output_type": "stream",
     "text": [
      "I0000 00:00:1730662078.027641      17 task_runner.cc:85] GPU suport is not available: INTERNAL: ; RET_CHECK failure (mediapipe/gpu/gl_context_egl.cc:77) display != EGL_NO_DISPLAYeglGetDisplay() returned error 0x300c\n",
      "W0000 00:00:1730662078.126989    4516 inference_feedback_manager.cc:114] Feedback manager requires a model with a single signature inference. Disabling support for feedback tensors.\n",
      "W0000 00:00:1730662078.152412    4517 inference_feedback_manager.cc:114] Feedback manager requires a model with a single signature inference. Disabling support for feedback tensors.\n"
     ]
    },
    {
     "name": "stdout",
     "output_type": "stream",
     "text": [
      "Calculating time: 1.1726572513580322\n",
      "Landmarks time: 1.1691551208496094\n",
      "Check_landmarks time: 0.0002880096435546875\n",
      "Fragment: 552 from 610, mode: 'train'\n"
     ]
    },
    {
     "name": "stderr",
     "output_type": "stream",
     "text": [
      "I0000 00:00:1730662079.475956      17 task_runner.cc:85] GPU suport is not available: INTERNAL: ; RET_CHECK failure (mediapipe/gpu/gl_context_egl.cc:77) display != EGL_NO_DISPLAYeglGetDisplay() returned error 0x300c\n",
      "W0000 00:00:1730662079.574670    4526 inference_feedback_manager.cc:114] Feedback manager requires a model with a single signature inference. Disabling support for feedback tensors.\n",
      "W0000 00:00:1730662079.599578    4525 inference_feedback_manager.cc:114] Feedback manager requires a model with a single signature inference. Disabling support for feedback tensors.\n"
     ]
    },
    {
     "name": "stdout",
     "output_type": "stream",
     "text": [
      "Calculating time: 1.1992981433868408\n",
      "Landmarks time: 1.1958410739898682\n",
      "Check_landmarks time: 0.0002875328063964844\n",
      "Fragment: 553 from 610, mode: 'train'\n"
     ]
    },
    {
     "name": "stderr",
     "output_type": "stream",
     "text": [
      "I0000 00:00:1730662080.947252      17 task_runner.cc:85] GPU suport is not available: INTERNAL: ; RET_CHECK failure (mediapipe/gpu/gl_context_egl.cc:77) display != EGL_NO_DISPLAYeglGetDisplay() returned error 0x300c\n",
      "W0000 00:00:1730662081.045878    4531 inference_feedback_manager.cc:114] Feedback manager requires a model with a single signature inference. Disabling support for feedback tensors.\n",
      "W0000 00:00:1730662081.071713    4531 inference_feedback_manager.cc:114] Feedback manager requires a model with a single signature inference. Disabling support for feedback tensors.\n"
     ]
    },
    {
     "name": "stdout",
     "output_type": "stream",
     "text": [
      "Calculating time: 1.2517659664154053\n",
      "Landmarks time: 1.2480206489562988\n",
      "Check_landmarks time: 0.0006387233734130859\n",
      "Fragment: 554 from 610, mode: 'train'\n"
     ]
    },
    {
     "name": "stderr",
     "output_type": "stream",
     "text": [
      "I0000 00:00:1730662082.470624      17 task_runner.cc:85] GPU suport is not available: INTERNAL: ; RET_CHECK failure (mediapipe/gpu/gl_context_egl.cc:77) display != EGL_NO_DISPLAYeglGetDisplay() returned error 0x300c\n",
      "W0000 00:00:1730662082.581459    4539 inference_feedback_manager.cc:114] Feedback manager requires a model with a single signature inference. Disabling support for feedback tensors.\n",
      "W0000 00:00:1730662082.613045    4539 inference_feedback_manager.cc:114] Feedback manager requires a model with a single signature inference. Disabling support for feedback tensors.\n"
     ]
    },
    {
     "name": "stdout",
     "output_type": "stream",
     "text": [
      "Calculating time: 1.2501816749572754\n",
      "Landmarks time: 1.2456691265106201\n",
      "Check_landmarks time: 0.0006525516510009766\n",
      "Fragment: 555 from 610, mode: 'train'\n"
     ]
    },
    {
     "name": "stderr",
     "output_type": "stream",
     "text": [
      "I0000 00:00:1730662083.991140      17 task_runner.cc:85] GPU suport is not available: INTERNAL: ; RET_CHECK failure (mediapipe/gpu/gl_context_egl.cc:77) display != EGL_NO_DISPLAYeglGetDisplay() returned error 0x300c\n",
      "W0000 00:00:1730662084.090133    4548 inference_feedback_manager.cc:114] Feedback manager requires a model with a single signature inference. Disabling support for feedback tensors.\n",
      "W0000 00:00:1730662084.122356    4549 inference_feedback_manager.cc:114] Feedback manager requires a model with a single signature inference. Disabling support for feedback tensors.\n"
     ]
    },
    {
     "name": "stdout",
     "output_type": "stream",
     "text": [
      "Calculating time: 1.233093500137329\n",
      "Landmarks time: 1.2293357849121094\n",
      "Check_landmarks time: 0.0006177425384521484\n",
      "Fragment: 556 from 610, mode: 'train'\n"
     ]
    },
    {
     "name": "stderr",
     "output_type": "stream",
     "text": [
      "I0000 00:00:1730662085.487509      17 task_runner.cc:85] GPU suport is not available: INTERNAL: ; RET_CHECK failure (mediapipe/gpu/gl_context_egl.cc:77) display != EGL_NO_DISPLAYeglGetDisplay() returned error 0x300c\n",
      "W0000 00:00:1730662085.587163    4557 inference_feedback_manager.cc:114] Feedback manager requires a model with a single signature inference. Disabling support for feedback tensors.\n",
      "W0000 00:00:1730662085.611353    4557 inference_feedback_manager.cc:114] Feedback manager requires a model with a single signature inference. Disabling support for feedback tensors.\n"
     ]
    },
    {
     "name": "stdout",
     "output_type": "stream",
     "text": [
      "Calculating time: 1.2307729721069336\n",
      "Landmarks time: 1.2261903285980225\n",
      "Check_landmarks time: 0.0006086826324462891\n",
      "Fragment: 557 from 610, mode: 'train'\n"
     ]
    },
    {
     "name": "stderr",
     "output_type": "stream",
     "text": [
      "I0000 00:00:1730662086.982772      17 task_runner.cc:85] GPU suport is not available: INTERNAL: ; RET_CHECK failure (mediapipe/gpu/gl_context_egl.cc:77) display != EGL_NO_DISPLAYeglGetDisplay() returned error 0x300c\n",
      "W0000 00:00:1730662087.095292    4565 inference_feedback_manager.cc:114] Feedback manager requires a model with a single signature inference. Disabling support for feedback tensors.\n",
      "W0000 00:00:1730662087.120019    4564 inference_feedback_manager.cc:114] Feedback manager requires a model with a single signature inference. Disabling support for feedback tensors.\n"
     ]
    },
    {
     "name": "stdout",
     "output_type": "stream",
     "text": [
      "Calculating time: 1.2621128559112549\n",
      "Landmarks time: 1.2572050094604492\n",
      "Check_landmarks time: 0.0013051033020019531\n",
      "Fragment: 558 from 610, mode: 'train'\n"
     ]
    },
    {
     "name": "stderr",
     "output_type": "stream",
     "text": [
      "I0000 00:00:1730662088.514071      17 task_runner.cc:85] GPU suport is not available: INTERNAL: ; RET_CHECK failure (mediapipe/gpu/gl_context_egl.cc:77) display != EGL_NO_DISPLAYeglGetDisplay() returned error 0x300c\n",
      "W0000 00:00:1730662088.613362    4573 inference_feedback_manager.cc:114] Feedback manager requires a model with a single signature inference. Disabling support for feedback tensors.\n",
      "W0000 00:00:1730662088.638289    4574 inference_feedback_manager.cc:114] Feedback manager requires a model with a single signature inference. Disabling support for feedback tensors.\n"
     ]
    },
    {
     "name": "stdout",
     "output_type": "stream",
     "text": [
      "Calculating time: 1.290940284729004\n",
      "Landmarks time: 1.2860431671142578\n",
      "Check_landmarks time: 0.0010139942169189453\n",
      "Fragment: 559 from 610, mode: 'train'\n"
     ]
    },
    {
     "name": "stderr",
     "output_type": "stream",
     "text": [
      "I0000 00:00:1730662090.081447      17 task_runner.cc:85] GPU suport is not available: INTERNAL: ; RET_CHECK failure (mediapipe/gpu/gl_context_egl.cc:77) display != EGL_NO_DISPLAYeglGetDisplay() returned error 0x300c\n",
      "W0000 00:00:1730662090.180872    4580 inference_feedback_manager.cc:114] Feedback manager requires a model with a single signature inference. Disabling support for feedback tensors.\n",
      "W0000 00:00:1730662090.212593    4582 inference_feedback_manager.cc:114] Feedback manager requires a model with a single signature inference. Disabling support for feedback tensors.\n"
     ]
    },
    {
     "name": "stdout",
     "output_type": "stream",
     "text": [
      "Calculating time: 1.2075092792510986\n",
      "Landmarks time: 1.2038872241973877\n",
      "Check_landmarks time: 0.0003056526184082031\n",
      "Fragment: 560 from 610, mode: 'train'\n"
     ]
    },
    {
     "name": "stderr",
     "output_type": "stream",
     "text": [
      "I0000 00:00:1730662091.561651      17 task_runner.cc:85] GPU suport is not available: INTERNAL: ; RET_CHECK failure (mediapipe/gpu/gl_context_egl.cc:77) display != EGL_NO_DISPLAYeglGetDisplay() returned error 0x300c\n",
      "W0000 00:00:1730662091.660765    4588 inference_feedback_manager.cc:114] Feedback manager requires a model with a single signature inference. Disabling support for feedback tensors.\n",
      "W0000 00:00:1730662091.688671    4588 inference_feedback_manager.cc:114] Feedback manager requires a model with a single signature inference. Disabling support for feedback tensors.\n"
     ]
    },
    {
     "name": "stdout",
     "output_type": "stream",
     "text": [
      "Calculating time: 1.1684620380401611\n",
      "Landmarks time: 1.1650338172912598\n",
      "Check_landmarks time: 0.00028824806213378906\n",
      "Fragment: 561 from 610, mode: 'train'\n"
     ]
    },
    {
     "name": "stderr",
     "output_type": "stream",
     "text": [
      "I0000 00:00:1730662093.035319      17 task_runner.cc:85] GPU suport is not available: INTERNAL: ; RET_CHECK failure (mediapipe/gpu/gl_context_egl.cc:77) display != EGL_NO_DISPLAYeglGetDisplay() returned error 0x300c\n",
      "W0000 00:00:1730662093.133704    4596 inference_feedback_manager.cc:114] Feedback manager requires a model with a single signature inference. Disabling support for feedback tensors.\n",
      "W0000 00:00:1730662093.158154    4596 inference_feedback_manager.cc:114] Feedback manager requires a model with a single signature inference. Disabling support for feedback tensors.\n"
     ]
    },
    {
     "name": "stdout",
     "output_type": "stream",
     "text": [
      "Calculating time: 1.1924769878387451\n",
      "Landmarks time: 1.18894362449646\n",
      "Check_landmarks time: 0.00031065940856933594\n",
      "Fragment: 562 from 610, mode: 'train'\n"
     ]
    },
    {
     "name": "stderr",
     "output_type": "stream",
     "text": [
      "I0000 00:00:1730662094.497694      17 task_runner.cc:85] GPU suport is not available: INTERNAL: ; RET_CHECK failure (mediapipe/gpu/gl_context_egl.cc:77) display != EGL_NO_DISPLAYeglGetDisplay() returned error 0x300c\n",
      "W0000 00:00:1730662094.595994    4603 inference_feedback_manager.cc:114] Feedback manager requires a model with a single signature inference. Disabling support for feedback tensors.\n",
      "W0000 00:00:1730662094.627692    4605 inference_feedback_manager.cc:114] Feedback manager requires a model with a single signature inference. Disabling support for feedback tensors.\n"
     ]
    },
    {
     "name": "stdout",
     "output_type": "stream",
     "text": [
      "Calculating time: 1.1974496841430664\n",
      "Landmarks time: 1.194037914276123\n",
      "Check_landmarks time: 0.0002913475036621094\n",
      "Fragment: 563 from 610, mode: 'train'\n"
     ]
    },
    {
     "name": "stderr",
     "output_type": "stream",
     "text": [
      "I0000 00:00:1730662095.959238      17 task_runner.cc:85] GPU suport is not available: INTERNAL: ; RET_CHECK failure (mediapipe/gpu/gl_context_egl.cc:77) display != EGL_NO_DISPLAYeglGetDisplay() returned error 0x300c\n",
      "W0000 00:00:1730662096.056926    4611 inference_feedback_manager.cc:114] Feedback manager requires a model with a single signature inference. Disabling support for feedback tensors.\n",
      "W0000 00:00:1730662096.081494    4611 inference_feedback_manager.cc:114] Feedback manager requires a model with a single signature inference. Disabling support for feedback tensors.\n"
     ]
    },
    {
     "name": "stdout",
     "output_type": "stream",
     "text": [
      "Calculating time: 1.1670856475830078\n",
      "Landmarks time: 1.1631367206573486\n",
      "Check_landmarks time: 0.000675201416015625\n",
      "Fragment: 564 from 610, mode: 'train'\n"
     ]
    },
    {
     "name": "stderr",
     "output_type": "stream",
     "text": [
      "I0000 00:00:1730662097.454245      17 task_runner.cc:85] GPU suport is not available: INTERNAL: ; RET_CHECK failure (mediapipe/gpu/gl_context_egl.cc:77) display != EGL_NO_DISPLAYeglGetDisplay() returned error 0x300c\n",
      "W0000 00:00:1730662097.582897    4620 inference_feedback_manager.cc:114] Feedback manager requires a model with a single signature inference. Disabling support for feedback tensors.\n",
      "W0000 00:00:1730662097.611683    4621 inference_feedback_manager.cc:114] Feedback manager requires a model with a single signature inference. Disabling support for feedback tensors.\n"
     ]
    },
    {
     "name": "stdout",
     "output_type": "stream",
     "text": [
      "Calculating time: 1.322073221206665\n",
      "Landmarks time: 1.3172259330749512\n",
      "Check_landmarks time: 0.0002989768981933594\n",
      "Fragment: 565 from 610, mode: 'train'\n"
     ]
    },
    {
     "name": "stderr",
     "output_type": "stream",
     "text": [
      "I0000 00:00:1730662099.054806      17 task_runner.cc:85] GPU suport is not available: INTERNAL: ; RET_CHECK failure (mediapipe/gpu/gl_context_egl.cc:77) display != EGL_NO_DISPLAYeglGetDisplay() returned error 0x300c\n",
      "W0000 00:00:1730662099.165155    4628 inference_feedback_manager.cc:114] Feedback manager requires a model with a single signature inference. Disabling support for feedback tensors.\n",
      "W0000 00:00:1730662099.196715    4628 inference_feedback_manager.cc:114] Feedback manager requires a model with a single signature inference. Disabling support for feedback tensors.\n"
     ]
    },
    {
     "name": "stdout",
     "output_type": "stream",
     "text": [
      "Calculating time: 1.219634771347046\n",
      "Landmarks time: 1.2161824703216553\n",
      "Check_landmarks time: 0.0002875328063964844\n",
      "Fragment: 566 from 610, mode: 'train'\n"
     ]
    },
    {
     "name": "stderr",
     "output_type": "stream",
     "text": [
      "I0000 00:00:1730662100.545930      17 task_runner.cc:85] GPU suport is not available: INTERNAL: ; RET_CHECK failure (mediapipe/gpu/gl_context_egl.cc:77) display != EGL_NO_DISPLAYeglGetDisplay() returned error 0x300c\n",
      "W0000 00:00:1730662100.644078    4637 inference_feedback_manager.cc:114] Feedback manager requires a model with a single signature inference. Disabling support for feedback tensors.\n",
      "W0000 00:00:1730662100.668592    4637 inference_feedback_manager.cc:114] Feedback manager requires a model with a single signature inference. Disabling support for feedback tensors.\n"
     ]
    },
    {
     "name": "stdout",
     "output_type": "stream",
     "text": [
      "Calculating time: 1.158442735671997\n",
      "Landmarks time: 1.15501070022583\n",
      "Check_landmarks time: 0.00027632713317871094\n",
      "Fragment: 567 from 610, mode: 'train'\n"
     ]
    },
    {
     "name": "stderr",
     "output_type": "stream",
     "text": [
      "I0000 00:00:1730662101.974975      17 task_runner.cc:85] GPU suport is not available: INTERNAL: ; RET_CHECK failure (mediapipe/gpu/gl_context_egl.cc:77) display != EGL_NO_DISPLAYeglGetDisplay() returned error 0x300c\n",
      "W0000 00:00:1730662102.072741    4644 inference_feedback_manager.cc:114] Feedback manager requires a model with a single signature inference. Disabling support for feedback tensors.\n",
      "W0000 00:00:1730662102.096919    4644 inference_feedback_manager.cc:114] Feedback manager requires a model with a single signature inference. Disabling support for feedback tensors.\n"
     ]
    },
    {
     "name": "stdout",
     "output_type": "stream",
     "text": [
      "Calculating time: 1.2214200496673584\n",
      "Landmarks time: 1.2180700302124023\n",
      "Check_landmarks time: 0.00028824806213378906\n",
      "Fragment: 568 from 610, mode: 'train'\n"
     ]
    },
    {
     "name": "stderr",
     "output_type": "stream",
     "text": [
      "I0000 00:00:1730662103.458565      17 task_runner.cc:85] GPU suport is not available: INTERNAL: ; RET_CHECK failure (mediapipe/gpu/gl_context_egl.cc:77) display != EGL_NO_DISPLAYeglGetDisplay() returned error 0x300c\n",
      "W0000 00:00:1730662103.557746    4652 inference_feedback_manager.cc:114] Feedback manager requires a model with a single signature inference. Disabling support for feedback tensors.\n",
      "W0000 00:00:1730662103.584922    4652 inference_feedback_manager.cc:114] Feedback manager requires a model with a single signature inference. Disabling support for feedback tensors.\n"
     ]
    },
    {
     "name": "stdout",
     "output_type": "stream",
     "text": [
      "Calculating time: 1.2021572589874268\n",
      "Landmarks time: 1.198110818862915\n",
      "Check_landmarks time: 0.0002932548522949219\n",
      "Fragment: 569 from 610, mode: 'train'\n"
     ]
    },
    {
     "name": "stderr",
     "output_type": "stream",
     "text": [
      "I0000 00:00:1730662104.912945      17 task_runner.cc:85] GPU suport is not available: INTERNAL: ; RET_CHECK failure (mediapipe/gpu/gl_context_egl.cc:77) display != EGL_NO_DISPLAYeglGetDisplay() returned error 0x300c\n",
      "W0000 00:00:1730662105.011714    4660 inference_feedback_manager.cc:114] Feedback manager requires a model with a single signature inference. Disabling support for feedback tensors.\n",
      "W0000 00:00:1730662105.036877    4662 inference_feedback_manager.cc:114] Feedback manager requires a model with a single signature inference. Disabling support for feedback tensors.\n"
     ]
    },
    {
     "name": "stdout",
     "output_type": "stream",
     "text": [
      "Calculating time: 1.196697473526001\n",
      "Landmarks time: 1.1926448345184326\n",
      "Check_landmarks time: 0.0002799034118652344\n",
      "Fragment: 570 from 610, mode: 'train'\n"
     ]
    },
    {
     "name": "stderr",
     "output_type": "stream",
     "text": [
      "I0000 00:00:1730662106.383905      17 task_runner.cc:85] GPU suport is not available: INTERNAL: ; RET_CHECK failure (mediapipe/gpu/gl_context_egl.cc:77) display != EGL_NO_DISPLAYeglGetDisplay() returned error 0x300c\n",
      "W0000 00:00:1730662106.494688    4670 inference_feedback_manager.cc:114] Feedback manager requires a model with a single signature inference. Disabling support for feedback tensors.\n",
      "W0000 00:00:1730662106.538616    4667 inference_feedback_manager.cc:114] Feedback manager requires a model with a single signature inference. Disabling support for feedback tensors.\n"
     ]
    },
    {
     "name": "stdout",
     "output_type": "stream",
     "text": [
      "Calculating time: 1.25639009475708\n",
      "Landmarks time: 1.252892017364502\n",
      "Check_landmarks time: 0.00029540061950683594\n",
      "Fragment: 571 from 610, mode: 'train'\n"
     ]
    },
    {
     "name": "stderr",
     "output_type": "stream",
     "text": [
      "I0000 00:00:1730662107.914891      17 task_runner.cc:85] GPU suport is not available: INTERNAL: ; RET_CHECK failure (mediapipe/gpu/gl_context_egl.cc:77) display != EGL_NO_DISPLAYeglGetDisplay() returned error 0x300c\n",
      "W0000 00:00:1730662108.017835    4678 inference_feedback_manager.cc:114] Feedback manager requires a model with a single signature inference. Disabling support for feedback tensors.\n",
      "W0000 00:00:1730662108.045461    4678 inference_feedback_manager.cc:114] Feedback manager requires a model with a single signature inference. Disabling support for feedback tensors.\n"
     ]
    },
    {
     "name": "stdout",
     "output_type": "stream",
     "text": [
      "Calculating time: 1.238732099533081\n",
      "Landmarks time: 1.2342159748077393\n",
      "Check_landmarks time: 0.0002932548522949219\n",
      "Fragment: 572 from 610, mode: 'train'\n"
     ]
    },
    {
     "name": "stderr",
     "output_type": "stream",
     "text": [
      "I0000 00:00:1730662109.421324      17 task_runner.cc:85] GPU suport is not available: INTERNAL: ; RET_CHECK failure (mediapipe/gpu/gl_context_egl.cc:77) display != EGL_NO_DISPLAYeglGetDisplay() returned error 0x300c\n",
      "W0000 00:00:1730662109.551501    4685 inference_feedback_manager.cc:114] Feedback manager requires a model with a single signature inference. Disabling support for feedback tensors.\n",
      "W0000 00:00:1730662109.579357    4686 inference_feedback_manager.cc:114] Feedback manager requires a model with a single signature inference. Disabling support for feedback tensors.\n"
     ]
    },
    {
     "name": "stdout",
     "output_type": "stream",
     "text": [
      "Calculating time: 1.1907758712768555\n",
      "Landmarks time: 1.1871559619903564\n",
      "Check_landmarks time: 0.0002837181091308594\n",
      "Fragment: 573 from 610, mode: 'train'\n"
     ]
    },
    {
     "name": "stderr",
     "output_type": "stream",
     "text": [
      "I0000 00:00:1730662110.884351      17 task_runner.cc:85] GPU suport is not available: INTERNAL: ; RET_CHECK failure (mediapipe/gpu/gl_context_egl.cc:77) display != EGL_NO_DISPLAYeglGetDisplay() returned error 0x300c\n",
      "W0000 00:00:1730662110.982141    4693 inference_feedback_manager.cc:114] Feedback manager requires a model with a single signature inference. Disabling support for feedback tensors.\n",
      "W0000 00:00:1730662111.015932    4693 inference_feedback_manager.cc:114] Feedback manager requires a model with a single signature inference. Disabling support for feedback tensors.\n"
     ]
    },
    {
     "name": "stdout",
     "output_type": "stream",
     "text": [
      "Calculating time: 1.198591947555542\n",
      "Landmarks time: 1.1945164203643799\n",
      "Check_landmarks time: 0.0002899169921875\n",
      "Fragment: 574 from 610, mode: 'train'\n"
     ]
    },
    {
     "name": "stderr",
     "output_type": "stream",
     "text": [
      "I0000 00:00:1730662112.363125      17 task_runner.cc:85] GPU suport is not available: INTERNAL: ; RET_CHECK failure (mediapipe/gpu/gl_context_egl.cc:77) display != EGL_NO_DISPLAYeglGetDisplay() returned error 0x300c\n",
      "W0000 00:00:1730662112.472054    4702 inference_feedback_manager.cc:114] Feedback manager requires a model with a single signature inference. Disabling support for feedback tensors.\n",
      "W0000 00:00:1730662112.512852    4702 inference_feedback_manager.cc:114] Feedback manager requires a model with a single signature inference. Disabling support for feedback tensors.\n"
     ]
    },
    {
     "name": "stdout",
     "output_type": "stream",
     "text": [
      "Calculating time: 1.2531325817108154\n",
      "Landmarks time: 1.2489409446716309\n",
      "Check_landmarks time: 0.0002894401550292969\n",
      "Fragment: 575 from 610, mode: 'train'\n"
     ]
    },
    {
     "name": "stderr",
     "output_type": "stream",
     "text": [
      "I0000 00:00:1730662113.904090      17 task_runner.cc:85] GPU suport is not available: INTERNAL: ; RET_CHECK failure (mediapipe/gpu/gl_context_egl.cc:77) display != EGL_NO_DISPLAYeglGetDisplay() returned error 0x300c\n",
      "W0000 00:00:1730662114.003826    4707 inference_feedback_manager.cc:114] Feedback manager requires a model with a single signature inference. Disabling support for feedback tensors.\n",
      "W0000 00:00:1730662114.035989    4708 inference_feedback_manager.cc:114] Feedback manager requires a model with a single signature inference. Disabling support for feedback tensors.\n"
     ]
    },
    {
     "name": "stdout",
     "output_type": "stream",
     "text": [
      "Calculating time: 1.152989387512207\n",
      "Landmarks time: 1.1494553089141846\n",
      "Check_landmarks time: 0.00028824806213378906\n",
      "Fragment: 576 from 610, mode: 'train'\n"
     ]
    },
    {
     "name": "stderr",
     "output_type": "stream",
     "text": [
      "I0000 00:00:1730662115.335452      17 task_runner.cc:85] GPU suport is not available: INTERNAL: ; RET_CHECK failure (mediapipe/gpu/gl_context_egl.cc:77) display != EGL_NO_DISPLAYeglGetDisplay() returned error 0x300c\n",
      "W0000 00:00:1730662115.433587    4715 inference_feedback_manager.cc:114] Feedback manager requires a model with a single signature inference. Disabling support for feedback tensors.\n",
      "W0000 00:00:1730662115.459309    4715 inference_feedback_manager.cc:114] Feedback manager requires a model with a single signature inference. Disabling support for feedback tensors.\n"
     ]
    },
    {
     "name": "stdout",
     "output_type": "stream",
     "text": [
      "Calculating time: 1.239255666732788\n",
      "Landmarks time: 1.2357995510101318\n",
      "Check_landmarks time: 0.00030803680419921875\n",
      "Fragment: 577 from 610, mode: 'train'\n"
     ]
    },
    {
     "name": "stderr",
     "output_type": "stream",
     "text": [
      "I0000 00:00:1730662116.847588      17 task_runner.cc:85] GPU suport is not available: INTERNAL: ; RET_CHECK failure (mediapipe/gpu/gl_context_egl.cc:77) display != EGL_NO_DISPLAYeglGetDisplay() returned error 0x300c\n",
      "W0000 00:00:1730662116.945150    4723 inference_feedback_manager.cc:114] Feedback manager requires a model with a single signature inference. Disabling support for feedback tensors.\n",
      "W0000 00:00:1730662116.969653    4725 inference_feedback_manager.cc:114] Feedback manager requires a model with a single signature inference. Disabling support for feedback tensors.\n"
     ]
    },
    {
     "name": "stdout",
     "output_type": "stream",
     "text": [
      "Calculating time: 1.2049591541290283\n",
      "Landmarks time: 1.2012128829956055\n",
      "Check_landmarks time: 0.0002970695495605469\n",
      "Fragment: 578 from 610, mode: 'train'\n"
     ]
    },
    {
     "name": "stderr",
     "output_type": "stream",
     "text": [
      "I0000 00:00:1730662118.322023      17 task_runner.cc:85] GPU suport is not available: INTERNAL: ; RET_CHECK failure (mediapipe/gpu/gl_context_egl.cc:77) display != EGL_NO_DISPLAYeglGetDisplay() returned error 0x300c\n",
      "W0000 00:00:1730662118.421152    4732 inference_feedback_manager.cc:114] Feedback manager requires a model with a single signature inference. Disabling support for feedback tensors.\n",
      "W0000 00:00:1730662118.445748    4733 inference_feedback_manager.cc:114] Feedback manager requires a model with a single signature inference. Disabling support for feedback tensors.\n"
     ]
    },
    {
     "name": "stdout",
     "output_type": "stream",
     "text": [
      "Calculating time: 1.1575474739074707\n",
      "Landmarks time: 1.1537847518920898\n",
      "Check_landmarks time: 0.0002739429473876953\n",
      "Fragment: 579 from 610, mode: 'train'\n"
     ]
    },
    {
     "name": "stderr",
     "output_type": "stream",
     "text": [
      "I0000 00:00:1730662119.758439      17 task_runner.cc:85] GPU suport is not available: INTERNAL: ; RET_CHECK failure (mediapipe/gpu/gl_context_egl.cc:77) display != EGL_NO_DISPLAYeglGetDisplay() returned error 0x300c\n",
      "W0000 00:00:1730662119.856303    4740 inference_feedback_manager.cc:114] Feedback manager requires a model with a single signature inference. Disabling support for feedback tensors.\n",
      "W0000 00:00:1730662119.880736    4740 inference_feedback_manager.cc:114] Feedback manager requires a model with a single signature inference. Disabling support for feedback tensors.\n"
     ]
    },
    {
     "name": "stdout",
     "output_type": "stream",
     "text": [
      "Calculating time: 1.190854787826538\n",
      "Landmarks time: 1.1874284744262695\n",
      "Check_landmarks time: 0.0002923011779785156\n",
      "Fragment: 580 from 610, mode: 'train'\n"
     ]
    },
    {
     "name": "stderr",
     "output_type": "stream",
     "text": [
      "I0000 00:00:1730662121.216184      17 task_runner.cc:85] GPU suport is not available: INTERNAL: ; RET_CHECK failure (mediapipe/gpu/gl_context_egl.cc:77) display != EGL_NO_DISPLAYeglGetDisplay() returned error 0x300c\n",
      "W0000 00:00:1730662121.315502    4749 inference_feedback_manager.cc:114] Feedback manager requires a model with a single signature inference. Disabling support for feedback tensors.\n",
      "W0000 00:00:1730662121.340142    4749 inference_feedback_manager.cc:114] Feedback manager requires a model with a single signature inference. Disabling support for feedback tensors.\n"
     ]
    },
    {
     "name": "stdout",
     "output_type": "stream",
     "text": [
      "Calculating time: 1.217170000076294\n",
      "Landmarks time: 1.2128500938415527\n",
      "Check_landmarks time: 0.0008218288421630859\n",
      "Fragment: 581 from 610, mode: 'train'\n"
     ]
    },
    {
     "name": "stderr",
     "output_type": "stream",
     "text": [
      "I0000 00:00:1730662122.708506      17 task_runner.cc:85] GPU suport is not available: INTERNAL: ; RET_CHECK failure (mediapipe/gpu/gl_context_egl.cc:77) display != EGL_NO_DISPLAYeglGetDisplay() returned error 0x300c\n",
      "W0000 00:00:1730662122.808692    4758 inference_feedback_manager.cc:114] Feedback manager requires a model with a single signature inference. Disabling support for feedback tensors.\n",
      "W0000 00:00:1730662122.845835    4755 inference_feedback_manager.cc:114] Feedback manager requires a model with a single signature inference. Disabling support for feedback tensors.\n"
     ]
    },
    {
     "name": "stdout",
     "output_type": "stream",
     "text": [
      "Calculating time: 1.1651227474212646\n",
      "Landmarks time: 1.1610398292541504\n",
      "Check_landmarks time: 0.0002856254577636719\n",
      "Fragment: 582 from 610, mode: 'train'\n"
     ]
    },
    {
     "name": "stderr",
     "output_type": "stream",
     "text": [
      "I0000 00:00:1730662124.147677      17 task_runner.cc:85] GPU suport is not available: INTERNAL: ; RET_CHECK failure (mediapipe/gpu/gl_context_egl.cc:77) display != EGL_NO_DISPLAYeglGetDisplay() returned error 0x300c\n",
      "W0000 00:00:1730662124.246099    4765 inference_feedback_manager.cc:114] Feedback manager requires a model with a single signature inference. Disabling support for feedback tensors.\n",
      "W0000 00:00:1730662124.270414    4764 inference_feedback_manager.cc:114] Feedback manager requires a model with a single signature inference. Disabling support for feedback tensors.\n"
     ]
    },
    {
     "name": "stdout",
     "output_type": "stream",
     "text": [
      "Calculating time: 1.1883792877197266\n",
      "Landmarks time: 1.1845242977142334\n",
      "Check_landmarks time: 0.00030732154846191406\n",
      "Fragment: 583 from 610, mode: 'train'\n"
     ]
    },
    {
     "name": "stderr",
     "output_type": "stream",
     "text": [
      "I0000 00:00:1730662125.612595      17 task_runner.cc:85] GPU suport is not available: INTERNAL: ; RET_CHECK failure (mediapipe/gpu/gl_context_egl.cc:77) display != EGL_NO_DISPLAYeglGetDisplay() returned error 0x300c\n",
      "W0000 00:00:1730662125.720833    4771 inference_feedback_manager.cc:114] Feedback manager requires a model with a single signature inference. Disabling support for feedback tensors.\n",
      "W0000 00:00:1730662125.745567    4774 inference_feedback_manager.cc:114] Feedback manager requires a model with a single signature inference. Disabling support for feedback tensors.\n"
     ]
    },
    {
     "name": "stdout",
     "output_type": "stream",
     "text": [
      "Calculating time: 1.2054824829101562\n",
      "Landmarks time: 1.2017176151275635\n",
      "Check_landmarks time: 0.00031948089599609375\n",
      "Fragment: 584 from 610, mode: 'train'\n"
     ]
    },
    {
     "name": "stderr",
     "output_type": "stream",
     "text": [
      "I0000 00:00:1730662127.079316      17 task_runner.cc:85] GPU suport is not available: INTERNAL: ; RET_CHECK failure (mediapipe/gpu/gl_context_egl.cc:77) display != EGL_NO_DISPLAYeglGetDisplay() returned error 0x300c\n",
      "W0000 00:00:1730662127.177903    4780 inference_feedback_manager.cc:114] Feedback manager requires a model with a single signature inference. Disabling support for feedback tensors.\n",
      "W0000 00:00:1730662127.202770    4781 inference_feedback_manager.cc:114] Feedback manager requires a model with a single signature inference. Disabling support for feedback tensors.\n"
     ]
    },
    {
     "name": "stdout",
     "output_type": "stream",
     "text": [
      "Calculating time: 1.159285545349121\n",
      "Landmarks time: 1.1556150913238525\n",
      "Check_landmarks time: 0.00027370452880859375\n",
      "Fragment: 585 from 610, mode: 'train'\n"
     ]
    },
    {
     "name": "stderr",
     "output_type": "stream",
     "text": [
      "I0000 00:00:1730662128.503034      17 task_runner.cc:85] GPU suport is not available: INTERNAL: ; RET_CHECK failure (mediapipe/gpu/gl_context_egl.cc:77) display != EGL_NO_DISPLAYeglGetDisplay() returned error 0x300c\n",
      "W0000 00:00:1730662128.611847    4787 inference_feedback_manager.cc:114] Feedback manager requires a model with a single signature inference. Disabling support for feedback tensors.\n",
      "W0000 00:00:1730662128.636659    4790 inference_feedback_manager.cc:114] Feedback manager requires a model with a single signature inference. Disabling support for feedback tensors.\n"
     ]
    },
    {
     "name": "stdout",
     "output_type": "stream",
     "text": [
      "Calculating time: 1.2406556606292725\n",
      "Landmarks time: 1.2372195720672607\n",
      "Check_landmarks time: 0.00031256675720214844\n",
      "Fragment: 586 from 610, mode: 'train'\n"
     ]
    },
    {
     "name": "stderr",
     "output_type": "stream",
     "text": [
      "I0000 00:00:1730662130.071338      17 task_runner.cc:85] GPU suport is not available: INTERNAL: ; RET_CHECK failure (mediapipe/gpu/gl_context_egl.cc:77) display != EGL_NO_DISPLAYeglGetDisplay() returned error 0x300c\n",
      "W0000 00:00:1730662130.185350    4796 inference_feedback_manager.cc:114] Feedback manager requires a model with a single signature inference. Disabling support for feedback tensors.\n",
      "W0000 00:00:1730662130.216774    4796 inference_feedback_manager.cc:114] Feedback manager requires a model with a single signature inference. Disabling support for feedback tensors.\n"
     ]
    },
    {
     "name": "stdout",
     "output_type": "stream",
     "text": [
      "Calculating time: 1.259819746017456\n",
      "Landmarks time: 1.2564356327056885\n",
      "Check_landmarks time: 0.0002875328063964844\n",
      "Fragment: 587 from 610, mode: 'train'\n"
     ]
    },
    {
     "name": "stderr",
     "output_type": "stream",
     "text": [
      "I0000 00:00:1730662131.602735      17 task_runner.cc:85] GPU suport is not available: INTERNAL: ; RET_CHECK failure (mediapipe/gpu/gl_context_egl.cc:77) display != EGL_NO_DISPLAYeglGetDisplay() returned error 0x300c\n",
      "W0000 00:00:1730662131.700682    4805 inference_feedback_manager.cc:114] Feedback manager requires a model with a single signature inference. Disabling support for feedback tensors.\n",
      "W0000 00:00:1730662131.725620    4806 inference_feedback_manager.cc:114] Feedback manager requires a model with a single signature inference. Disabling support for feedback tensors.\n"
     ]
    },
    {
     "name": "stdout",
     "output_type": "stream",
     "text": [
      "Calculating time: 1.1669859886169434\n",
      "Landmarks time: 1.1629533767700195\n",
      "Check_landmarks time: 0.0006067752838134766\n",
      "Fragment: 588 from 610, mode: 'train'\n"
     ]
    },
    {
     "name": "stderr",
     "output_type": "stream",
     "text": [
      "I0000 00:00:1730662133.067319      17 task_runner.cc:85] GPU suport is not available: INTERNAL: ; RET_CHECK failure (mediapipe/gpu/gl_context_egl.cc:77) display != EGL_NO_DISPLAYeglGetDisplay() returned error 0x300c\n",
      "W0000 00:00:1730662133.164697    4812 inference_feedback_manager.cc:114] Feedback manager requires a model with a single signature inference. Disabling support for feedback tensors.\n",
      "W0000 00:00:1730662133.196383    4813 inference_feedback_manager.cc:114] Feedback manager requires a model with a single signature inference. Disabling support for feedback tensors.\n"
     ]
    },
    {
     "name": "stdout",
     "output_type": "stream",
     "text": [
      "Calculating time: 1.2704370021820068\n",
      "Landmarks time: 1.266247272491455\n",
      "Check_landmarks time: 0.0009980201721191406\n",
      "Fragment: 589 from 610, mode: 'train'\n"
     ]
    },
    {
     "name": "stderr",
     "output_type": "stream",
     "text": [
      "I0000 00:00:1730662134.603533      17 task_runner.cc:85] GPU suport is not available: INTERNAL: ; RET_CHECK failure (mediapipe/gpu/gl_context_egl.cc:77) display != EGL_NO_DISPLAYeglGetDisplay() returned error 0x300c\n",
      "W0000 00:00:1730662134.701243    4819 inference_feedback_manager.cc:114] Feedback manager requires a model with a single signature inference. Disabling support for feedback tensors.\n",
      "W0000 00:00:1730662134.725951    4819 inference_feedback_manager.cc:114] Feedback manager requires a model with a single signature inference. Disabling support for feedback tensors.\n"
     ]
    },
    {
     "name": "stdout",
     "output_type": "stream",
     "text": [
      "Calculating time: 1.2197189331054688\n",
      "Landmarks time: 1.2157700061798096\n",
      "Check_landmarks time: 0.0007975101470947266\n",
      "Fragment: 590 from 610, mode: 'train'\n"
     ]
    },
    {
     "name": "stderr",
     "output_type": "stream",
     "text": [
      "I0000 00:00:1730662136.086062      17 task_runner.cc:85] GPU suport is not available: INTERNAL: ; RET_CHECK failure (mediapipe/gpu/gl_context_egl.cc:77) display != EGL_NO_DISPLAYeglGetDisplay() returned error 0x300c\n",
      "W0000 00:00:1730662136.184074    4830 inference_feedback_manager.cc:114] Feedback manager requires a model with a single signature inference. Disabling support for feedback tensors.\n",
      "W0000 00:00:1730662136.215797    4828 inference_feedback_manager.cc:114] Feedback manager requires a model with a single signature inference. Disabling support for feedback tensors.\n"
     ]
    },
    {
     "name": "stdout",
     "output_type": "stream",
     "text": [
      "Calculating time: 1.2040095329284668\n",
      "Landmarks time: 1.199268102645874\n",
      "Check_landmarks time: 0.0008051395416259766\n",
      "Fragment: 591 from 610, mode: 'train'\n"
     ]
    },
    {
     "name": "stderr",
     "output_type": "stream",
     "text": [
      "I0000 00:00:1730662137.556131      17 task_runner.cc:85] GPU suport is not available: INTERNAL: ; RET_CHECK failure (mediapipe/gpu/gl_context_egl.cc:77) display != EGL_NO_DISPLAYeglGetDisplay() returned error 0x300c\n",
      "W0000 00:00:1730662137.664974    4837 inference_feedback_manager.cc:114] Feedback manager requires a model with a single signature inference. Disabling support for feedback tensors.\n",
      "W0000 00:00:1730662137.696820    4837 inference_feedback_manager.cc:114] Feedback manager requires a model with a single signature inference. Disabling support for feedback tensors.\n"
     ]
    },
    {
     "name": "stdout",
     "output_type": "stream",
     "text": [
      "Calculating time: 1.2628178596496582\n",
      "Landmarks time: 1.259103775024414\n",
      "Check_landmarks time: 0.0008165836334228516\n",
      "Fragment: 592 from 610, mode: 'train'\n"
     ]
    },
    {
     "name": "stderr",
     "output_type": "stream",
     "text": [
      "I0000 00:00:1730662139.088364      17 task_runner.cc:85] GPU suport is not available: INTERNAL: ; RET_CHECK failure (mediapipe/gpu/gl_context_egl.cc:77) display != EGL_NO_DISPLAYeglGetDisplay() returned error 0x300c\n",
      "W0000 00:00:1730662139.196686    4844 inference_feedback_manager.cc:114] Feedback manager requires a model with a single signature inference. Disabling support for feedback tensors.\n",
      "W0000 00:00:1730662139.228133    4844 inference_feedback_manager.cc:114] Feedback manager requires a model with a single signature inference. Disabling support for feedback tensors.\n"
     ]
    },
    {
     "name": "stdout",
     "output_type": "stream",
     "text": [
      "Calculating time: 1.2524120807647705\n",
      "Landmarks time: 1.248347520828247\n",
      "Check_landmarks time: 0.0006272792816162109\n",
      "Fragment: 593 from 610, mode: 'train'\n"
     ]
    },
    {
     "name": "stderr",
     "output_type": "stream",
     "text": [
      "I0000 00:00:1730662140.608811      17 task_runner.cc:85] GPU suport is not available: INTERNAL: ; RET_CHECK failure (mediapipe/gpu/gl_context_egl.cc:77) display != EGL_NO_DISPLAYeglGetDisplay() returned error 0x300c\n",
      "W0000 00:00:1730662140.706919    4852 inference_feedback_manager.cc:114] Feedback manager requires a model with a single signature inference. Disabling support for feedback tensors.\n",
      "W0000 00:00:1730662140.731343    4853 inference_feedback_manager.cc:114] Feedback manager requires a model with a single signature inference. Disabling support for feedback tensors.\n"
     ]
    },
    {
     "name": "stdout",
     "output_type": "stream",
     "text": [
      "Calculating time: 1.150299072265625\n",
      "Landmarks time: 1.146975040435791\n",
      "Check_landmarks time: 0.0002765655517578125\n",
      "Fragment: 594 from 610, mode: 'train'\n"
     ]
    },
    {
     "name": "stderr",
     "output_type": "stream",
     "text": [
      "I0000 00:00:1730662142.032753      17 task_runner.cc:85] GPU suport is not available: INTERNAL: ; RET_CHECK failure (mediapipe/gpu/gl_context_egl.cc:77) display != EGL_NO_DISPLAYeglGetDisplay() returned error 0x300c\n",
      "W0000 00:00:1730662142.132782    4860 inference_feedback_manager.cc:114] Feedback manager requires a model with a single signature inference. Disabling support for feedback tensors.\n",
      "W0000 00:00:1730662142.164411    4861 inference_feedback_manager.cc:114] Feedback manager requires a model with a single signature inference. Disabling support for feedback tensors.\n"
     ]
    },
    {
     "name": "stdout",
     "output_type": "stream",
     "text": [
      "Calculating time: 1.2329819202423096\n",
      "Landmarks time: 1.2293000221252441\n",
      "Check_landmarks time: 0.0002903938293457031\n",
      "Fragment: 595 from 610, mode: 'train'\n"
     ]
    },
    {
     "name": "stderr",
     "output_type": "stream",
     "text": [
      "I0000 00:00:1730662143.541021      17 task_runner.cc:85] GPU suport is not available: INTERNAL: ; RET_CHECK failure (mediapipe/gpu/gl_context_egl.cc:77) display != EGL_NO_DISPLAYeglGetDisplay() returned error 0x300c\n",
      "W0000 00:00:1730662143.639768    4868 inference_feedback_manager.cc:114] Feedback manager requires a model with a single signature inference. Disabling support for feedback tensors.\n",
      "W0000 00:00:1730662143.671584    4867 inference_feedback_manager.cc:114] Feedback manager requires a model with a single signature inference. Disabling support for feedback tensors.\n"
     ]
    },
    {
     "name": "stdout",
     "output_type": "stream",
     "text": [
      "Calculating time: 1.2327170372009277\n",
      "Landmarks time: 1.2291512489318848\n",
      "Check_landmarks time: 0.0006344318389892578\n",
      "Fragment: 596 from 610, mode: 'train'\n"
     ]
    },
    {
     "name": "stderr",
     "output_type": "stream",
     "text": [
      "I0000 00:00:1730662145.073283      17 task_runner.cc:85] GPU suport is not available: INTERNAL: ; RET_CHECK failure (mediapipe/gpu/gl_context_egl.cc:77) display != EGL_NO_DISPLAYeglGetDisplay() returned error 0x300c\n",
      "W0000 00:00:1730662145.176608    4876 inference_feedback_manager.cc:114] Feedback manager requires a model with a single signature inference. Disabling support for feedback tensors.\n",
      "W0000 00:00:1730662145.201442    4876 inference_feedback_manager.cc:114] Feedback manager requires a model with a single signature inference. Disabling support for feedback tensors.\n"
     ]
    },
    {
     "name": "stdout",
     "output_type": "stream",
     "text": [
      "Calculating time: 1.1591856479644775\n",
      "Landmarks time: 1.155102252960205\n",
      "Check_landmarks time: 0.0002918243408203125\n",
      "Fragment: 597 from 610, mode: 'train'\n"
     ]
    },
    {
     "name": "stderr",
     "output_type": "stream",
     "text": [
      "I0000 00:00:1730662146.514130      17 task_runner.cc:85] GPU suport is not available: INTERNAL: ; RET_CHECK failure (mediapipe/gpu/gl_context_egl.cc:77) display != EGL_NO_DISPLAYeglGetDisplay() returned error 0x300c\n",
      "W0000 00:00:1730662146.624852    4885 inference_feedback_manager.cc:114] Feedback manager requires a model with a single signature inference. Disabling support for feedback tensors.\n",
      "W0000 00:00:1730662146.656870    4885 inference_feedback_manager.cc:114] Feedback manager requires a model with a single signature inference. Disabling support for feedback tensors.\n"
     ]
    },
    {
     "name": "stdout",
     "output_type": "stream",
     "text": [
      "Calculating time: 1.2236652374267578\n",
      "Landmarks time: 1.220505952835083\n",
      "Check_landmarks time: 0.00029969215393066406\n",
      "Fragment: 598 from 610, mode: 'train'\n"
     ]
    },
    {
     "name": "stderr",
     "output_type": "stream",
     "text": [
      "I0000 00:00:1730662148.013657      17 task_runner.cc:85] GPU suport is not available: INTERNAL: ; RET_CHECK failure (mediapipe/gpu/gl_context_egl.cc:77) display != EGL_NO_DISPLAYeglGetDisplay() returned error 0x300c\n",
      "W0000 00:00:1730662148.111479    4892 inference_feedback_manager.cc:114] Feedback manager requires a model with a single signature inference. Disabling support for feedback tensors.\n",
      "W0000 00:00:1730662148.136110    4891 inference_feedback_manager.cc:114] Feedback manager requires a model with a single signature inference. Disabling support for feedback tensors.\n"
     ]
    },
    {
     "name": "stdout",
     "output_type": "stream",
     "text": [
      "Calculating time: 1.1964800357818604\n",
      "Landmarks time: 1.1928668022155762\n",
      "Check_landmarks time: 0.0002892017364501953\n",
      "Fragment: 599 from 610, mode: 'train'\n"
     ]
    },
    {
     "name": "stderr",
     "output_type": "stream",
     "text": [
      "I0000 00:00:1730662149.480764      17 task_runner.cc:85] GPU suport is not available: INTERNAL: ; RET_CHECK failure (mediapipe/gpu/gl_context_egl.cc:77) display != EGL_NO_DISPLAYeglGetDisplay() returned error 0x300c\n",
      "W0000 00:00:1730662149.579789    4902 inference_feedback_manager.cc:114] Feedback manager requires a model with a single signature inference. Disabling support for feedback tensors.\n",
      "W0000 00:00:1730662149.611287    4901 inference_feedback_manager.cc:114] Feedback manager requires a model with a single signature inference. Disabling support for feedback tensors.\n"
     ]
    },
    {
     "name": "stdout",
     "output_type": "stream",
     "text": [
      "Calculating time: 1.1613879203796387\n",
      "Landmarks time: 1.1578731536865234\n",
      "Check_landmarks time: 0.0002777576446533203\n",
      "Fragment: 600 from 610, mode: 'train'\n"
     ]
    },
    {
     "name": "stderr",
     "output_type": "stream",
     "text": [
      "I0000 00:00:1730662150.915107      17 task_runner.cc:85] GPU suport is not available: INTERNAL: ; RET_CHECK failure (mediapipe/gpu/gl_context_egl.cc:77) display != EGL_NO_DISPLAYeglGetDisplay() returned error 0x300c\n",
      "W0000 00:00:1730662151.012785    4910 inference_feedback_manager.cc:114] Feedback manager requires a model with a single signature inference. Disabling support for feedback tensors.\n",
      "W0000 00:00:1730662151.044648    4909 inference_feedback_manager.cc:114] Feedback manager requires a model with a single signature inference. Disabling support for feedback tensors.\n"
     ]
    },
    {
     "name": "stdout",
     "output_type": "stream",
     "text": [
      "Calculating time: 1.194075107574463\n",
      "Landmarks time: 1.1903626918792725\n",
      "Check_landmarks time: 0.0002880096435546875\n",
      "Fragment: 601 from 610, mode: 'train'\n"
     ]
    },
    {
     "name": "stderr",
     "output_type": "stream",
     "text": [
      "I0000 00:00:1730662152.385698      17 task_runner.cc:85] GPU suport is not available: INTERNAL: ; RET_CHECK failure (mediapipe/gpu/gl_context_egl.cc:77) display != EGL_NO_DISPLAYeglGetDisplay() returned error 0x300c\n",
      "W0000 00:00:1730662152.494650    4917 inference_feedback_manager.cc:114] Feedback manager requires a model with a single signature inference. Disabling support for feedback tensors.\n",
      "W0000 00:00:1730662152.519362    4916 inference_feedback_manager.cc:114] Feedback manager requires a model with a single signature inference. Disabling support for feedback tensors.\n"
     ]
    },
    {
     "name": "stdout",
     "output_type": "stream",
     "text": [
      "Calculating time: 1.2291593551635742\n",
      "Landmarks time: 1.2255899906158447\n",
      "Check_landmarks time: 0.000324249267578125\n",
      "Fragment: 602 from 610, mode: 'train'\n"
     ]
    },
    {
     "name": "stderr",
     "output_type": "stream",
     "text": [
      "I0000 00:00:1730662153.886740      17 task_runner.cc:85] GPU suport is not available: INTERNAL: ; RET_CHECK failure (mediapipe/gpu/gl_context_egl.cc:77) display != EGL_NO_DISPLAYeglGetDisplay() returned error 0x300c\n",
      "W0000 00:00:1730662153.984518    4924 inference_feedback_manager.cc:114] Feedback manager requires a model with a single signature inference. Disabling support for feedback tensors.\n",
      "W0000 00:00:1730662154.009312    4925 inference_feedback_manager.cc:114] Feedback manager requires a model with a single signature inference. Disabling support for feedback tensors.\n"
     ]
    },
    {
     "name": "stdout",
     "output_type": "stream",
     "text": [
      "Calculating time: 1.1520872116088867\n",
      "Landmarks time: 1.147536039352417\n",
      "Check_landmarks time: 0.00029277801513671875\n",
      "Fragment: 603 from 610, mode: 'train'\n"
     ]
    },
    {
     "name": "stderr",
     "output_type": "stream",
     "text": [
      "I0000 00:00:1730662155.312193      17 task_runner.cc:85] GPU suport is not available: INTERNAL: ; RET_CHECK failure (mediapipe/gpu/gl_context_egl.cc:77) display != EGL_NO_DISPLAYeglGetDisplay() returned error 0x300c\n",
      "W0000 00:00:1730662155.421657    4932 inference_feedback_manager.cc:114] Feedback manager requires a model with a single signature inference. Disabling support for feedback tensors.\n",
      "W0000 00:00:1730662155.453461    4932 inference_feedback_manager.cc:114] Feedback manager requires a model with a single signature inference. Disabling support for feedback tensors.\n"
     ]
    },
    {
     "name": "stdout",
     "output_type": "stream",
     "text": [
      "Calculating time: 1.2612829208374023\n",
      "Landmarks time: 1.2573843002319336\n",
      "Check_landmarks time: 0.0003018379211425781\n",
      "Fragment: 604 from 610, mode: 'train'\n"
     ]
    },
    {
     "name": "stderr",
     "output_type": "stream",
     "text": [
      "I0000 00:00:1730662156.855811      17 task_runner.cc:85] GPU suport is not available: INTERNAL: ; RET_CHECK failure (mediapipe/gpu/gl_context_egl.cc:77) display != EGL_NO_DISPLAYeglGetDisplay() returned error 0x300c\n",
      "W0000 00:00:1730662156.973898    4941 inference_feedback_manager.cc:114] Feedback manager requires a model with a single signature inference. Disabling support for feedback tensors.\n",
      "W0000 00:00:1730662157.017026    4939 inference_feedback_manager.cc:114] Feedback manager requires a model with a single signature inference. Disabling support for feedback tensors.\n"
     ]
    },
    {
     "name": "stdout",
     "output_type": "stream",
     "text": [
      "Calculating time: 1.2505064010620117\n",
      "Landmarks time: 1.2467069625854492\n",
      "Check_landmarks time: 0.0002906322479248047\n",
      "Fragment: 605 from 610, mode: 'train'\n"
     ]
    },
    {
     "name": "stderr",
     "output_type": "stream",
     "text": [
      "I0000 00:00:1730662158.380134      17 task_runner.cc:85] GPU suport is not available: INTERNAL: ; RET_CHECK failure (mediapipe/gpu/gl_context_egl.cc:77) display != EGL_NO_DISPLAYeglGetDisplay() returned error 0x300c\n",
      "W0000 00:00:1730662158.497461    4948 inference_feedback_manager.cc:114] Feedback manager requires a model with a single signature inference. Disabling support for feedback tensors.\n",
      "W0000 00:00:1730662158.534000    4948 inference_feedback_manager.cc:114] Feedback manager requires a model with a single signature inference. Disabling support for feedback tensors.\n"
     ]
    },
    {
     "name": "stdout",
     "output_type": "stream",
     "text": [
      "Calculating time: 1.176140308380127\n",
      "Landmarks time: 1.171945571899414\n",
      "Check_landmarks time: 0.00028228759765625\n",
      "Fragment: 606 from 610, mode: 'train'\n"
     ]
    },
    {
     "name": "stderr",
     "output_type": "stream",
     "text": [
      "I0000 00:00:1730662159.832712      17 task_runner.cc:85] GPU suport is not available: INTERNAL: ; RET_CHECK failure (mediapipe/gpu/gl_context_egl.cc:77) display != EGL_NO_DISPLAYeglGetDisplay() returned error 0x300c\n",
      "W0000 00:00:1730662159.929955    4956 inference_feedback_manager.cc:114] Feedback manager requires a model with a single signature inference. Disabling support for feedback tensors.\n",
      "W0000 00:00:1730662159.961499    4957 inference_feedback_manager.cc:114] Feedback manager requires a model with a single signature inference. Disabling support for feedback tensors.\n"
     ]
    },
    {
     "name": "stdout",
     "output_type": "stream",
     "text": [
      "Calculating time: 1.1926336288452148\n",
      "Landmarks time: 1.1892521381378174\n",
      "Check_landmarks time: 0.0002899169921875\n",
      "Fragment: 607 from 610, mode: 'train'\n"
     ]
    },
    {
     "name": "stderr",
     "output_type": "stream",
     "text": [
      "I0000 00:00:1730662161.313371      17 task_runner.cc:85] GPU suport is not available: INTERNAL: ; RET_CHECK failure (mediapipe/gpu/gl_context_egl.cc:77) display != EGL_NO_DISPLAYeglGetDisplay() returned error 0x300c\n",
      "W0000 00:00:1730662161.429999    4963 inference_feedback_manager.cc:114] Feedback manager requires a model with a single signature inference. Disabling support for feedback tensors.\n",
      "W0000 00:00:1730662161.462300    4963 inference_feedback_manager.cc:114] Feedback manager requires a model with a single signature inference. Disabling support for feedback tensors.\n"
     ]
    },
    {
     "name": "stdout",
     "output_type": "stream",
     "text": [
      "Calculating time: 1.290947437286377\n",
      "Landmarks time: 1.2865476608276367\n",
      "Check_landmarks time: 0.00029397010803222656\n",
      "Fragment: 608 from 610, mode: 'train'\n"
     ]
    },
    {
     "name": "stderr",
     "output_type": "stream",
     "text": [
      "I0000 00:00:1730662162.932646      17 task_runner.cc:85] GPU suport is not available: INTERNAL: ; RET_CHECK failure (mediapipe/gpu/gl_context_egl.cc:77) display != EGL_NO_DISPLAYeglGetDisplay() returned error 0x300c\n",
      "W0000 00:00:1730662163.041324    4974 inference_feedback_manager.cc:114] Feedback manager requires a model with a single signature inference. Disabling support for feedback tensors.\n",
      "W0000 00:00:1730662163.066083    4972 inference_feedback_manager.cc:114] Feedback manager requires a model with a single signature inference. Disabling support for feedback tensors.\n"
     ]
    },
    {
     "name": "stdout",
     "output_type": "stream",
     "text": [
      "Calculating time: 1.1544594764709473\n",
      "Landmarks time: 1.150423288345337\n",
      "Check_landmarks time: 0.0002758502960205078\n",
      "Fragment: 609 from 610, mode: 'train'\n"
     ]
    },
    {
     "name": "stderr",
     "output_type": "stream",
     "text": [
      "I0000 00:00:1730662164.219009      17 task_runner.cc:85] GPU suport is not available: INTERNAL: ; RET_CHECK failure (mediapipe/gpu/gl_context_egl.cc:77) display != EGL_NO_DISPLAYeglGetDisplay() returned error 0x300c\n",
      "W0000 00:00:1730662164.317003    4981 inference_feedback_manager.cc:114] Feedback manager requires a model with a single signature inference. Disabling support for feedback tensors.\n",
      "W0000 00:00:1730662164.341295    4981 inference_feedback_manager.cc:114] Feedback manager requires a model with a single signature inference. Disabling support for feedback tensors.\n"
     ]
    },
    {
     "name": "stdout",
     "output_type": "stream",
     "text": [
      "Calculating time: 0.5584414005279541\n",
      "Landmarks time: 0.5547363758087158\n",
      "Check_landmarks time: 0.000171661376953125\n",
      "CPU times: user 30min 56s, sys: 2min 23s, total: 33min 20s\n",
      "Wall time: 18min 41s\n"
     ]
    }
   ],
   "source": [
    "%%time\n",
    "\n",
    "# Создаем кэш для эмбеддингов\n",
    "train_cache = []\n",
    "train_result = {}\n",
    "# Обрабатываем видео с использованием DataLoader\n",
    "process_videos(\n",
    "    train_videoloader,\n",
    "    train_cache,\n",
    "    train_result,\n",
    "    device,\n",
    "    mode=\"train\",\n",
    "    random_seed=random_seed,\n",
    "    pass_until=0,\n",
    "    stop_time=42000,\n",
    "    show=False,\n",
    "    show_frames=(0, 6),\n",
    "    target_size=(128, 128),\n",
    "    scale_arrow=2,\n",
    "    padding=100\n",
    ");"
   ]
  },
  {
   "cell_type": "code",
   "execution_count": 54,
   "id": "d4f809b9",
   "metadata": {
    "execution": {
     "iopub.execute_input": "2024-11-03T19:29:25.103005Z",
     "iopub.status.busy": "2024-11-03T19:29:25.101874Z",
     "iopub.status.idle": "2024-11-03T19:29:25.139403Z",
     "shell.execute_reply": "2024-11-03T19:29:25.138318Z"
    },
    "papermill": {
     "duration": 0.175562,
     "end_time": "2024-11-03T19:29:25.141864",
     "exception": false,
     "start_time": "2024-11-03T19:29:24.966302",
     "status": "completed"
    },
    "tags": []
   },
   "outputs": [],
   "source": [
    "# Инициализируем результирующий словарь\n",
    "train_combined_data = {}\n",
    "train_combined_data = get_combined_data(train_combined_data, train_result)"
   ]
  },
  {
   "cell_type": "code",
   "execution_count": 55,
   "id": "00119d08",
   "metadata": {
    "execution": {
     "iopub.execute_input": "2024-11-03T19:29:25.411148Z",
     "iopub.status.busy": "2024-11-03T19:29:25.410756Z",
     "iopub.status.idle": "2024-11-03T19:29:25.422121Z",
     "shell.execute_reply": "2024-11-03T19:29:25.421312Z"
    },
    "papermill": {
     "duration": 0.149266,
     "end_time": "2024-11-03T19:29:25.424181",
     "exception": false,
     "start_time": "2024-11-03T19:29:25.274915",
     "status": "completed"
    },
    "tags": []
   },
   "outputs": [],
   "source": [
    "if kaggle:\n",
    "    torch.save(train_combined_data, \"/kaggle/working/calculating_data.pt\")\n",
    "else:\n",
    "    torch.save(train_combined_data, \"working/calculating_data.pt\")"
   ]
  }
 ],
 "metadata": {
  "kaggle": {
   "accelerator": "none",
   "dataSources": [
    {
     "datasetId": 5609123,
     "sourceId": 9332100,
     "sourceType": "datasetVersion"
    },
    {
     "datasetId": 5670777,
     "sourceId": 9354442,
     "sourceType": "datasetVersion"
    },
    {
     "datasetId": 5688914,
     "sourceId": 9452126,
     "sourceType": "datasetVersion"
    },
    {
     "datasetId": 5869273,
     "sourceId": 9728290,
     "sourceType": "datasetVersion"
    },
    {
     "datasetId": 5954301,
     "sourceId": 9778426,
     "sourceType": "datasetVersion"
    }
   ],
   "dockerImageVersionId": 30787,
   "isGpuEnabled": false,
   "isInternetEnabled": true,
   "language": "python",
   "sourceType": "notebook"
  },
  "kernelspec": {
   "display_name": "Python 3",
   "language": "python",
   "name": "python3"
  },
  "language_info": {
   "codemirror_mode": {
    "name": "ipython",
    "version": 3
   },
   "file_extension": ".py",
   "mimetype": "text/x-python",
   "name": "python",
   "nbconvert_exporter": "python",
   "pygments_lexer": "ipython3",
   "version": "3.10.14"
  },
  "papermill": {
   "default_parameters": {},
   "duration": 1185.027456,
   "end_time": "2024-11-03T19:29:27.854751",
   "environment_variables": {},
   "exception": null,
   "input_path": "__notebook__.ipynb",
   "output_path": "__notebook__.ipynb",
   "parameters": {},
   "start_time": "2024-11-03T19:09:42.827295",
   "version": "2.6.0"
  }
 },
 "nbformat": 4,
 "nbformat_minor": 5
}
